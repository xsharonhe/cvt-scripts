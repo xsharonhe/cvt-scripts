{
 "cells": [
  {
   "cell_type": "code",
   "execution_count": 187,
   "metadata": {},
   "outputs": [],
   "source": [
    "# IMPORT STATEMENTS\n",
    "import pandas as pd\n",
    "import matplotlib as plt"
   ]
  },
  {
   "cell_type": "code",
   "execution_count": 255,
   "metadata": {},
   "outputs": [],
   "source": [
    "# SAVE KAPRSAC JET FUEL PRICES IN A DATAFRAME\n",
    "df_org = pd.read_csv(\"KARPSAC-jetfuelprices-2010to2020.csv\", sep=\";\") # original data set\n",
    "df = df_org.copy() "
   ]
  },
  {
   "cell_type": "code",
   "execution_count": 99,
   "metadata": {},
   "outputs": [
    {
     "data": {
      "text/html": [
       "<div>\n",
       "<style scoped>\n",
       "    .dataframe tbody tr th:only-of-type {\n",
       "        vertical-align: middle;\n",
       "    }\n",
       "\n",
       "    .dataframe tbody tr th {\n",
       "        vertical-align: top;\n",
       "    }\n",
       "\n",
       "    .dataframe thead th {\n",
       "        text-align: right;\n",
       "    }\n",
       "</style>\n",
       "<table border=\"1\" class=\"dataframe\">\n",
       "  <thead>\n",
       "    <tr style=\"text-align: right;\">\n",
       "      <th></th>\n",
       "      <th>U.S. Gulf Coast Kerosene-Type Jet Fuel Spot Price FOB in U.S. Dollars per Gallon</th>\n",
       "    </tr>\n",
       "  </thead>\n",
       "  <tbody>\n",
       "    <tr>\n",
       "      <th>count</th>\n",
       "      <td>7626.000000</td>\n",
       "    </tr>\n",
       "    <tr>\n",
       "      <th>mean</th>\n",
       "      <td>1.407106</td>\n",
       "    </tr>\n",
       "    <tr>\n",
       "      <th>std</th>\n",
       "      <td>0.897850</td>\n",
       "    </tr>\n",
       "    <tr>\n",
       "      <th>min</th>\n",
       "      <td>0.282000</td>\n",
       "    </tr>\n",
       "    <tr>\n",
       "      <th>25%</th>\n",
       "      <td>0.581000</td>\n",
       "    </tr>\n",
       "    <tr>\n",
       "      <th>50%</th>\n",
       "      <td>1.199000</td>\n",
       "    </tr>\n",
       "    <tr>\n",
       "      <th>75%</th>\n",
       "      <td>2.007750</td>\n",
       "    </tr>\n",
       "    <tr>\n",
       "      <th>max</th>\n",
       "      <td>4.814000</td>\n",
       "    </tr>\n",
       "  </tbody>\n",
       "</table>\n",
       "</div>"
      ],
      "text/plain": [
       "       U.S. Gulf Coast Kerosene-Type Jet Fuel Spot Price FOB in U.S. Dollars per Gallon\n",
       "count                                        7626.000000                               \n",
       "mean                                            1.407106                               \n",
       "std                                             0.897850                               \n",
       "min                                             0.282000                               \n",
       "25%                                             0.581000                               \n",
       "50%                                             1.199000                               \n",
       "75%                                             2.007750                               \n",
       "max                                             4.814000                               "
      ]
     },
     "execution_count": 99,
     "metadata": {},
     "output_type": "execute_result"
    }
   ],
   "source": [
    "# PRELIMINARY STATS:\n",
    "df.describe()"
   ]
  },
  {
   "cell_type": "code",
   "execution_count": 256,
   "metadata": {},
   "outputs": [],
   "source": [
    "# CLEAN UP DATA TO PERFORM GROUPBY ANALYSIS\n",
    "df['YEAR'] = df['Date'].astype(str).str[0:4]\n",
    "df = df[df['YEAR'].astype(int) >= 2010] # filters only years from 2010 to 2020\n",
    "df['MONTH'] = df['Date'].astype(str).str[5:7]\n",
    "df['DAY'] = df['Date'].astype(str).str[8:10]\n",
    "del df['Date']"
   ]
  },
  {
   "cell_type": "code",
   "execution_count": 257,
   "metadata": {},
   "outputs": [],
   "source": [
    "#CHANGE NUMERICAL MONTH TO MONTHS\n",
    "month_lookup = {'01': 'January', '02': 'February', '03': 'March', '04': 'April', '05': 'May',\n",
    "                '06': 'June', '07': 'July', '08': 'August', '09': 'September', '10': 'October',\n",
    "                '11': 'November','12': 'December'}"
   ]
  },
  {
   "cell_type": "code",
   "execution_count": 258,
   "metadata": {},
   "outputs": [],
   "source": [
    "df['MONTH'] = df['MONTH'].apply(lambda x: month_lookup[x])"
   ]
  },
  {
   "cell_type": "code",
   "execution_count": 259,
   "metadata": {},
   "outputs": [
    {
     "data": {
      "text/html": [
       "<div>\n",
       "<style scoped>\n",
       "    .dataframe tbody tr th:only-of-type {\n",
       "        vertical-align: middle;\n",
       "    }\n",
       "\n",
       "    .dataframe tbody tr th {\n",
       "        vertical-align: top;\n",
       "    }\n",
       "\n",
       "    .dataframe thead th {\n",
       "        text-align: right;\n",
       "    }\n",
       "</style>\n",
       "<table border=\"1\" class=\"dataframe\">\n",
       "  <thead>\n",
       "    <tr style=\"text-align: right;\">\n",
       "      <th></th>\n",
       "      <th>U.S. Gulf Coast Kerosene-Type Jet Fuel Spot Price FOB in U.S. Dollars per Gallon</th>\n",
       "      <th>YEAR</th>\n",
       "      <th>MONTH</th>\n",
       "      <th>DAY</th>\n",
       "    </tr>\n",
       "    <tr>\n",
       "      <th>MONTH YEAR</th>\n",
       "      <th></th>\n",
       "      <th></th>\n",
       "      <th></th>\n",
       "      <th></th>\n",
       "    </tr>\n",
       "  </thead>\n",
       "  <tbody>\n",
       "    <tr>\n",
       "      <th>August 2012</th>\n",
       "      <td>3.123</td>\n",
       "      <td>2012</td>\n",
       "      <td>August</td>\n",
       "      <td>07</td>\n",
       "    </tr>\n",
       "    <tr>\n",
       "      <th>August 2012</th>\n",
       "      <td>3.051</td>\n",
       "      <td>2012</td>\n",
       "      <td>August</td>\n",
       "      <td>05</td>\n",
       "    </tr>\n",
       "    <tr>\n",
       "      <th>August 2012</th>\n",
       "      <td>2.939</td>\n",
       "      <td>2012</td>\n",
       "      <td>August</td>\n",
       "      <td>01</td>\n",
       "    </tr>\n",
       "    <tr>\n",
       "      <th>July 2012</th>\n",
       "      <td>2.914</td>\n",
       "      <td>2012</td>\n",
       "      <td>July</td>\n",
       "      <td>30</td>\n",
       "    </tr>\n",
       "    <tr>\n",
       "      <th>July 2012</th>\n",
       "      <td>2.934</td>\n",
       "      <td>2012</td>\n",
       "      <td>July</td>\n",
       "      <td>15</td>\n",
       "    </tr>\n",
       "    <tr>\n",
       "      <th>...</th>\n",
       "      <td>...</td>\n",
       "      <td>...</td>\n",
       "      <td>...</td>\n",
       "      <td>...</td>\n",
       "    </tr>\n",
       "    <tr>\n",
       "      <th>September 2012</th>\n",
       "      <td>3.218</td>\n",
       "      <td>2012</td>\n",
       "      <td>September</td>\n",
       "      <td>05</td>\n",
       "    </tr>\n",
       "    <tr>\n",
       "      <th>August 2012</th>\n",
       "      <td>3.225</td>\n",
       "      <td>2012</td>\n",
       "      <td>August</td>\n",
       "      <td>26</td>\n",
       "    </tr>\n",
       "    <tr>\n",
       "      <th>August 2012</th>\n",
       "      <td>3.162</td>\n",
       "      <td>2012</td>\n",
       "      <td>August</td>\n",
       "      <td>19</td>\n",
       "    </tr>\n",
       "    <tr>\n",
       "      <th>August 2012</th>\n",
       "      <td>3.163</td>\n",
       "      <td>2012</td>\n",
       "      <td>August</td>\n",
       "      <td>16</td>\n",
       "    </tr>\n",
       "    <tr>\n",
       "      <th>August 2012</th>\n",
       "      <td>3.149</td>\n",
       "      <td>2012</td>\n",
       "      <td>August</td>\n",
       "      <td>13</td>\n",
       "    </tr>\n",
       "  </tbody>\n",
       "</table>\n",
       "<p>2658 rows × 4 columns</p>\n",
       "</div>"
      ],
      "text/plain": [
       "                U.S. Gulf Coast Kerosene-Type Jet Fuel Spot Price FOB in U.S. Dollars per Gallon  \\\n",
       "MONTH YEAR                                                                                         \n",
       "August 2012                                                 3.123                                  \n",
       "August 2012                                                 3.051                                  \n",
       "August 2012                                                 2.939                                  \n",
       "July 2012                                                   2.914                                  \n",
       "July 2012                                                   2.934                                  \n",
       "...                                                           ...                                  \n",
       "September 2012                                              3.218                                  \n",
       "August 2012                                                 3.225                                  \n",
       "August 2012                                                 3.162                                  \n",
       "August 2012                                                 3.163                                  \n",
       "August 2012                                                 3.149                                  \n",
       "\n",
       "                YEAR      MONTH DAY  \n",
       "MONTH YEAR                           \n",
       "August 2012     2012     August  07  \n",
       "August 2012     2012     August  05  \n",
       "August 2012     2012     August  01  \n",
       "July 2012       2012       July  30  \n",
       "July 2012       2012       July  15  \n",
       "...              ...        ...  ..  \n",
       "September 2012  2012  September  05  \n",
       "August 2012     2012     August  26  \n",
       "August 2012     2012     August  19  \n",
       "August 2012     2012     August  16  \n",
       "August 2012     2012     August  13  \n",
       "\n",
       "[2658 rows x 4 columns]"
      ]
     },
     "execution_count": 259,
     "metadata": {},
     "output_type": "execute_result"
    }
   ],
   "source": [
    "df['MONTH YEAR'] = df['MONTH'] + ' ' +  df['YEAR']\n",
    "df.set_index('MONTH YEAR')"
   ]
  },
  {
   "cell_type": "code",
   "execution_count": 260,
   "metadata": {},
   "outputs": [],
   "source": [
    "# FIND MEAN OF THESE PRICES\n",
    "jet_fuel = df.groupby(['MONTH YEAR']).mean()"
   ]
  },
  {
   "cell_type": "code",
   "execution_count": 204,
   "metadata": {},
   "outputs": [],
   "source": [
    "# IMPORT BTS DOMESTICS DATA DEPARTURES PERFORMED\n",
    "dom_flight = pd.read_csv('USCarrier_Traffic_DOM.csv', sep='\",\"', engine='python', skiprows=1)\n",
    "dom_flight.drop(dom_flight.tail(1).index,inplace=True) # drop last column"
   ]
  },
  {
   "cell_type": "code",
   "execution_count": 233,
   "metadata": {},
   "outputs": [],
   "source": [
    "# RENAME COLUMNS\n",
    "dom_flight.index.name = 'Period'\n",
    "dom_flight.rename(columns={'Unit: (000)': 'Total'}, inplace=True)"
   ]
  },
  {
   "cell_type": "code",
   "execution_count": 280,
   "metadata": {},
   "outputs": [],
   "source": [
    "# CLEANUP DATA\n",
    "dom_flight['PERIOD'] = dom_flight.index\n",
    "dom_flight['PERIOD'] = dom_flight['PERIOD'].astype(str).str[1:]\n",
    "dom_flight.set_index('PERIOD')\n",
    "dom_flight['Total'] = dom_flight['Total'].astype(str).str[:-1]"
   ]
  },
  {
   "cell_type": "code",
   "execution_count": 286,
   "metadata": {},
   "outputs": [],
   "source": [
    "dom_flight.set_index('PERIOD', inplace=True)"
   ]
  },
  {
   "cell_type": "code",
   "execution_count": null,
   "metadata": {},
   "outputs": [],
   "source": []
  }
 ],
 "metadata": {
  "kernelspec": {
   "display_name": "Python 3",
   "language": "python",
   "name": "python3"
  },
  "language_info": {
   "codemirror_mode": {
    "name": "ipython",
    "version": 3
   },
   "file_extension": ".py",
   "mimetype": "text/x-python",
   "name": "python",
   "nbconvert_exporter": "python",
   "pygments_lexer": "ipython3",
   "version": "3.7.6"
  }
 },
 "nbformat": 4,
 "nbformat_minor": 4
}

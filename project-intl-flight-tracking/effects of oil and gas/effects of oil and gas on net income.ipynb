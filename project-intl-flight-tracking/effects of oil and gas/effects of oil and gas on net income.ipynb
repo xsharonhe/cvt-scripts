{
 "cells": [
  {
   "cell_type": "code",
   "execution_count": 53,
   "metadata": {},
   "outputs": [],
   "source": [
    "# IMPORT STATEMENTS\n",
    "import pandas as pd\n",
    "import matplotlib.pyplot as plt\n",
    "import plotly.offline as pyo\n",
    "import plotly.graph_objs as go\n",
    "import plotly.express as px"
   ]
  },
  {
   "cell_type": "code",
   "execution_count": 13,
   "metadata": {},
   "outputs": [
    {
     "data": {
      "text/html": [
       "<div>\n",
       "<style scoped>\n",
       "    .dataframe tbody tr th:only-of-type {\n",
       "        vertical-align: middle;\n",
       "    }\n",
       "\n",
       "    .dataframe tbody tr th {\n",
       "        vertical-align: top;\n",
       "    }\n",
       "\n",
       "    .dataframe thead th {\n",
       "        text-align: right;\n",
       "    }\n",
       "</style>\n",
       "<table border=\"1\" class=\"dataframe\">\n",
       "  <thead>\n",
       "    <tr style=\"text-align: right;\">\n",
       "      <th></th>\n",
       "      <th>Year</th>\n",
       "      <th>Quarter</th>\n",
       "      <th>DOMESTIC</th>\n",
       "      <th>LATIN AMERICA</th>\n",
       "      <th>ATLANTIC</th>\n",
       "      <th>PACIFIC</th>\n",
       "      <th>INTERNATIONAL</th>\n",
       "      <th>TOTAL</th>\n",
       "    </tr>\n",
       "  </thead>\n",
       "  <tbody>\n",
       "    <tr>\n",
       "      <th>0</th>\n",
       "      <td>2000</td>\n",
       "      <td>1</td>\n",
       "      <td>139162</td>\n",
       "      <td>58927</td>\n",
       "      <td>-68918</td>\n",
       "      <td>-106308</td>\n",
       "      <td>839</td>\n",
       "      <td>23702</td>\n",
       "    </tr>\n",
       "    <tr>\n",
       "      <th>1</th>\n",
       "      <td>2000</td>\n",
       "      <td>2</td>\n",
       "      <td>1570500</td>\n",
       "      <td>-86040</td>\n",
       "      <td>250371</td>\n",
       "      <td>154724</td>\n",
       "      <td>9541</td>\n",
       "      <td>1899096</td>\n",
       "    </tr>\n",
       "    <tr>\n",
       "      <th>2</th>\n",
       "      <td>2000</td>\n",
       "      <td>3</td>\n",
       "      <td>548903</td>\n",
       "      <td>33056</td>\n",
       "      <td>226224</td>\n",
       "      <td>83675</td>\n",
       "      <td>45470</td>\n",
       "      <td>937327</td>\n",
       "    </tr>\n",
       "    <tr>\n",
       "      <th>3</th>\n",
       "      <td>2000</td>\n",
       "      <td>4</td>\n",
       "      <td>-267068</td>\n",
       "      <td>6639</td>\n",
       "      <td>-95916</td>\n",
       "      <td>5533</td>\n",
       "      <td>23388</td>\n",
       "      <td>-327425</td>\n",
       "    </tr>\n",
       "    <tr>\n",
       "      <th>4</th>\n",
       "      <td>2000</td>\n",
       "      <td>TOTAL</td>\n",
       "      <td>1991496</td>\n",
       "      <td>12581</td>\n",
       "      <td>311761</td>\n",
       "      <td>137623</td>\n",
       "      <td>79238</td>\n",
       "      <td>2532700</td>\n",
       "    </tr>\n",
       "    <tr>\n",
       "      <th>...</th>\n",
       "      <td>...</td>\n",
       "      <td>...</td>\n",
       "      <td>...</td>\n",
       "      <td>...</td>\n",
       "      <td>...</td>\n",
       "      <td>...</td>\n",
       "      <td>...</td>\n",
       "      <td>...</td>\n",
       "    </tr>\n",
       "    <tr>\n",
       "      <th>97</th>\n",
       "      <td>2019</td>\n",
       "      <td>3</td>\n",
       "      <td>4363439</td>\n",
       "      <td>477840</td>\n",
       "      <td>323253</td>\n",
       "      <td>-191276</td>\n",
       "      <td>-50583</td>\n",
       "      <td>4922673</td>\n",
       "    </tr>\n",
       "    <tr>\n",
       "      <th>98</th>\n",
       "      <td>2019</td>\n",
       "      <td>4</td>\n",
       "      <td>3738977</td>\n",
       "      <td>465079</td>\n",
       "      <td>-76833</td>\n",
       "      <td>-340004</td>\n",
       "      <td>-189151</td>\n",
       "      <td>3598068</td>\n",
       "    </tr>\n",
       "    <tr>\n",
       "      <th>99</th>\n",
       "      <td>2019</td>\n",
       "      <td>TOTAL</td>\n",
       "      <td>15735062</td>\n",
       "      <td>1549883</td>\n",
       "      <td>378323</td>\n",
       "      <td>-950769</td>\n",
       "      <td>-248364</td>\n",
       "      <td>16464136</td>\n",
       "    </tr>\n",
       "    <tr>\n",
       "      <th>100</th>\n",
       "      <td>2020</td>\n",
       "      <td>1</td>\n",
       "      <td>-3226298</td>\n",
       "      <td>-251044</td>\n",
       "      <td>-924756</td>\n",
       "      <td>-553586</td>\n",
       "      <td>13600</td>\n",
       "      <td>-4942084</td>\n",
       "    </tr>\n",
       "    <tr>\n",
       "      <th>101</th>\n",
       "      <td>2020</td>\n",
       "      <td>TOTAL</td>\n",
       "      <td>-3226298</td>\n",
       "      <td>-251044</td>\n",
       "      <td>-924756</td>\n",
       "      <td>-553586</td>\n",
       "      <td>13600</td>\n",
       "      <td>-4942084</td>\n",
       "    </tr>\n",
       "  </tbody>\n",
       "</table>\n",
       "<p>102 rows × 8 columns</p>\n",
       "</div>"
      ],
      "text/plain": [
       "     Year Quarter  DOMESTIC  LATIN AMERICA  ATLANTIC  PACIFIC  INTERNATIONAL  \\\n",
       "0    2000       1    139162          58927    -68918  -106308            839   \n",
       "1    2000       2   1570500         -86040    250371   154724           9541   \n",
       "2    2000       3    548903          33056    226224    83675          45470   \n",
       "3    2000       4   -267068           6639    -95916     5533          23388   \n",
       "4    2000   TOTAL   1991496          12581    311761   137623          79238   \n",
       "..    ...     ...       ...            ...       ...      ...            ...   \n",
       "97   2019       3   4363439         477840    323253  -191276         -50583   \n",
       "98   2019       4   3738977         465079    -76833  -340004        -189151   \n",
       "99   2019   TOTAL  15735062        1549883    378323  -950769        -248364   \n",
       "100  2020       1  -3226298        -251044   -924756  -553586          13600   \n",
       "101  2020   TOTAL  -3226298        -251044   -924756  -553586          13600   \n",
       "\n",
       "        TOTAL  \n",
       "0       23702  \n",
       "1     1899096  \n",
       "2      937327  \n",
       "3     -327425  \n",
       "4     2532700  \n",
       "..        ...  \n",
       "97    4922673  \n",
       "98    3598068  \n",
       "99   16464136  \n",
       "100  -4942084  \n",
       "101  -4942084  \n",
       "\n",
       "[102 rows x 8 columns]"
      ]
     },
     "execution_count": 13,
     "metadata": {},
     "output_type": "execute_result"
    }
   ],
   "source": [
    "net_income = pd.read_html('Net_Income.xls')\n",
    "net_income = net_income[0] # turn html file into dataframe\n",
    "net_income"
   ]
  },
  {
   "cell_type": "code",
   "execution_count": 38,
   "metadata": {},
   "outputs": [
    {
     "data": {
      "text/html": [
       "<div>\n",
       "<style scoped>\n",
       "    .dataframe tbody tr th:only-of-type {\n",
       "        vertical-align: middle;\n",
       "    }\n",
       "\n",
       "    .dataframe tbody tr th {\n",
       "        vertical-align: top;\n",
       "    }\n",
       "\n",
       "    .dataframe thead th {\n",
       "        text-align: right;\n",
       "    }\n",
       "</style>\n",
       "<table border=\"1\" class=\"dataframe\">\n",
       "  <thead>\n",
       "    <tr style=\"text-align: right;\">\n",
       "      <th></th>\n",
       "      <th>Year</th>\n",
       "      <th>Quarter</th>\n",
       "      <th>DOMESTIC</th>\n",
       "      <th>LATIN AMERICA</th>\n",
       "      <th>ATLANTIC</th>\n",
       "      <th>PACIFIC</th>\n",
       "      <th>INTERNATIONAL</th>\n",
       "      <th>TOTAL</th>\n",
       "    </tr>\n",
       "  </thead>\n",
       "  <tbody>\n",
       "    <tr>\n",
       "      <th>0</th>\n",
       "      <td>2000</td>\n",
       "      <td>1</td>\n",
       "      <td>139162</td>\n",
       "      <td>58927</td>\n",
       "      <td>-68918</td>\n",
       "      <td>-106308</td>\n",
       "      <td>839</td>\n",
       "      <td>23702</td>\n",
       "    </tr>\n",
       "    <tr>\n",
       "      <th>1</th>\n",
       "      <td>2000</td>\n",
       "      <td>2</td>\n",
       "      <td>1570500</td>\n",
       "      <td>-86040</td>\n",
       "      <td>250371</td>\n",
       "      <td>154724</td>\n",
       "      <td>9541</td>\n",
       "      <td>1899096</td>\n",
       "    </tr>\n",
       "    <tr>\n",
       "      <th>2</th>\n",
       "      <td>2000</td>\n",
       "      <td>3</td>\n",
       "      <td>548903</td>\n",
       "      <td>33056</td>\n",
       "      <td>226224</td>\n",
       "      <td>83675</td>\n",
       "      <td>45470</td>\n",
       "      <td>937327</td>\n",
       "    </tr>\n",
       "    <tr>\n",
       "      <th>3</th>\n",
       "      <td>2000</td>\n",
       "      <td>4</td>\n",
       "      <td>-267068</td>\n",
       "      <td>6639</td>\n",
       "      <td>-95916</td>\n",
       "      <td>5533</td>\n",
       "      <td>23388</td>\n",
       "      <td>-327425</td>\n",
       "    </tr>\n",
       "    <tr>\n",
       "      <th>5</th>\n",
       "      <td>2001</td>\n",
       "      <td>1</td>\n",
       "      <td>-822384</td>\n",
       "      <td>76822</td>\n",
       "      <td>-59644</td>\n",
       "      <td>-101160</td>\n",
       "      <td>-3410</td>\n",
       "      <td>-909776</td>\n",
       "    </tr>\n",
       "    <tr>\n",
       "      <th>...</th>\n",
       "      <td>...</td>\n",
       "      <td>...</td>\n",
       "      <td>...</td>\n",
       "      <td>...</td>\n",
       "      <td>...</td>\n",
       "      <td>...</td>\n",
       "      <td>...</td>\n",
       "      <td>...</td>\n",
       "    </tr>\n",
       "    <tr>\n",
       "      <th>95</th>\n",
       "      <td>2019</td>\n",
       "      <td>1</td>\n",
       "      <td>2738558</td>\n",
       "      <td>269912</td>\n",
       "      <td>-146614</td>\n",
       "      <td>-143659</td>\n",
       "      <td>-25952</td>\n",
       "      <td>2692244</td>\n",
       "    </tr>\n",
       "    <tr>\n",
       "      <th>96</th>\n",
       "      <td>2019</td>\n",
       "      <td>2</td>\n",
       "      <td>4894087</td>\n",
       "      <td>337052</td>\n",
       "      <td>278518</td>\n",
       "      <td>-275831</td>\n",
       "      <td>17323</td>\n",
       "      <td>5251150</td>\n",
       "    </tr>\n",
       "    <tr>\n",
       "      <th>97</th>\n",
       "      <td>2019</td>\n",
       "      <td>3</td>\n",
       "      <td>4363439</td>\n",
       "      <td>477840</td>\n",
       "      <td>323253</td>\n",
       "      <td>-191276</td>\n",
       "      <td>-50583</td>\n",
       "      <td>4922673</td>\n",
       "    </tr>\n",
       "    <tr>\n",
       "      <th>98</th>\n",
       "      <td>2019</td>\n",
       "      <td>4</td>\n",
       "      <td>3738977</td>\n",
       "      <td>465079</td>\n",
       "      <td>-76833</td>\n",
       "      <td>-340004</td>\n",
       "      <td>-189151</td>\n",
       "      <td>3598068</td>\n",
       "    </tr>\n",
       "    <tr>\n",
       "      <th>100</th>\n",
       "      <td>2020</td>\n",
       "      <td>1</td>\n",
       "      <td>-3226298</td>\n",
       "      <td>-251044</td>\n",
       "      <td>-924756</td>\n",
       "      <td>-553586</td>\n",
       "      <td>13600</td>\n",
       "      <td>-4942084</td>\n",
       "    </tr>\n",
       "  </tbody>\n",
       "</table>\n",
       "<p>81 rows × 8 columns</p>\n",
       "</div>"
      ],
      "text/plain": [
       "     Year Quarter  DOMESTIC  LATIN AMERICA  ATLANTIC  PACIFIC  INTERNATIONAL  \\\n",
       "0    2000       1    139162          58927    -68918  -106308            839   \n",
       "1    2000       2   1570500         -86040    250371   154724           9541   \n",
       "2    2000       3    548903          33056    226224    83675          45470   \n",
       "3    2000       4   -267068           6639    -95916     5533          23388   \n",
       "5    2001       1   -822384          76822    -59644  -101160          -3410   \n",
       "..    ...     ...       ...            ...       ...      ...            ...   \n",
       "95   2019       1   2738558         269912   -146614  -143659         -25952   \n",
       "96   2019       2   4894087         337052    278518  -275831          17323   \n",
       "97   2019       3   4363439         477840    323253  -191276         -50583   \n",
       "98   2019       4   3738977         465079    -76833  -340004        -189151   \n",
       "100  2020       1  -3226298        -251044   -924756  -553586          13600   \n",
       "\n",
       "       TOTAL  \n",
       "0      23702  \n",
       "1    1899096  \n",
       "2     937327  \n",
       "3    -327425  \n",
       "5    -909776  \n",
       "..       ...  \n",
       "95   2692244  \n",
       "96   5251150  \n",
       "97   4922673  \n",
       "98   3598068  \n",
       "100 -4942084  \n",
       "\n",
       "[81 rows x 8 columns]"
      ]
     },
     "execution_count": 38,
     "metadata": {},
     "output_type": "execute_result"
    }
   ],
   "source": [
    "net_income = net_income[net_income['Quarter'] != 'TOTAL'] # REMOVE TOTAL COLUMNS\n",
    "net_income['Year'] = net_income['Year'].astype(str) # TURN TO STRING SO OUTER JOIN IS POSSIBLE\n",
    "net_income"
   ]
  },
  {
   "cell_type": "code",
   "execution_count": 68,
   "metadata": {},
   "outputs": [],
   "source": [
    "# SAVE KAPRSAC JET FUEL PRICES IN A DATAFRAME\n",
    "jet_prices = pd.read_csv(\"KARPSAC-jetfuelprices-2010to2020.csv\", sep=\";\") # original data set"
   ]
  },
  {
   "cell_type": "code",
   "execution_count": 69,
   "metadata": {},
   "outputs": [
    {
     "data": {
      "text/html": [
       "<div>\n",
       "<style scoped>\n",
       "    .dataframe tbody tr th:only-of-type {\n",
       "        vertical-align: middle;\n",
       "    }\n",
       "\n",
       "    .dataframe tbody tr th {\n",
       "        vertical-align: top;\n",
       "    }\n",
       "\n",
       "    .dataframe thead th {\n",
       "        text-align: right;\n",
       "    }\n",
       "</style>\n",
       "<table border=\"1\" class=\"dataframe\">\n",
       "  <thead>\n",
       "    <tr style=\"text-align: right;\">\n",
       "      <th></th>\n",
       "      <th>Date</th>\n",
       "      <th>U.S. Gulf Coast Kerosene-Type Jet Fuel Spot Price FOB in U.S. Dollars per Gallon</th>\n",
       "    </tr>\n",
       "  </thead>\n",
       "  <tbody>\n",
       "    <tr>\n",
       "      <th>0</th>\n",
       "      <td>2004-08-22T20:00:00-04:00</td>\n",
       "      <td>1.250</td>\n",
       "    </tr>\n",
       "    <tr>\n",
       "      <th>1</th>\n",
       "      <td>2004-08-05T20:00:00-04:00</td>\n",
       "      <td>1.207</td>\n",
       "    </tr>\n",
       "    <tr>\n",
       "      <th>2</th>\n",
       "      <td>2004-08-01T20:00:00-04:00</td>\n",
       "      <td>1.208</td>\n",
       "    </tr>\n",
       "    <tr>\n",
       "      <th>3</th>\n",
       "      <td>2004-07-28T20:00:00-04:00</td>\n",
       "      <td>1.190</td>\n",
       "    </tr>\n",
       "    <tr>\n",
       "      <th>4</th>\n",
       "      <td>2004-07-14T20:00:00-04:00</td>\n",
       "      <td>1.128</td>\n",
       "    </tr>\n",
       "    <tr>\n",
       "      <th>...</th>\n",
       "      <td>...</td>\n",
       "      <td>...</td>\n",
       "    </tr>\n",
       "    <tr>\n",
       "      <th>7621</th>\n",
       "      <td>2012-09-05T20:00:00-04:00</td>\n",
       "      <td>3.218</td>\n",
       "    </tr>\n",
       "    <tr>\n",
       "      <th>7622</th>\n",
       "      <td>2012-08-26T20:00:00-04:00</td>\n",
       "      <td>3.225</td>\n",
       "    </tr>\n",
       "    <tr>\n",
       "      <th>7623</th>\n",
       "      <td>2012-08-19T20:00:00-04:00</td>\n",
       "      <td>3.162</td>\n",
       "    </tr>\n",
       "    <tr>\n",
       "      <th>7624</th>\n",
       "      <td>2012-08-16T20:00:00-04:00</td>\n",
       "      <td>3.163</td>\n",
       "    </tr>\n",
       "    <tr>\n",
       "      <th>7625</th>\n",
       "      <td>2012-08-13T20:00:00-04:00</td>\n",
       "      <td>3.149</td>\n",
       "    </tr>\n",
       "  </tbody>\n",
       "</table>\n",
       "<p>7626 rows × 2 columns</p>\n",
       "</div>"
      ],
      "text/plain": [
       "                           Date  \\\n",
       "0     2004-08-22T20:00:00-04:00   \n",
       "1     2004-08-05T20:00:00-04:00   \n",
       "2     2004-08-01T20:00:00-04:00   \n",
       "3     2004-07-28T20:00:00-04:00   \n",
       "4     2004-07-14T20:00:00-04:00   \n",
       "...                         ...   \n",
       "7621  2012-09-05T20:00:00-04:00   \n",
       "7622  2012-08-26T20:00:00-04:00   \n",
       "7623  2012-08-19T20:00:00-04:00   \n",
       "7624  2012-08-16T20:00:00-04:00   \n",
       "7625  2012-08-13T20:00:00-04:00   \n",
       "\n",
       "      U.S. Gulf Coast Kerosene-Type Jet Fuel Spot Price FOB in U.S. Dollars per Gallon  \n",
       "0                                                 1.250                                 \n",
       "1                                                 1.207                                 \n",
       "2                                                 1.208                                 \n",
       "3                                                 1.190                                 \n",
       "4                                                 1.128                                 \n",
       "...                                                 ...                                 \n",
       "7621                                              3.218                                 \n",
       "7622                                              3.225                                 \n",
       "7623                                              3.162                                 \n",
       "7624                                              3.163                                 \n",
       "7625                                              3.149                                 \n",
       "\n",
       "[7626 rows x 2 columns]"
      ]
     },
     "execution_count": 69,
     "metadata": {},
     "output_type": "execute_result"
    }
   ],
   "source": [
    "jet_prices"
   ]
  },
  {
   "cell_type": "code",
   "execution_count": 70,
   "metadata": {},
   "outputs": [],
   "source": [
    "# CLEANING\n",
    "jet_prices['Year'] = jet_prices['Date'].astype(str).str[0:4]\n",
    "jet_prices['Quarter'] = jet_prices['Date'].astype(str).str[5:7]\n",
    "# CHANGES TO QUARTERS\n",
    "quarter_lookup = {'01': '1', '02': '1', '03': '1', '04': '2', '05': '2',\n",
    "                '06': '2', '07': '3', '08': '3', '09': '3', '10': '4',\n",
    "                '11': '4','12': '4'}\n",
    "jet_prices['Quarter'] = jet_prices['Quarter'].apply(lambda x: quarter_lookup[x])\n",
    "del jet_prices['Date']\n",
    "# GROUP BY TO GET MEAN VALUES:\n",
    "jet_prices_group = jet_prices.groupby(['Year', 'Quarter']).mean()"
   ]
  },
  {
   "cell_type": "code",
   "execution_count": 71,
   "metadata": {},
   "outputs": [],
   "source": [
    "# COMBINE TWO TABLES\n",
    "# MERGE COMMON TABLE COLUMNS\n",
    "income_and_fuel = pd.merge(net_income, jet_prices_group, how='outer', on=['Year', 'Quarter'])\n",
    "# REMOVE VALUES YOU DO NOT HAVE\n",
    "income_and_fuel = income_and_fuel[income_and_fuel['DOMESTIC'].notna()] "
   ]
  },
  {
   "cell_type": "code",
   "execution_count": 72,
   "metadata": {},
   "outputs": [
    {
     "data": {
      "text/html": [
       "<div>\n",
       "<style scoped>\n",
       "    .dataframe tbody tr th:only-of-type {\n",
       "        vertical-align: middle;\n",
       "    }\n",
       "\n",
       "    .dataframe tbody tr th {\n",
       "        vertical-align: top;\n",
       "    }\n",
       "\n",
       "    .dataframe thead th {\n",
       "        text-align: right;\n",
       "    }\n",
       "</style>\n",
       "<table border=\"1\" class=\"dataframe\">\n",
       "  <thead>\n",
       "    <tr style=\"text-align: right;\">\n",
       "      <th></th>\n",
       "      <th>Year</th>\n",
       "      <th>Quarter</th>\n",
       "      <th>DOMESTIC</th>\n",
       "      <th>LATIN AMERICA</th>\n",
       "      <th>ATLANTIC</th>\n",
       "      <th>PACIFIC</th>\n",
       "      <th>INTERNATIONAL</th>\n",
       "      <th>TOTAL</th>\n",
       "      <th>U.S. Gulf Coast Kerosene-Type Jet Fuel Spot Price FOB in U.S. Dollars per Gallon</th>\n",
       "    </tr>\n",
       "  </thead>\n",
       "  <tbody>\n",
       "    <tr>\n",
       "      <th>0</th>\n",
       "      <td>2000</td>\n",
       "      <td>1</td>\n",
       "      <td>139162.0</td>\n",
       "      <td>58927.0</td>\n",
       "      <td>-68918.0</td>\n",
       "      <td>-106308.0</td>\n",
       "      <td>839.0</td>\n",
       "      <td>23702.0</td>\n",
       "      <td>0.776758</td>\n",
       "    </tr>\n",
       "    <tr>\n",
       "      <th>1</th>\n",
       "      <td>2000</td>\n",
       "      <td>2</td>\n",
       "      <td>1570500.0</td>\n",
       "      <td>-86040.0</td>\n",
       "      <td>250371.0</td>\n",
       "      <td>154724.0</td>\n",
       "      <td>9541.0</td>\n",
       "      <td>1899096.0</td>\n",
       "      <td>0.756968</td>\n",
       "    </tr>\n",
       "    <tr>\n",
       "      <th>2</th>\n",
       "      <td>2000</td>\n",
       "      <td>3</td>\n",
       "      <td>548903.0</td>\n",
       "      <td>33056.0</td>\n",
       "      <td>226224.0</td>\n",
       "      <td>83675.0</td>\n",
       "      <td>45470.0</td>\n",
       "      <td>937327.0</td>\n",
       "      <td>0.905935</td>\n",
       "    </tr>\n",
       "    <tr>\n",
       "      <th>3</th>\n",
       "      <td>2000</td>\n",
       "      <td>4</td>\n",
       "      <td>-267068.0</td>\n",
       "      <td>6639.0</td>\n",
       "      <td>-95916.0</td>\n",
       "      <td>5533.0</td>\n",
       "      <td>23388.0</td>\n",
       "      <td>-327425.0</td>\n",
       "      <td>0.959873</td>\n",
       "    </tr>\n",
       "    <tr>\n",
       "      <th>4</th>\n",
       "      <td>2001</td>\n",
       "      <td>1</td>\n",
       "      <td>-822384.0</td>\n",
       "      <td>76822.0</td>\n",
       "      <td>-59644.0</td>\n",
       "      <td>-101160.0</td>\n",
       "      <td>-3410.0</td>\n",
       "      <td>-909776.0</td>\n",
       "      <td>0.809855</td>\n",
       "    </tr>\n",
       "    <tr>\n",
       "      <th>...</th>\n",
       "      <td>...</td>\n",
       "      <td>...</td>\n",
       "      <td>...</td>\n",
       "      <td>...</td>\n",
       "      <td>...</td>\n",
       "      <td>...</td>\n",
       "      <td>...</td>\n",
       "      <td>...</td>\n",
       "      <td>...</td>\n",
       "    </tr>\n",
       "    <tr>\n",
       "      <th>76</th>\n",
       "      <td>2019</td>\n",
       "      <td>1</td>\n",
       "      <td>2738558.0</td>\n",
       "      <td>269912.0</td>\n",
       "      <td>-146614.0</td>\n",
       "      <td>-143659.0</td>\n",
       "      <td>-25952.0</td>\n",
       "      <td>2692244.0</td>\n",
       "      <td>1.868781</td>\n",
       "    </tr>\n",
       "    <tr>\n",
       "      <th>77</th>\n",
       "      <td>2019</td>\n",
       "      <td>2</td>\n",
       "      <td>4894087.0</td>\n",
       "      <td>337052.0</td>\n",
       "      <td>278518.0</td>\n",
       "      <td>-275831.0</td>\n",
       "      <td>17323.0</td>\n",
       "      <td>5251150.0</td>\n",
       "      <td>1.925969</td>\n",
       "    </tr>\n",
       "    <tr>\n",
       "      <th>78</th>\n",
       "      <td>2019</td>\n",
       "      <td>3</td>\n",
       "      <td>4363439.0</td>\n",
       "      <td>477840.0</td>\n",
       "      <td>323253.0</td>\n",
       "      <td>-191276.0</td>\n",
       "      <td>-50583.0</td>\n",
       "      <td>4922673.0</td>\n",
       "      <td>1.862212</td>\n",
       "    </tr>\n",
       "    <tr>\n",
       "      <th>79</th>\n",
       "      <td>2019</td>\n",
       "      <td>4</td>\n",
       "      <td>3738977.0</td>\n",
       "      <td>465079.0</td>\n",
       "      <td>-76833.0</td>\n",
       "      <td>-340004.0</td>\n",
       "      <td>-189151.0</td>\n",
       "      <td>3598068.0</td>\n",
       "      <td>1.859769</td>\n",
       "    </tr>\n",
       "    <tr>\n",
       "      <th>80</th>\n",
       "      <td>2020</td>\n",
       "      <td>1</td>\n",
       "      <td>-3226298.0</td>\n",
       "      <td>-251044.0</td>\n",
       "      <td>-924756.0</td>\n",
       "      <td>-553586.0</td>\n",
       "      <td>13600.0</td>\n",
       "      <td>-4942084.0</td>\n",
       "      <td>1.397292</td>\n",
       "    </tr>\n",
       "  </tbody>\n",
       "</table>\n",
       "<p>81 rows × 9 columns</p>\n",
       "</div>"
      ],
      "text/plain": [
       "    Year Quarter   DOMESTIC  LATIN AMERICA  ATLANTIC   PACIFIC  INTERNATIONAL  \\\n",
       "0   2000       1   139162.0        58927.0  -68918.0 -106308.0          839.0   \n",
       "1   2000       2  1570500.0       -86040.0  250371.0  154724.0         9541.0   \n",
       "2   2000       3   548903.0        33056.0  226224.0   83675.0        45470.0   \n",
       "3   2000       4  -267068.0         6639.0  -95916.0    5533.0        23388.0   \n",
       "4   2001       1  -822384.0        76822.0  -59644.0 -101160.0        -3410.0   \n",
       "..   ...     ...        ...            ...       ...       ...            ...   \n",
       "76  2019       1  2738558.0       269912.0 -146614.0 -143659.0       -25952.0   \n",
       "77  2019       2  4894087.0       337052.0  278518.0 -275831.0        17323.0   \n",
       "78  2019       3  4363439.0       477840.0  323253.0 -191276.0       -50583.0   \n",
       "79  2019       4  3738977.0       465079.0  -76833.0 -340004.0      -189151.0   \n",
       "80  2020       1 -3226298.0      -251044.0 -924756.0 -553586.0        13600.0   \n",
       "\n",
       "        TOTAL  \\\n",
       "0     23702.0   \n",
       "1   1899096.0   \n",
       "2    937327.0   \n",
       "3   -327425.0   \n",
       "4   -909776.0   \n",
       "..        ...   \n",
       "76  2692244.0   \n",
       "77  5251150.0   \n",
       "78  4922673.0   \n",
       "79  3598068.0   \n",
       "80 -4942084.0   \n",
       "\n",
       "    U.S. Gulf Coast Kerosene-Type Jet Fuel Spot Price FOB in U.S. Dollars per Gallon  \n",
       "0                                            0.776758                                 \n",
       "1                                            0.756968                                 \n",
       "2                                            0.905935                                 \n",
       "3                                            0.959873                                 \n",
       "4                                            0.809855                                 \n",
       "..                                                ...                                 \n",
       "76                                           1.868781                                 \n",
       "77                                           1.925969                                 \n",
       "78                                           1.862212                                 \n",
       "79                                           1.859769                                 \n",
       "80                                           1.397292                                 \n",
       "\n",
       "[81 rows x 9 columns]"
      ]
     },
     "execution_count": 72,
     "metadata": {},
     "output_type": "execute_result"
    }
   ],
   "source": [
    "income_and_fuel"
   ]
  },
  {
   "cell_type": "code",
   "execution_count": 73,
   "metadata": {},
   "outputs": [
    {
     "data": {
      "text/html": [
       "<div>\n",
       "<style scoped>\n",
       "    .dataframe tbody tr th:only-of-type {\n",
       "        vertical-align: middle;\n",
       "    }\n",
       "\n",
       "    .dataframe tbody tr th {\n",
       "        vertical-align: top;\n",
       "    }\n",
       "\n",
       "    .dataframe thead th {\n",
       "        text-align: right;\n",
       "    }\n",
       "</style>\n",
       "<table border=\"1\" class=\"dataframe\">\n",
       "  <thead>\n",
       "    <tr style=\"text-align: right;\">\n",
       "      <th></th>\n",
       "      <th>Year</th>\n",
       "      <th>Quarter</th>\n",
       "      <th>DOMESTIC</th>\n",
       "      <th>LATIN AMERICA</th>\n",
       "      <th>ATLANTIC</th>\n",
       "      <th>PACIFIC</th>\n",
       "      <th>INTERNATIONAL</th>\n",
       "      <th>TOTAL</th>\n",
       "      <th>U.S. Gulf Coast Kerosene-Type Jet Fuel Spot Price FOB in U.S. Dollars per Gallon</th>\n",
       "      <th>PERIOD</th>\n",
       "    </tr>\n",
       "  </thead>\n",
       "  <tbody>\n",
       "    <tr>\n",
       "      <th>0</th>\n",
       "      <td>2000</td>\n",
       "      <td>1</td>\n",
       "      <td>139162.0</td>\n",
       "      <td>58927.0</td>\n",
       "      <td>-68918.0</td>\n",
       "      <td>-106308.0</td>\n",
       "      <td>839.0</td>\n",
       "      <td>23702.0</td>\n",
       "      <td>0.776758</td>\n",
       "      <td>2000 - Quar 1</td>\n",
       "    </tr>\n",
       "    <tr>\n",
       "      <th>1</th>\n",
       "      <td>2000</td>\n",
       "      <td>2</td>\n",
       "      <td>1570500.0</td>\n",
       "      <td>-86040.0</td>\n",
       "      <td>250371.0</td>\n",
       "      <td>154724.0</td>\n",
       "      <td>9541.0</td>\n",
       "      <td>1899096.0</td>\n",
       "      <td>0.756968</td>\n",
       "      <td>2000 - Quar 2</td>\n",
       "    </tr>\n",
       "    <tr>\n",
       "      <th>2</th>\n",
       "      <td>2000</td>\n",
       "      <td>3</td>\n",
       "      <td>548903.0</td>\n",
       "      <td>33056.0</td>\n",
       "      <td>226224.0</td>\n",
       "      <td>83675.0</td>\n",
       "      <td>45470.0</td>\n",
       "      <td>937327.0</td>\n",
       "      <td>0.905935</td>\n",
       "      <td>2000 - Quar 3</td>\n",
       "    </tr>\n",
       "    <tr>\n",
       "      <th>3</th>\n",
       "      <td>2000</td>\n",
       "      <td>4</td>\n",
       "      <td>-267068.0</td>\n",
       "      <td>6639.0</td>\n",
       "      <td>-95916.0</td>\n",
       "      <td>5533.0</td>\n",
       "      <td>23388.0</td>\n",
       "      <td>-327425.0</td>\n",
       "      <td>0.959873</td>\n",
       "      <td>2000 - Quar 4</td>\n",
       "    </tr>\n",
       "    <tr>\n",
       "      <th>4</th>\n",
       "      <td>2001</td>\n",
       "      <td>1</td>\n",
       "      <td>-822384.0</td>\n",
       "      <td>76822.0</td>\n",
       "      <td>-59644.0</td>\n",
       "      <td>-101160.0</td>\n",
       "      <td>-3410.0</td>\n",
       "      <td>-909776.0</td>\n",
       "      <td>0.809855</td>\n",
       "      <td>2001 - Quar 1</td>\n",
       "    </tr>\n",
       "    <tr>\n",
       "      <th>...</th>\n",
       "      <td>...</td>\n",
       "      <td>...</td>\n",
       "      <td>...</td>\n",
       "      <td>...</td>\n",
       "      <td>...</td>\n",
       "      <td>...</td>\n",
       "      <td>...</td>\n",
       "      <td>...</td>\n",
       "      <td>...</td>\n",
       "      <td>...</td>\n",
       "    </tr>\n",
       "    <tr>\n",
       "      <th>76</th>\n",
       "      <td>2019</td>\n",
       "      <td>1</td>\n",
       "      <td>2738558.0</td>\n",
       "      <td>269912.0</td>\n",
       "      <td>-146614.0</td>\n",
       "      <td>-143659.0</td>\n",
       "      <td>-25952.0</td>\n",
       "      <td>2692244.0</td>\n",
       "      <td>1.868781</td>\n",
       "      <td>2019 - Quar 1</td>\n",
       "    </tr>\n",
       "    <tr>\n",
       "      <th>77</th>\n",
       "      <td>2019</td>\n",
       "      <td>2</td>\n",
       "      <td>4894087.0</td>\n",
       "      <td>337052.0</td>\n",
       "      <td>278518.0</td>\n",
       "      <td>-275831.0</td>\n",
       "      <td>17323.0</td>\n",
       "      <td>5251150.0</td>\n",
       "      <td>1.925969</td>\n",
       "      <td>2019 - Quar 2</td>\n",
       "    </tr>\n",
       "    <tr>\n",
       "      <th>78</th>\n",
       "      <td>2019</td>\n",
       "      <td>3</td>\n",
       "      <td>4363439.0</td>\n",
       "      <td>477840.0</td>\n",
       "      <td>323253.0</td>\n",
       "      <td>-191276.0</td>\n",
       "      <td>-50583.0</td>\n",
       "      <td>4922673.0</td>\n",
       "      <td>1.862212</td>\n",
       "      <td>2019 - Quar 3</td>\n",
       "    </tr>\n",
       "    <tr>\n",
       "      <th>79</th>\n",
       "      <td>2019</td>\n",
       "      <td>4</td>\n",
       "      <td>3738977.0</td>\n",
       "      <td>465079.0</td>\n",
       "      <td>-76833.0</td>\n",
       "      <td>-340004.0</td>\n",
       "      <td>-189151.0</td>\n",
       "      <td>3598068.0</td>\n",
       "      <td>1.859769</td>\n",
       "      <td>2019 - Quar 4</td>\n",
       "    </tr>\n",
       "    <tr>\n",
       "      <th>80</th>\n",
       "      <td>2020</td>\n",
       "      <td>1</td>\n",
       "      <td>-3226298.0</td>\n",
       "      <td>-251044.0</td>\n",
       "      <td>-924756.0</td>\n",
       "      <td>-553586.0</td>\n",
       "      <td>13600.0</td>\n",
       "      <td>-4942084.0</td>\n",
       "      <td>1.397292</td>\n",
       "      <td>2020 - Quar 1</td>\n",
       "    </tr>\n",
       "  </tbody>\n",
       "</table>\n",
       "<p>81 rows × 10 columns</p>\n",
       "</div>"
      ],
      "text/plain": [
       "    Year Quarter   DOMESTIC  LATIN AMERICA  ATLANTIC   PACIFIC  INTERNATIONAL  \\\n",
       "0   2000       1   139162.0        58927.0  -68918.0 -106308.0          839.0   \n",
       "1   2000       2  1570500.0       -86040.0  250371.0  154724.0         9541.0   \n",
       "2   2000       3   548903.0        33056.0  226224.0   83675.0        45470.0   \n",
       "3   2000       4  -267068.0         6639.0  -95916.0    5533.0        23388.0   \n",
       "4   2001       1  -822384.0        76822.0  -59644.0 -101160.0        -3410.0   \n",
       "..   ...     ...        ...            ...       ...       ...            ...   \n",
       "76  2019       1  2738558.0       269912.0 -146614.0 -143659.0       -25952.0   \n",
       "77  2019       2  4894087.0       337052.0  278518.0 -275831.0        17323.0   \n",
       "78  2019       3  4363439.0       477840.0  323253.0 -191276.0       -50583.0   \n",
       "79  2019       4  3738977.0       465079.0  -76833.0 -340004.0      -189151.0   \n",
       "80  2020       1 -3226298.0      -251044.0 -924756.0 -553586.0        13600.0   \n",
       "\n",
       "        TOTAL  \\\n",
       "0     23702.0   \n",
       "1   1899096.0   \n",
       "2    937327.0   \n",
       "3   -327425.0   \n",
       "4   -909776.0   \n",
       "..        ...   \n",
       "76  2692244.0   \n",
       "77  5251150.0   \n",
       "78  4922673.0   \n",
       "79  3598068.0   \n",
       "80 -4942084.0   \n",
       "\n",
       "    U.S. Gulf Coast Kerosene-Type Jet Fuel Spot Price FOB in U.S. Dollars per Gallon  \\\n",
       "0                                            0.776758                                  \n",
       "1                                            0.756968                                  \n",
       "2                                            0.905935                                  \n",
       "3                                            0.959873                                  \n",
       "4                                            0.809855                                  \n",
       "..                                                ...                                  \n",
       "76                                           1.868781                                  \n",
       "77                                           1.925969                                  \n",
       "78                                           1.862212                                  \n",
       "79                                           1.859769                                  \n",
       "80                                           1.397292                                  \n",
       "\n",
       "           PERIOD  \n",
       "0   2000 - Quar 1  \n",
       "1   2000 - Quar 2  \n",
       "2   2000 - Quar 3  \n",
       "3   2000 - Quar 4  \n",
       "4   2001 - Quar 1  \n",
       "..            ...  \n",
       "76  2019 - Quar 1  \n",
       "77  2019 - Quar 2  \n",
       "78  2019 - Quar 3  \n",
       "79  2019 - Quar 4  \n",
       "80  2020 - Quar 1  \n",
       "\n",
       "[81 rows x 10 columns]"
      ]
     },
     "execution_count": 73,
     "metadata": {},
     "output_type": "execute_result"
    }
   ],
   "source": [
    "income_and_fuel['PERIOD'] = income_and_fuel['Year'] + ' - Quar ' + income_and_fuel['Quarter']\n",
    "income_and_fuel"
   ]
  },
  {
   "cell_type": "code",
   "execution_count": 75,
   "metadata": {},
   "outputs": [
    {
     "data": {
      "application/vnd.plotly.v1+json": {
       "config": {
        "plotlyServerURL": "https://plot.ly"
       },
       "data": [
        {
         "hovertemplate": "<b>%{hovertext}</b><br><br>Year=2000<br>U.S. Gulf Coast Kerosene-Type Jet Fuel Spot Price FOB in U.S. Dollars per Gallon=%{x}<br>TOTAL=%{y}<extra></extra>",
         "hovertext": [
          "2000 - Quar 1",
          "2000 - Quar 2",
          "2000 - Quar 3",
          "2000 - Quar 4"
         ],
         "legendgroup": "2000",
         "marker": {
          "color": "#636efa",
          "symbol": "circle"
         },
         "mode": "markers",
         "name": "2000",
         "orientation": "v",
         "showlegend": true,
         "type": "scatter",
         "x": [
          0.7767580645161289,
          0.7569682539682541,
          0.9059354838709676,
          0.9598730158730159
         ],
         "xaxis": "x",
         "y": [
          23702,
          1899096,
          937327,
          -327425
         ],
         "yaxis": "y"
        },
        {
         "hovertemplate": "<b>%{hovertext}</b><br><br>Year=2001<br>U.S. Gulf Coast Kerosene-Type Jet Fuel Spot Price FOB in U.S. Dollars per Gallon=%{x}<br>TOTAL=%{y}<extra></extra>",
         "hovertext": [
          "2001 - Quar 1",
          "2001 - Quar 2",
          "2001 - Quar 3",
          "2001 - Quar 4"
         ],
         "legendgroup": "2001",
         "marker": {
          "color": "#EF553B",
          "symbol": "circle"
         },
         "mode": "markers",
         "name": "2001",
         "orientation": "v",
         "showlegend": true,
         "type": "scatter",
         "x": [
          0.8098548387096771,
          0.7865238095238093,
          0.73725,
          0.5623114754098361
         ],
         "xaxis": "x",
         "y": [
          -909776,
          -923115,
          -2560103,
          -3873515
         ],
         "yaxis": "y"
        },
        {
         "hovertemplate": "<b>%{hovertext}</b><br><br>Year=2002<br>U.S. Gulf Coast Kerosene-Type Jet Fuel Spot Price FOB in U.S. Dollars per Gallon=%{x}<br>TOTAL=%{y}<extra></extra>",
         "hovertext": [
          "2002 - Quar 1",
          "2002 - Quar 2",
          "2002 - Quar 3",
          "2002 - Quar 4"
         ],
         "legendgroup": "2002",
         "marker": {
          "color": "#00cc96",
          "symbol": "circle"
         },
         "mode": "markers",
         "name": "2002",
         "orientation": "v",
         "showlegend": true,
         "type": "scatter",
         "x": [
          0.5731311475409836,
          0.6628906249999998,
          0.7393015873015875,
          0.771032258064516
         ],
         "xaxis": "x",
         "y": [
          -3250361,
          -1469850,
          -2494531,
          -4150742
         ],
         "yaxis": "y"
        },
        {
         "hovertemplate": "<b>%{hovertext}</b><br><br>Year=2003<br>U.S. Gulf Coast Kerosene-Type Jet Fuel Spot Price FOB in U.S. Dollars per Gallon=%{x}<br>TOTAL=%{y}<extra></extra>",
         "hovertext": [
          "2003 - Quar 1",
          "2003 - Quar 2",
          "2003 - Quar 3",
          "2003 - Quar 4"
         ],
         "legendgroup": "2003",
         "marker": {
          "color": "#ab63fa",
          "symbol": "circle"
         },
         "mode": "markers",
         "name": "2003",
         "orientation": "v",
         "showlegend": true,
         "type": "scatter",
         "x": [
          0.9381129032258063,
          0.7356666666666667,
          0.7806562499999999,
          0.8430819672131146
         ],
         "xaxis": "x",
         "y": [
          -1920924,
          647420,
          -265900,
          -176064
         ],
         "yaxis": "y"
        },
        {
         "hovertemplate": "<b>%{hovertext}</b><br><br>Year=2004<br>U.S. Gulf Coast Kerosene-Type Jet Fuel Spot Price FOB in U.S. Dollars per Gallon=%{x}<br>TOTAL=%{y}<extra></extra>",
         "hovertext": [
          "2004 - Quar 1",
          "2004 - Quar 2",
          "2004 - Quar 3",
          "2004 - Quar 4"
         ],
         "legendgroup": "2004",
         "marker": {
          "color": "#FFA15A",
          "symbol": "circle"
         },
         "mode": "markers",
         "name": "2004",
         "orientation": "v",
         "showlegend": true,
         "type": "scatter",
         "x": [
          0.957483870967742,
          1.0351451612903229,
          1.2505624999999998,
          1.3615409836065573
         ],
         "xaxis": "x",
         "y": [
          -1456177,
          -1915125,
          -1123527,
          -4609595
         ],
         "yaxis": "y"
        },
        {
         "hovertemplate": "<b>%{hovertext}</b><br><br>Year=2005<br>U.S. Gulf Coast Kerosene-Type Jet Fuel Spot Price FOB in U.S. Dollars per Gallon=%{x}<br>TOTAL=%{y}<extra></extra>",
         "hovertext": [
          "2005 - Quar 1",
          "2005 - Quar 2",
          "2005 - Quar 3",
          "2005 - Quar 4"
         ],
         "legendgroup": "2005",
         "marker": {
          "color": "#19d3f3",
          "symbol": "circle"
         },
         "mode": "markers",
         "name": "2005",
         "orientation": "v",
         "showlegend": true,
         "type": "scatter",
         "x": [
          1.4216290322580643,
          1.5669218749999998,
          1.9299206349206348,
          1.9452580645161295
         ],
         "xaxis": "x",
         "y": [
          -3207135,
          -1487161,
          -2333166,
          -20192434
         ],
         "yaxis": "y"
        },
        {
         "hovertemplate": "<b>%{hovertext}</b><br><br>Year=2006<br>U.S. Gulf Coast Kerosene-Type Jet Fuel Spot Price FOB in U.S. Dollars per Gallon=%{x}<br>TOTAL=%{y}<extra></extra>",
         "hovertext": [
          "2006 - Quar 1",
          "2006 - Quar 2",
          "2006 - Quar 3",
          "2006 - Quar 4"
         ],
         "legendgroup": "2006",
         "marker": {
          "color": "#FF6692",
          "symbol": "circle"
         },
         "mode": "markers",
         "name": "2006",
         "orientation": "v",
         "showlegend": true,
         "type": "scatter",
         "x": [
          1.8188064516129023,
          2.0750793650793655,
          2.0356451612903226,
          1.7600967741935485
         ],
         "xaxis": "x",
         "y": [
          20862482,
          -694110,
          -161700,
          -1820559
         ],
         "yaxis": "y"
        },
        {
         "hovertemplate": "<b>%{hovertext}</b><br><br>Year=2007<br>U.S. Gulf Coast Kerosene-Type Jet Fuel Spot Price FOB in U.S. Dollars per Gallon=%{x}<br>TOTAL=%{y}<extra></extra>",
         "hovertext": [
          "2007 - Quar 1",
          "2007 - Quar 2",
          "2007 - Quar 3",
          "2007 - Quar 4"
         ],
         "legendgroup": "2007",
         "marker": {
          "color": "#B6E880",
          "symbol": "circle"
         },
         "mode": "markers",
         "name": "2007",
         "orientation": "v",
         "showlegend": true,
         "type": "scatter",
         "x": [
          1.7488709677419356,
          2.060190476190477,
          2.1611562500000003,
          2.5468888888888883
         ],
         "xaxis": "x",
         "y": [
          -67019,
          5979562,
          1800249,
          -21387
         ],
         "yaxis": "y"
        },
        {
         "hovertemplate": "<b>%{hovertext}</b><br><br>Year=2008<br>U.S. Gulf Coast Kerosene-Type Jet Fuel Spot Price FOB in U.S. Dollars per Gallon=%{x}<br>TOTAL=%{y}<extra></extra>",
         "hovertext": [
          "2008 - Quar 1",
          "2008 - Quar 2",
          "2008 - Quar 3",
          "2008 - Quar 4"
         ],
         "legendgroup": "2008",
         "marker": {
          "color": "#FF97FF",
          "symbol": "circle"
         },
         "mode": "markers",
         "name": "2008",
         "orientation": "v",
         "showlegend": true,
         "type": "scatter",
         "x": [
          2.8197580645161286,
          3.6707968750000006,
          3.4991874999999997,
          1.846047619047619
         ],
         "xaxis": "x",
         "y": [
          -11599703,
          -4276656,
          -2718557,
          -5154919
         ],
         "yaxis": "y"
        },
        {
         "hovertemplate": "<b>%{hovertext}</b><br><br>Year=2009<br>U.S. Gulf Coast Kerosene-Type Jet Fuel Spot Price FOB in U.S. Dollars per Gallon=%{x}<br>TOTAL=%{y}<extra></extra>",
         "hovertext": [
          "2009 - Quar 1",
          "2009 - Quar 2",
          "2009 - Quar 3",
          "2009 - Quar 4"
         ],
         "legendgroup": "2009",
         "marker": {
          "color": "#FECB52",
          "symbol": "circle"
         },
         "mode": "markers",
         "name": "2009",
         "orientation": "v",
         "showlegend": true,
         "type": "scatter",
         "x": [
          1.3313548387096779,
          1.5662222222222222,
          1.7808281250000002,
          1.9716190476190472
         ],
         "xaxis": "x",
         "y": [
          -1844758,
          -628662,
          -102224,
          49366
         ],
         "yaxis": "y"
        },
        {
         "hovertemplate": "<b>%{hovertext}</b><br><br>Year=2010<br>U.S. Gulf Coast Kerosene-Type Jet Fuel Spot Price FOB in U.S. Dollars per Gallon=%{x}<br>TOTAL=%{y}<extra></extra>",
         "hovertext": [
          "2010 - Quar 1",
          "2010 - Quar 2",
          "2010 - Quar 3",
          "2010 - Quar 4"
         ],
         "legendgroup": "2010",
         "marker": {
          "color": "#636efa",
          "symbol": "circle"
         },
         "mode": "markers",
         "name": "2010",
         "orientation": "v",
         "showlegend": true,
         "type": "scatter",
         "x": [
          2.0597540983606555,
          2.1158412698412694,
          2.0778437500000004,
          2.34436507936508
         ],
         "xaxis": "x",
         "y": [
          -615726,
          1595509,
          2369313,
          316898
         ],
         "yaxis": "y"
        },
        {
         "hovertemplate": "<b>%{hovertext}</b><br><br>Year=2011<br>U.S. Gulf Coast Kerosene-Type Jet Fuel Spot Price FOB in U.S. Dollars per Gallon=%{x}<br>TOTAL=%{y}<extra></extra>",
         "hovertext": [
          "2011 - Quar 1",
          "2011 - Quar 2",
          "2011 - Quar 3",
          "2011 - Quar 4"
         ],
         "legendgroup": "2011",
         "marker": {
          "color": "#EF553B",
          "symbol": "circle"
         },
         "mode": "markers",
         "name": "2011",
         "orientation": "v",
         "showlegend": true,
         "type": "scatter",
         "x": [
          2.879460317460316,
          3.1255079365079363,
          3.027587301587301,
          2.9614920634920643
         ],
         "xaxis": "x",
         "y": [
          -848148,
          1003401,
          1482415,
          -245480
         ],
         "yaxis": "y"
        },
        {
         "hovertemplate": "<b>%{hovertext}</b><br><br>Year=2012<br>U.S. Gulf Coast Kerosene-Type Jet Fuel Spot Price FOB in U.S. Dollars per Gallon=%{x}<br>TOTAL=%{y}<extra></extra>",
         "hovertext": [
          "2012 - Quar 1",
          "2012 - Quar 2",
          "2012 - Quar 3",
          "2012 - Quar 4"
         ],
         "legendgroup": "2012",
         "marker": {
          "color": "#00cc96",
          "symbol": "circle"
         },
         "mode": "markers",
         "name": "2012",
         "orientation": "v",
         "showlegend": true,
         "type": "scatter",
         "x": [
          3.185709677419354,
          2.955301587301587,
          3.0798593749999994,
          3.0055714285714283
         ],
         "xaxis": "x",
         "y": [
          -1691852,
          771313,
          1369708,
          -85437
         ],
         "yaxis": "y"
        },
        {
         "hovertemplate": "<b>%{hovertext}</b><br><br>Year=2013<br>U.S. Gulf Coast Kerosene-Type Jet Fuel Spot Price FOB in U.S. Dollars per Gallon=%{x}<br>TOTAL=%{y}<extra></extra>",
         "hovertext": [
          "2013 - Quar 1",
          "2013 - Quar 2",
          "2013 - Quar 3",
          "2013 - Quar 4"
         ],
         "legendgroup": "2013",
         "marker": {
          "color": "#ab63fa",
          "symbol": "circle"
         },
         "mode": "markers",
         "name": "2013",
         "orientation": "v",
         "showlegend": true,
         "type": "scatter",
         "x": [
          3.089098360655737,
          2.763171874999999,
          2.9445625,
          2.892603174603175
         ],
         "xaxis": "x",
         "y": [
          -45631,
          2146407,
          3222741,
          7387696
         ],
         "yaxis": "y"
        },
        {
         "hovertemplate": "<b>%{hovertext}</b><br><br>Year=2014<br>U.S. Gulf Coast Kerosene-Type Jet Fuel Spot Price FOB in U.S. Dollars per Gallon=%{x}<br>TOTAL=%{y}<extra></extra>",
         "hovertext": [
          "2014 - Quar 1",
          "2014 - Quar 2",
          "2014 - Quar 3",
          "2014 - Quar 4"
         ],
         "legendgroup": "2014",
         "marker": {
          "color": "#FFA15A",
          "symbol": "circle"
         },
         "mode": "markers",
         "name": "2014",
         "orientation": "v",
         "showlegend": true,
         "type": "scatter",
         "x": [
          2.922258064516129,
          2.880412698412699,
          2.797145161290325,
          2.17108064516129
         ],
         "xaxis": "x",
         "y": [
          549797,
          3849384,
          3522647,
          518805
         ],
         "yaxis": "y"
        },
        {
         "hovertemplate": "<b>%{hovertext}</b><br><br>Year=2015<br>U.S. Gulf Coast Kerosene-Type Jet Fuel Spot Price FOB in U.S. Dollars per Gallon=%{x}<br>TOTAL=%{y}<extra></extra>",
         "hovertext": [
          "2015 - Quar 1",
          "2015 - Quar 2",
          "2015 - Quar 3",
          "2015 - Quar 4"
         ],
         "legendgroup": "2015",
         "marker": {
          "color": "#19d3f3",
          "symbol": "circle"
         },
         "mode": "markers",
         "name": "2015",
         "orientation": "v",
         "showlegend": true,
         "type": "scatter",
         "x": [
          1.627338709677419,
          1.760904761904762,
          1.4384843750000007,
          1.256984848484849
         ],
         "xaxis": "x",
         "y": [
          3544541,
          5732622,
          9655117,
          7447652
         ],
         "yaxis": "y"
        },
        {
         "hovertemplate": "<b>%{hovertext}</b><br><br>Year=2016<br>U.S. Gulf Coast Kerosene-Type Jet Fuel Spot Price FOB in U.S. Dollars per Gallon=%{x}<br>TOTAL=%{y}<extra></extra>",
         "hovertext": [
          "2016 - Quar 1",
          "2016 - Quar 2",
          "2016 - Quar 3",
          "2016 - Quar 4"
         ],
         "legendgroup": "2016",
         "marker": {
          "color": "#FF6692",
          "symbol": "circle"
         },
         "mode": "markers",
         "name": "2016",
         "orientation": "v",
         "showlegend": true,
         "type": "scatter",
         "x": [
          0.9934032258064517,
          1.2832499999999998,
          1.2918593749999998,
          1.4329687499999997
         ],
         "xaxis": "x",
         "y": [
          3495119,
          5094145,
          4195563,
          2824916
         ],
         "yaxis": "y"
        },
        {
         "hovertemplate": "<b>%{hovertext}</b><br><br>Year=2017<br>U.S. Gulf Coast Kerosene-Type Jet Fuel Spot Price FOB in U.S. Dollars per Gallon=%{x}<br>TOTAL=%{y}<extra></extra>",
         "hovertext": [
          "2017 - Quar 1",
          "2017 - Quar 2",
          "2017 - Quar 3",
          "2017 - Quar 4"
         ],
         "legendgroup": "2017",
         "marker": {
          "color": "#B6E880",
          "symbol": "circle"
         },
         "mode": "markers",
         "name": "2017",
         "orientation": "v",
         "showlegend": true,
         "type": "scatter",
         "x": [
          1.4978225806451615,
          1.3990317460317463,
          1.5921451612903226,
          1.7428125
         ],
         "xaxis": "x",
         "y": [
          2318254,
          4995529,
          3901986,
          5588711
         ],
         "yaxis": "y"
        },
        {
         "hovertemplate": "<b>%{hovertext}</b><br><br>Year=2018<br>U.S. Gulf Coast Kerosene-Type Jet Fuel Spot Price FOB in U.S. Dollars per Gallon=%{x}<br>TOTAL=%{y}<extra></extra>",
         "hovertext": [
          "2018 - Quar 1",
          "2018 - Quar 2",
          "2018 - Quar 3",
          "2018 - Quar 4"
         ],
         "legendgroup": "2018",
         "marker": {
          "color": "#FF97FF",
          "symbol": "circle"
         },
         "mode": "markers",
         "name": "2018",
         "orientation": "v",
         "showlegend": true,
         "type": "scatter",
         "x": [
          1.8861129032258066,
          2.0887076923076924,
          2.1354687499999994,
          1.9878500000000001
         ],
         "xaxis": "x",
         "y": [
          3438610,
          4109147,
          4130730,
          3580010
         ],
         "yaxis": "y"
        },
        {
         "hovertemplate": "<b>%{hovertext}</b><br><br>Year=2019<br>U.S. Gulf Coast Kerosene-Type Jet Fuel Spot Price FOB in U.S. Dollars per Gallon=%{x}<br>TOTAL=%{y}<extra></extra>",
         "hovertext": [
          "2019 - Quar 1",
          "2019 - Quar 2",
          "2019 - Quar 3",
          "2019 - Quar 4"
         ],
         "legendgroup": "2019",
         "marker": {
          "color": "#FECB52",
          "symbol": "circle"
         },
         "mode": "markers",
         "name": "2019",
         "orientation": "v",
         "showlegend": true,
         "type": "scatter",
         "x": [
          1.86878125,
          1.9259692307692309,
          1.8622121212121208,
          1.8597692307692306
         ],
         "xaxis": "x",
         "y": [
          2692244,
          5251150,
          4922673,
          3598068
         ],
         "yaxis": "y"
        },
        {
         "hovertemplate": "<b>%{hovertext}</b><br><br>Year=2020<br>U.S. Gulf Coast Kerosene-Type Jet Fuel Spot Price FOB in U.S. Dollars per Gallon=%{x}<br>TOTAL=%{y}<extra></extra>",
         "hovertext": [
          "2020 - Quar 1"
         ],
         "legendgroup": "2020",
         "marker": {
          "color": "#636efa",
          "symbol": "circle"
         },
         "mode": "markers",
         "name": "2020",
         "orientation": "v",
         "showlegend": true,
         "type": "scatter",
         "x": [
          1.3972923076923074
         ],
         "xaxis": "x",
         "y": [
          -4942084
         ],
         "yaxis": "y"
        }
       ],
       "layout": {
        "legend": {
         "title": {
          "text": "Year"
         },
         "tracegroupgap": 0
        },
        "template": {
         "data": {
          "bar": [
           {
            "error_x": {
             "color": "#2a3f5f"
            },
            "error_y": {
             "color": "#2a3f5f"
            },
            "marker": {
             "line": {
              "color": "#E5ECF6",
              "width": 0.5
             }
            },
            "type": "bar"
           }
          ],
          "barpolar": [
           {
            "marker": {
             "line": {
              "color": "#E5ECF6",
              "width": 0.5
             }
            },
            "type": "barpolar"
           }
          ],
          "carpet": [
           {
            "aaxis": {
             "endlinecolor": "#2a3f5f",
             "gridcolor": "white",
             "linecolor": "white",
             "minorgridcolor": "white",
             "startlinecolor": "#2a3f5f"
            },
            "baxis": {
             "endlinecolor": "#2a3f5f",
             "gridcolor": "white",
             "linecolor": "white",
             "minorgridcolor": "white",
             "startlinecolor": "#2a3f5f"
            },
            "type": "carpet"
           }
          ],
          "choropleth": [
           {
            "colorbar": {
             "outlinewidth": 0,
             "ticks": ""
            },
            "type": "choropleth"
           }
          ],
          "contour": [
           {
            "colorbar": {
             "outlinewidth": 0,
             "ticks": ""
            },
            "colorscale": [
             [
              0,
              "#0d0887"
             ],
             [
              0.1111111111111111,
              "#46039f"
             ],
             [
              0.2222222222222222,
              "#7201a8"
             ],
             [
              0.3333333333333333,
              "#9c179e"
             ],
             [
              0.4444444444444444,
              "#bd3786"
             ],
             [
              0.5555555555555556,
              "#d8576b"
             ],
             [
              0.6666666666666666,
              "#ed7953"
             ],
             [
              0.7777777777777778,
              "#fb9f3a"
             ],
             [
              0.8888888888888888,
              "#fdca26"
             ],
             [
              1,
              "#f0f921"
             ]
            ],
            "type": "contour"
           }
          ],
          "contourcarpet": [
           {
            "colorbar": {
             "outlinewidth": 0,
             "ticks": ""
            },
            "type": "contourcarpet"
           }
          ],
          "heatmap": [
           {
            "colorbar": {
             "outlinewidth": 0,
             "ticks": ""
            },
            "colorscale": [
             [
              0,
              "#0d0887"
             ],
             [
              0.1111111111111111,
              "#46039f"
             ],
             [
              0.2222222222222222,
              "#7201a8"
             ],
             [
              0.3333333333333333,
              "#9c179e"
             ],
             [
              0.4444444444444444,
              "#bd3786"
             ],
             [
              0.5555555555555556,
              "#d8576b"
             ],
             [
              0.6666666666666666,
              "#ed7953"
             ],
             [
              0.7777777777777778,
              "#fb9f3a"
             ],
             [
              0.8888888888888888,
              "#fdca26"
             ],
             [
              1,
              "#f0f921"
             ]
            ],
            "type": "heatmap"
           }
          ],
          "heatmapgl": [
           {
            "colorbar": {
             "outlinewidth": 0,
             "ticks": ""
            },
            "colorscale": [
             [
              0,
              "#0d0887"
             ],
             [
              0.1111111111111111,
              "#46039f"
             ],
             [
              0.2222222222222222,
              "#7201a8"
             ],
             [
              0.3333333333333333,
              "#9c179e"
             ],
             [
              0.4444444444444444,
              "#bd3786"
             ],
             [
              0.5555555555555556,
              "#d8576b"
             ],
             [
              0.6666666666666666,
              "#ed7953"
             ],
             [
              0.7777777777777778,
              "#fb9f3a"
             ],
             [
              0.8888888888888888,
              "#fdca26"
             ],
             [
              1,
              "#f0f921"
             ]
            ],
            "type": "heatmapgl"
           }
          ],
          "histogram": [
           {
            "marker": {
             "colorbar": {
              "outlinewidth": 0,
              "ticks": ""
             }
            },
            "type": "histogram"
           }
          ],
          "histogram2d": [
           {
            "colorbar": {
             "outlinewidth": 0,
             "ticks": ""
            },
            "colorscale": [
             [
              0,
              "#0d0887"
             ],
             [
              0.1111111111111111,
              "#46039f"
             ],
             [
              0.2222222222222222,
              "#7201a8"
             ],
             [
              0.3333333333333333,
              "#9c179e"
             ],
             [
              0.4444444444444444,
              "#bd3786"
             ],
             [
              0.5555555555555556,
              "#d8576b"
             ],
             [
              0.6666666666666666,
              "#ed7953"
             ],
             [
              0.7777777777777778,
              "#fb9f3a"
             ],
             [
              0.8888888888888888,
              "#fdca26"
             ],
             [
              1,
              "#f0f921"
             ]
            ],
            "type": "histogram2d"
           }
          ],
          "histogram2dcontour": [
           {
            "colorbar": {
             "outlinewidth": 0,
             "ticks": ""
            },
            "colorscale": [
             [
              0,
              "#0d0887"
             ],
             [
              0.1111111111111111,
              "#46039f"
             ],
             [
              0.2222222222222222,
              "#7201a8"
             ],
             [
              0.3333333333333333,
              "#9c179e"
             ],
             [
              0.4444444444444444,
              "#bd3786"
             ],
             [
              0.5555555555555556,
              "#d8576b"
             ],
             [
              0.6666666666666666,
              "#ed7953"
             ],
             [
              0.7777777777777778,
              "#fb9f3a"
             ],
             [
              0.8888888888888888,
              "#fdca26"
             ],
             [
              1,
              "#f0f921"
             ]
            ],
            "type": "histogram2dcontour"
           }
          ],
          "mesh3d": [
           {
            "colorbar": {
             "outlinewidth": 0,
             "ticks": ""
            },
            "type": "mesh3d"
           }
          ],
          "parcoords": [
           {
            "line": {
             "colorbar": {
              "outlinewidth": 0,
              "ticks": ""
             }
            },
            "type": "parcoords"
           }
          ],
          "pie": [
           {
            "automargin": true,
            "type": "pie"
           }
          ],
          "scatter": [
           {
            "marker": {
             "colorbar": {
              "outlinewidth": 0,
              "ticks": ""
             }
            },
            "type": "scatter"
           }
          ],
          "scatter3d": [
           {
            "line": {
             "colorbar": {
              "outlinewidth": 0,
              "ticks": ""
             }
            },
            "marker": {
             "colorbar": {
              "outlinewidth": 0,
              "ticks": ""
             }
            },
            "type": "scatter3d"
           }
          ],
          "scattercarpet": [
           {
            "marker": {
             "colorbar": {
              "outlinewidth": 0,
              "ticks": ""
             }
            },
            "type": "scattercarpet"
           }
          ],
          "scattergeo": [
           {
            "marker": {
             "colorbar": {
              "outlinewidth": 0,
              "ticks": ""
             }
            },
            "type": "scattergeo"
           }
          ],
          "scattergl": [
           {
            "marker": {
             "colorbar": {
              "outlinewidth": 0,
              "ticks": ""
             }
            },
            "type": "scattergl"
           }
          ],
          "scattermapbox": [
           {
            "marker": {
             "colorbar": {
              "outlinewidth": 0,
              "ticks": ""
             }
            },
            "type": "scattermapbox"
           }
          ],
          "scatterpolar": [
           {
            "marker": {
             "colorbar": {
              "outlinewidth": 0,
              "ticks": ""
             }
            },
            "type": "scatterpolar"
           }
          ],
          "scatterpolargl": [
           {
            "marker": {
             "colorbar": {
              "outlinewidth": 0,
              "ticks": ""
             }
            },
            "type": "scatterpolargl"
           }
          ],
          "scatterternary": [
           {
            "marker": {
             "colorbar": {
              "outlinewidth": 0,
              "ticks": ""
             }
            },
            "type": "scatterternary"
           }
          ],
          "surface": [
           {
            "colorbar": {
             "outlinewidth": 0,
             "ticks": ""
            },
            "colorscale": [
             [
              0,
              "#0d0887"
             ],
             [
              0.1111111111111111,
              "#46039f"
             ],
             [
              0.2222222222222222,
              "#7201a8"
             ],
             [
              0.3333333333333333,
              "#9c179e"
             ],
             [
              0.4444444444444444,
              "#bd3786"
             ],
             [
              0.5555555555555556,
              "#d8576b"
             ],
             [
              0.6666666666666666,
              "#ed7953"
             ],
             [
              0.7777777777777778,
              "#fb9f3a"
             ],
             [
              0.8888888888888888,
              "#fdca26"
             ],
             [
              1,
              "#f0f921"
             ]
            ],
            "type": "surface"
           }
          ],
          "table": [
           {
            "cells": {
             "fill": {
              "color": "#EBF0F8"
             },
             "line": {
              "color": "white"
             }
            },
            "header": {
             "fill": {
              "color": "#C8D4E3"
             },
             "line": {
              "color": "white"
             }
            },
            "type": "table"
           }
          ]
         },
         "layout": {
          "annotationdefaults": {
           "arrowcolor": "#2a3f5f",
           "arrowhead": 0,
           "arrowwidth": 1
          },
          "coloraxis": {
           "colorbar": {
            "outlinewidth": 0,
            "ticks": ""
           }
          },
          "colorscale": {
           "diverging": [
            [
             0,
             "#8e0152"
            ],
            [
             0.1,
             "#c51b7d"
            ],
            [
             0.2,
             "#de77ae"
            ],
            [
             0.3,
             "#f1b6da"
            ],
            [
             0.4,
             "#fde0ef"
            ],
            [
             0.5,
             "#f7f7f7"
            ],
            [
             0.6,
             "#e6f5d0"
            ],
            [
             0.7,
             "#b8e186"
            ],
            [
             0.8,
             "#7fbc41"
            ],
            [
             0.9,
             "#4d9221"
            ],
            [
             1,
             "#276419"
            ]
           ],
           "sequential": [
            [
             0,
             "#0d0887"
            ],
            [
             0.1111111111111111,
             "#46039f"
            ],
            [
             0.2222222222222222,
             "#7201a8"
            ],
            [
             0.3333333333333333,
             "#9c179e"
            ],
            [
             0.4444444444444444,
             "#bd3786"
            ],
            [
             0.5555555555555556,
             "#d8576b"
            ],
            [
             0.6666666666666666,
             "#ed7953"
            ],
            [
             0.7777777777777778,
             "#fb9f3a"
            ],
            [
             0.8888888888888888,
             "#fdca26"
            ],
            [
             1,
             "#f0f921"
            ]
           ],
           "sequentialminus": [
            [
             0,
             "#0d0887"
            ],
            [
             0.1111111111111111,
             "#46039f"
            ],
            [
             0.2222222222222222,
             "#7201a8"
            ],
            [
             0.3333333333333333,
             "#9c179e"
            ],
            [
             0.4444444444444444,
             "#bd3786"
            ],
            [
             0.5555555555555556,
             "#d8576b"
            ],
            [
             0.6666666666666666,
             "#ed7953"
            ],
            [
             0.7777777777777778,
             "#fb9f3a"
            ],
            [
             0.8888888888888888,
             "#fdca26"
            ],
            [
             1,
             "#f0f921"
            ]
           ]
          },
          "colorway": [
           "#636efa",
           "#EF553B",
           "#00cc96",
           "#ab63fa",
           "#FFA15A",
           "#19d3f3",
           "#FF6692",
           "#B6E880",
           "#FF97FF",
           "#FECB52"
          ],
          "font": {
           "color": "#2a3f5f"
          },
          "geo": {
           "bgcolor": "white",
           "lakecolor": "white",
           "landcolor": "#E5ECF6",
           "showlakes": true,
           "showland": true,
           "subunitcolor": "white"
          },
          "hoverlabel": {
           "align": "left"
          },
          "hovermode": "closest",
          "mapbox": {
           "style": "light"
          },
          "paper_bgcolor": "white",
          "plot_bgcolor": "#E5ECF6",
          "polar": {
           "angularaxis": {
            "gridcolor": "white",
            "linecolor": "white",
            "ticks": ""
           },
           "bgcolor": "#E5ECF6",
           "radialaxis": {
            "gridcolor": "white",
            "linecolor": "white",
            "ticks": ""
           }
          },
          "scene": {
           "xaxis": {
            "backgroundcolor": "#E5ECF6",
            "gridcolor": "white",
            "gridwidth": 2,
            "linecolor": "white",
            "showbackground": true,
            "ticks": "",
            "zerolinecolor": "white"
           },
           "yaxis": {
            "backgroundcolor": "#E5ECF6",
            "gridcolor": "white",
            "gridwidth": 2,
            "linecolor": "white",
            "showbackground": true,
            "ticks": "",
            "zerolinecolor": "white"
           },
           "zaxis": {
            "backgroundcolor": "#E5ECF6",
            "gridcolor": "white",
            "gridwidth": 2,
            "linecolor": "white",
            "showbackground": true,
            "ticks": "",
            "zerolinecolor": "white"
           }
          },
          "shapedefaults": {
           "line": {
            "color": "#2a3f5f"
           }
          },
          "ternary": {
           "aaxis": {
            "gridcolor": "white",
            "linecolor": "white",
            "ticks": ""
           },
           "baxis": {
            "gridcolor": "white",
            "linecolor": "white",
            "ticks": ""
           },
           "bgcolor": "#E5ECF6",
           "caxis": {
            "gridcolor": "white",
            "linecolor": "white",
            "ticks": ""
           }
          },
          "title": {
           "x": 0.05
          },
          "xaxis": {
           "automargin": true,
           "gridcolor": "white",
           "linecolor": "white",
           "ticks": "",
           "title": {
            "standoff": 15
           },
           "zerolinecolor": "white",
           "zerolinewidth": 2
          },
          "yaxis": {
           "automargin": true,
           "gridcolor": "white",
           "linecolor": "white",
           "ticks": "",
           "title": {
            "standoff": 15
           },
           "zerolinecolor": "white",
           "zerolinewidth": 2
          }
         }
        },
        "title": {
         "text": "Kerosene-Type Jet Fuel Price ($USD/Gallon) vs. Quarterly Net Income for All U.S. Carriers"
        },
        "xaxis": {
         "anchor": "y",
         "domain": [
          0,
          1
         ],
         "title": {
          "text": "U.S. Gulf Coast Kerosene-Type Jet Fuel Spot Price FOB in U.S. Dollars per Gallon"
         }
        },
        "yaxis": {
         "anchor": "x",
         "domain": [
          0,
          1
         ],
         "title": {
          "text": "TOTAL"
         }
        }
       }
      },
      "text/html": [
       "<div>\n",
       "        \n",
       "        \n",
       "            <div id=\"5b926f67-b752-4346-87ca-3c4e5c6873ef\" class=\"plotly-graph-div\" style=\"height:525px; width:100%;\"></div>\n",
       "            <script type=\"text/javascript\">\n",
       "                require([\"plotly\"], function(Plotly) {\n",
       "                    window.PLOTLYENV=window.PLOTLYENV || {};\n",
       "                    \n",
       "                if (document.getElementById(\"5b926f67-b752-4346-87ca-3c4e5c6873ef\")) {\n",
       "                    Plotly.newPlot(\n",
       "                        '5b926f67-b752-4346-87ca-3c4e5c6873ef',\n",
       "                        [{\"hovertemplate\": \"<b>%{hovertext}</b><br><br>Year=2000<br>U.S. Gulf Coast Kerosene-Type Jet Fuel Spot Price FOB in U.S. Dollars per Gallon=%{x}<br>TOTAL=%{y}<extra></extra>\", \"hovertext\": [\"2000 - Quar 1\", \"2000 - Quar 2\", \"2000 - Quar 3\", \"2000 - Quar 4\"], \"legendgroup\": \"2000\", \"marker\": {\"color\": \"#636efa\", \"symbol\": \"circle\"}, \"mode\": \"markers\", \"name\": \"2000\", \"orientation\": \"v\", \"showlegend\": true, \"type\": \"scatter\", \"x\": [0.7767580645161289, 0.7569682539682541, 0.9059354838709676, 0.9598730158730159], \"xaxis\": \"x\", \"y\": [23702.0, 1899096.0, 937327.0, -327425.0], \"yaxis\": \"y\"}, {\"hovertemplate\": \"<b>%{hovertext}</b><br><br>Year=2001<br>U.S. Gulf Coast Kerosene-Type Jet Fuel Spot Price FOB in U.S. Dollars per Gallon=%{x}<br>TOTAL=%{y}<extra></extra>\", \"hovertext\": [\"2001 - Quar 1\", \"2001 - Quar 2\", \"2001 - Quar 3\", \"2001 - Quar 4\"], \"legendgroup\": \"2001\", \"marker\": {\"color\": \"#EF553B\", \"symbol\": \"circle\"}, \"mode\": \"markers\", \"name\": \"2001\", \"orientation\": \"v\", \"showlegend\": true, \"type\": \"scatter\", \"x\": [0.8098548387096771, 0.7865238095238093, 0.73725, 0.5623114754098361], \"xaxis\": \"x\", \"y\": [-909776.0, -923115.0, -2560103.0, -3873515.0], \"yaxis\": \"y\"}, {\"hovertemplate\": \"<b>%{hovertext}</b><br><br>Year=2002<br>U.S. Gulf Coast Kerosene-Type Jet Fuel Spot Price FOB in U.S. Dollars per Gallon=%{x}<br>TOTAL=%{y}<extra></extra>\", \"hovertext\": [\"2002 - Quar 1\", \"2002 - Quar 2\", \"2002 - Quar 3\", \"2002 - Quar 4\"], \"legendgroup\": \"2002\", \"marker\": {\"color\": \"#00cc96\", \"symbol\": \"circle\"}, \"mode\": \"markers\", \"name\": \"2002\", \"orientation\": \"v\", \"showlegend\": true, \"type\": \"scatter\", \"x\": [0.5731311475409836, 0.6628906249999998, 0.7393015873015875, 0.771032258064516], \"xaxis\": \"x\", \"y\": [-3250361.0, -1469850.0, -2494531.0, -4150742.0], \"yaxis\": \"y\"}, {\"hovertemplate\": \"<b>%{hovertext}</b><br><br>Year=2003<br>U.S. Gulf Coast Kerosene-Type Jet Fuel Spot Price FOB in U.S. Dollars per Gallon=%{x}<br>TOTAL=%{y}<extra></extra>\", \"hovertext\": [\"2003 - Quar 1\", \"2003 - Quar 2\", \"2003 - Quar 3\", \"2003 - Quar 4\"], \"legendgroup\": \"2003\", \"marker\": {\"color\": \"#ab63fa\", \"symbol\": \"circle\"}, \"mode\": \"markers\", \"name\": \"2003\", \"orientation\": \"v\", \"showlegend\": true, \"type\": \"scatter\", \"x\": [0.9381129032258063, 0.7356666666666667, 0.7806562499999999, 0.8430819672131146], \"xaxis\": \"x\", \"y\": [-1920924.0, 647420.0, -265900.0, -176064.0], \"yaxis\": \"y\"}, {\"hovertemplate\": \"<b>%{hovertext}</b><br><br>Year=2004<br>U.S. Gulf Coast Kerosene-Type Jet Fuel Spot Price FOB in U.S. Dollars per Gallon=%{x}<br>TOTAL=%{y}<extra></extra>\", \"hovertext\": [\"2004 - Quar 1\", \"2004 - Quar 2\", \"2004 - Quar 3\", \"2004 - Quar 4\"], \"legendgroup\": \"2004\", \"marker\": {\"color\": \"#FFA15A\", \"symbol\": \"circle\"}, \"mode\": \"markers\", \"name\": \"2004\", \"orientation\": \"v\", \"showlegend\": true, \"type\": \"scatter\", \"x\": [0.957483870967742, 1.0351451612903229, 1.2505624999999998, 1.3615409836065573], \"xaxis\": \"x\", \"y\": [-1456177.0, -1915125.0, -1123527.0, -4609595.0], \"yaxis\": \"y\"}, {\"hovertemplate\": \"<b>%{hovertext}</b><br><br>Year=2005<br>U.S. Gulf Coast Kerosene-Type Jet Fuel Spot Price FOB in U.S. Dollars per Gallon=%{x}<br>TOTAL=%{y}<extra></extra>\", \"hovertext\": [\"2005 - Quar 1\", \"2005 - Quar 2\", \"2005 - Quar 3\", \"2005 - Quar 4\"], \"legendgroup\": \"2005\", \"marker\": {\"color\": \"#19d3f3\", \"symbol\": \"circle\"}, \"mode\": \"markers\", \"name\": \"2005\", \"orientation\": \"v\", \"showlegend\": true, \"type\": \"scatter\", \"x\": [1.4216290322580643, 1.5669218749999998, 1.9299206349206348, 1.9452580645161295], \"xaxis\": \"x\", \"y\": [-3207135.0, -1487161.0, -2333166.0, -20192434.0], \"yaxis\": \"y\"}, {\"hovertemplate\": \"<b>%{hovertext}</b><br><br>Year=2006<br>U.S. Gulf Coast Kerosene-Type Jet Fuel Spot Price FOB in U.S. Dollars per Gallon=%{x}<br>TOTAL=%{y}<extra></extra>\", \"hovertext\": [\"2006 - Quar 1\", \"2006 - Quar 2\", \"2006 - Quar 3\", \"2006 - Quar 4\"], \"legendgroup\": \"2006\", \"marker\": {\"color\": \"#FF6692\", \"symbol\": \"circle\"}, \"mode\": \"markers\", \"name\": \"2006\", \"orientation\": \"v\", \"showlegend\": true, \"type\": \"scatter\", \"x\": [1.8188064516129023, 2.0750793650793655, 2.0356451612903226, 1.7600967741935485], \"xaxis\": \"x\", \"y\": [20862482.0, -694110.0, -161700.0, -1820559.0], \"yaxis\": \"y\"}, {\"hovertemplate\": \"<b>%{hovertext}</b><br><br>Year=2007<br>U.S. Gulf Coast Kerosene-Type Jet Fuel Spot Price FOB in U.S. Dollars per Gallon=%{x}<br>TOTAL=%{y}<extra></extra>\", \"hovertext\": [\"2007 - Quar 1\", \"2007 - Quar 2\", \"2007 - Quar 3\", \"2007 - Quar 4\"], \"legendgroup\": \"2007\", \"marker\": {\"color\": \"#B6E880\", \"symbol\": \"circle\"}, \"mode\": \"markers\", \"name\": \"2007\", \"orientation\": \"v\", \"showlegend\": true, \"type\": \"scatter\", \"x\": [1.7488709677419356, 2.060190476190477, 2.1611562500000003, 2.5468888888888883], \"xaxis\": \"x\", \"y\": [-67019.0, 5979562.0, 1800249.0, -21387.0], \"yaxis\": \"y\"}, {\"hovertemplate\": \"<b>%{hovertext}</b><br><br>Year=2008<br>U.S. Gulf Coast Kerosene-Type Jet Fuel Spot Price FOB in U.S. Dollars per Gallon=%{x}<br>TOTAL=%{y}<extra></extra>\", \"hovertext\": [\"2008 - Quar 1\", \"2008 - Quar 2\", \"2008 - Quar 3\", \"2008 - Quar 4\"], \"legendgroup\": \"2008\", \"marker\": {\"color\": \"#FF97FF\", \"symbol\": \"circle\"}, \"mode\": \"markers\", \"name\": \"2008\", \"orientation\": \"v\", \"showlegend\": true, \"type\": \"scatter\", \"x\": [2.8197580645161286, 3.6707968750000006, 3.4991874999999997, 1.846047619047619], \"xaxis\": \"x\", \"y\": [-11599703.0, -4276656.0, -2718557.0, -5154919.0], \"yaxis\": \"y\"}, {\"hovertemplate\": \"<b>%{hovertext}</b><br><br>Year=2009<br>U.S. Gulf Coast Kerosene-Type Jet Fuel Spot Price FOB in U.S. Dollars per Gallon=%{x}<br>TOTAL=%{y}<extra></extra>\", \"hovertext\": [\"2009 - Quar 1\", \"2009 - Quar 2\", \"2009 - Quar 3\", \"2009 - Quar 4\"], \"legendgroup\": \"2009\", \"marker\": {\"color\": \"#FECB52\", \"symbol\": \"circle\"}, \"mode\": \"markers\", \"name\": \"2009\", \"orientation\": \"v\", \"showlegend\": true, \"type\": \"scatter\", \"x\": [1.3313548387096779, 1.5662222222222222, 1.7808281250000002, 1.9716190476190472], \"xaxis\": \"x\", \"y\": [-1844758.0, -628662.0, -102224.0, 49366.0], \"yaxis\": \"y\"}, {\"hovertemplate\": \"<b>%{hovertext}</b><br><br>Year=2010<br>U.S. Gulf Coast Kerosene-Type Jet Fuel Spot Price FOB in U.S. Dollars per Gallon=%{x}<br>TOTAL=%{y}<extra></extra>\", \"hovertext\": [\"2010 - Quar 1\", \"2010 - Quar 2\", \"2010 - Quar 3\", \"2010 - Quar 4\"], \"legendgroup\": \"2010\", \"marker\": {\"color\": \"#636efa\", \"symbol\": \"circle\"}, \"mode\": \"markers\", \"name\": \"2010\", \"orientation\": \"v\", \"showlegend\": true, \"type\": \"scatter\", \"x\": [2.0597540983606555, 2.1158412698412694, 2.0778437500000004, 2.34436507936508], \"xaxis\": \"x\", \"y\": [-615726.0, 1595509.0, 2369313.0, 316898.0], \"yaxis\": \"y\"}, {\"hovertemplate\": \"<b>%{hovertext}</b><br><br>Year=2011<br>U.S. Gulf Coast Kerosene-Type Jet Fuel Spot Price FOB in U.S. Dollars per Gallon=%{x}<br>TOTAL=%{y}<extra></extra>\", \"hovertext\": [\"2011 - Quar 1\", \"2011 - Quar 2\", \"2011 - Quar 3\", \"2011 - Quar 4\"], \"legendgroup\": \"2011\", \"marker\": {\"color\": \"#EF553B\", \"symbol\": \"circle\"}, \"mode\": \"markers\", \"name\": \"2011\", \"orientation\": \"v\", \"showlegend\": true, \"type\": \"scatter\", \"x\": [2.879460317460316, 3.1255079365079363, 3.027587301587301, 2.9614920634920643], \"xaxis\": \"x\", \"y\": [-848148.0, 1003401.0, 1482415.0, -245480.0], \"yaxis\": \"y\"}, {\"hovertemplate\": \"<b>%{hovertext}</b><br><br>Year=2012<br>U.S. Gulf Coast Kerosene-Type Jet Fuel Spot Price FOB in U.S. Dollars per Gallon=%{x}<br>TOTAL=%{y}<extra></extra>\", \"hovertext\": [\"2012 - Quar 1\", \"2012 - Quar 2\", \"2012 - Quar 3\", \"2012 - Quar 4\"], \"legendgroup\": \"2012\", \"marker\": {\"color\": \"#00cc96\", \"symbol\": \"circle\"}, \"mode\": \"markers\", \"name\": \"2012\", \"orientation\": \"v\", \"showlegend\": true, \"type\": \"scatter\", \"x\": [3.185709677419354, 2.955301587301587, 3.0798593749999994, 3.0055714285714283], \"xaxis\": \"x\", \"y\": [-1691852.0, 771313.0, 1369708.0, -85437.0], \"yaxis\": \"y\"}, {\"hovertemplate\": \"<b>%{hovertext}</b><br><br>Year=2013<br>U.S. Gulf Coast Kerosene-Type Jet Fuel Spot Price FOB in U.S. Dollars per Gallon=%{x}<br>TOTAL=%{y}<extra></extra>\", \"hovertext\": [\"2013 - Quar 1\", \"2013 - Quar 2\", \"2013 - Quar 3\", \"2013 - Quar 4\"], \"legendgroup\": \"2013\", \"marker\": {\"color\": \"#ab63fa\", \"symbol\": \"circle\"}, \"mode\": \"markers\", \"name\": \"2013\", \"orientation\": \"v\", \"showlegend\": true, \"type\": \"scatter\", \"x\": [3.089098360655737, 2.763171874999999, 2.9445625, 2.892603174603175], \"xaxis\": \"x\", \"y\": [-45631.0, 2146407.0, 3222741.0, 7387696.0], \"yaxis\": \"y\"}, {\"hovertemplate\": \"<b>%{hovertext}</b><br><br>Year=2014<br>U.S. Gulf Coast Kerosene-Type Jet Fuel Spot Price FOB in U.S. Dollars per Gallon=%{x}<br>TOTAL=%{y}<extra></extra>\", \"hovertext\": [\"2014 - Quar 1\", \"2014 - Quar 2\", \"2014 - Quar 3\", \"2014 - Quar 4\"], \"legendgroup\": \"2014\", \"marker\": {\"color\": \"#FFA15A\", \"symbol\": \"circle\"}, \"mode\": \"markers\", \"name\": \"2014\", \"orientation\": \"v\", \"showlegend\": true, \"type\": \"scatter\", \"x\": [2.922258064516129, 2.880412698412699, 2.797145161290325, 2.17108064516129], \"xaxis\": \"x\", \"y\": [549797.0, 3849384.0, 3522647.0, 518805.0], \"yaxis\": \"y\"}, {\"hovertemplate\": \"<b>%{hovertext}</b><br><br>Year=2015<br>U.S. Gulf Coast Kerosene-Type Jet Fuel Spot Price FOB in U.S. Dollars per Gallon=%{x}<br>TOTAL=%{y}<extra></extra>\", \"hovertext\": [\"2015 - Quar 1\", \"2015 - Quar 2\", \"2015 - Quar 3\", \"2015 - Quar 4\"], \"legendgroup\": \"2015\", \"marker\": {\"color\": \"#19d3f3\", \"symbol\": \"circle\"}, \"mode\": \"markers\", \"name\": \"2015\", \"orientation\": \"v\", \"showlegend\": true, \"type\": \"scatter\", \"x\": [1.627338709677419, 1.760904761904762, 1.4384843750000007, 1.256984848484849], \"xaxis\": \"x\", \"y\": [3544541.0, 5732622.0, 9655117.0, 7447652.0], \"yaxis\": \"y\"}, {\"hovertemplate\": \"<b>%{hovertext}</b><br><br>Year=2016<br>U.S. Gulf Coast Kerosene-Type Jet Fuel Spot Price FOB in U.S. Dollars per Gallon=%{x}<br>TOTAL=%{y}<extra></extra>\", \"hovertext\": [\"2016 - Quar 1\", \"2016 - Quar 2\", \"2016 - Quar 3\", \"2016 - Quar 4\"], \"legendgroup\": \"2016\", \"marker\": {\"color\": \"#FF6692\", \"symbol\": \"circle\"}, \"mode\": \"markers\", \"name\": \"2016\", \"orientation\": \"v\", \"showlegend\": true, \"type\": \"scatter\", \"x\": [0.9934032258064517, 1.2832499999999998, 1.2918593749999998, 1.4329687499999997], \"xaxis\": \"x\", \"y\": [3495119.0, 5094145.0, 4195563.0, 2824916.0], \"yaxis\": \"y\"}, {\"hovertemplate\": \"<b>%{hovertext}</b><br><br>Year=2017<br>U.S. Gulf Coast Kerosene-Type Jet Fuel Spot Price FOB in U.S. Dollars per Gallon=%{x}<br>TOTAL=%{y}<extra></extra>\", \"hovertext\": [\"2017 - Quar 1\", \"2017 - Quar 2\", \"2017 - Quar 3\", \"2017 - Quar 4\"], \"legendgroup\": \"2017\", \"marker\": {\"color\": \"#B6E880\", \"symbol\": \"circle\"}, \"mode\": \"markers\", \"name\": \"2017\", \"orientation\": \"v\", \"showlegend\": true, \"type\": \"scatter\", \"x\": [1.4978225806451615, 1.3990317460317463, 1.5921451612903226, 1.7428125], \"xaxis\": \"x\", \"y\": [2318254.0, 4995529.0, 3901986.0, 5588711.0], \"yaxis\": \"y\"}, {\"hovertemplate\": \"<b>%{hovertext}</b><br><br>Year=2018<br>U.S. Gulf Coast Kerosene-Type Jet Fuel Spot Price FOB in U.S. Dollars per Gallon=%{x}<br>TOTAL=%{y}<extra></extra>\", \"hovertext\": [\"2018 - Quar 1\", \"2018 - Quar 2\", \"2018 - Quar 3\", \"2018 - Quar 4\"], \"legendgroup\": \"2018\", \"marker\": {\"color\": \"#FF97FF\", \"symbol\": \"circle\"}, \"mode\": \"markers\", \"name\": \"2018\", \"orientation\": \"v\", \"showlegend\": true, \"type\": \"scatter\", \"x\": [1.8861129032258066, 2.0887076923076924, 2.1354687499999994, 1.9878500000000001], \"xaxis\": \"x\", \"y\": [3438610.0, 4109147.0, 4130730.0, 3580010.0], \"yaxis\": \"y\"}, {\"hovertemplate\": \"<b>%{hovertext}</b><br><br>Year=2019<br>U.S. Gulf Coast Kerosene-Type Jet Fuel Spot Price FOB in U.S. Dollars per Gallon=%{x}<br>TOTAL=%{y}<extra></extra>\", \"hovertext\": [\"2019 - Quar 1\", \"2019 - Quar 2\", \"2019 - Quar 3\", \"2019 - Quar 4\"], \"legendgroup\": \"2019\", \"marker\": {\"color\": \"#FECB52\", \"symbol\": \"circle\"}, \"mode\": \"markers\", \"name\": \"2019\", \"orientation\": \"v\", \"showlegend\": true, \"type\": \"scatter\", \"x\": [1.86878125, 1.9259692307692309, 1.8622121212121208, 1.8597692307692306], \"xaxis\": \"x\", \"y\": [2692244.0, 5251150.0, 4922673.0, 3598068.0], \"yaxis\": \"y\"}, {\"hovertemplate\": \"<b>%{hovertext}</b><br><br>Year=2020<br>U.S. Gulf Coast Kerosene-Type Jet Fuel Spot Price FOB in U.S. Dollars per Gallon=%{x}<br>TOTAL=%{y}<extra></extra>\", \"hovertext\": [\"2020 - Quar 1\"], \"legendgroup\": \"2020\", \"marker\": {\"color\": \"#636efa\", \"symbol\": \"circle\"}, \"mode\": \"markers\", \"name\": \"2020\", \"orientation\": \"v\", \"showlegend\": true, \"type\": \"scatter\", \"x\": [1.3972923076923074], \"xaxis\": \"x\", \"y\": [-4942084.0], \"yaxis\": \"y\"}],\n",
       "                        {\"legend\": {\"title\": {\"text\": \"Year\"}, \"tracegroupgap\": 0}, \"template\": {\"data\": {\"bar\": [{\"error_x\": {\"color\": \"#2a3f5f\"}, \"error_y\": {\"color\": \"#2a3f5f\"}, \"marker\": {\"line\": {\"color\": \"#E5ECF6\", \"width\": 0.5}}, \"type\": \"bar\"}], \"barpolar\": [{\"marker\": {\"line\": {\"color\": \"#E5ECF6\", \"width\": 0.5}}, \"type\": \"barpolar\"}], \"carpet\": [{\"aaxis\": {\"endlinecolor\": \"#2a3f5f\", \"gridcolor\": \"white\", \"linecolor\": \"white\", \"minorgridcolor\": \"white\", \"startlinecolor\": \"#2a3f5f\"}, \"baxis\": {\"endlinecolor\": \"#2a3f5f\", \"gridcolor\": \"white\", \"linecolor\": \"white\", \"minorgridcolor\": \"white\", \"startlinecolor\": \"#2a3f5f\"}, \"type\": \"carpet\"}], \"choropleth\": [{\"colorbar\": {\"outlinewidth\": 0, \"ticks\": \"\"}, \"type\": \"choropleth\"}], \"contour\": [{\"colorbar\": {\"outlinewidth\": 0, \"ticks\": \"\"}, \"colorscale\": [[0.0, \"#0d0887\"], [0.1111111111111111, \"#46039f\"], [0.2222222222222222, \"#7201a8\"], [0.3333333333333333, \"#9c179e\"], [0.4444444444444444, \"#bd3786\"], [0.5555555555555556, \"#d8576b\"], [0.6666666666666666, \"#ed7953\"], [0.7777777777777778, \"#fb9f3a\"], [0.8888888888888888, \"#fdca26\"], [1.0, \"#f0f921\"]], \"type\": \"contour\"}], \"contourcarpet\": [{\"colorbar\": {\"outlinewidth\": 0, \"ticks\": \"\"}, \"type\": \"contourcarpet\"}], \"heatmap\": [{\"colorbar\": {\"outlinewidth\": 0, \"ticks\": \"\"}, \"colorscale\": [[0.0, \"#0d0887\"], [0.1111111111111111, \"#46039f\"], [0.2222222222222222, \"#7201a8\"], [0.3333333333333333, \"#9c179e\"], [0.4444444444444444, \"#bd3786\"], [0.5555555555555556, \"#d8576b\"], [0.6666666666666666, \"#ed7953\"], [0.7777777777777778, \"#fb9f3a\"], [0.8888888888888888, \"#fdca26\"], [1.0, \"#f0f921\"]], \"type\": \"heatmap\"}], \"heatmapgl\": [{\"colorbar\": {\"outlinewidth\": 0, \"ticks\": \"\"}, \"colorscale\": [[0.0, \"#0d0887\"], [0.1111111111111111, \"#46039f\"], [0.2222222222222222, \"#7201a8\"], [0.3333333333333333, \"#9c179e\"], [0.4444444444444444, \"#bd3786\"], [0.5555555555555556, \"#d8576b\"], [0.6666666666666666, \"#ed7953\"], [0.7777777777777778, \"#fb9f3a\"], [0.8888888888888888, \"#fdca26\"], [1.0, \"#f0f921\"]], \"type\": \"heatmapgl\"}], \"histogram\": [{\"marker\": {\"colorbar\": {\"outlinewidth\": 0, \"ticks\": \"\"}}, \"type\": \"histogram\"}], \"histogram2d\": [{\"colorbar\": {\"outlinewidth\": 0, \"ticks\": \"\"}, \"colorscale\": [[0.0, \"#0d0887\"], [0.1111111111111111, \"#46039f\"], [0.2222222222222222, \"#7201a8\"], [0.3333333333333333, \"#9c179e\"], [0.4444444444444444, \"#bd3786\"], [0.5555555555555556, \"#d8576b\"], [0.6666666666666666, \"#ed7953\"], [0.7777777777777778, \"#fb9f3a\"], [0.8888888888888888, \"#fdca26\"], [1.0, \"#f0f921\"]], \"type\": \"histogram2d\"}], \"histogram2dcontour\": [{\"colorbar\": {\"outlinewidth\": 0, \"ticks\": \"\"}, \"colorscale\": [[0.0, \"#0d0887\"], [0.1111111111111111, \"#46039f\"], [0.2222222222222222, \"#7201a8\"], [0.3333333333333333, \"#9c179e\"], [0.4444444444444444, \"#bd3786\"], [0.5555555555555556, \"#d8576b\"], [0.6666666666666666, \"#ed7953\"], [0.7777777777777778, \"#fb9f3a\"], [0.8888888888888888, \"#fdca26\"], [1.0, \"#f0f921\"]], \"type\": \"histogram2dcontour\"}], \"mesh3d\": [{\"colorbar\": {\"outlinewidth\": 0, \"ticks\": \"\"}, \"type\": \"mesh3d\"}], \"parcoords\": [{\"line\": {\"colorbar\": {\"outlinewidth\": 0, \"ticks\": \"\"}}, \"type\": \"parcoords\"}], \"pie\": [{\"automargin\": true, \"type\": \"pie\"}], \"scatter\": [{\"marker\": {\"colorbar\": {\"outlinewidth\": 0, \"ticks\": \"\"}}, \"type\": \"scatter\"}], \"scatter3d\": [{\"line\": {\"colorbar\": {\"outlinewidth\": 0, \"ticks\": \"\"}}, \"marker\": {\"colorbar\": {\"outlinewidth\": 0, \"ticks\": \"\"}}, \"type\": \"scatter3d\"}], \"scattercarpet\": [{\"marker\": {\"colorbar\": {\"outlinewidth\": 0, \"ticks\": \"\"}}, \"type\": \"scattercarpet\"}], \"scattergeo\": [{\"marker\": {\"colorbar\": {\"outlinewidth\": 0, \"ticks\": \"\"}}, \"type\": \"scattergeo\"}], \"scattergl\": [{\"marker\": {\"colorbar\": {\"outlinewidth\": 0, \"ticks\": \"\"}}, \"type\": \"scattergl\"}], \"scattermapbox\": [{\"marker\": {\"colorbar\": {\"outlinewidth\": 0, \"ticks\": \"\"}}, \"type\": \"scattermapbox\"}], \"scatterpolar\": [{\"marker\": {\"colorbar\": {\"outlinewidth\": 0, \"ticks\": \"\"}}, \"type\": \"scatterpolar\"}], \"scatterpolargl\": [{\"marker\": {\"colorbar\": {\"outlinewidth\": 0, \"ticks\": \"\"}}, \"type\": \"scatterpolargl\"}], \"scatterternary\": [{\"marker\": {\"colorbar\": {\"outlinewidth\": 0, \"ticks\": \"\"}}, \"type\": \"scatterternary\"}], \"surface\": [{\"colorbar\": {\"outlinewidth\": 0, \"ticks\": \"\"}, \"colorscale\": [[0.0, \"#0d0887\"], [0.1111111111111111, \"#46039f\"], [0.2222222222222222, \"#7201a8\"], [0.3333333333333333, \"#9c179e\"], [0.4444444444444444, \"#bd3786\"], [0.5555555555555556, \"#d8576b\"], [0.6666666666666666, \"#ed7953\"], [0.7777777777777778, \"#fb9f3a\"], [0.8888888888888888, \"#fdca26\"], [1.0, \"#f0f921\"]], \"type\": \"surface\"}], \"table\": [{\"cells\": {\"fill\": {\"color\": \"#EBF0F8\"}, \"line\": {\"color\": \"white\"}}, \"header\": {\"fill\": {\"color\": \"#C8D4E3\"}, \"line\": {\"color\": \"white\"}}, \"type\": \"table\"}]}, \"layout\": {\"annotationdefaults\": {\"arrowcolor\": \"#2a3f5f\", \"arrowhead\": 0, \"arrowwidth\": 1}, \"coloraxis\": {\"colorbar\": {\"outlinewidth\": 0, \"ticks\": \"\"}}, \"colorscale\": {\"diverging\": [[0, \"#8e0152\"], [0.1, \"#c51b7d\"], [0.2, \"#de77ae\"], [0.3, \"#f1b6da\"], [0.4, \"#fde0ef\"], [0.5, \"#f7f7f7\"], [0.6, \"#e6f5d0\"], [0.7, \"#b8e186\"], [0.8, \"#7fbc41\"], [0.9, \"#4d9221\"], [1, \"#276419\"]], \"sequential\": [[0.0, \"#0d0887\"], [0.1111111111111111, \"#46039f\"], [0.2222222222222222, \"#7201a8\"], [0.3333333333333333, \"#9c179e\"], [0.4444444444444444, \"#bd3786\"], [0.5555555555555556, \"#d8576b\"], [0.6666666666666666, \"#ed7953\"], [0.7777777777777778, \"#fb9f3a\"], [0.8888888888888888, \"#fdca26\"], [1.0, \"#f0f921\"]], \"sequentialminus\": [[0.0, \"#0d0887\"], [0.1111111111111111, \"#46039f\"], [0.2222222222222222, \"#7201a8\"], [0.3333333333333333, \"#9c179e\"], [0.4444444444444444, \"#bd3786\"], [0.5555555555555556, \"#d8576b\"], [0.6666666666666666, \"#ed7953\"], [0.7777777777777778, \"#fb9f3a\"], [0.8888888888888888, \"#fdca26\"], [1.0, \"#f0f921\"]]}, \"colorway\": [\"#636efa\", \"#EF553B\", \"#00cc96\", \"#ab63fa\", \"#FFA15A\", \"#19d3f3\", \"#FF6692\", \"#B6E880\", \"#FF97FF\", \"#FECB52\"], \"font\": {\"color\": \"#2a3f5f\"}, \"geo\": {\"bgcolor\": \"white\", \"lakecolor\": \"white\", \"landcolor\": \"#E5ECF6\", \"showlakes\": true, \"showland\": true, \"subunitcolor\": \"white\"}, \"hoverlabel\": {\"align\": \"left\"}, \"hovermode\": \"closest\", \"mapbox\": {\"style\": \"light\"}, \"paper_bgcolor\": \"white\", \"plot_bgcolor\": \"#E5ECF6\", \"polar\": {\"angularaxis\": {\"gridcolor\": \"white\", \"linecolor\": \"white\", \"ticks\": \"\"}, \"bgcolor\": \"#E5ECF6\", \"radialaxis\": {\"gridcolor\": \"white\", \"linecolor\": \"white\", \"ticks\": \"\"}}, \"scene\": {\"xaxis\": {\"backgroundcolor\": \"#E5ECF6\", \"gridcolor\": \"white\", \"gridwidth\": 2, \"linecolor\": \"white\", \"showbackground\": true, \"ticks\": \"\", \"zerolinecolor\": \"white\"}, \"yaxis\": {\"backgroundcolor\": \"#E5ECF6\", \"gridcolor\": \"white\", \"gridwidth\": 2, \"linecolor\": \"white\", \"showbackground\": true, \"ticks\": \"\", \"zerolinecolor\": \"white\"}, \"zaxis\": {\"backgroundcolor\": \"#E5ECF6\", \"gridcolor\": \"white\", \"gridwidth\": 2, \"linecolor\": \"white\", \"showbackground\": true, \"ticks\": \"\", \"zerolinecolor\": \"white\"}}, \"shapedefaults\": {\"line\": {\"color\": \"#2a3f5f\"}}, \"ternary\": {\"aaxis\": {\"gridcolor\": \"white\", \"linecolor\": \"white\", \"ticks\": \"\"}, \"baxis\": {\"gridcolor\": \"white\", \"linecolor\": \"white\", \"ticks\": \"\"}, \"bgcolor\": \"#E5ECF6\", \"caxis\": {\"gridcolor\": \"white\", \"linecolor\": \"white\", \"ticks\": \"\"}}, \"title\": {\"x\": 0.05}, \"xaxis\": {\"automargin\": true, \"gridcolor\": \"white\", \"linecolor\": \"white\", \"ticks\": \"\", \"title\": {\"standoff\": 15}, \"zerolinecolor\": \"white\", \"zerolinewidth\": 2}, \"yaxis\": {\"automargin\": true, \"gridcolor\": \"white\", \"linecolor\": \"white\", \"ticks\": \"\", \"title\": {\"standoff\": 15}, \"zerolinecolor\": \"white\", \"zerolinewidth\": 2}}}, \"title\": {\"text\": \"Kerosene-Type Jet Fuel Price ($USD/Gallon) vs. Quarterly Net Income for All U.S. Carriers\"}, \"xaxis\": {\"anchor\": \"y\", \"domain\": [0.0, 1.0], \"title\": {\"text\": \"U.S. Gulf Coast Kerosene-Type Jet Fuel Spot Price FOB in U.S. Dollars per Gallon\"}}, \"yaxis\": {\"anchor\": \"x\", \"domain\": [0.0, 1.0], \"title\": {\"text\": \"TOTAL\"}}},\n",
       "                        {\"responsive\": true}\n",
       "                    ).then(function(){\n",
       "                            \n",
       "var gd = document.getElementById('5b926f67-b752-4346-87ca-3c4e5c6873ef');\n",
       "var x = new MutationObserver(function (mutations, observer) {{\n",
       "        var display = window.getComputedStyle(gd).display;\n",
       "        if (!display || display === 'none') {{\n",
       "            console.log([gd, 'removed!']);\n",
       "            Plotly.purge(gd);\n",
       "            observer.disconnect();\n",
       "        }}\n",
       "}});\n",
       "\n",
       "// Listen for the removal of the full notebook cells\n",
       "var notebookContainer = gd.closest('#notebook-container');\n",
       "if (notebookContainer) {{\n",
       "    x.observe(notebookContainer, {childList: true});\n",
       "}}\n",
       "\n",
       "// Listen for the clearing of the current output cell\n",
       "var outputEl = gd.closest('.output');\n",
       "if (outputEl) {{\n",
       "    x.observe(outputEl, {childList: true});\n",
       "}}\n",
       "\n",
       "                        })\n",
       "                };\n",
       "                });\n",
       "            </script>\n",
       "        </div>"
      ]
     },
     "metadata": {},
     "output_type": "display_data"
    }
   ],
   "source": [
    "#NET INCOMES INTERACTIVE TOTAL:\n",
    "fig = px.scatter(income_and_fuel, x='U.S. Gulf Coast Kerosene-Type Jet Fuel Spot Price FOB in U.S. Dollars per Gallon',\n",
    "                 y='TOTAL', hover_name='PERIOD', title='Kerosene-Type Jet Fuel Price ($USD/Gallon) vs. Quarterly Net Income for All U.S. Carriers',\n",
    "                color='Year')\n",
    "fig.show()\n",
    "#TO WRITE TO HTML: fig.write_html('US Gulf Coast Kerosene Jet Fuel Price vs. Flight Departures.html')"
   ]
  },
  {
   "cell_type": "code",
   "execution_count": 77,
   "metadata": {},
   "outputs": [
    {
     "data": {
      "application/vnd.plotly.v1+json": {
       "config": {
        "plotlyServerURL": "https://plot.ly"
       },
       "data": [
        {
         "hovertemplate": "<b>%{hovertext}</b><br><br>Year=2000<br>U.S. Gulf Coast Kerosene-Type Jet Fuel Spot Price FOB in U.S. Dollars per Gallon=%{x}<br>DOMESTIC=%{y}<extra></extra>",
         "hovertext": [
          "2000 - Quar 1",
          "2000 - Quar 2",
          "2000 - Quar 3",
          "2000 - Quar 4"
         ],
         "legendgroup": "2000",
         "marker": {
          "color": "#636efa",
          "symbol": "circle"
         },
         "mode": "markers",
         "name": "2000",
         "orientation": "v",
         "showlegend": true,
         "type": "scatter",
         "x": [
          0.7767580645161289,
          0.7569682539682541,
          0.9059354838709676,
          0.9598730158730159
         ],
         "xaxis": "x",
         "y": [
          139162,
          1570500,
          548903,
          -267068
         ],
         "yaxis": "y"
        },
        {
         "hovertemplate": "<b>%{hovertext}</b><br><br>Year=2001<br>U.S. Gulf Coast Kerosene-Type Jet Fuel Spot Price FOB in U.S. Dollars per Gallon=%{x}<br>DOMESTIC=%{y}<extra></extra>",
         "hovertext": [
          "2001 - Quar 1",
          "2001 - Quar 2",
          "2001 - Quar 3",
          "2001 - Quar 4"
         ],
         "legendgroup": "2001",
         "marker": {
          "color": "#EF553B",
          "symbol": "circle"
         },
         "mode": "markers",
         "name": "2001",
         "orientation": "v",
         "showlegend": true,
         "type": "scatter",
         "x": [
          0.8098548387096771,
          0.7865238095238093,
          0.73725,
          0.5623114754098361
         ],
         "xaxis": "x",
         "y": [
          -822384,
          -774977,
          -2232653,
          -3404841
         ],
         "yaxis": "y"
        },
        {
         "hovertemplate": "<b>%{hovertext}</b><br><br>Year=2002<br>U.S. Gulf Coast Kerosene-Type Jet Fuel Spot Price FOB in U.S. Dollars per Gallon=%{x}<br>DOMESTIC=%{y}<extra></extra>",
         "hovertext": [
          "2002 - Quar 1",
          "2002 - Quar 2",
          "2002 - Quar 3",
          "2002 - Quar 4"
         ],
         "legendgroup": "2002",
         "marker": {
          "color": "#00cc96",
          "symbol": "circle"
         },
         "mode": "markers",
         "name": "2002",
         "orientation": "v",
         "showlegend": true,
         "type": "scatter",
         "x": [
          0.5731311475409836,
          0.6628906249999998,
          0.7393015873015875,
          0.771032258064516
         ],
         "xaxis": "x",
         "y": [
          -2621918,
          -1298581,
          -2351704,
          -3056898
         ],
         "yaxis": "y"
        },
        {
         "hovertemplate": "<b>%{hovertext}</b><br><br>Year=2003<br>U.S. Gulf Coast Kerosene-Type Jet Fuel Spot Price FOB in U.S. Dollars per Gallon=%{x}<br>DOMESTIC=%{y}<extra></extra>",
         "hovertext": [
          "2003 - Quar 1",
          "2003 - Quar 2",
          "2003 - Quar 3",
          "2003 - Quar 4"
         ],
         "legendgroup": "2003",
         "marker": {
          "color": "#ab63fa",
          "symbol": "circle"
         },
         "mode": "markers",
         "name": "2003",
         "orientation": "v",
         "showlegend": true,
         "type": "scatter",
         "x": [
          0.9381129032258063,
          0.7356666666666667,
          0.7806562499999999,
          0.8430819672131146
         ],
         "xaxis": "x",
         "y": [
          -1085012,
          606461,
          -642496,
          -348536
         ],
         "yaxis": "y"
        },
        {
         "hovertemplate": "<b>%{hovertext}</b><br><br>Year=2004<br>U.S. Gulf Coast Kerosene-Type Jet Fuel Spot Price FOB in U.S. Dollars per Gallon=%{x}<br>DOMESTIC=%{y}<extra></extra>",
         "hovertext": [
          "2004 - Quar 1",
          "2004 - Quar 2",
          "2004 - Quar 3",
          "2004 - Quar 4"
         ],
         "legendgroup": "2004",
         "marker": {
          "color": "#FFA15A",
          "symbol": "circle"
         },
         "mode": "markers",
         "name": "2004",
         "orientation": "v",
         "showlegend": true,
         "type": "scatter",
         "x": [
          0.957483870967742,
          1.0351451612903229,
          1.2505624999999998,
          1.3615409836065573
         ],
         "xaxis": "x",
         "y": [
          -1622122,
          -2018851,
          -1702368,
          -4562813
         ],
         "yaxis": "y"
        },
        {
         "hovertemplate": "<b>%{hovertext}</b><br><br>Year=2005<br>U.S. Gulf Coast Kerosene-Type Jet Fuel Spot Price FOB in U.S. Dollars per Gallon=%{x}<br>DOMESTIC=%{y}<extra></extra>",
         "hovertext": [
          "2005 - Quar 1",
          "2005 - Quar 2",
          "2005 - Quar 3",
          "2005 - Quar 4"
         ],
         "legendgroup": "2005",
         "marker": {
          "color": "#19d3f3",
          "symbol": "circle"
         },
         "mode": "markers",
         "name": "2005",
         "orientation": "v",
         "showlegend": true,
         "type": "scatter",
         "x": [
          1.4216290322580643,
          1.5669218749999998,
          1.9299206349206348,
          1.9452580645161295
         ],
         "xaxis": "x",
         "y": [
          -2956735,
          -1511275,
          -2231293,
          -13048233
         ],
         "yaxis": "y"
        },
        {
         "hovertemplate": "<b>%{hovertext}</b><br><br>Year=2006<br>U.S. Gulf Coast Kerosene-Type Jet Fuel Spot Price FOB in U.S. Dollars per Gallon=%{x}<br>DOMESTIC=%{y}<extra></extra>",
         "hovertext": [
          "2006 - Quar 1",
          "2006 - Quar 2",
          "2006 - Quar 3",
          "2006 - Quar 4"
         ],
         "legendgroup": "2006",
         "marker": {
          "color": "#FF6692",
          "symbol": "circle"
         },
         "mode": "markers",
         "name": "2006",
         "orientation": "v",
         "showlegend": true,
         "type": "scatter",
         "x": [
          1.8188064516129023,
          2.0750793650793655,
          2.0356451612903226,
          1.7600967741935485
         ],
         "xaxis": "x",
         "y": [
          12049285,
          -642693,
          -592826,
          -1770107
         ],
         "yaxis": "y"
        },
        {
         "hovertemplate": "<b>%{hovertext}</b><br><br>Year=2007<br>U.S. Gulf Coast Kerosene-Type Jet Fuel Spot Price FOB in U.S. Dollars per Gallon=%{x}<br>DOMESTIC=%{y}<extra></extra>",
         "hovertext": [
          "2007 - Quar 1",
          "2007 - Quar 2",
          "2007 - Quar 3",
          "2007 - Quar 4"
         ],
         "legendgroup": "2007",
         "marker": {
          "color": "#B6E880",
          "symbol": "circle"
         },
         "mode": "markers",
         "name": "2007",
         "orientation": "v",
         "showlegend": true,
         "type": "scatter",
         "x": [
          1.7488709677419356,
          2.060190476190477,
          2.1611562500000003,
          2.5468888888888883
         ],
         "xaxis": "x",
         "y": [
          -488478,
          3403274,
          626687,
          -545608
         ],
         "yaxis": "y"
        },
        {
         "hovertemplate": "<b>%{hovertext}</b><br><br>Year=2008<br>U.S. Gulf Coast Kerosene-Type Jet Fuel Spot Price FOB in U.S. Dollars per Gallon=%{x}<br>DOMESTIC=%{y}<extra></extra>",
         "hovertext": [
          "2008 - Quar 1",
          "2008 - Quar 2",
          "2008 - Quar 3",
          "2008 - Quar 4"
         ],
         "legendgroup": "2008",
         "marker": {
          "color": "#FF97FF",
          "symbol": "circle"
         },
         "mode": "markers",
         "name": "2008",
         "orientation": "v",
         "showlegend": true,
         "type": "scatter",
         "x": [
          2.8197580645161286,
          3.6707968750000006,
          3.4991874999999997,
          1.846047619047619
         ],
         "xaxis": "x",
         "y": [
          -9777777,
          -2254820,
          -2633833,
          -3507540
         ],
         "yaxis": "y"
        },
        {
         "hovertemplate": "<b>%{hovertext}</b><br><br>Year=2009<br>U.S. Gulf Coast Kerosene-Type Jet Fuel Spot Price FOB in U.S. Dollars per Gallon=%{x}<br>DOMESTIC=%{y}<extra></extra>",
         "hovertext": [
          "2009 - Quar 1",
          "2009 - Quar 2",
          "2009 - Quar 3",
          "2009 - Quar 4"
         ],
         "legendgroup": "2009",
         "marker": {
          "color": "#FECB52",
          "symbol": "circle"
         },
         "mode": "markers",
         "name": "2009",
         "orientation": "v",
         "showlegend": true,
         "type": "scatter",
         "x": [
          1.3313548387096779,
          1.5662222222222222,
          1.7808281250000002,
          1.9716190476190472
         ],
         "xaxis": "x",
         "y": [
          -1516128,
          -344471,
          -144230,
          -247244
         ],
         "yaxis": "y"
        },
        {
         "hovertemplate": "<b>%{hovertext}</b><br><br>Year=2010<br>U.S. Gulf Coast Kerosene-Type Jet Fuel Spot Price FOB in U.S. Dollars per Gallon=%{x}<br>DOMESTIC=%{y}<extra></extra>",
         "hovertext": [
          "2010 - Quar 1",
          "2010 - Quar 2",
          "2010 - Quar 3",
          "2010 - Quar 4"
         ],
         "legendgroup": "2010",
         "marker": {
          "color": "#636efa",
          "symbol": "circle"
         },
         "mode": "markers",
         "name": "2010",
         "orientation": "v",
         "showlegend": true,
         "type": "scatter",
         "x": [
          2.0597540983606555,
          2.1158412698412694,
          2.0778437500000004,
          2.34436507936508
         ],
         "xaxis": "x",
         "y": [
          -704121,
          657279,
          1178343,
          44633
         ],
         "yaxis": "y"
        },
        {
         "hovertemplate": "<b>%{hovertext}</b><br><br>Year=2011<br>U.S. Gulf Coast Kerosene-Type Jet Fuel Spot Price FOB in U.S. Dollars per Gallon=%{x}<br>DOMESTIC=%{y}<extra></extra>",
         "hovertext": [
          "2011 - Quar 1",
          "2011 - Quar 2",
          "2011 - Quar 3",
          "2011 - Quar 4"
         ],
         "legendgroup": "2011",
         "marker": {
          "color": "#EF553B",
          "symbol": "circle"
         },
         "mode": "markers",
         "name": "2011",
         "orientation": "v",
         "showlegend": true,
         "type": "scatter",
         "x": [
          2.879460317460316,
          3.1255079365079363,
          3.027587301587301,
          2.9614920634920643
         ],
         "xaxis": "x",
         "y": [
          -455423,
          1152067,
          761688,
          -17775
         ],
         "yaxis": "y"
        },
        {
         "hovertemplate": "<b>%{hovertext}</b><br><br>Year=2012<br>U.S. Gulf Coast Kerosene-Type Jet Fuel Spot Price FOB in U.S. Dollars per Gallon=%{x}<br>DOMESTIC=%{y}<extra></extra>",
         "hovertext": [
          "2012 - Quar 1",
          "2012 - Quar 2",
          "2012 - Quar 3",
          "2012 - Quar 4"
         ],
         "legendgroup": "2012",
         "marker": {
          "color": "#00cc96",
          "symbol": "circle"
         },
         "mode": "markers",
         "name": "2012",
         "orientation": "v",
         "showlegend": true,
         "type": "scatter",
         "x": [
          3.185709677419354,
          2.955301587301587,
          3.0798593749999994,
          3.0055714285714283
         ],
         "xaxis": "x",
         "y": [
          -213497,
          1513613,
          564041,
          348019
         ],
         "yaxis": "y"
        },
        {
         "hovertemplate": "<b>%{hovertext}</b><br><br>Year=2013<br>U.S. Gulf Coast Kerosene-Type Jet Fuel Spot Price FOB in U.S. Dollars per Gallon=%{x}<br>DOMESTIC=%{y}<extra></extra>",
         "hovertext": [
          "2013 - Quar 1",
          "2013 - Quar 2",
          "2013 - Quar 3",
          "2013 - Quar 4"
         ],
         "legendgroup": "2013",
         "marker": {
          "color": "#ab63fa",
          "symbol": "circle"
         },
         "mode": "markers",
         "name": "2013",
         "orientation": "v",
         "showlegend": true,
         "type": "scatter",
         "x": [
          3.089098360655737,
          2.763171874999999,
          2.9445625,
          2.892603174603175
         ],
         "xaxis": "x",
         "y": [
          227114,
          2147207,
          2384395,
          5763127
         ],
         "yaxis": "y"
        },
        {
         "hovertemplate": "<b>%{hovertext}</b><br><br>Year=2014<br>U.S. Gulf Coast Kerosene-Type Jet Fuel Spot Price FOB in U.S. Dollars per Gallon=%{x}<br>DOMESTIC=%{y}<extra></extra>",
         "hovertext": [
          "2014 - Quar 1",
          "2014 - Quar 2",
          "2014 - Quar 3",
          "2014 - Quar 4"
         ],
         "legendgroup": "2014",
         "marker": {
          "color": "#FFA15A",
          "symbol": "circle"
         },
         "mode": "markers",
         "name": "2014",
         "orientation": "v",
         "showlegend": true,
         "type": "scatter",
         "x": [
          2.922258064516129,
          2.880412698412699,
          2.797145161290325,
          2.17108064516129
         ],
         "xaxis": "x",
         "y": [
          926580,
          3467788,
          2828108,
          1422907
         ],
         "yaxis": "y"
        },
        {
         "hovertemplate": "<b>%{hovertext}</b><br><br>Year=2015<br>U.S. Gulf Coast Kerosene-Type Jet Fuel Spot Price FOB in U.S. Dollars per Gallon=%{x}<br>DOMESTIC=%{y}<extra></extra>",
         "hovertext": [
          "2015 - Quar 1",
          "2015 - Quar 2",
          "2015 - Quar 3",
          "2015 - Quar 4"
         ],
         "legendgroup": "2015",
         "marker": {
          "color": "#19d3f3",
          "symbol": "circle"
         },
         "mode": "markers",
         "name": "2015",
         "orientation": "v",
         "showlegend": true,
         "type": "scatter",
         "x": [
          1.627338709677419,
          1.760904761904762,
          1.4384843750000007,
          1.256984848484849
         ],
         "xaxis": "x",
         "y": [
          3055504,
          4678728,
          6494263,
          6983407
         ],
         "yaxis": "y"
        },
        {
         "hovertemplate": "<b>%{hovertext}</b><br><br>Year=2016<br>U.S. Gulf Coast Kerosene-Type Jet Fuel Spot Price FOB in U.S. Dollars per Gallon=%{x}<br>DOMESTIC=%{y}<extra></extra>",
         "hovertext": [
          "2016 - Quar 1",
          "2016 - Quar 2",
          "2016 - Quar 3",
          "2016 - Quar 4"
         ],
         "legendgroup": "2016",
         "marker": {
          "color": "#FF6692",
          "symbol": "circle"
         },
         "mode": "markers",
         "name": "2016",
         "orientation": "v",
         "showlegend": true,
         "type": "scatter",
         "x": [
          0.9934032258064517,
          1.2832499999999998,
          1.2918593749999998,
          1.4329687499999997
         ],
         "xaxis": "x",
         "y": [
          2856167,
          4229096,
          3407438,
          2861738
         ],
         "yaxis": "y"
        },
        {
         "hovertemplate": "<b>%{hovertext}</b><br><br>Year=2017<br>U.S. Gulf Coast Kerosene-Type Jet Fuel Spot Price FOB in U.S. Dollars per Gallon=%{x}<br>DOMESTIC=%{y}<extra></extra>",
         "hovertext": [
          "2017 - Quar 1",
          "2017 - Quar 2",
          "2017 - Quar 3",
          "2017 - Quar 4"
         ],
         "legendgroup": "2017",
         "marker": {
          "color": "#B6E880",
          "symbol": "circle"
         },
         "mode": "markers",
         "name": "2017",
         "orientation": "v",
         "showlegend": true,
         "type": "scatter",
         "x": [
          1.4978225806451615,
          1.3990317460317463,
          1.5921451612903226,
          1.7428125
         ],
         "xaxis": "x",
         "y": [
          2647152,
          5046701,
          3575301,
          5752299
         ],
         "yaxis": "y"
        },
        {
         "hovertemplate": "<b>%{hovertext}</b><br><br>Year=2018<br>U.S. Gulf Coast Kerosene-Type Jet Fuel Spot Price FOB in U.S. Dollars per Gallon=%{x}<br>DOMESTIC=%{y}<extra></extra>",
         "hovertext": [
          "2018 - Quar 1",
          "2018 - Quar 2",
          "2018 - Quar 3",
          "2018 - Quar 4"
         ],
         "legendgroup": "2018",
         "marker": {
          "color": "#FF97FF",
          "symbol": "circle"
         },
         "mode": "markers",
         "name": "2018",
         "orientation": "v",
         "showlegend": true,
         "type": "scatter",
         "x": [
          1.8861129032258066,
          2.0887076923076924,
          2.1354687499999994,
          1.9878500000000001
         ],
         "xaxis": "x",
         "y": [
          3157073,
          3745492,
          3481675,
          3554690
         ],
         "yaxis": "y"
        },
        {
         "hovertemplate": "<b>%{hovertext}</b><br><br>Year=2019<br>U.S. Gulf Coast Kerosene-Type Jet Fuel Spot Price FOB in U.S. Dollars per Gallon=%{x}<br>DOMESTIC=%{y}<extra></extra>",
         "hovertext": [
          "2019 - Quar 1",
          "2019 - Quar 2",
          "2019 - Quar 3",
          "2019 - Quar 4"
         ],
         "legendgroup": "2019",
         "marker": {
          "color": "#FECB52",
          "symbol": "circle"
         },
         "mode": "markers",
         "name": "2019",
         "orientation": "v",
         "showlegend": true,
         "type": "scatter",
         "x": [
          1.86878125,
          1.9259692307692309,
          1.8622121212121208,
          1.8597692307692306
         ],
         "xaxis": "x",
         "y": [
          2738558,
          4894087,
          4363439,
          3738977
         ],
         "yaxis": "y"
        },
        {
         "hovertemplate": "<b>%{hovertext}</b><br><br>Year=2020<br>U.S. Gulf Coast Kerosene-Type Jet Fuel Spot Price FOB in U.S. Dollars per Gallon=%{x}<br>DOMESTIC=%{y}<extra></extra>",
         "hovertext": [
          "2020 - Quar 1"
         ],
         "legendgroup": "2020",
         "marker": {
          "color": "#636efa",
          "symbol": "circle"
         },
         "mode": "markers",
         "name": "2020",
         "orientation": "v",
         "showlegend": true,
         "type": "scatter",
         "x": [
          1.3972923076923074
         ],
         "xaxis": "x",
         "y": [
          -3226298
         ],
         "yaxis": "y"
        }
       ],
       "layout": {
        "legend": {
         "title": {
          "text": "Year"
         },
         "tracegroupgap": 0
        },
        "template": {
         "data": {
          "bar": [
           {
            "error_x": {
             "color": "#2a3f5f"
            },
            "error_y": {
             "color": "#2a3f5f"
            },
            "marker": {
             "line": {
              "color": "#E5ECF6",
              "width": 0.5
             }
            },
            "type": "bar"
           }
          ],
          "barpolar": [
           {
            "marker": {
             "line": {
              "color": "#E5ECF6",
              "width": 0.5
             }
            },
            "type": "barpolar"
           }
          ],
          "carpet": [
           {
            "aaxis": {
             "endlinecolor": "#2a3f5f",
             "gridcolor": "white",
             "linecolor": "white",
             "minorgridcolor": "white",
             "startlinecolor": "#2a3f5f"
            },
            "baxis": {
             "endlinecolor": "#2a3f5f",
             "gridcolor": "white",
             "linecolor": "white",
             "minorgridcolor": "white",
             "startlinecolor": "#2a3f5f"
            },
            "type": "carpet"
           }
          ],
          "choropleth": [
           {
            "colorbar": {
             "outlinewidth": 0,
             "ticks": ""
            },
            "type": "choropleth"
           }
          ],
          "contour": [
           {
            "colorbar": {
             "outlinewidth": 0,
             "ticks": ""
            },
            "colorscale": [
             [
              0,
              "#0d0887"
             ],
             [
              0.1111111111111111,
              "#46039f"
             ],
             [
              0.2222222222222222,
              "#7201a8"
             ],
             [
              0.3333333333333333,
              "#9c179e"
             ],
             [
              0.4444444444444444,
              "#bd3786"
             ],
             [
              0.5555555555555556,
              "#d8576b"
             ],
             [
              0.6666666666666666,
              "#ed7953"
             ],
             [
              0.7777777777777778,
              "#fb9f3a"
             ],
             [
              0.8888888888888888,
              "#fdca26"
             ],
             [
              1,
              "#f0f921"
             ]
            ],
            "type": "contour"
           }
          ],
          "contourcarpet": [
           {
            "colorbar": {
             "outlinewidth": 0,
             "ticks": ""
            },
            "type": "contourcarpet"
           }
          ],
          "heatmap": [
           {
            "colorbar": {
             "outlinewidth": 0,
             "ticks": ""
            },
            "colorscale": [
             [
              0,
              "#0d0887"
             ],
             [
              0.1111111111111111,
              "#46039f"
             ],
             [
              0.2222222222222222,
              "#7201a8"
             ],
             [
              0.3333333333333333,
              "#9c179e"
             ],
             [
              0.4444444444444444,
              "#bd3786"
             ],
             [
              0.5555555555555556,
              "#d8576b"
             ],
             [
              0.6666666666666666,
              "#ed7953"
             ],
             [
              0.7777777777777778,
              "#fb9f3a"
             ],
             [
              0.8888888888888888,
              "#fdca26"
             ],
             [
              1,
              "#f0f921"
             ]
            ],
            "type": "heatmap"
           }
          ],
          "heatmapgl": [
           {
            "colorbar": {
             "outlinewidth": 0,
             "ticks": ""
            },
            "colorscale": [
             [
              0,
              "#0d0887"
             ],
             [
              0.1111111111111111,
              "#46039f"
             ],
             [
              0.2222222222222222,
              "#7201a8"
             ],
             [
              0.3333333333333333,
              "#9c179e"
             ],
             [
              0.4444444444444444,
              "#bd3786"
             ],
             [
              0.5555555555555556,
              "#d8576b"
             ],
             [
              0.6666666666666666,
              "#ed7953"
             ],
             [
              0.7777777777777778,
              "#fb9f3a"
             ],
             [
              0.8888888888888888,
              "#fdca26"
             ],
             [
              1,
              "#f0f921"
             ]
            ],
            "type": "heatmapgl"
           }
          ],
          "histogram": [
           {
            "marker": {
             "colorbar": {
              "outlinewidth": 0,
              "ticks": ""
             }
            },
            "type": "histogram"
           }
          ],
          "histogram2d": [
           {
            "colorbar": {
             "outlinewidth": 0,
             "ticks": ""
            },
            "colorscale": [
             [
              0,
              "#0d0887"
             ],
             [
              0.1111111111111111,
              "#46039f"
             ],
             [
              0.2222222222222222,
              "#7201a8"
             ],
             [
              0.3333333333333333,
              "#9c179e"
             ],
             [
              0.4444444444444444,
              "#bd3786"
             ],
             [
              0.5555555555555556,
              "#d8576b"
             ],
             [
              0.6666666666666666,
              "#ed7953"
             ],
             [
              0.7777777777777778,
              "#fb9f3a"
             ],
             [
              0.8888888888888888,
              "#fdca26"
             ],
             [
              1,
              "#f0f921"
             ]
            ],
            "type": "histogram2d"
           }
          ],
          "histogram2dcontour": [
           {
            "colorbar": {
             "outlinewidth": 0,
             "ticks": ""
            },
            "colorscale": [
             [
              0,
              "#0d0887"
             ],
             [
              0.1111111111111111,
              "#46039f"
             ],
             [
              0.2222222222222222,
              "#7201a8"
             ],
             [
              0.3333333333333333,
              "#9c179e"
             ],
             [
              0.4444444444444444,
              "#bd3786"
             ],
             [
              0.5555555555555556,
              "#d8576b"
             ],
             [
              0.6666666666666666,
              "#ed7953"
             ],
             [
              0.7777777777777778,
              "#fb9f3a"
             ],
             [
              0.8888888888888888,
              "#fdca26"
             ],
             [
              1,
              "#f0f921"
             ]
            ],
            "type": "histogram2dcontour"
           }
          ],
          "mesh3d": [
           {
            "colorbar": {
             "outlinewidth": 0,
             "ticks": ""
            },
            "type": "mesh3d"
           }
          ],
          "parcoords": [
           {
            "line": {
             "colorbar": {
              "outlinewidth": 0,
              "ticks": ""
             }
            },
            "type": "parcoords"
           }
          ],
          "pie": [
           {
            "automargin": true,
            "type": "pie"
           }
          ],
          "scatter": [
           {
            "marker": {
             "colorbar": {
              "outlinewidth": 0,
              "ticks": ""
             }
            },
            "type": "scatter"
           }
          ],
          "scatter3d": [
           {
            "line": {
             "colorbar": {
              "outlinewidth": 0,
              "ticks": ""
             }
            },
            "marker": {
             "colorbar": {
              "outlinewidth": 0,
              "ticks": ""
             }
            },
            "type": "scatter3d"
           }
          ],
          "scattercarpet": [
           {
            "marker": {
             "colorbar": {
              "outlinewidth": 0,
              "ticks": ""
             }
            },
            "type": "scattercarpet"
           }
          ],
          "scattergeo": [
           {
            "marker": {
             "colorbar": {
              "outlinewidth": 0,
              "ticks": ""
             }
            },
            "type": "scattergeo"
           }
          ],
          "scattergl": [
           {
            "marker": {
             "colorbar": {
              "outlinewidth": 0,
              "ticks": ""
             }
            },
            "type": "scattergl"
           }
          ],
          "scattermapbox": [
           {
            "marker": {
             "colorbar": {
              "outlinewidth": 0,
              "ticks": ""
             }
            },
            "type": "scattermapbox"
           }
          ],
          "scatterpolar": [
           {
            "marker": {
             "colorbar": {
              "outlinewidth": 0,
              "ticks": ""
             }
            },
            "type": "scatterpolar"
           }
          ],
          "scatterpolargl": [
           {
            "marker": {
             "colorbar": {
              "outlinewidth": 0,
              "ticks": ""
             }
            },
            "type": "scatterpolargl"
           }
          ],
          "scatterternary": [
           {
            "marker": {
             "colorbar": {
              "outlinewidth": 0,
              "ticks": ""
             }
            },
            "type": "scatterternary"
           }
          ],
          "surface": [
           {
            "colorbar": {
             "outlinewidth": 0,
             "ticks": ""
            },
            "colorscale": [
             [
              0,
              "#0d0887"
             ],
             [
              0.1111111111111111,
              "#46039f"
             ],
             [
              0.2222222222222222,
              "#7201a8"
             ],
             [
              0.3333333333333333,
              "#9c179e"
             ],
             [
              0.4444444444444444,
              "#bd3786"
             ],
             [
              0.5555555555555556,
              "#d8576b"
             ],
             [
              0.6666666666666666,
              "#ed7953"
             ],
             [
              0.7777777777777778,
              "#fb9f3a"
             ],
             [
              0.8888888888888888,
              "#fdca26"
             ],
             [
              1,
              "#f0f921"
             ]
            ],
            "type": "surface"
           }
          ],
          "table": [
           {
            "cells": {
             "fill": {
              "color": "#EBF0F8"
             },
             "line": {
              "color": "white"
             }
            },
            "header": {
             "fill": {
              "color": "#C8D4E3"
             },
             "line": {
              "color": "white"
             }
            },
            "type": "table"
           }
          ]
         },
         "layout": {
          "annotationdefaults": {
           "arrowcolor": "#2a3f5f",
           "arrowhead": 0,
           "arrowwidth": 1
          },
          "coloraxis": {
           "colorbar": {
            "outlinewidth": 0,
            "ticks": ""
           }
          },
          "colorscale": {
           "diverging": [
            [
             0,
             "#8e0152"
            ],
            [
             0.1,
             "#c51b7d"
            ],
            [
             0.2,
             "#de77ae"
            ],
            [
             0.3,
             "#f1b6da"
            ],
            [
             0.4,
             "#fde0ef"
            ],
            [
             0.5,
             "#f7f7f7"
            ],
            [
             0.6,
             "#e6f5d0"
            ],
            [
             0.7,
             "#b8e186"
            ],
            [
             0.8,
             "#7fbc41"
            ],
            [
             0.9,
             "#4d9221"
            ],
            [
             1,
             "#276419"
            ]
           ],
           "sequential": [
            [
             0,
             "#0d0887"
            ],
            [
             0.1111111111111111,
             "#46039f"
            ],
            [
             0.2222222222222222,
             "#7201a8"
            ],
            [
             0.3333333333333333,
             "#9c179e"
            ],
            [
             0.4444444444444444,
             "#bd3786"
            ],
            [
             0.5555555555555556,
             "#d8576b"
            ],
            [
             0.6666666666666666,
             "#ed7953"
            ],
            [
             0.7777777777777778,
             "#fb9f3a"
            ],
            [
             0.8888888888888888,
             "#fdca26"
            ],
            [
             1,
             "#f0f921"
            ]
           ],
           "sequentialminus": [
            [
             0,
             "#0d0887"
            ],
            [
             0.1111111111111111,
             "#46039f"
            ],
            [
             0.2222222222222222,
             "#7201a8"
            ],
            [
             0.3333333333333333,
             "#9c179e"
            ],
            [
             0.4444444444444444,
             "#bd3786"
            ],
            [
             0.5555555555555556,
             "#d8576b"
            ],
            [
             0.6666666666666666,
             "#ed7953"
            ],
            [
             0.7777777777777778,
             "#fb9f3a"
            ],
            [
             0.8888888888888888,
             "#fdca26"
            ],
            [
             1,
             "#f0f921"
            ]
           ]
          },
          "colorway": [
           "#636efa",
           "#EF553B",
           "#00cc96",
           "#ab63fa",
           "#FFA15A",
           "#19d3f3",
           "#FF6692",
           "#B6E880",
           "#FF97FF",
           "#FECB52"
          ],
          "font": {
           "color": "#2a3f5f"
          },
          "geo": {
           "bgcolor": "white",
           "lakecolor": "white",
           "landcolor": "#E5ECF6",
           "showlakes": true,
           "showland": true,
           "subunitcolor": "white"
          },
          "hoverlabel": {
           "align": "left"
          },
          "hovermode": "closest",
          "mapbox": {
           "style": "light"
          },
          "paper_bgcolor": "white",
          "plot_bgcolor": "#E5ECF6",
          "polar": {
           "angularaxis": {
            "gridcolor": "white",
            "linecolor": "white",
            "ticks": ""
           },
           "bgcolor": "#E5ECF6",
           "radialaxis": {
            "gridcolor": "white",
            "linecolor": "white",
            "ticks": ""
           }
          },
          "scene": {
           "xaxis": {
            "backgroundcolor": "#E5ECF6",
            "gridcolor": "white",
            "gridwidth": 2,
            "linecolor": "white",
            "showbackground": true,
            "ticks": "",
            "zerolinecolor": "white"
           },
           "yaxis": {
            "backgroundcolor": "#E5ECF6",
            "gridcolor": "white",
            "gridwidth": 2,
            "linecolor": "white",
            "showbackground": true,
            "ticks": "",
            "zerolinecolor": "white"
           },
           "zaxis": {
            "backgroundcolor": "#E5ECF6",
            "gridcolor": "white",
            "gridwidth": 2,
            "linecolor": "white",
            "showbackground": true,
            "ticks": "",
            "zerolinecolor": "white"
           }
          },
          "shapedefaults": {
           "line": {
            "color": "#2a3f5f"
           }
          },
          "ternary": {
           "aaxis": {
            "gridcolor": "white",
            "linecolor": "white",
            "ticks": ""
           },
           "baxis": {
            "gridcolor": "white",
            "linecolor": "white",
            "ticks": ""
           },
           "bgcolor": "#E5ECF6",
           "caxis": {
            "gridcolor": "white",
            "linecolor": "white",
            "ticks": ""
           }
          },
          "title": {
           "x": 0.05
          },
          "xaxis": {
           "automargin": true,
           "gridcolor": "white",
           "linecolor": "white",
           "ticks": "",
           "title": {
            "standoff": 15
           },
           "zerolinecolor": "white",
           "zerolinewidth": 2
          },
          "yaxis": {
           "automargin": true,
           "gridcolor": "white",
           "linecolor": "white",
           "ticks": "",
           "title": {
            "standoff": 15
           },
           "zerolinecolor": "white",
           "zerolinewidth": 2
          }
         }
        },
        "title": {
         "text": "Kerosene-Type Jet Fuel Price ($USD/Gallon) vs. Quarterly Net Income for All U.S. Carriers DOMESTIC"
        },
        "xaxis": {
         "anchor": "y",
         "domain": [
          0,
          1
         ],
         "title": {
          "text": "U.S. Gulf Coast Kerosene-Type Jet Fuel Spot Price FOB in U.S. Dollars per Gallon"
         }
        },
        "yaxis": {
         "anchor": "x",
         "domain": [
          0,
          1
         ],
         "title": {
          "text": "DOMESTIC"
         }
        }
       }
      },
      "text/html": [
       "<div>\n",
       "        \n",
       "        \n",
       "            <div id=\"b6e8d0e6-e5e6-45e1-9a5b-f49e6d7fc3b4\" class=\"plotly-graph-div\" style=\"height:525px; width:100%;\"></div>\n",
       "            <script type=\"text/javascript\">\n",
       "                require([\"plotly\"], function(Plotly) {\n",
       "                    window.PLOTLYENV=window.PLOTLYENV || {};\n",
       "                    \n",
       "                if (document.getElementById(\"b6e8d0e6-e5e6-45e1-9a5b-f49e6d7fc3b4\")) {\n",
       "                    Plotly.newPlot(\n",
       "                        'b6e8d0e6-e5e6-45e1-9a5b-f49e6d7fc3b4',\n",
       "                        [{\"hovertemplate\": \"<b>%{hovertext}</b><br><br>Year=2000<br>U.S. Gulf Coast Kerosene-Type Jet Fuel Spot Price FOB in U.S. Dollars per Gallon=%{x}<br>DOMESTIC=%{y}<extra></extra>\", \"hovertext\": [\"2000 - Quar 1\", \"2000 - Quar 2\", \"2000 - Quar 3\", \"2000 - Quar 4\"], \"legendgroup\": \"2000\", \"marker\": {\"color\": \"#636efa\", \"symbol\": \"circle\"}, \"mode\": \"markers\", \"name\": \"2000\", \"orientation\": \"v\", \"showlegend\": true, \"type\": \"scatter\", \"x\": [0.7767580645161289, 0.7569682539682541, 0.9059354838709676, 0.9598730158730159], \"xaxis\": \"x\", \"y\": [139162.0, 1570500.0, 548903.0, -267068.0], \"yaxis\": \"y\"}, {\"hovertemplate\": \"<b>%{hovertext}</b><br><br>Year=2001<br>U.S. Gulf Coast Kerosene-Type Jet Fuel Spot Price FOB in U.S. Dollars per Gallon=%{x}<br>DOMESTIC=%{y}<extra></extra>\", \"hovertext\": [\"2001 - Quar 1\", \"2001 - Quar 2\", \"2001 - Quar 3\", \"2001 - Quar 4\"], \"legendgroup\": \"2001\", \"marker\": {\"color\": \"#EF553B\", \"symbol\": \"circle\"}, \"mode\": \"markers\", \"name\": \"2001\", \"orientation\": \"v\", \"showlegend\": true, \"type\": \"scatter\", \"x\": [0.8098548387096771, 0.7865238095238093, 0.73725, 0.5623114754098361], \"xaxis\": \"x\", \"y\": [-822384.0, -774977.0, -2232653.0, -3404841.0], \"yaxis\": \"y\"}, {\"hovertemplate\": \"<b>%{hovertext}</b><br><br>Year=2002<br>U.S. Gulf Coast Kerosene-Type Jet Fuel Spot Price FOB in U.S. Dollars per Gallon=%{x}<br>DOMESTIC=%{y}<extra></extra>\", \"hovertext\": [\"2002 - Quar 1\", \"2002 - Quar 2\", \"2002 - Quar 3\", \"2002 - Quar 4\"], \"legendgroup\": \"2002\", \"marker\": {\"color\": \"#00cc96\", \"symbol\": \"circle\"}, \"mode\": \"markers\", \"name\": \"2002\", \"orientation\": \"v\", \"showlegend\": true, \"type\": \"scatter\", \"x\": [0.5731311475409836, 0.6628906249999998, 0.7393015873015875, 0.771032258064516], \"xaxis\": \"x\", \"y\": [-2621918.0, -1298581.0, -2351704.0, -3056898.0], \"yaxis\": \"y\"}, {\"hovertemplate\": \"<b>%{hovertext}</b><br><br>Year=2003<br>U.S. Gulf Coast Kerosene-Type Jet Fuel Spot Price FOB in U.S. Dollars per Gallon=%{x}<br>DOMESTIC=%{y}<extra></extra>\", \"hovertext\": [\"2003 - Quar 1\", \"2003 - Quar 2\", \"2003 - Quar 3\", \"2003 - Quar 4\"], \"legendgroup\": \"2003\", \"marker\": {\"color\": \"#ab63fa\", \"symbol\": \"circle\"}, \"mode\": \"markers\", \"name\": \"2003\", \"orientation\": \"v\", \"showlegend\": true, \"type\": \"scatter\", \"x\": [0.9381129032258063, 0.7356666666666667, 0.7806562499999999, 0.8430819672131146], \"xaxis\": \"x\", \"y\": [-1085012.0, 606461.0, -642496.0, -348536.0], \"yaxis\": \"y\"}, {\"hovertemplate\": \"<b>%{hovertext}</b><br><br>Year=2004<br>U.S. Gulf Coast Kerosene-Type Jet Fuel Spot Price FOB in U.S. Dollars per Gallon=%{x}<br>DOMESTIC=%{y}<extra></extra>\", \"hovertext\": [\"2004 - Quar 1\", \"2004 - Quar 2\", \"2004 - Quar 3\", \"2004 - Quar 4\"], \"legendgroup\": \"2004\", \"marker\": {\"color\": \"#FFA15A\", \"symbol\": \"circle\"}, \"mode\": \"markers\", \"name\": \"2004\", \"orientation\": \"v\", \"showlegend\": true, \"type\": \"scatter\", \"x\": [0.957483870967742, 1.0351451612903229, 1.2505624999999998, 1.3615409836065573], \"xaxis\": \"x\", \"y\": [-1622122.0, -2018851.0, -1702368.0, -4562813.0], \"yaxis\": \"y\"}, {\"hovertemplate\": \"<b>%{hovertext}</b><br><br>Year=2005<br>U.S. Gulf Coast Kerosene-Type Jet Fuel Spot Price FOB in U.S. Dollars per Gallon=%{x}<br>DOMESTIC=%{y}<extra></extra>\", \"hovertext\": [\"2005 - Quar 1\", \"2005 - Quar 2\", \"2005 - Quar 3\", \"2005 - Quar 4\"], \"legendgroup\": \"2005\", \"marker\": {\"color\": \"#19d3f3\", \"symbol\": \"circle\"}, \"mode\": \"markers\", \"name\": \"2005\", \"orientation\": \"v\", \"showlegend\": true, \"type\": \"scatter\", \"x\": [1.4216290322580643, 1.5669218749999998, 1.9299206349206348, 1.9452580645161295], \"xaxis\": \"x\", \"y\": [-2956735.0, -1511275.0, -2231293.0, -13048233.0], \"yaxis\": \"y\"}, {\"hovertemplate\": \"<b>%{hovertext}</b><br><br>Year=2006<br>U.S. Gulf Coast Kerosene-Type Jet Fuel Spot Price FOB in U.S. Dollars per Gallon=%{x}<br>DOMESTIC=%{y}<extra></extra>\", \"hovertext\": [\"2006 - Quar 1\", \"2006 - Quar 2\", \"2006 - Quar 3\", \"2006 - Quar 4\"], \"legendgroup\": \"2006\", \"marker\": {\"color\": \"#FF6692\", \"symbol\": \"circle\"}, \"mode\": \"markers\", \"name\": \"2006\", \"orientation\": \"v\", \"showlegend\": true, \"type\": \"scatter\", \"x\": [1.8188064516129023, 2.0750793650793655, 2.0356451612903226, 1.7600967741935485], \"xaxis\": \"x\", \"y\": [12049285.0, -642693.0, -592826.0, -1770107.0], \"yaxis\": \"y\"}, {\"hovertemplate\": \"<b>%{hovertext}</b><br><br>Year=2007<br>U.S. Gulf Coast Kerosene-Type Jet Fuel Spot Price FOB in U.S. Dollars per Gallon=%{x}<br>DOMESTIC=%{y}<extra></extra>\", \"hovertext\": [\"2007 - Quar 1\", \"2007 - Quar 2\", \"2007 - Quar 3\", \"2007 - Quar 4\"], \"legendgroup\": \"2007\", \"marker\": {\"color\": \"#B6E880\", \"symbol\": \"circle\"}, \"mode\": \"markers\", \"name\": \"2007\", \"orientation\": \"v\", \"showlegend\": true, \"type\": \"scatter\", \"x\": [1.7488709677419356, 2.060190476190477, 2.1611562500000003, 2.5468888888888883], \"xaxis\": \"x\", \"y\": [-488478.0, 3403274.0, 626687.0, -545608.0], \"yaxis\": \"y\"}, {\"hovertemplate\": \"<b>%{hovertext}</b><br><br>Year=2008<br>U.S. Gulf Coast Kerosene-Type Jet Fuel Spot Price FOB in U.S. Dollars per Gallon=%{x}<br>DOMESTIC=%{y}<extra></extra>\", \"hovertext\": [\"2008 - Quar 1\", \"2008 - Quar 2\", \"2008 - Quar 3\", \"2008 - Quar 4\"], \"legendgroup\": \"2008\", \"marker\": {\"color\": \"#FF97FF\", \"symbol\": \"circle\"}, \"mode\": \"markers\", \"name\": \"2008\", \"orientation\": \"v\", \"showlegend\": true, \"type\": \"scatter\", \"x\": [2.8197580645161286, 3.6707968750000006, 3.4991874999999997, 1.846047619047619], \"xaxis\": \"x\", \"y\": [-9777777.0, -2254820.0, -2633833.0, -3507540.0], \"yaxis\": \"y\"}, {\"hovertemplate\": \"<b>%{hovertext}</b><br><br>Year=2009<br>U.S. Gulf Coast Kerosene-Type Jet Fuel Spot Price FOB in U.S. Dollars per Gallon=%{x}<br>DOMESTIC=%{y}<extra></extra>\", \"hovertext\": [\"2009 - Quar 1\", \"2009 - Quar 2\", \"2009 - Quar 3\", \"2009 - Quar 4\"], \"legendgroup\": \"2009\", \"marker\": {\"color\": \"#FECB52\", \"symbol\": \"circle\"}, \"mode\": \"markers\", \"name\": \"2009\", \"orientation\": \"v\", \"showlegend\": true, \"type\": \"scatter\", \"x\": [1.3313548387096779, 1.5662222222222222, 1.7808281250000002, 1.9716190476190472], \"xaxis\": \"x\", \"y\": [-1516128.0, -344471.0, -144230.0, -247244.0], \"yaxis\": \"y\"}, {\"hovertemplate\": \"<b>%{hovertext}</b><br><br>Year=2010<br>U.S. Gulf Coast Kerosene-Type Jet Fuel Spot Price FOB in U.S. Dollars per Gallon=%{x}<br>DOMESTIC=%{y}<extra></extra>\", \"hovertext\": [\"2010 - Quar 1\", \"2010 - Quar 2\", \"2010 - Quar 3\", \"2010 - Quar 4\"], \"legendgroup\": \"2010\", \"marker\": {\"color\": \"#636efa\", \"symbol\": \"circle\"}, \"mode\": \"markers\", \"name\": \"2010\", \"orientation\": \"v\", \"showlegend\": true, \"type\": \"scatter\", \"x\": [2.0597540983606555, 2.1158412698412694, 2.0778437500000004, 2.34436507936508], \"xaxis\": \"x\", \"y\": [-704121.0, 657279.0, 1178343.0, 44633.0], \"yaxis\": \"y\"}, {\"hovertemplate\": \"<b>%{hovertext}</b><br><br>Year=2011<br>U.S. Gulf Coast Kerosene-Type Jet Fuel Spot Price FOB in U.S. Dollars per Gallon=%{x}<br>DOMESTIC=%{y}<extra></extra>\", \"hovertext\": [\"2011 - Quar 1\", \"2011 - Quar 2\", \"2011 - Quar 3\", \"2011 - Quar 4\"], \"legendgroup\": \"2011\", \"marker\": {\"color\": \"#EF553B\", \"symbol\": \"circle\"}, \"mode\": \"markers\", \"name\": \"2011\", \"orientation\": \"v\", \"showlegend\": true, \"type\": \"scatter\", \"x\": [2.879460317460316, 3.1255079365079363, 3.027587301587301, 2.9614920634920643], \"xaxis\": \"x\", \"y\": [-455423.0, 1152067.0, 761688.0, -17775.0], \"yaxis\": \"y\"}, {\"hovertemplate\": \"<b>%{hovertext}</b><br><br>Year=2012<br>U.S. Gulf Coast Kerosene-Type Jet Fuel Spot Price FOB in U.S. Dollars per Gallon=%{x}<br>DOMESTIC=%{y}<extra></extra>\", \"hovertext\": [\"2012 - Quar 1\", \"2012 - Quar 2\", \"2012 - Quar 3\", \"2012 - Quar 4\"], \"legendgroup\": \"2012\", \"marker\": {\"color\": \"#00cc96\", \"symbol\": \"circle\"}, \"mode\": \"markers\", \"name\": \"2012\", \"orientation\": \"v\", \"showlegend\": true, \"type\": \"scatter\", \"x\": [3.185709677419354, 2.955301587301587, 3.0798593749999994, 3.0055714285714283], \"xaxis\": \"x\", \"y\": [-213497.0, 1513613.0, 564041.0, 348019.0], \"yaxis\": \"y\"}, {\"hovertemplate\": \"<b>%{hovertext}</b><br><br>Year=2013<br>U.S. Gulf Coast Kerosene-Type Jet Fuel Spot Price FOB in U.S. Dollars per Gallon=%{x}<br>DOMESTIC=%{y}<extra></extra>\", \"hovertext\": [\"2013 - Quar 1\", \"2013 - Quar 2\", \"2013 - Quar 3\", \"2013 - Quar 4\"], \"legendgroup\": \"2013\", \"marker\": {\"color\": \"#ab63fa\", \"symbol\": \"circle\"}, \"mode\": \"markers\", \"name\": \"2013\", \"orientation\": \"v\", \"showlegend\": true, \"type\": \"scatter\", \"x\": [3.089098360655737, 2.763171874999999, 2.9445625, 2.892603174603175], \"xaxis\": \"x\", \"y\": [227114.0, 2147207.0, 2384395.0, 5763127.0], \"yaxis\": \"y\"}, {\"hovertemplate\": \"<b>%{hovertext}</b><br><br>Year=2014<br>U.S. Gulf Coast Kerosene-Type Jet Fuel Spot Price FOB in U.S. Dollars per Gallon=%{x}<br>DOMESTIC=%{y}<extra></extra>\", \"hovertext\": [\"2014 - Quar 1\", \"2014 - Quar 2\", \"2014 - Quar 3\", \"2014 - Quar 4\"], \"legendgroup\": \"2014\", \"marker\": {\"color\": \"#FFA15A\", \"symbol\": \"circle\"}, \"mode\": \"markers\", \"name\": \"2014\", \"orientation\": \"v\", \"showlegend\": true, \"type\": \"scatter\", \"x\": [2.922258064516129, 2.880412698412699, 2.797145161290325, 2.17108064516129], \"xaxis\": \"x\", \"y\": [926580.0, 3467788.0, 2828108.0, 1422907.0], \"yaxis\": \"y\"}, {\"hovertemplate\": \"<b>%{hovertext}</b><br><br>Year=2015<br>U.S. Gulf Coast Kerosene-Type Jet Fuel Spot Price FOB in U.S. Dollars per Gallon=%{x}<br>DOMESTIC=%{y}<extra></extra>\", \"hovertext\": [\"2015 - Quar 1\", \"2015 - Quar 2\", \"2015 - Quar 3\", \"2015 - Quar 4\"], \"legendgroup\": \"2015\", \"marker\": {\"color\": \"#19d3f3\", \"symbol\": \"circle\"}, \"mode\": \"markers\", \"name\": \"2015\", \"orientation\": \"v\", \"showlegend\": true, \"type\": \"scatter\", \"x\": [1.627338709677419, 1.760904761904762, 1.4384843750000007, 1.256984848484849], \"xaxis\": \"x\", \"y\": [3055504.0, 4678728.0, 6494263.0, 6983407.0], \"yaxis\": \"y\"}, {\"hovertemplate\": \"<b>%{hovertext}</b><br><br>Year=2016<br>U.S. Gulf Coast Kerosene-Type Jet Fuel Spot Price FOB in U.S. Dollars per Gallon=%{x}<br>DOMESTIC=%{y}<extra></extra>\", \"hovertext\": [\"2016 - Quar 1\", \"2016 - Quar 2\", \"2016 - Quar 3\", \"2016 - Quar 4\"], \"legendgroup\": \"2016\", \"marker\": {\"color\": \"#FF6692\", \"symbol\": \"circle\"}, \"mode\": \"markers\", \"name\": \"2016\", \"orientation\": \"v\", \"showlegend\": true, \"type\": \"scatter\", \"x\": [0.9934032258064517, 1.2832499999999998, 1.2918593749999998, 1.4329687499999997], \"xaxis\": \"x\", \"y\": [2856167.0, 4229096.0, 3407438.0, 2861738.0], \"yaxis\": \"y\"}, {\"hovertemplate\": \"<b>%{hovertext}</b><br><br>Year=2017<br>U.S. Gulf Coast Kerosene-Type Jet Fuel Spot Price FOB in U.S. Dollars per Gallon=%{x}<br>DOMESTIC=%{y}<extra></extra>\", \"hovertext\": [\"2017 - Quar 1\", \"2017 - Quar 2\", \"2017 - Quar 3\", \"2017 - Quar 4\"], \"legendgroup\": \"2017\", \"marker\": {\"color\": \"#B6E880\", \"symbol\": \"circle\"}, \"mode\": \"markers\", \"name\": \"2017\", \"orientation\": \"v\", \"showlegend\": true, \"type\": \"scatter\", \"x\": [1.4978225806451615, 1.3990317460317463, 1.5921451612903226, 1.7428125], \"xaxis\": \"x\", \"y\": [2647152.0, 5046701.0, 3575301.0, 5752299.0], \"yaxis\": \"y\"}, {\"hovertemplate\": \"<b>%{hovertext}</b><br><br>Year=2018<br>U.S. Gulf Coast Kerosene-Type Jet Fuel Spot Price FOB in U.S. Dollars per Gallon=%{x}<br>DOMESTIC=%{y}<extra></extra>\", \"hovertext\": [\"2018 - Quar 1\", \"2018 - Quar 2\", \"2018 - Quar 3\", \"2018 - Quar 4\"], \"legendgroup\": \"2018\", \"marker\": {\"color\": \"#FF97FF\", \"symbol\": \"circle\"}, \"mode\": \"markers\", \"name\": \"2018\", \"orientation\": \"v\", \"showlegend\": true, \"type\": \"scatter\", \"x\": [1.8861129032258066, 2.0887076923076924, 2.1354687499999994, 1.9878500000000001], \"xaxis\": \"x\", \"y\": [3157073.0, 3745492.0, 3481675.0, 3554690.0], \"yaxis\": \"y\"}, {\"hovertemplate\": \"<b>%{hovertext}</b><br><br>Year=2019<br>U.S. Gulf Coast Kerosene-Type Jet Fuel Spot Price FOB in U.S. Dollars per Gallon=%{x}<br>DOMESTIC=%{y}<extra></extra>\", \"hovertext\": [\"2019 - Quar 1\", \"2019 - Quar 2\", \"2019 - Quar 3\", \"2019 - Quar 4\"], \"legendgroup\": \"2019\", \"marker\": {\"color\": \"#FECB52\", \"symbol\": \"circle\"}, \"mode\": \"markers\", \"name\": \"2019\", \"orientation\": \"v\", \"showlegend\": true, \"type\": \"scatter\", \"x\": [1.86878125, 1.9259692307692309, 1.8622121212121208, 1.8597692307692306], \"xaxis\": \"x\", \"y\": [2738558.0, 4894087.0, 4363439.0, 3738977.0], \"yaxis\": \"y\"}, {\"hovertemplate\": \"<b>%{hovertext}</b><br><br>Year=2020<br>U.S. Gulf Coast Kerosene-Type Jet Fuel Spot Price FOB in U.S. Dollars per Gallon=%{x}<br>DOMESTIC=%{y}<extra></extra>\", \"hovertext\": [\"2020 - Quar 1\"], \"legendgroup\": \"2020\", \"marker\": {\"color\": \"#636efa\", \"symbol\": \"circle\"}, \"mode\": \"markers\", \"name\": \"2020\", \"orientation\": \"v\", \"showlegend\": true, \"type\": \"scatter\", \"x\": [1.3972923076923074], \"xaxis\": \"x\", \"y\": [-3226298.0], \"yaxis\": \"y\"}],\n",
       "                        {\"legend\": {\"title\": {\"text\": \"Year\"}, \"tracegroupgap\": 0}, \"template\": {\"data\": {\"bar\": [{\"error_x\": {\"color\": \"#2a3f5f\"}, \"error_y\": {\"color\": \"#2a3f5f\"}, \"marker\": {\"line\": {\"color\": \"#E5ECF6\", \"width\": 0.5}}, \"type\": \"bar\"}], \"barpolar\": [{\"marker\": {\"line\": {\"color\": \"#E5ECF6\", \"width\": 0.5}}, \"type\": \"barpolar\"}], \"carpet\": [{\"aaxis\": {\"endlinecolor\": \"#2a3f5f\", \"gridcolor\": \"white\", \"linecolor\": \"white\", \"minorgridcolor\": \"white\", \"startlinecolor\": \"#2a3f5f\"}, \"baxis\": {\"endlinecolor\": \"#2a3f5f\", \"gridcolor\": \"white\", \"linecolor\": \"white\", \"minorgridcolor\": \"white\", \"startlinecolor\": \"#2a3f5f\"}, \"type\": \"carpet\"}], \"choropleth\": [{\"colorbar\": {\"outlinewidth\": 0, \"ticks\": \"\"}, \"type\": \"choropleth\"}], \"contour\": [{\"colorbar\": {\"outlinewidth\": 0, \"ticks\": \"\"}, \"colorscale\": [[0.0, \"#0d0887\"], [0.1111111111111111, \"#46039f\"], [0.2222222222222222, \"#7201a8\"], [0.3333333333333333, \"#9c179e\"], [0.4444444444444444, \"#bd3786\"], [0.5555555555555556, \"#d8576b\"], [0.6666666666666666, \"#ed7953\"], [0.7777777777777778, \"#fb9f3a\"], [0.8888888888888888, \"#fdca26\"], [1.0, \"#f0f921\"]], \"type\": \"contour\"}], \"contourcarpet\": [{\"colorbar\": {\"outlinewidth\": 0, \"ticks\": \"\"}, \"type\": \"contourcarpet\"}], \"heatmap\": [{\"colorbar\": {\"outlinewidth\": 0, \"ticks\": \"\"}, \"colorscale\": [[0.0, \"#0d0887\"], [0.1111111111111111, \"#46039f\"], [0.2222222222222222, \"#7201a8\"], [0.3333333333333333, \"#9c179e\"], [0.4444444444444444, \"#bd3786\"], [0.5555555555555556, \"#d8576b\"], [0.6666666666666666, \"#ed7953\"], [0.7777777777777778, \"#fb9f3a\"], [0.8888888888888888, \"#fdca26\"], [1.0, \"#f0f921\"]], \"type\": \"heatmap\"}], \"heatmapgl\": [{\"colorbar\": {\"outlinewidth\": 0, \"ticks\": \"\"}, \"colorscale\": [[0.0, \"#0d0887\"], [0.1111111111111111, \"#46039f\"], [0.2222222222222222, \"#7201a8\"], [0.3333333333333333, \"#9c179e\"], [0.4444444444444444, \"#bd3786\"], [0.5555555555555556, \"#d8576b\"], [0.6666666666666666, \"#ed7953\"], [0.7777777777777778, \"#fb9f3a\"], [0.8888888888888888, \"#fdca26\"], [1.0, \"#f0f921\"]], \"type\": \"heatmapgl\"}], \"histogram\": [{\"marker\": {\"colorbar\": {\"outlinewidth\": 0, \"ticks\": \"\"}}, \"type\": \"histogram\"}], \"histogram2d\": [{\"colorbar\": {\"outlinewidth\": 0, \"ticks\": \"\"}, \"colorscale\": [[0.0, \"#0d0887\"], [0.1111111111111111, \"#46039f\"], [0.2222222222222222, \"#7201a8\"], [0.3333333333333333, \"#9c179e\"], [0.4444444444444444, \"#bd3786\"], [0.5555555555555556, \"#d8576b\"], [0.6666666666666666, \"#ed7953\"], [0.7777777777777778, \"#fb9f3a\"], [0.8888888888888888, \"#fdca26\"], [1.0, \"#f0f921\"]], \"type\": \"histogram2d\"}], \"histogram2dcontour\": [{\"colorbar\": {\"outlinewidth\": 0, \"ticks\": \"\"}, \"colorscale\": [[0.0, \"#0d0887\"], [0.1111111111111111, \"#46039f\"], [0.2222222222222222, \"#7201a8\"], [0.3333333333333333, \"#9c179e\"], [0.4444444444444444, \"#bd3786\"], [0.5555555555555556, \"#d8576b\"], [0.6666666666666666, \"#ed7953\"], [0.7777777777777778, \"#fb9f3a\"], [0.8888888888888888, \"#fdca26\"], [1.0, \"#f0f921\"]], \"type\": \"histogram2dcontour\"}], \"mesh3d\": [{\"colorbar\": {\"outlinewidth\": 0, \"ticks\": \"\"}, \"type\": \"mesh3d\"}], \"parcoords\": [{\"line\": {\"colorbar\": {\"outlinewidth\": 0, \"ticks\": \"\"}}, \"type\": \"parcoords\"}], \"pie\": [{\"automargin\": true, \"type\": \"pie\"}], \"scatter\": [{\"marker\": {\"colorbar\": {\"outlinewidth\": 0, \"ticks\": \"\"}}, \"type\": \"scatter\"}], \"scatter3d\": [{\"line\": {\"colorbar\": {\"outlinewidth\": 0, \"ticks\": \"\"}}, \"marker\": {\"colorbar\": {\"outlinewidth\": 0, \"ticks\": \"\"}}, \"type\": \"scatter3d\"}], \"scattercarpet\": [{\"marker\": {\"colorbar\": {\"outlinewidth\": 0, \"ticks\": \"\"}}, \"type\": \"scattercarpet\"}], \"scattergeo\": [{\"marker\": {\"colorbar\": {\"outlinewidth\": 0, \"ticks\": \"\"}}, \"type\": \"scattergeo\"}], \"scattergl\": [{\"marker\": {\"colorbar\": {\"outlinewidth\": 0, \"ticks\": \"\"}}, \"type\": \"scattergl\"}], \"scattermapbox\": [{\"marker\": {\"colorbar\": {\"outlinewidth\": 0, \"ticks\": \"\"}}, \"type\": \"scattermapbox\"}], \"scatterpolar\": [{\"marker\": {\"colorbar\": {\"outlinewidth\": 0, \"ticks\": \"\"}}, \"type\": \"scatterpolar\"}], \"scatterpolargl\": [{\"marker\": {\"colorbar\": {\"outlinewidth\": 0, \"ticks\": \"\"}}, \"type\": \"scatterpolargl\"}], \"scatterternary\": [{\"marker\": {\"colorbar\": {\"outlinewidth\": 0, \"ticks\": \"\"}}, \"type\": \"scatterternary\"}], \"surface\": [{\"colorbar\": {\"outlinewidth\": 0, \"ticks\": \"\"}, \"colorscale\": [[0.0, \"#0d0887\"], [0.1111111111111111, \"#46039f\"], [0.2222222222222222, \"#7201a8\"], [0.3333333333333333, \"#9c179e\"], [0.4444444444444444, \"#bd3786\"], [0.5555555555555556, \"#d8576b\"], [0.6666666666666666, \"#ed7953\"], [0.7777777777777778, \"#fb9f3a\"], [0.8888888888888888, \"#fdca26\"], [1.0, \"#f0f921\"]], \"type\": \"surface\"}], \"table\": [{\"cells\": {\"fill\": {\"color\": \"#EBF0F8\"}, \"line\": {\"color\": \"white\"}}, \"header\": {\"fill\": {\"color\": \"#C8D4E3\"}, \"line\": {\"color\": \"white\"}}, \"type\": \"table\"}]}, \"layout\": {\"annotationdefaults\": {\"arrowcolor\": \"#2a3f5f\", \"arrowhead\": 0, \"arrowwidth\": 1}, \"coloraxis\": {\"colorbar\": {\"outlinewidth\": 0, \"ticks\": \"\"}}, \"colorscale\": {\"diverging\": [[0, \"#8e0152\"], [0.1, \"#c51b7d\"], [0.2, \"#de77ae\"], [0.3, \"#f1b6da\"], [0.4, \"#fde0ef\"], [0.5, \"#f7f7f7\"], [0.6, \"#e6f5d0\"], [0.7, \"#b8e186\"], [0.8, \"#7fbc41\"], [0.9, \"#4d9221\"], [1, \"#276419\"]], \"sequential\": [[0.0, \"#0d0887\"], [0.1111111111111111, \"#46039f\"], [0.2222222222222222, \"#7201a8\"], [0.3333333333333333, \"#9c179e\"], [0.4444444444444444, \"#bd3786\"], [0.5555555555555556, \"#d8576b\"], [0.6666666666666666, \"#ed7953\"], [0.7777777777777778, \"#fb9f3a\"], [0.8888888888888888, \"#fdca26\"], [1.0, \"#f0f921\"]], \"sequentialminus\": [[0.0, \"#0d0887\"], [0.1111111111111111, \"#46039f\"], [0.2222222222222222, \"#7201a8\"], [0.3333333333333333, \"#9c179e\"], [0.4444444444444444, \"#bd3786\"], [0.5555555555555556, \"#d8576b\"], [0.6666666666666666, \"#ed7953\"], [0.7777777777777778, \"#fb9f3a\"], [0.8888888888888888, \"#fdca26\"], [1.0, \"#f0f921\"]]}, \"colorway\": [\"#636efa\", \"#EF553B\", \"#00cc96\", \"#ab63fa\", \"#FFA15A\", \"#19d3f3\", \"#FF6692\", \"#B6E880\", \"#FF97FF\", \"#FECB52\"], \"font\": {\"color\": \"#2a3f5f\"}, \"geo\": {\"bgcolor\": \"white\", \"lakecolor\": \"white\", \"landcolor\": \"#E5ECF6\", \"showlakes\": true, \"showland\": true, \"subunitcolor\": \"white\"}, \"hoverlabel\": {\"align\": \"left\"}, \"hovermode\": \"closest\", \"mapbox\": {\"style\": \"light\"}, \"paper_bgcolor\": \"white\", \"plot_bgcolor\": \"#E5ECF6\", \"polar\": {\"angularaxis\": {\"gridcolor\": \"white\", \"linecolor\": \"white\", \"ticks\": \"\"}, \"bgcolor\": \"#E5ECF6\", \"radialaxis\": {\"gridcolor\": \"white\", \"linecolor\": \"white\", \"ticks\": \"\"}}, \"scene\": {\"xaxis\": {\"backgroundcolor\": \"#E5ECF6\", \"gridcolor\": \"white\", \"gridwidth\": 2, \"linecolor\": \"white\", \"showbackground\": true, \"ticks\": \"\", \"zerolinecolor\": \"white\"}, \"yaxis\": {\"backgroundcolor\": \"#E5ECF6\", \"gridcolor\": \"white\", \"gridwidth\": 2, \"linecolor\": \"white\", \"showbackground\": true, \"ticks\": \"\", \"zerolinecolor\": \"white\"}, \"zaxis\": {\"backgroundcolor\": \"#E5ECF6\", \"gridcolor\": \"white\", \"gridwidth\": 2, \"linecolor\": \"white\", \"showbackground\": true, \"ticks\": \"\", \"zerolinecolor\": \"white\"}}, \"shapedefaults\": {\"line\": {\"color\": \"#2a3f5f\"}}, \"ternary\": {\"aaxis\": {\"gridcolor\": \"white\", \"linecolor\": \"white\", \"ticks\": \"\"}, \"baxis\": {\"gridcolor\": \"white\", \"linecolor\": \"white\", \"ticks\": \"\"}, \"bgcolor\": \"#E5ECF6\", \"caxis\": {\"gridcolor\": \"white\", \"linecolor\": \"white\", \"ticks\": \"\"}}, \"title\": {\"x\": 0.05}, \"xaxis\": {\"automargin\": true, \"gridcolor\": \"white\", \"linecolor\": \"white\", \"ticks\": \"\", \"title\": {\"standoff\": 15}, \"zerolinecolor\": \"white\", \"zerolinewidth\": 2}, \"yaxis\": {\"automargin\": true, \"gridcolor\": \"white\", \"linecolor\": \"white\", \"ticks\": \"\", \"title\": {\"standoff\": 15}, \"zerolinecolor\": \"white\", \"zerolinewidth\": 2}}}, \"title\": {\"text\": \"Kerosene-Type Jet Fuel Price ($USD/Gallon) vs. Quarterly Net Income for All U.S. Carriers DOMESTIC\"}, \"xaxis\": {\"anchor\": \"y\", \"domain\": [0.0, 1.0], \"title\": {\"text\": \"U.S. Gulf Coast Kerosene-Type Jet Fuel Spot Price FOB in U.S. Dollars per Gallon\"}}, \"yaxis\": {\"anchor\": \"x\", \"domain\": [0.0, 1.0], \"title\": {\"text\": \"DOMESTIC\"}}},\n",
       "                        {\"responsive\": true}\n",
       "                    ).then(function(){\n",
       "                            \n",
       "var gd = document.getElementById('b6e8d0e6-e5e6-45e1-9a5b-f49e6d7fc3b4');\n",
       "var x = new MutationObserver(function (mutations, observer) {{\n",
       "        var display = window.getComputedStyle(gd).display;\n",
       "        if (!display || display === 'none') {{\n",
       "            console.log([gd, 'removed!']);\n",
       "            Plotly.purge(gd);\n",
       "            observer.disconnect();\n",
       "        }}\n",
       "}});\n",
       "\n",
       "// Listen for the removal of the full notebook cells\n",
       "var notebookContainer = gd.closest('#notebook-container');\n",
       "if (notebookContainer) {{\n",
       "    x.observe(notebookContainer, {childList: true});\n",
       "}}\n",
       "\n",
       "// Listen for the clearing of the current output cell\n",
       "var outputEl = gd.closest('.output');\n",
       "if (outputEl) {{\n",
       "    x.observe(outputEl, {childList: true});\n",
       "}}\n",
       "\n",
       "                        })\n",
       "                };\n",
       "                });\n",
       "            </script>\n",
       "        </div>"
      ]
     },
     "metadata": {},
     "output_type": "display_data"
    }
   ],
   "source": [
    "#NET INCOMES INTERACTIVE TOTAL:\n",
    "fig2 = px.scatter(income_and_fuel, x='U.S. Gulf Coast Kerosene-Type Jet Fuel Spot Price FOB in U.S. Dollars per Gallon',\n",
    "                 y='DOMESTIC', hover_name='PERIOD', title='Kerosene-Type Jet Fuel Price ($USD/Gallon) vs. Quarterly Net Income for All U.S. Carriers DOMESTIC',\n",
    "                color='Year')\n",
    "fig2.show()"
   ]
  },
  {
   "cell_type": "code",
   "execution_count": 79,
   "metadata": {},
   "outputs": [
    {
     "data": {
      "application/vnd.plotly.v1+json": {
       "config": {
        "plotlyServerURL": "https://plot.ly"
       },
       "data": [
        {
         "hovertemplate": "<b>%{hovertext}</b><br><br>Year=2000<br>U.S. Gulf Coast Kerosene-Type Jet Fuel Spot Price FOB in U.S. Dollars per Gallon=%{x}<br>LATIN AMERICA=%{y}<extra></extra>",
         "hovertext": [
          "2000 - Quar 1",
          "2000 - Quar 2",
          "2000 - Quar 3",
          "2000 - Quar 4"
         ],
         "legendgroup": "2000",
         "marker": {
          "color": "#636efa",
          "symbol": "circle"
         },
         "mode": "markers",
         "name": "2000",
         "orientation": "v",
         "showlegend": true,
         "type": "scatter",
         "x": [
          0.7767580645161289,
          0.7569682539682541,
          0.9059354838709676,
          0.9598730158730159
         ],
         "xaxis": "x",
         "y": [
          58927,
          -86040,
          33056,
          6639
         ],
         "yaxis": "y"
        },
        {
         "hovertemplate": "<b>%{hovertext}</b><br><br>Year=2001<br>U.S. Gulf Coast Kerosene-Type Jet Fuel Spot Price FOB in U.S. Dollars per Gallon=%{x}<br>LATIN AMERICA=%{y}<extra></extra>",
         "hovertext": [
          "2001 - Quar 1",
          "2001 - Quar 2",
          "2001 - Quar 3",
          "2001 - Quar 4"
         ],
         "legendgroup": "2001",
         "marker": {
          "color": "#EF553B",
          "symbol": "circle"
         },
         "mode": "markers",
         "name": "2001",
         "orientation": "v",
         "showlegend": true,
         "type": "scatter",
         "x": [
          0.8098548387096771,
          0.7865238095238093,
          0.73725,
          0.5623114754098361
         ],
         "xaxis": "x",
         "y": [
          76822,
          3683,
          -6375,
          -63631
         ],
         "yaxis": "y"
        },
        {
         "hovertemplate": "<b>%{hovertext}</b><br><br>Year=2002<br>U.S. Gulf Coast Kerosene-Type Jet Fuel Spot Price FOB in U.S. Dollars per Gallon=%{x}<br>LATIN AMERICA=%{y}<extra></extra>",
         "hovertext": [
          "2002 - Quar 1",
          "2002 - Quar 2",
          "2002 - Quar 3",
          "2002 - Quar 4"
         ],
         "legendgroup": "2002",
         "marker": {
          "color": "#00cc96",
          "symbol": "circle"
         },
         "mode": "markers",
         "name": "2002",
         "orientation": "v",
         "showlegend": true,
         "type": "scatter",
         "x": [
          0.5731311475409836,
          0.6628906249999998,
          0.7393015873015875,
          0.771032258064516
         ],
         "xaxis": "x",
         "y": [
          -176148,
          -44110,
          -67435,
          -149090
         ],
         "yaxis": "y"
        },
        {
         "hovertemplate": "<b>%{hovertext}</b><br><br>Year=2003<br>U.S. Gulf Coast Kerosene-Type Jet Fuel Spot Price FOB in U.S. Dollars per Gallon=%{x}<br>LATIN AMERICA=%{y}<extra></extra>",
         "hovertext": [
          "2003 - Quar 1",
          "2003 - Quar 2",
          "2003 - Quar 3",
          "2003 - Quar 4"
         ],
         "legendgroup": "2003",
         "marker": {
          "color": "#ab63fa",
          "symbol": "circle"
         },
         "mode": "markers",
         "name": "2003",
         "orientation": "v",
         "showlegend": true,
         "type": "scatter",
         "x": [
          0.9381129032258063,
          0.7356666666666667,
          0.7806562499999999,
          0.8430819672131146
         ],
         "xaxis": "x",
         "y": [
          -51869,
          100285,
          129566,
          107826
         ],
         "yaxis": "y"
        },
        {
         "hovertemplate": "<b>%{hovertext}</b><br><br>Year=2004<br>U.S. Gulf Coast Kerosene-Type Jet Fuel Spot Price FOB in U.S. Dollars per Gallon=%{x}<br>LATIN AMERICA=%{y}<extra></extra>",
         "hovertext": [
          "2004 - Quar 1",
          "2004 - Quar 2",
          "2004 - Quar 3",
          "2004 - Quar 4"
         ],
         "legendgroup": "2004",
         "marker": {
          "color": "#FFA15A",
          "symbol": "circle"
         },
         "mode": "markers",
         "name": "2004",
         "orientation": "v",
         "showlegend": true,
         "type": "scatter",
         "x": [
          0.957483870967742,
          1.0351451612903229,
          1.2505624999999998,
          1.3615409836065573
         ],
         "xaxis": "x",
         "y": [
          201821,
          42467,
          38782,
          30756
         ],
         "yaxis": "y"
        },
        {
         "hovertemplate": "<b>%{hovertext}</b><br><br>Year=2005<br>U.S. Gulf Coast Kerosene-Type Jet Fuel Spot Price FOB in U.S. Dollars per Gallon=%{x}<br>LATIN AMERICA=%{y}<extra></extra>",
         "hovertext": [
          "2005 - Quar 1",
          "2005 - Quar 2",
          "2005 - Quar 3",
          "2005 - Quar 4"
         ],
         "legendgroup": "2005",
         "marker": {
          "color": "#19d3f3",
          "symbol": "circle"
         },
         "mode": "markers",
         "name": "2005",
         "orientation": "v",
         "showlegend": true,
         "type": "scatter",
         "x": [
          1.4216290322580643,
          1.5669218749999998,
          1.9299206349206348,
          1.9452580645161295
         ],
         "xaxis": "x",
         "y": [
          95583,
          30014,
          -43150,
          -802628
         ],
         "yaxis": "y"
        },
        {
         "hovertemplate": "<b>%{hovertext}</b><br><br>Year=2006<br>U.S. Gulf Coast Kerosene-Type Jet Fuel Spot Price FOB in U.S. Dollars per Gallon=%{x}<br>LATIN AMERICA=%{y}<extra></extra>",
         "hovertext": [
          "2006 - Quar 1",
          "2006 - Quar 2",
          "2006 - Quar 3",
          "2006 - Quar 4"
         ],
         "legendgroup": "2006",
         "marker": {
          "color": "#FF6692",
          "symbol": "circle"
         },
         "mode": "markers",
         "name": "2006",
         "orientation": "v",
         "showlegend": true,
         "type": "scatter",
         "x": [
          1.8188064516129023,
          2.0750793650793655,
          2.0356451612903226,
          1.7600967741935485
         ],
         "xaxis": "x",
         "y": [
          1110214,
          42078,
          190769,
          121001
         ],
         "yaxis": "y"
        },
        {
         "hovertemplate": "<b>%{hovertext}</b><br><br>Year=2007<br>U.S. Gulf Coast Kerosene-Type Jet Fuel Spot Price FOB in U.S. Dollars per Gallon=%{x}<br>LATIN AMERICA=%{y}<extra></extra>",
         "hovertext": [
          "2007 - Quar 1",
          "2007 - Quar 2",
          "2007 - Quar 3",
          "2007 - Quar 4"
         ],
         "legendgroup": "2007",
         "marker": {
          "color": "#B6E880",
          "symbol": "circle"
         },
         "mode": "markers",
         "name": "2007",
         "orientation": "v",
         "showlegend": true,
         "type": "scatter",
         "x": [
          1.7488709677419356,
          2.060190476190477,
          2.1611562500000003,
          2.5468888888888883
         ],
         "xaxis": "x",
         "y": [
          303476,
          368016,
          242447,
          221388
         ],
         "yaxis": "y"
        },
        {
         "hovertemplate": "<b>%{hovertext}</b><br><br>Year=2008<br>U.S. Gulf Coast Kerosene-Type Jet Fuel Spot Price FOB in U.S. Dollars per Gallon=%{x}<br>LATIN AMERICA=%{y}<extra></extra>",
         "hovertext": [
          "2008 - Quar 1",
          "2008 - Quar 2",
          "2008 - Quar 3",
          "2008 - Quar 4"
         ],
         "legendgroup": "2008",
         "marker": {
          "color": "#FF97FF",
          "symbol": "circle"
         },
         "mode": "markers",
         "name": "2008",
         "orientation": "v",
         "showlegend": true,
         "type": "scatter",
         "x": [
          2.8197580645161286,
          3.6707968750000006,
          3.4991874999999997,
          1.846047619047619
         ],
         "xaxis": "x",
         "y": [
          -335226,
          -221837,
          171764,
          -29950
         ],
         "yaxis": "y"
        },
        {
         "hovertemplate": "<b>%{hovertext}</b><br><br>Year=2009<br>U.S. Gulf Coast Kerosene-Type Jet Fuel Spot Price FOB in U.S. Dollars per Gallon=%{x}<br>LATIN AMERICA=%{y}<extra></extra>",
         "hovertext": [
          "2009 - Quar 1",
          "2009 - Quar 2",
          "2009 - Quar 3",
          "2009 - Quar 4"
         ],
         "legendgroup": "2009",
         "marker": {
          "color": "#FECB52",
          "symbol": "circle"
         },
         "mode": "markers",
         "name": "2009",
         "orientation": "v",
         "showlegend": true,
         "type": "scatter",
         "x": [
          1.3313548387096779,
          1.5662222222222222,
          1.7808281250000002,
          1.9716190476190472
         ],
         "xaxis": "x",
         "y": [
          136650,
          -11264,
          86376,
          192905
         ],
         "yaxis": "y"
        },
        {
         "hovertemplate": "<b>%{hovertext}</b><br><br>Year=2010<br>U.S. Gulf Coast Kerosene-Type Jet Fuel Spot Price FOB in U.S. Dollars per Gallon=%{x}<br>LATIN AMERICA=%{y}<extra></extra>",
         "hovertext": [
          "2010 - Quar 1",
          "2010 - Quar 2",
          "2010 - Quar 3",
          "2010 - Quar 4"
         ],
         "legendgroup": "2010",
         "marker": {
          "color": "#636efa",
          "symbol": "circle"
         },
         "mode": "markers",
         "name": "2010",
         "orientation": "v",
         "showlegend": true,
         "type": "scatter",
         "x": [
          2.0597540983606555,
          2.1158412698412694,
          2.0778437500000004,
          2.34436507936508
         ],
         "xaxis": "x",
         "y": [
          40958,
          95963,
          262817,
          235472
         ],
         "yaxis": "y"
        },
        {
         "hovertemplate": "<b>%{hovertext}</b><br><br>Year=2011<br>U.S. Gulf Coast Kerosene-Type Jet Fuel Spot Price FOB in U.S. Dollars per Gallon=%{x}<br>LATIN AMERICA=%{y}<extra></extra>",
         "hovertext": [
          "2011 - Quar 1",
          "2011 - Quar 2",
          "2011 - Quar 3",
          "2011 - Quar 4"
         ],
         "legendgroup": "2011",
         "marker": {
          "color": "#EF553B",
          "symbol": "circle"
         },
         "mode": "markers",
         "name": "2011",
         "orientation": "v",
         "showlegend": true,
         "type": "scatter",
         "x": [
          2.879460317460316,
          3.1255079365079363,
          3.027587301587301,
          2.9614920634920643
         ],
         "xaxis": "x",
         "y": [
          177773,
          151816,
          420131,
          162680
         ],
         "yaxis": "y"
        },
        {
         "hovertemplate": "<b>%{hovertext}</b><br><br>Year=2012<br>U.S. Gulf Coast Kerosene-Type Jet Fuel Spot Price FOB in U.S. Dollars per Gallon=%{x}<br>LATIN AMERICA=%{y}<extra></extra>",
         "hovertext": [
          "2012 - Quar 1",
          "2012 - Quar 2",
          "2012 - Quar 3",
          "2012 - Quar 4"
         ],
         "legendgroup": "2012",
         "marker": {
          "color": "#00cc96",
          "symbol": "circle"
         },
         "mode": "markers",
         "name": "2012",
         "orientation": "v",
         "showlegend": true,
         "type": "scatter",
         "x": [
          3.185709677419354,
          2.955301587301587,
          3.0798593749999994,
          3.0055714285714283
         ],
         "xaxis": "x",
         "y": [
          -357006,
          -104616,
          187415,
          169237
         ],
         "yaxis": "y"
        },
        {
         "hovertemplate": "<b>%{hovertext}</b><br><br>Year=2013<br>U.S. Gulf Coast Kerosene-Type Jet Fuel Spot Price FOB in U.S. Dollars per Gallon=%{x}<br>LATIN AMERICA=%{y}<extra></extra>",
         "hovertext": [
          "2013 - Quar 1",
          "2013 - Quar 2",
          "2013 - Quar 3",
          "2013 - Quar 4"
         ],
         "legendgroup": "2013",
         "marker": {
          "color": "#ab63fa",
          "symbol": "circle"
         },
         "mode": "markers",
         "name": "2013",
         "orientation": "v",
         "showlegend": true,
         "type": "scatter",
         "x": [
          3.089098360655737,
          2.763171874999999,
          2.9445625,
          2.892603174603175
         ],
         "xaxis": "x",
         "y": [
          290326,
          -59773,
          125408,
          156472
         ],
         "yaxis": "y"
        },
        {
         "hovertemplate": "<b>%{hovertext}</b><br><br>Year=2014<br>U.S. Gulf Coast Kerosene-Type Jet Fuel Spot Price FOB in U.S. Dollars per Gallon=%{x}<br>LATIN AMERICA=%{y}<extra></extra>",
         "hovertext": [
          "2014 - Quar 1",
          "2014 - Quar 2",
          "2014 - Quar 3",
          "2014 - Quar 4"
         ],
         "legendgroup": "2014",
         "marker": {
          "color": "#FFA15A",
          "symbol": "circle"
         },
         "mode": "markers",
         "name": "2014",
         "orientation": "v",
         "showlegend": true,
         "type": "scatter",
         "x": [
          2.922258064516129,
          2.880412698412699,
          2.797145161290325,
          2.17108064516129
         ],
         "xaxis": "x",
         "y": [
          22305,
          -54932,
          -75577,
          -131575
         ],
         "yaxis": "y"
        },
        {
         "hovertemplate": "<b>%{hovertext}</b><br><br>Year=2015<br>U.S. Gulf Coast Kerosene-Type Jet Fuel Spot Price FOB in U.S. Dollars per Gallon=%{x}<br>LATIN AMERICA=%{y}<extra></extra>",
         "hovertext": [
          "2015 - Quar 1",
          "2015 - Quar 2",
          "2015 - Quar 3",
          "2015 - Quar 4"
         ],
         "legendgroup": "2015",
         "marker": {
          "color": "#19d3f3",
          "symbol": "circle"
         },
         "mode": "markers",
         "name": "2015",
         "orientation": "v",
         "showlegend": true,
         "type": "scatter",
         "x": [
          1.627338709677419,
          1.760904761904762,
          1.4384843750000007,
          1.256984848484849
         ],
         "xaxis": "x",
         "y": [
          213705,
          158598,
          604630,
          25921
         ],
         "yaxis": "y"
        },
        {
         "hovertemplate": "<b>%{hovertext}</b><br><br>Year=2016<br>U.S. Gulf Coast Kerosene-Type Jet Fuel Spot Price FOB in U.S. Dollars per Gallon=%{x}<br>LATIN AMERICA=%{y}<extra></extra>",
         "hovertext": [
          "2016 - Quar 1",
          "2016 - Quar 2",
          "2016 - Quar 3",
          "2016 - Quar 4"
         ],
         "legendgroup": "2016",
         "marker": {
          "color": "#FF6692",
          "symbol": "circle"
         },
         "mode": "markers",
         "name": "2016",
         "orientation": "v",
         "showlegend": true,
         "type": "scatter",
         "x": [
          0.9934032258064517,
          1.2832499999999998,
          1.2918593749999998,
          1.4329687499999997
         ],
         "xaxis": "x",
         "y": [
          362407,
          279168,
          266508,
          141921
         ],
         "yaxis": "y"
        },
        {
         "hovertemplate": "<b>%{hovertext}</b><br><br>Year=2017<br>U.S. Gulf Coast Kerosene-Type Jet Fuel Spot Price FOB in U.S. Dollars per Gallon=%{x}<br>LATIN AMERICA=%{y}<extra></extra>",
         "hovertext": [
          "2017 - Quar 1",
          "2017 - Quar 2",
          "2017 - Quar 3",
          "2017 - Quar 4"
         ],
         "legendgroup": "2017",
         "marker": {
          "color": "#B6E880",
          "symbol": "circle"
         },
         "mode": "markers",
         "name": "2017",
         "orientation": "v",
         "showlegend": true,
         "type": "scatter",
         "x": [
          1.4978225806451615,
          1.3990317460317463,
          1.5921451612903226,
          1.7428125
         ],
         "xaxis": "x",
         "y": [
          61452,
          152157,
          380782,
          156080
         ],
         "yaxis": "y"
        },
        {
         "hovertemplate": "<b>%{hovertext}</b><br><br>Year=2018<br>U.S. Gulf Coast Kerosene-Type Jet Fuel Spot Price FOB in U.S. Dollars per Gallon=%{x}<br>LATIN AMERICA=%{y}<extra></extra>",
         "hovertext": [
          "2018 - Quar 1",
          "2018 - Quar 2",
          "2018 - Quar 3",
          "2018 - Quar 4"
         ],
         "legendgroup": "2018",
         "marker": {
          "color": "#FF97FF",
          "symbol": "circle"
         },
         "mode": "markers",
         "name": "2018",
         "orientation": "v",
         "showlegend": true,
         "type": "scatter",
         "x": [
          1.8861129032258066,
          2.0887076923076924,
          2.1354687499999994,
          1.9878500000000001
         ],
         "xaxis": "x",
         "y": [
          341526,
          150583,
          336129,
          205160
         ],
         "yaxis": "y"
        },
        {
         "hovertemplate": "<b>%{hovertext}</b><br><br>Year=2019<br>U.S. Gulf Coast Kerosene-Type Jet Fuel Spot Price FOB in U.S. Dollars per Gallon=%{x}<br>LATIN AMERICA=%{y}<extra></extra>",
         "hovertext": [
          "2019 - Quar 1",
          "2019 - Quar 2",
          "2019 - Quar 3",
          "2019 - Quar 4"
         ],
         "legendgroup": "2019",
         "marker": {
          "color": "#FECB52",
          "symbol": "circle"
         },
         "mode": "markers",
         "name": "2019",
         "orientation": "v",
         "showlegend": true,
         "type": "scatter",
         "x": [
          1.86878125,
          1.9259692307692309,
          1.8622121212121208,
          1.8597692307692306
         ],
         "xaxis": "x",
         "y": [
          269912,
          337052,
          477840,
          465079
         ],
         "yaxis": "y"
        },
        {
         "hovertemplate": "<b>%{hovertext}</b><br><br>Year=2020<br>U.S. Gulf Coast Kerosene-Type Jet Fuel Spot Price FOB in U.S. Dollars per Gallon=%{x}<br>LATIN AMERICA=%{y}<extra></extra>",
         "hovertext": [
          "2020 - Quar 1"
         ],
         "legendgroup": "2020",
         "marker": {
          "color": "#636efa",
          "symbol": "circle"
         },
         "mode": "markers",
         "name": "2020",
         "orientation": "v",
         "showlegend": true,
         "type": "scatter",
         "x": [
          1.3972923076923074
         ],
         "xaxis": "x",
         "y": [
          -251044
         ],
         "yaxis": "y"
        }
       ],
       "layout": {
        "legend": {
         "title": {
          "text": "Year"
         },
         "tracegroupgap": 0
        },
        "template": {
         "data": {
          "bar": [
           {
            "error_x": {
             "color": "#2a3f5f"
            },
            "error_y": {
             "color": "#2a3f5f"
            },
            "marker": {
             "line": {
              "color": "#E5ECF6",
              "width": 0.5
             }
            },
            "type": "bar"
           }
          ],
          "barpolar": [
           {
            "marker": {
             "line": {
              "color": "#E5ECF6",
              "width": 0.5
             }
            },
            "type": "barpolar"
           }
          ],
          "carpet": [
           {
            "aaxis": {
             "endlinecolor": "#2a3f5f",
             "gridcolor": "white",
             "linecolor": "white",
             "minorgridcolor": "white",
             "startlinecolor": "#2a3f5f"
            },
            "baxis": {
             "endlinecolor": "#2a3f5f",
             "gridcolor": "white",
             "linecolor": "white",
             "minorgridcolor": "white",
             "startlinecolor": "#2a3f5f"
            },
            "type": "carpet"
           }
          ],
          "choropleth": [
           {
            "colorbar": {
             "outlinewidth": 0,
             "ticks": ""
            },
            "type": "choropleth"
           }
          ],
          "contour": [
           {
            "colorbar": {
             "outlinewidth": 0,
             "ticks": ""
            },
            "colorscale": [
             [
              0,
              "#0d0887"
             ],
             [
              0.1111111111111111,
              "#46039f"
             ],
             [
              0.2222222222222222,
              "#7201a8"
             ],
             [
              0.3333333333333333,
              "#9c179e"
             ],
             [
              0.4444444444444444,
              "#bd3786"
             ],
             [
              0.5555555555555556,
              "#d8576b"
             ],
             [
              0.6666666666666666,
              "#ed7953"
             ],
             [
              0.7777777777777778,
              "#fb9f3a"
             ],
             [
              0.8888888888888888,
              "#fdca26"
             ],
             [
              1,
              "#f0f921"
             ]
            ],
            "type": "contour"
           }
          ],
          "contourcarpet": [
           {
            "colorbar": {
             "outlinewidth": 0,
             "ticks": ""
            },
            "type": "contourcarpet"
           }
          ],
          "heatmap": [
           {
            "colorbar": {
             "outlinewidth": 0,
             "ticks": ""
            },
            "colorscale": [
             [
              0,
              "#0d0887"
             ],
             [
              0.1111111111111111,
              "#46039f"
             ],
             [
              0.2222222222222222,
              "#7201a8"
             ],
             [
              0.3333333333333333,
              "#9c179e"
             ],
             [
              0.4444444444444444,
              "#bd3786"
             ],
             [
              0.5555555555555556,
              "#d8576b"
             ],
             [
              0.6666666666666666,
              "#ed7953"
             ],
             [
              0.7777777777777778,
              "#fb9f3a"
             ],
             [
              0.8888888888888888,
              "#fdca26"
             ],
             [
              1,
              "#f0f921"
             ]
            ],
            "type": "heatmap"
           }
          ],
          "heatmapgl": [
           {
            "colorbar": {
             "outlinewidth": 0,
             "ticks": ""
            },
            "colorscale": [
             [
              0,
              "#0d0887"
             ],
             [
              0.1111111111111111,
              "#46039f"
             ],
             [
              0.2222222222222222,
              "#7201a8"
             ],
             [
              0.3333333333333333,
              "#9c179e"
             ],
             [
              0.4444444444444444,
              "#bd3786"
             ],
             [
              0.5555555555555556,
              "#d8576b"
             ],
             [
              0.6666666666666666,
              "#ed7953"
             ],
             [
              0.7777777777777778,
              "#fb9f3a"
             ],
             [
              0.8888888888888888,
              "#fdca26"
             ],
             [
              1,
              "#f0f921"
             ]
            ],
            "type": "heatmapgl"
           }
          ],
          "histogram": [
           {
            "marker": {
             "colorbar": {
              "outlinewidth": 0,
              "ticks": ""
             }
            },
            "type": "histogram"
           }
          ],
          "histogram2d": [
           {
            "colorbar": {
             "outlinewidth": 0,
             "ticks": ""
            },
            "colorscale": [
             [
              0,
              "#0d0887"
             ],
             [
              0.1111111111111111,
              "#46039f"
             ],
             [
              0.2222222222222222,
              "#7201a8"
             ],
             [
              0.3333333333333333,
              "#9c179e"
             ],
             [
              0.4444444444444444,
              "#bd3786"
             ],
             [
              0.5555555555555556,
              "#d8576b"
             ],
             [
              0.6666666666666666,
              "#ed7953"
             ],
             [
              0.7777777777777778,
              "#fb9f3a"
             ],
             [
              0.8888888888888888,
              "#fdca26"
             ],
             [
              1,
              "#f0f921"
             ]
            ],
            "type": "histogram2d"
           }
          ],
          "histogram2dcontour": [
           {
            "colorbar": {
             "outlinewidth": 0,
             "ticks": ""
            },
            "colorscale": [
             [
              0,
              "#0d0887"
             ],
             [
              0.1111111111111111,
              "#46039f"
             ],
             [
              0.2222222222222222,
              "#7201a8"
             ],
             [
              0.3333333333333333,
              "#9c179e"
             ],
             [
              0.4444444444444444,
              "#bd3786"
             ],
             [
              0.5555555555555556,
              "#d8576b"
             ],
             [
              0.6666666666666666,
              "#ed7953"
             ],
             [
              0.7777777777777778,
              "#fb9f3a"
             ],
             [
              0.8888888888888888,
              "#fdca26"
             ],
             [
              1,
              "#f0f921"
             ]
            ],
            "type": "histogram2dcontour"
           }
          ],
          "mesh3d": [
           {
            "colorbar": {
             "outlinewidth": 0,
             "ticks": ""
            },
            "type": "mesh3d"
           }
          ],
          "parcoords": [
           {
            "line": {
             "colorbar": {
              "outlinewidth": 0,
              "ticks": ""
             }
            },
            "type": "parcoords"
           }
          ],
          "pie": [
           {
            "automargin": true,
            "type": "pie"
           }
          ],
          "scatter": [
           {
            "marker": {
             "colorbar": {
              "outlinewidth": 0,
              "ticks": ""
             }
            },
            "type": "scatter"
           }
          ],
          "scatter3d": [
           {
            "line": {
             "colorbar": {
              "outlinewidth": 0,
              "ticks": ""
             }
            },
            "marker": {
             "colorbar": {
              "outlinewidth": 0,
              "ticks": ""
             }
            },
            "type": "scatter3d"
           }
          ],
          "scattercarpet": [
           {
            "marker": {
             "colorbar": {
              "outlinewidth": 0,
              "ticks": ""
             }
            },
            "type": "scattercarpet"
           }
          ],
          "scattergeo": [
           {
            "marker": {
             "colorbar": {
              "outlinewidth": 0,
              "ticks": ""
             }
            },
            "type": "scattergeo"
           }
          ],
          "scattergl": [
           {
            "marker": {
             "colorbar": {
              "outlinewidth": 0,
              "ticks": ""
             }
            },
            "type": "scattergl"
           }
          ],
          "scattermapbox": [
           {
            "marker": {
             "colorbar": {
              "outlinewidth": 0,
              "ticks": ""
             }
            },
            "type": "scattermapbox"
           }
          ],
          "scatterpolar": [
           {
            "marker": {
             "colorbar": {
              "outlinewidth": 0,
              "ticks": ""
             }
            },
            "type": "scatterpolar"
           }
          ],
          "scatterpolargl": [
           {
            "marker": {
             "colorbar": {
              "outlinewidth": 0,
              "ticks": ""
             }
            },
            "type": "scatterpolargl"
           }
          ],
          "scatterternary": [
           {
            "marker": {
             "colorbar": {
              "outlinewidth": 0,
              "ticks": ""
             }
            },
            "type": "scatterternary"
           }
          ],
          "surface": [
           {
            "colorbar": {
             "outlinewidth": 0,
             "ticks": ""
            },
            "colorscale": [
             [
              0,
              "#0d0887"
             ],
             [
              0.1111111111111111,
              "#46039f"
             ],
             [
              0.2222222222222222,
              "#7201a8"
             ],
             [
              0.3333333333333333,
              "#9c179e"
             ],
             [
              0.4444444444444444,
              "#bd3786"
             ],
             [
              0.5555555555555556,
              "#d8576b"
             ],
             [
              0.6666666666666666,
              "#ed7953"
             ],
             [
              0.7777777777777778,
              "#fb9f3a"
             ],
             [
              0.8888888888888888,
              "#fdca26"
             ],
             [
              1,
              "#f0f921"
             ]
            ],
            "type": "surface"
           }
          ],
          "table": [
           {
            "cells": {
             "fill": {
              "color": "#EBF0F8"
             },
             "line": {
              "color": "white"
             }
            },
            "header": {
             "fill": {
              "color": "#C8D4E3"
             },
             "line": {
              "color": "white"
             }
            },
            "type": "table"
           }
          ]
         },
         "layout": {
          "annotationdefaults": {
           "arrowcolor": "#2a3f5f",
           "arrowhead": 0,
           "arrowwidth": 1
          },
          "coloraxis": {
           "colorbar": {
            "outlinewidth": 0,
            "ticks": ""
           }
          },
          "colorscale": {
           "diverging": [
            [
             0,
             "#8e0152"
            ],
            [
             0.1,
             "#c51b7d"
            ],
            [
             0.2,
             "#de77ae"
            ],
            [
             0.3,
             "#f1b6da"
            ],
            [
             0.4,
             "#fde0ef"
            ],
            [
             0.5,
             "#f7f7f7"
            ],
            [
             0.6,
             "#e6f5d0"
            ],
            [
             0.7,
             "#b8e186"
            ],
            [
             0.8,
             "#7fbc41"
            ],
            [
             0.9,
             "#4d9221"
            ],
            [
             1,
             "#276419"
            ]
           ],
           "sequential": [
            [
             0,
             "#0d0887"
            ],
            [
             0.1111111111111111,
             "#46039f"
            ],
            [
             0.2222222222222222,
             "#7201a8"
            ],
            [
             0.3333333333333333,
             "#9c179e"
            ],
            [
             0.4444444444444444,
             "#bd3786"
            ],
            [
             0.5555555555555556,
             "#d8576b"
            ],
            [
             0.6666666666666666,
             "#ed7953"
            ],
            [
             0.7777777777777778,
             "#fb9f3a"
            ],
            [
             0.8888888888888888,
             "#fdca26"
            ],
            [
             1,
             "#f0f921"
            ]
           ],
           "sequentialminus": [
            [
             0,
             "#0d0887"
            ],
            [
             0.1111111111111111,
             "#46039f"
            ],
            [
             0.2222222222222222,
             "#7201a8"
            ],
            [
             0.3333333333333333,
             "#9c179e"
            ],
            [
             0.4444444444444444,
             "#bd3786"
            ],
            [
             0.5555555555555556,
             "#d8576b"
            ],
            [
             0.6666666666666666,
             "#ed7953"
            ],
            [
             0.7777777777777778,
             "#fb9f3a"
            ],
            [
             0.8888888888888888,
             "#fdca26"
            ],
            [
             1,
             "#f0f921"
            ]
           ]
          },
          "colorway": [
           "#636efa",
           "#EF553B",
           "#00cc96",
           "#ab63fa",
           "#FFA15A",
           "#19d3f3",
           "#FF6692",
           "#B6E880",
           "#FF97FF",
           "#FECB52"
          ],
          "font": {
           "color": "#2a3f5f"
          },
          "geo": {
           "bgcolor": "white",
           "lakecolor": "white",
           "landcolor": "#E5ECF6",
           "showlakes": true,
           "showland": true,
           "subunitcolor": "white"
          },
          "hoverlabel": {
           "align": "left"
          },
          "hovermode": "closest",
          "mapbox": {
           "style": "light"
          },
          "paper_bgcolor": "white",
          "plot_bgcolor": "#E5ECF6",
          "polar": {
           "angularaxis": {
            "gridcolor": "white",
            "linecolor": "white",
            "ticks": ""
           },
           "bgcolor": "#E5ECF6",
           "radialaxis": {
            "gridcolor": "white",
            "linecolor": "white",
            "ticks": ""
           }
          },
          "scene": {
           "xaxis": {
            "backgroundcolor": "#E5ECF6",
            "gridcolor": "white",
            "gridwidth": 2,
            "linecolor": "white",
            "showbackground": true,
            "ticks": "",
            "zerolinecolor": "white"
           },
           "yaxis": {
            "backgroundcolor": "#E5ECF6",
            "gridcolor": "white",
            "gridwidth": 2,
            "linecolor": "white",
            "showbackground": true,
            "ticks": "",
            "zerolinecolor": "white"
           },
           "zaxis": {
            "backgroundcolor": "#E5ECF6",
            "gridcolor": "white",
            "gridwidth": 2,
            "linecolor": "white",
            "showbackground": true,
            "ticks": "",
            "zerolinecolor": "white"
           }
          },
          "shapedefaults": {
           "line": {
            "color": "#2a3f5f"
           }
          },
          "ternary": {
           "aaxis": {
            "gridcolor": "white",
            "linecolor": "white",
            "ticks": ""
           },
           "baxis": {
            "gridcolor": "white",
            "linecolor": "white",
            "ticks": ""
           },
           "bgcolor": "#E5ECF6",
           "caxis": {
            "gridcolor": "white",
            "linecolor": "white",
            "ticks": ""
           }
          },
          "title": {
           "x": 0.05
          },
          "xaxis": {
           "automargin": true,
           "gridcolor": "white",
           "linecolor": "white",
           "ticks": "",
           "title": {
            "standoff": 15
           },
           "zerolinecolor": "white",
           "zerolinewidth": 2
          },
          "yaxis": {
           "automargin": true,
           "gridcolor": "white",
           "linecolor": "white",
           "ticks": "",
           "title": {
            "standoff": 15
           },
           "zerolinecolor": "white",
           "zerolinewidth": 2
          }
         }
        },
        "title": {
         "text": "Kerosene-Type Jet Fuel Price ($USD/Gallon) vs. Quarterly Net Income for All U.S. Carriers LATIN AMERICA"
        },
        "xaxis": {
         "anchor": "y",
         "domain": [
          0,
          1
         ],
         "title": {
          "text": "U.S. Gulf Coast Kerosene-Type Jet Fuel Spot Price FOB in U.S. Dollars per Gallon"
         }
        },
        "yaxis": {
         "anchor": "x",
         "domain": [
          0,
          1
         ],
         "title": {
          "text": "LATIN AMERICA"
         }
        }
       }
      },
      "text/html": [
       "<div>\n",
       "        \n",
       "        \n",
       "            <div id=\"30b57b80-d4bc-4d9d-9894-3e46f99b1e51\" class=\"plotly-graph-div\" style=\"height:525px; width:100%;\"></div>\n",
       "            <script type=\"text/javascript\">\n",
       "                require([\"plotly\"], function(Plotly) {\n",
       "                    window.PLOTLYENV=window.PLOTLYENV || {};\n",
       "                    \n",
       "                if (document.getElementById(\"30b57b80-d4bc-4d9d-9894-3e46f99b1e51\")) {\n",
       "                    Plotly.newPlot(\n",
       "                        '30b57b80-d4bc-4d9d-9894-3e46f99b1e51',\n",
       "                        [{\"hovertemplate\": \"<b>%{hovertext}</b><br><br>Year=2000<br>U.S. Gulf Coast Kerosene-Type Jet Fuel Spot Price FOB in U.S. Dollars per Gallon=%{x}<br>LATIN AMERICA=%{y}<extra></extra>\", \"hovertext\": [\"2000 - Quar 1\", \"2000 - Quar 2\", \"2000 - Quar 3\", \"2000 - Quar 4\"], \"legendgroup\": \"2000\", \"marker\": {\"color\": \"#636efa\", \"symbol\": \"circle\"}, \"mode\": \"markers\", \"name\": \"2000\", \"orientation\": \"v\", \"showlegend\": true, \"type\": \"scatter\", \"x\": [0.7767580645161289, 0.7569682539682541, 0.9059354838709676, 0.9598730158730159], \"xaxis\": \"x\", \"y\": [58927.0, -86040.0, 33056.0, 6639.0], \"yaxis\": \"y\"}, {\"hovertemplate\": \"<b>%{hovertext}</b><br><br>Year=2001<br>U.S. Gulf Coast Kerosene-Type Jet Fuel Spot Price FOB in U.S. Dollars per Gallon=%{x}<br>LATIN AMERICA=%{y}<extra></extra>\", \"hovertext\": [\"2001 - Quar 1\", \"2001 - Quar 2\", \"2001 - Quar 3\", \"2001 - Quar 4\"], \"legendgroup\": \"2001\", \"marker\": {\"color\": \"#EF553B\", \"symbol\": \"circle\"}, \"mode\": \"markers\", \"name\": \"2001\", \"orientation\": \"v\", \"showlegend\": true, \"type\": \"scatter\", \"x\": [0.8098548387096771, 0.7865238095238093, 0.73725, 0.5623114754098361], \"xaxis\": \"x\", \"y\": [76822.0, 3683.0, -6375.0, -63631.0], \"yaxis\": \"y\"}, {\"hovertemplate\": \"<b>%{hovertext}</b><br><br>Year=2002<br>U.S. Gulf Coast Kerosene-Type Jet Fuel Spot Price FOB in U.S. Dollars per Gallon=%{x}<br>LATIN AMERICA=%{y}<extra></extra>\", \"hovertext\": [\"2002 - Quar 1\", \"2002 - Quar 2\", \"2002 - Quar 3\", \"2002 - Quar 4\"], \"legendgroup\": \"2002\", \"marker\": {\"color\": \"#00cc96\", \"symbol\": \"circle\"}, \"mode\": \"markers\", \"name\": \"2002\", \"orientation\": \"v\", \"showlegend\": true, \"type\": \"scatter\", \"x\": [0.5731311475409836, 0.6628906249999998, 0.7393015873015875, 0.771032258064516], \"xaxis\": \"x\", \"y\": [-176148.0, -44110.0, -67435.0, -149090.0], \"yaxis\": \"y\"}, {\"hovertemplate\": \"<b>%{hovertext}</b><br><br>Year=2003<br>U.S. Gulf Coast Kerosene-Type Jet Fuel Spot Price FOB in U.S. Dollars per Gallon=%{x}<br>LATIN AMERICA=%{y}<extra></extra>\", \"hovertext\": [\"2003 - Quar 1\", \"2003 - Quar 2\", \"2003 - Quar 3\", \"2003 - Quar 4\"], \"legendgroup\": \"2003\", \"marker\": {\"color\": \"#ab63fa\", \"symbol\": \"circle\"}, \"mode\": \"markers\", \"name\": \"2003\", \"orientation\": \"v\", \"showlegend\": true, \"type\": \"scatter\", \"x\": [0.9381129032258063, 0.7356666666666667, 0.7806562499999999, 0.8430819672131146], \"xaxis\": \"x\", \"y\": [-51869.0, 100285.0, 129566.0, 107826.0], \"yaxis\": \"y\"}, {\"hovertemplate\": \"<b>%{hovertext}</b><br><br>Year=2004<br>U.S. Gulf Coast Kerosene-Type Jet Fuel Spot Price FOB in U.S. Dollars per Gallon=%{x}<br>LATIN AMERICA=%{y}<extra></extra>\", \"hovertext\": [\"2004 - Quar 1\", \"2004 - Quar 2\", \"2004 - Quar 3\", \"2004 - Quar 4\"], \"legendgroup\": \"2004\", \"marker\": {\"color\": \"#FFA15A\", \"symbol\": \"circle\"}, \"mode\": \"markers\", \"name\": \"2004\", \"orientation\": \"v\", \"showlegend\": true, \"type\": \"scatter\", \"x\": [0.957483870967742, 1.0351451612903229, 1.2505624999999998, 1.3615409836065573], \"xaxis\": \"x\", \"y\": [201821.0, 42467.0, 38782.0, 30756.0], \"yaxis\": \"y\"}, {\"hovertemplate\": \"<b>%{hovertext}</b><br><br>Year=2005<br>U.S. Gulf Coast Kerosene-Type Jet Fuel Spot Price FOB in U.S. Dollars per Gallon=%{x}<br>LATIN AMERICA=%{y}<extra></extra>\", \"hovertext\": [\"2005 - Quar 1\", \"2005 - Quar 2\", \"2005 - Quar 3\", \"2005 - Quar 4\"], \"legendgroup\": \"2005\", \"marker\": {\"color\": \"#19d3f3\", \"symbol\": \"circle\"}, \"mode\": \"markers\", \"name\": \"2005\", \"orientation\": \"v\", \"showlegend\": true, \"type\": \"scatter\", \"x\": [1.4216290322580643, 1.5669218749999998, 1.9299206349206348, 1.9452580645161295], \"xaxis\": \"x\", \"y\": [95583.0, 30014.0, -43150.0, -802628.0], \"yaxis\": \"y\"}, {\"hovertemplate\": \"<b>%{hovertext}</b><br><br>Year=2006<br>U.S. Gulf Coast Kerosene-Type Jet Fuel Spot Price FOB in U.S. Dollars per Gallon=%{x}<br>LATIN AMERICA=%{y}<extra></extra>\", \"hovertext\": [\"2006 - Quar 1\", \"2006 - Quar 2\", \"2006 - Quar 3\", \"2006 - Quar 4\"], \"legendgroup\": \"2006\", \"marker\": {\"color\": \"#FF6692\", \"symbol\": \"circle\"}, \"mode\": \"markers\", \"name\": \"2006\", \"orientation\": \"v\", \"showlegend\": true, \"type\": \"scatter\", \"x\": [1.8188064516129023, 2.0750793650793655, 2.0356451612903226, 1.7600967741935485], \"xaxis\": \"x\", \"y\": [1110214.0, 42078.0, 190769.0, 121001.0], \"yaxis\": \"y\"}, {\"hovertemplate\": \"<b>%{hovertext}</b><br><br>Year=2007<br>U.S. Gulf Coast Kerosene-Type Jet Fuel Spot Price FOB in U.S. Dollars per Gallon=%{x}<br>LATIN AMERICA=%{y}<extra></extra>\", \"hovertext\": [\"2007 - Quar 1\", \"2007 - Quar 2\", \"2007 - Quar 3\", \"2007 - Quar 4\"], \"legendgroup\": \"2007\", \"marker\": {\"color\": \"#B6E880\", \"symbol\": \"circle\"}, \"mode\": \"markers\", \"name\": \"2007\", \"orientation\": \"v\", \"showlegend\": true, \"type\": \"scatter\", \"x\": [1.7488709677419356, 2.060190476190477, 2.1611562500000003, 2.5468888888888883], \"xaxis\": \"x\", \"y\": [303476.0, 368016.0, 242447.0, 221388.0], \"yaxis\": \"y\"}, {\"hovertemplate\": \"<b>%{hovertext}</b><br><br>Year=2008<br>U.S. Gulf Coast Kerosene-Type Jet Fuel Spot Price FOB in U.S. Dollars per Gallon=%{x}<br>LATIN AMERICA=%{y}<extra></extra>\", \"hovertext\": [\"2008 - Quar 1\", \"2008 - Quar 2\", \"2008 - Quar 3\", \"2008 - Quar 4\"], \"legendgroup\": \"2008\", \"marker\": {\"color\": \"#FF97FF\", \"symbol\": \"circle\"}, \"mode\": \"markers\", \"name\": \"2008\", \"orientation\": \"v\", \"showlegend\": true, \"type\": \"scatter\", \"x\": [2.8197580645161286, 3.6707968750000006, 3.4991874999999997, 1.846047619047619], \"xaxis\": \"x\", \"y\": [-335226.0, -221837.0, 171764.0, -29950.0], \"yaxis\": \"y\"}, {\"hovertemplate\": \"<b>%{hovertext}</b><br><br>Year=2009<br>U.S. Gulf Coast Kerosene-Type Jet Fuel Spot Price FOB in U.S. Dollars per Gallon=%{x}<br>LATIN AMERICA=%{y}<extra></extra>\", \"hovertext\": [\"2009 - Quar 1\", \"2009 - Quar 2\", \"2009 - Quar 3\", \"2009 - Quar 4\"], \"legendgroup\": \"2009\", \"marker\": {\"color\": \"#FECB52\", \"symbol\": \"circle\"}, \"mode\": \"markers\", \"name\": \"2009\", \"orientation\": \"v\", \"showlegend\": true, \"type\": \"scatter\", \"x\": [1.3313548387096779, 1.5662222222222222, 1.7808281250000002, 1.9716190476190472], \"xaxis\": \"x\", \"y\": [136650.0, -11264.0, 86376.0, 192905.0], \"yaxis\": \"y\"}, {\"hovertemplate\": \"<b>%{hovertext}</b><br><br>Year=2010<br>U.S. Gulf Coast Kerosene-Type Jet Fuel Spot Price FOB in U.S. Dollars per Gallon=%{x}<br>LATIN AMERICA=%{y}<extra></extra>\", \"hovertext\": [\"2010 - Quar 1\", \"2010 - Quar 2\", \"2010 - Quar 3\", \"2010 - Quar 4\"], \"legendgroup\": \"2010\", \"marker\": {\"color\": \"#636efa\", \"symbol\": \"circle\"}, \"mode\": \"markers\", \"name\": \"2010\", \"orientation\": \"v\", \"showlegend\": true, \"type\": \"scatter\", \"x\": [2.0597540983606555, 2.1158412698412694, 2.0778437500000004, 2.34436507936508], \"xaxis\": \"x\", \"y\": [40958.0, 95963.0, 262817.0, 235472.0], \"yaxis\": \"y\"}, {\"hovertemplate\": \"<b>%{hovertext}</b><br><br>Year=2011<br>U.S. Gulf Coast Kerosene-Type Jet Fuel Spot Price FOB in U.S. Dollars per Gallon=%{x}<br>LATIN AMERICA=%{y}<extra></extra>\", \"hovertext\": [\"2011 - Quar 1\", \"2011 - Quar 2\", \"2011 - Quar 3\", \"2011 - Quar 4\"], \"legendgroup\": \"2011\", \"marker\": {\"color\": \"#EF553B\", \"symbol\": \"circle\"}, \"mode\": \"markers\", \"name\": \"2011\", \"orientation\": \"v\", \"showlegend\": true, \"type\": \"scatter\", \"x\": [2.879460317460316, 3.1255079365079363, 3.027587301587301, 2.9614920634920643], \"xaxis\": \"x\", \"y\": [177773.0, 151816.0, 420131.0, 162680.0], \"yaxis\": \"y\"}, {\"hovertemplate\": \"<b>%{hovertext}</b><br><br>Year=2012<br>U.S. Gulf Coast Kerosene-Type Jet Fuel Spot Price FOB in U.S. Dollars per Gallon=%{x}<br>LATIN AMERICA=%{y}<extra></extra>\", \"hovertext\": [\"2012 - Quar 1\", \"2012 - Quar 2\", \"2012 - Quar 3\", \"2012 - Quar 4\"], \"legendgroup\": \"2012\", \"marker\": {\"color\": \"#00cc96\", \"symbol\": \"circle\"}, \"mode\": \"markers\", \"name\": \"2012\", \"orientation\": \"v\", \"showlegend\": true, \"type\": \"scatter\", \"x\": [3.185709677419354, 2.955301587301587, 3.0798593749999994, 3.0055714285714283], \"xaxis\": \"x\", \"y\": [-357006.0, -104616.0, 187415.0, 169237.0], \"yaxis\": \"y\"}, {\"hovertemplate\": \"<b>%{hovertext}</b><br><br>Year=2013<br>U.S. Gulf Coast Kerosene-Type Jet Fuel Spot Price FOB in U.S. Dollars per Gallon=%{x}<br>LATIN AMERICA=%{y}<extra></extra>\", \"hovertext\": [\"2013 - Quar 1\", \"2013 - Quar 2\", \"2013 - Quar 3\", \"2013 - Quar 4\"], \"legendgroup\": \"2013\", \"marker\": {\"color\": \"#ab63fa\", \"symbol\": \"circle\"}, \"mode\": \"markers\", \"name\": \"2013\", \"orientation\": \"v\", \"showlegend\": true, \"type\": \"scatter\", \"x\": [3.089098360655737, 2.763171874999999, 2.9445625, 2.892603174603175], \"xaxis\": \"x\", \"y\": [290326.0, -59773.0, 125408.0, 156472.0], \"yaxis\": \"y\"}, {\"hovertemplate\": \"<b>%{hovertext}</b><br><br>Year=2014<br>U.S. Gulf Coast Kerosene-Type Jet Fuel Spot Price FOB in U.S. Dollars per Gallon=%{x}<br>LATIN AMERICA=%{y}<extra></extra>\", \"hovertext\": [\"2014 - Quar 1\", \"2014 - Quar 2\", \"2014 - Quar 3\", \"2014 - Quar 4\"], \"legendgroup\": \"2014\", \"marker\": {\"color\": \"#FFA15A\", \"symbol\": \"circle\"}, \"mode\": \"markers\", \"name\": \"2014\", \"orientation\": \"v\", \"showlegend\": true, \"type\": \"scatter\", \"x\": [2.922258064516129, 2.880412698412699, 2.797145161290325, 2.17108064516129], \"xaxis\": \"x\", \"y\": [22305.0, -54932.0, -75577.0, -131575.0], \"yaxis\": \"y\"}, {\"hovertemplate\": \"<b>%{hovertext}</b><br><br>Year=2015<br>U.S. Gulf Coast Kerosene-Type Jet Fuel Spot Price FOB in U.S. Dollars per Gallon=%{x}<br>LATIN AMERICA=%{y}<extra></extra>\", \"hovertext\": [\"2015 - Quar 1\", \"2015 - Quar 2\", \"2015 - Quar 3\", \"2015 - Quar 4\"], \"legendgroup\": \"2015\", \"marker\": {\"color\": \"#19d3f3\", \"symbol\": \"circle\"}, \"mode\": \"markers\", \"name\": \"2015\", \"orientation\": \"v\", \"showlegend\": true, \"type\": \"scatter\", \"x\": [1.627338709677419, 1.760904761904762, 1.4384843750000007, 1.256984848484849], \"xaxis\": \"x\", \"y\": [213705.0, 158598.0, 604630.0, 25921.0], \"yaxis\": \"y\"}, {\"hovertemplate\": \"<b>%{hovertext}</b><br><br>Year=2016<br>U.S. Gulf Coast Kerosene-Type Jet Fuel Spot Price FOB in U.S. Dollars per Gallon=%{x}<br>LATIN AMERICA=%{y}<extra></extra>\", \"hovertext\": [\"2016 - Quar 1\", \"2016 - Quar 2\", \"2016 - Quar 3\", \"2016 - Quar 4\"], \"legendgroup\": \"2016\", \"marker\": {\"color\": \"#FF6692\", \"symbol\": \"circle\"}, \"mode\": \"markers\", \"name\": \"2016\", \"orientation\": \"v\", \"showlegend\": true, \"type\": \"scatter\", \"x\": [0.9934032258064517, 1.2832499999999998, 1.2918593749999998, 1.4329687499999997], \"xaxis\": \"x\", \"y\": [362407.0, 279168.0, 266508.0, 141921.0], \"yaxis\": \"y\"}, {\"hovertemplate\": \"<b>%{hovertext}</b><br><br>Year=2017<br>U.S. Gulf Coast Kerosene-Type Jet Fuel Spot Price FOB in U.S. Dollars per Gallon=%{x}<br>LATIN AMERICA=%{y}<extra></extra>\", \"hovertext\": [\"2017 - Quar 1\", \"2017 - Quar 2\", \"2017 - Quar 3\", \"2017 - Quar 4\"], \"legendgroup\": \"2017\", \"marker\": {\"color\": \"#B6E880\", \"symbol\": \"circle\"}, \"mode\": \"markers\", \"name\": \"2017\", \"orientation\": \"v\", \"showlegend\": true, \"type\": \"scatter\", \"x\": [1.4978225806451615, 1.3990317460317463, 1.5921451612903226, 1.7428125], \"xaxis\": \"x\", \"y\": [61452.0, 152157.0, 380782.0, 156080.0], \"yaxis\": \"y\"}, {\"hovertemplate\": \"<b>%{hovertext}</b><br><br>Year=2018<br>U.S. Gulf Coast Kerosene-Type Jet Fuel Spot Price FOB in U.S. Dollars per Gallon=%{x}<br>LATIN AMERICA=%{y}<extra></extra>\", \"hovertext\": [\"2018 - Quar 1\", \"2018 - Quar 2\", \"2018 - Quar 3\", \"2018 - Quar 4\"], \"legendgroup\": \"2018\", \"marker\": {\"color\": \"#FF97FF\", \"symbol\": \"circle\"}, \"mode\": \"markers\", \"name\": \"2018\", \"orientation\": \"v\", \"showlegend\": true, \"type\": \"scatter\", \"x\": [1.8861129032258066, 2.0887076923076924, 2.1354687499999994, 1.9878500000000001], \"xaxis\": \"x\", \"y\": [341526.0, 150583.0, 336129.0, 205160.0], \"yaxis\": \"y\"}, {\"hovertemplate\": \"<b>%{hovertext}</b><br><br>Year=2019<br>U.S. Gulf Coast Kerosene-Type Jet Fuel Spot Price FOB in U.S. Dollars per Gallon=%{x}<br>LATIN AMERICA=%{y}<extra></extra>\", \"hovertext\": [\"2019 - Quar 1\", \"2019 - Quar 2\", \"2019 - Quar 3\", \"2019 - Quar 4\"], \"legendgroup\": \"2019\", \"marker\": {\"color\": \"#FECB52\", \"symbol\": \"circle\"}, \"mode\": \"markers\", \"name\": \"2019\", \"orientation\": \"v\", \"showlegend\": true, \"type\": \"scatter\", \"x\": [1.86878125, 1.9259692307692309, 1.8622121212121208, 1.8597692307692306], \"xaxis\": \"x\", \"y\": [269912.0, 337052.0, 477840.0, 465079.0], \"yaxis\": \"y\"}, {\"hovertemplate\": \"<b>%{hovertext}</b><br><br>Year=2020<br>U.S. Gulf Coast Kerosene-Type Jet Fuel Spot Price FOB in U.S. Dollars per Gallon=%{x}<br>LATIN AMERICA=%{y}<extra></extra>\", \"hovertext\": [\"2020 - Quar 1\"], \"legendgroup\": \"2020\", \"marker\": {\"color\": \"#636efa\", \"symbol\": \"circle\"}, \"mode\": \"markers\", \"name\": \"2020\", \"orientation\": \"v\", \"showlegend\": true, \"type\": \"scatter\", \"x\": [1.3972923076923074], \"xaxis\": \"x\", \"y\": [-251044.0], \"yaxis\": \"y\"}],\n",
       "                        {\"legend\": {\"title\": {\"text\": \"Year\"}, \"tracegroupgap\": 0}, \"template\": {\"data\": {\"bar\": [{\"error_x\": {\"color\": \"#2a3f5f\"}, \"error_y\": {\"color\": \"#2a3f5f\"}, \"marker\": {\"line\": {\"color\": \"#E5ECF6\", \"width\": 0.5}}, \"type\": \"bar\"}], \"barpolar\": [{\"marker\": {\"line\": {\"color\": \"#E5ECF6\", \"width\": 0.5}}, \"type\": \"barpolar\"}], \"carpet\": [{\"aaxis\": {\"endlinecolor\": \"#2a3f5f\", \"gridcolor\": \"white\", \"linecolor\": \"white\", \"minorgridcolor\": \"white\", \"startlinecolor\": \"#2a3f5f\"}, \"baxis\": {\"endlinecolor\": \"#2a3f5f\", \"gridcolor\": \"white\", \"linecolor\": \"white\", \"minorgridcolor\": \"white\", \"startlinecolor\": \"#2a3f5f\"}, \"type\": \"carpet\"}], \"choropleth\": [{\"colorbar\": {\"outlinewidth\": 0, \"ticks\": \"\"}, \"type\": \"choropleth\"}], \"contour\": [{\"colorbar\": {\"outlinewidth\": 0, \"ticks\": \"\"}, \"colorscale\": [[0.0, \"#0d0887\"], [0.1111111111111111, \"#46039f\"], [0.2222222222222222, \"#7201a8\"], [0.3333333333333333, \"#9c179e\"], [0.4444444444444444, \"#bd3786\"], [0.5555555555555556, \"#d8576b\"], [0.6666666666666666, \"#ed7953\"], [0.7777777777777778, \"#fb9f3a\"], [0.8888888888888888, \"#fdca26\"], [1.0, \"#f0f921\"]], \"type\": \"contour\"}], \"contourcarpet\": [{\"colorbar\": {\"outlinewidth\": 0, \"ticks\": \"\"}, \"type\": \"contourcarpet\"}], \"heatmap\": [{\"colorbar\": {\"outlinewidth\": 0, \"ticks\": \"\"}, \"colorscale\": [[0.0, \"#0d0887\"], [0.1111111111111111, \"#46039f\"], [0.2222222222222222, \"#7201a8\"], [0.3333333333333333, \"#9c179e\"], [0.4444444444444444, \"#bd3786\"], [0.5555555555555556, \"#d8576b\"], [0.6666666666666666, \"#ed7953\"], [0.7777777777777778, \"#fb9f3a\"], [0.8888888888888888, \"#fdca26\"], [1.0, \"#f0f921\"]], \"type\": \"heatmap\"}], \"heatmapgl\": [{\"colorbar\": {\"outlinewidth\": 0, \"ticks\": \"\"}, \"colorscale\": [[0.0, \"#0d0887\"], [0.1111111111111111, \"#46039f\"], [0.2222222222222222, \"#7201a8\"], [0.3333333333333333, \"#9c179e\"], [0.4444444444444444, \"#bd3786\"], [0.5555555555555556, \"#d8576b\"], [0.6666666666666666, \"#ed7953\"], [0.7777777777777778, \"#fb9f3a\"], [0.8888888888888888, \"#fdca26\"], [1.0, \"#f0f921\"]], \"type\": \"heatmapgl\"}], \"histogram\": [{\"marker\": {\"colorbar\": {\"outlinewidth\": 0, \"ticks\": \"\"}}, \"type\": \"histogram\"}], \"histogram2d\": [{\"colorbar\": {\"outlinewidth\": 0, \"ticks\": \"\"}, \"colorscale\": [[0.0, \"#0d0887\"], [0.1111111111111111, \"#46039f\"], [0.2222222222222222, \"#7201a8\"], [0.3333333333333333, \"#9c179e\"], [0.4444444444444444, \"#bd3786\"], [0.5555555555555556, \"#d8576b\"], [0.6666666666666666, \"#ed7953\"], [0.7777777777777778, \"#fb9f3a\"], [0.8888888888888888, \"#fdca26\"], [1.0, \"#f0f921\"]], \"type\": \"histogram2d\"}], \"histogram2dcontour\": [{\"colorbar\": {\"outlinewidth\": 0, \"ticks\": \"\"}, \"colorscale\": [[0.0, \"#0d0887\"], [0.1111111111111111, \"#46039f\"], [0.2222222222222222, \"#7201a8\"], [0.3333333333333333, \"#9c179e\"], [0.4444444444444444, \"#bd3786\"], [0.5555555555555556, \"#d8576b\"], [0.6666666666666666, \"#ed7953\"], [0.7777777777777778, \"#fb9f3a\"], [0.8888888888888888, \"#fdca26\"], [1.0, \"#f0f921\"]], \"type\": \"histogram2dcontour\"}], \"mesh3d\": [{\"colorbar\": {\"outlinewidth\": 0, \"ticks\": \"\"}, \"type\": \"mesh3d\"}], \"parcoords\": [{\"line\": {\"colorbar\": {\"outlinewidth\": 0, \"ticks\": \"\"}}, \"type\": \"parcoords\"}], \"pie\": [{\"automargin\": true, \"type\": \"pie\"}], \"scatter\": [{\"marker\": {\"colorbar\": {\"outlinewidth\": 0, \"ticks\": \"\"}}, \"type\": \"scatter\"}], \"scatter3d\": [{\"line\": {\"colorbar\": {\"outlinewidth\": 0, \"ticks\": \"\"}}, \"marker\": {\"colorbar\": {\"outlinewidth\": 0, \"ticks\": \"\"}}, \"type\": \"scatter3d\"}], \"scattercarpet\": [{\"marker\": {\"colorbar\": {\"outlinewidth\": 0, \"ticks\": \"\"}}, \"type\": \"scattercarpet\"}], \"scattergeo\": [{\"marker\": {\"colorbar\": {\"outlinewidth\": 0, \"ticks\": \"\"}}, \"type\": \"scattergeo\"}], \"scattergl\": [{\"marker\": {\"colorbar\": {\"outlinewidth\": 0, \"ticks\": \"\"}}, \"type\": \"scattergl\"}], \"scattermapbox\": [{\"marker\": {\"colorbar\": {\"outlinewidth\": 0, \"ticks\": \"\"}}, \"type\": \"scattermapbox\"}], \"scatterpolar\": [{\"marker\": {\"colorbar\": {\"outlinewidth\": 0, \"ticks\": \"\"}}, \"type\": \"scatterpolar\"}], \"scatterpolargl\": [{\"marker\": {\"colorbar\": {\"outlinewidth\": 0, \"ticks\": \"\"}}, \"type\": \"scatterpolargl\"}], \"scatterternary\": [{\"marker\": {\"colorbar\": {\"outlinewidth\": 0, \"ticks\": \"\"}}, \"type\": \"scatterternary\"}], \"surface\": [{\"colorbar\": {\"outlinewidth\": 0, \"ticks\": \"\"}, \"colorscale\": [[0.0, \"#0d0887\"], [0.1111111111111111, \"#46039f\"], [0.2222222222222222, \"#7201a8\"], [0.3333333333333333, \"#9c179e\"], [0.4444444444444444, \"#bd3786\"], [0.5555555555555556, \"#d8576b\"], [0.6666666666666666, \"#ed7953\"], [0.7777777777777778, \"#fb9f3a\"], [0.8888888888888888, \"#fdca26\"], [1.0, \"#f0f921\"]], \"type\": \"surface\"}], \"table\": [{\"cells\": {\"fill\": {\"color\": \"#EBF0F8\"}, \"line\": {\"color\": \"white\"}}, \"header\": {\"fill\": {\"color\": \"#C8D4E3\"}, \"line\": {\"color\": \"white\"}}, \"type\": \"table\"}]}, \"layout\": {\"annotationdefaults\": {\"arrowcolor\": \"#2a3f5f\", \"arrowhead\": 0, \"arrowwidth\": 1}, \"coloraxis\": {\"colorbar\": {\"outlinewidth\": 0, \"ticks\": \"\"}}, \"colorscale\": {\"diverging\": [[0, \"#8e0152\"], [0.1, \"#c51b7d\"], [0.2, \"#de77ae\"], [0.3, \"#f1b6da\"], [0.4, \"#fde0ef\"], [0.5, \"#f7f7f7\"], [0.6, \"#e6f5d0\"], [0.7, \"#b8e186\"], [0.8, \"#7fbc41\"], [0.9, \"#4d9221\"], [1, \"#276419\"]], \"sequential\": [[0.0, \"#0d0887\"], [0.1111111111111111, \"#46039f\"], [0.2222222222222222, \"#7201a8\"], [0.3333333333333333, \"#9c179e\"], [0.4444444444444444, \"#bd3786\"], [0.5555555555555556, \"#d8576b\"], [0.6666666666666666, \"#ed7953\"], [0.7777777777777778, \"#fb9f3a\"], [0.8888888888888888, \"#fdca26\"], [1.0, \"#f0f921\"]], \"sequentialminus\": [[0.0, \"#0d0887\"], [0.1111111111111111, \"#46039f\"], [0.2222222222222222, \"#7201a8\"], [0.3333333333333333, \"#9c179e\"], [0.4444444444444444, \"#bd3786\"], [0.5555555555555556, \"#d8576b\"], [0.6666666666666666, \"#ed7953\"], [0.7777777777777778, \"#fb9f3a\"], [0.8888888888888888, \"#fdca26\"], [1.0, \"#f0f921\"]]}, \"colorway\": [\"#636efa\", \"#EF553B\", \"#00cc96\", \"#ab63fa\", \"#FFA15A\", \"#19d3f3\", \"#FF6692\", \"#B6E880\", \"#FF97FF\", \"#FECB52\"], \"font\": {\"color\": \"#2a3f5f\"}, \"geo\": {\"bgcolor\": \"white\", \"lakecolor\": \"white\", \"landcolor\": \"#E5ECF6\", \"showlakes\": true, \"showland\": true, \"subunitcolor\": \"white\"}, \"hoverlabel\": {\"align\": \"left\"}, \"hovermode\": \"closest\", \"mapbox\": {\"style\": \"light\"}, \"paper_bgcolor\": \"white\", \"plot_bgcolor\": \"#E5ECF6\", \"polar\": {\"angularaxis\": {\"gridcolor\": \"white\", \"linecolor\": \"white\", \"ticks\": \"\"}, \"bgcolor\": \"#E5ECF6\", \"radialaxis\": {\"gridcolor\": \"white\", \"linecolor\": \"white\", \"ticks\": \"\"}}, \"scene\": {\"xaxis\": {\"backgroundcolor\": \"#E5ECF6\", \"gridcolor\": \"white\", \"gridwidth\": 2, \"linecolor\": \"white\", \"showbackground\": true, \"ticks\": \"\", \"zerolinecolor\": \"white\"}, \"yaxis\": {\"backgroundcolor\": \"#E5ECF6\", \"gridcolor\": \"white\", \"gridwidth\": 2, \"linecolor\": \"white\", \"showbackground\": true, \"ticks\": \"\", \"zerolinecolor\": \"white\"}, \"zaxis\": {\"backgroundcolor\": \"#E5ECF6\", \"gridcolor\": \"white\", \"gridwidth\": 2, \"linecolor\": \"white\", \"showbackground\": true, \"ticks\": \"\", \"zerolinecolor\": \"white\"}}, \"shapedefaults\": {\"line\": {\"color\": \"#2a3f5f\"}}, \"ternary\": {\"aaxis\": {\"gridcolor\": \"white\", \"linecolor\": \"white\", \"ticks\": \"\"}, \"baxis\": {\"gridcolor\": \"white\", \"linecolor\": \"white\", \"ticks\": \"\"}, \"bgcolor\": \"#E5ECF6\", \"caxis\": {\"gridcolor\": \"white\", \"linecolor\": \"white\", \"ticks\": \"\"}}, \"title\": {\"x\": 0.05}, \"xaxis\": {\"automargin\": true, \"gridcolor\": \"white\", \"linecolor\": \"white\", \"ticks\": \"\", \"title\": {\"standoff\": 15}, \"zerolinecolor\": \"white\", \"zerolinewidth\": 2}, \"yaxis\": {\"automargin\": true, \"gridcolor\": \"white\", \"linecolor\": \"white\", \"ticks\": \"\", \"title\": {\"standoff\": 15}, \"zerolinecolor\": \"white\", \"zerolinewidth\": 2}}}, \"title\": {\"text\": \"Kerosene-Type Jet Fuel Price ($USD/Gallon) vs. Quarterly Net Income for All U.S. Carriers LATIN AMERICA\"}, \"xaxis\": {\"anchor\": \"y\", \"domain\": [0.0, 1.0], \"title\": {\"text\": \"U.S. Gulf Coast Kerosene-Type Jet Fuel Spot Price FOB in U.S. Dollars per Gallon\"}}, \"yaxis\": {\"anchor\": \"x\", \"domain\": [0.0, 1.0], \"title\": {\"text\": \"LATIN AMERICA\"}}},\n",
       "                        {\"responsive\": true}\n",
       "                    ).then(function(){\n",
       "                            \n",
       "var gd = document.getElementById('30b57b80-d4bc-4d9d-9894-3e46f99b1e51');\n",
       "var x = new MutationObserver(function (mutations, observer) {{\n",
       "        var display = window.getComputedStyle(gd).display;\n",
       "        if (!display || display === 'none') {{\n",
       "            console.log([gd, 'removed!']);\n",
       "            Plotly.purge(gd);\n",
       "            observer.disconnect();\n",
       "        }}\n",
       "}});\n",
       "\n",
       "// Listen for the removal of the full notebook cells\n",
       "var notebookContainer = gd.closest('#notebook-container');\n",
       "if (notebookContainer) {{\n",
       "    x.observe(notebookContainer, {childList: true});\n",
       "}}\n",
       "\n",
       "// Listen for the clearing of the current output cell\n",
       "var outputEl = gd.closest('.output');\n",
       "if (outputEl) {{\n",
       "    x.observe(outputEl, {childList: true});\n",
       "}}\n",
       "\n",
       "                        })\n",
       "                };\n",
       "                });\n",
       "            </script>\n",
       "        </div>"
      ]
     },
     "metadata": {},
     "output_type": "display_data"
    }
   ],
   "source": [
    "fig3 = px.scatter(income_and_fuel, x='U.S. Gulf Coast Kerosene-Type Jet Fuel Spot Price FOB in U.S. Dollars per Gallon',\n",
    "                 y='LATIN AMERICA', hover_name='PERIOD', title='Kerosene-Type Jet Fuel Price ($USD/Gallon) vs. Quarterly Net Income for All U.S. Carriers LATIN AMERICA',\n",
    "                color='Year')\n",
    "fig3.show()"
   ]
  },
  {
   "cell_type": "code",
   "execution_count": 102,
   "metadata": {},
   "outputs": [
    {
     "data": {
      "application/vnd.plotly.v1+json": {
       "config": {
        "plotlyServerURL": "https://plot.ly"
       },
       "data": [
        {
         "hovertemplate": "%{text} <br> KEROSENE JET FUEL PRICE: $%{x} <br> QUARTERLY NET INCOME: %{y}",
         "mode": "markers",
         "name": "TOTAL FLIGHTS",
         "text": [
          "2000 - Quar 1",
          "2000 - Quar 2",
          "2000 - Quar 3",
          "2000 - Quar 4",
          "2001 - Quar 1",
          "2001 - Quar 2",
          "2001 - Quar 3",
          "2001 - Quar 4",
          "2002 - Quar 1",
          "2002 - Quar 2",
          "2002 - Quar 3",
          "2002 - Quar 4",
          "2003 - Quar 1",
          "2003 - Quar 2",
          "2003 - Quar 3",
          "2003 - Quar 4",
          "2004 - Quar 1",
          "2004 - Quar 2",
          "2004 - Quar 3",
          "2004 - Quar 4",
          "2005 - Quar 1",
          "2005 - Quar 2",
          "2005 - Quar 3",
          "2005 - Quar 4",
          "2006 - Quar 1",
          "2006 - Quar 2",
          "2006 - Quar 3",
          "2006 - Quar 4",
          "2007 - Quar 1",
          "2007 - Quar 2",
          "2007 - Quar 3",
          "2007 - Quar 4",
          "2008 - Quar 1",
          "2008 - Quar 2",
          "2008 - Quar 3",
          "2008 - Quar 4",
          "2009 - Quar 1",
          "2009 - Quar 2",
          "2009 - Quar 3",
          "2009 - Quar 4",
          "2010 - Quar 1",
          "2010 - Quar 2",
          "2010 - Quar 3",
          "2010 - Quar 4",
          "2011 - Quar 1",
          "2011 - Quar 2",
          "2011 - Quar 3",
          "2011 - Quar 4",
          "2012 - Quar 1",
          "2012 - Quar 2",
          "2012 - Quar 3",
          "2012 - Quar 4",
          "2013 - Quar 1",
          "2013 - Quar 2",
          "2013 - Quar 3",
          "2013 - Quar 4",
          "2014 - Quar 1",
          "2014 - Quar 2",
          "2014 - Quar 3",
          "2014 - Quar 4",
          "2015 - Quar 1",
          "2015 - Quar 2",
          "2015 - Quar 3",
          "2015 - Quar 4",
          "2016 - Quar 1",
          "2016 - Quar 2",
          "2016 - Quar 3",
          "2016 - Quar 4",
          "2017 - Quar 1",
          "2017 - Quar 2",
          "2017 - Quar 3",
          "2017 - Quar 4",
          "2018 - Quar 1",
          "2018 - Quar 2",
          "2018 - Quar 3",
          "2018 - Quar 4",
          "2019 - Quar 1",
          "2019 - Quar 2",
          "2019 - Quar 3",
          "2019 - Quar 4",
          "2020 - Quar 1"
         ],
         "type": "scatter",
         "x": [
          0.7767580645161289,
          0.7569682539682541,
          0.9059354838709676,
          0.9598730158730159,
          0.8098548387096771,
          0.7865238095238093,
          0.73725,
          0.5623114754098361,
          0.5731311475409836,
          0.6628906249999998,
          0.7393015873015875,
          0.771032258064516,
          0.9381129032258063,
          0.7356666666666667,
          0.7806562499999999,
          0.8430819672131146,
          0.957483870967742,
          1.0351451612903229,
          1.2505624999999998,
          1.3615409836065573,
          1.4216290322580643,
          1.5669218749999998,
          1.9299206349206348,
          1.9452580645161295,
          1.8188064516129023,
          2.0750793650793655,
          2.0356451612903226,
          1.7600967741935485,
          1.7488709677419356,
          2.060190476190477,
          2.1611562500000003,
          2.5468888888888883,
          2.8197580645161286,
          3.6707968750000006,
          3.4991874999999997,
          1.846047619047619,
          1.3313548387096779,
          1.5662222222222222,
          1.7808281250000002,
          1.9716190476190472,
          2.0597540983606555,
          2.1158412698412694,
          2.0778437500000004,
          2.34436507936508,
          2.879460317460316,
          3.1255079365079363,
          3.027587301587301,
          2.9614920634920643,
          3.185709677419354,
          2.955301587301587,
          3.0798593749999994,
          3.0055714285714283,
          3.089098360655737,
          2.763171874999999,
          2.9445625,
          2.892603174603175,
          2.922258064516129,
          2.880412698412699,
          2.797145161290325,
          2.17108064516129,
          1.627338709677419,
          1.760904761904762,
          1.4384843750000007,
          1.256984848484849,
          0.9934032258064517,
          1.2832499999999998,
          1.2918593749999998,
          1.4329687499999997,
          1.4978225806451615,
          1.3990317460317463,
          1.5921451612903226,
          1.7428125,
          1.8861129032258066,
          2.0887076923076924,
          2.1354687499999994,
          1.9878500000000001,
          1.86878125,
          1.9259692307692309,
          1.8622121212121208,
          1.8597692307692306,
          1.3972923076923074
         ],
         "y": [
          23702,
          1899096,
          937327,
          -327425,
          -909776,
          -923115,
          -2560103,
          -3873515,
          -3250361,
          -1469850,
          -2494531,
          -4150742,
          -1920924,
          647420,
          -265900,
          -176064,
          -1456177,
          -1915125,
          -1123527,
          -4609595,
          -3207135,
          -1487161,
          -2333166,
          -20192434,
          20862482,
          -694110,
          -161700,
          -1820559,
          -67019,
          5979562,
          1800249,
          -21387,
          -11599703,
          -4276656,
          -2718557,
          -5154919,
          -1844758,
          -628662,
          -102224,
          49366,
          -615726,
          1595509,
          2369313,
          316898,
          -848148,
          1003401,
          1482415,
          -245480,
          -1691852,
          771313,
          1369708,
          -85437,
          -45631,
          2146407,
          3222741,
          7387696,
          549797,
          3849384,
          3522647,
          518805,
          3544541,
          5732622,
          9655117,
          7447652,
          3495119,
          5094145,
          4195563,
          2824916,
          2318254,
          4995529,
          3901986,
          5588711,
          3438610,
          4109147,
          4130730,
          3580010,
          2692244,
          5251150,
          4922673,
          3598068,
          -4942084
         ]
        },
        {
         "hovertemplate": "%{text} <br> KEROSENE JET FUEL PRICE: $%{x} <br> QUARTERLY NET INCOME: %{y}",
         "mode": "markers",
         "name": "DOMESTIC FLIGHTS",
         "text": [
          "2000 - Quar 1",
          "2000 - Quar 2",
          "2000 - Quar 3",
          "2000 - Quar 4",
          "2001 - Quar 1",
          "2001 - Quar 2",
          "2001 - Quar 3",
          "2001 - Quar 4",
          "2002 - Quar 1",
          "2002 - Quar 2",
          "2002 - Quar 3",
          "2002 - Quar 4",
          "2003 - Quar 1",
          "2003 - Quar 2",
          "2003 - Quar 3",
          "2003 - Quar 4",
          "2004 - Quar 1",
          "2004 - Quar 2",
          "2004 - Quar 3",
          "2004 - Quar 4",
          "2005 - Quar 1",
          "2005 - Quar 2",
          "2005 - Quar 3",
          "2005 - Quar 4",
          "2006 - Quar 1",
          "2006 - Quar 2",
          "2006 - Quar 3",
          "2006 - Quar 4",
          "2007 - Quar 1",
          "2007 - Quar 2",
          "2007 - Quar 3",
          "2007 - Quar 4",
          "2008 - Quar 1",
          "2008 - Quar 2",
          "2008 - Quar 3",
          "2008 - Quar 4",
          "2009 - Quar 1",
          "2009 - Quar 2",
          "2009 - Quar 3",
          "2009 - Quar 4",
          "2010 - Quar 1",
          "2010 - Quar 2",
          "2010 - Quar 3",
          "2010 - Quar 4",
          "2011 - Quar 1",
          "2011 - Quar 2",
          "2011 - Quar 3",
          "2011 - Quar 4",
          "2012 - Quar 1",
          "2012 - Quar 2",
          "2012 - Quar 3",
          "2012 - Quar 4",
          "2013 - Quar 1",
          "2013 - Quar 2",
          "2013 - Quar 3",
          "2013 - Quar 4",
          "2014 - Quar 1",
          "2014 - Quar 2",
          "2014 - Quar 3",
          "2014 - Quar 4",
          "2015 - Quar 1",
          "2015 - Quar 2",
          "2015 - Quar 3",
          "2015 - Quar 4",
          "2016 - Quar 1",
          "2016 - Quar 2",
          "2016 - Quar 3",
          "2016 - Quar 4",
          "2017 - Quar 1",
          "2017 - Quar 2",
          "2017 - Quar 3",
          "2017 - Quar 4",
          "2018 - Quar 1",
          "2018 - Quar 2",
          "2018 - Quar 3",
          "2018 - Quar 4",
          "2019 - Quar 1",
          "2019 - Quar 2",
          "2019 - Quar 3",
          "2019 - Quar 4",
          "2020 - Quar 1"
         ],
         "type": "scatter",
         "x": [
          0.7767580645161289,
          0.7569682539682541,
          0.9059354838709676,
          0.9598730158730159,
          0.8098548387096771,
          0.7865238095238093,
          0.73725,
          0.5623114754098361,
          0.5731311475409836,
          0.6628906249999998,
          0.7393015873015875,
          0.771032258064516,
          0.9381129032258063,
          0.7356666666666667,
          0.7806562499999999,
          0.8430819672131146,
          0.957483870967742,
          1.0351451612903229,
          1.2505624999999998,
          1.3615409836065573,
          1.4216290322580643,
          1.5669218749999998,
          1.9299206349206348,
          1.9452580645161295,
          1.8188064516129023,
          2.0750793650793655,
          2.0356451612903226,
          1.7600967741935485,
          1.7488709677419356,
          2.060190476190477,
          2.1611562500000003,
          2.5468888888888883,
          2.8197580645161286,
          3.6707968750000006,
          3.4991874999999997,
          1.846047619047619,
          1.3313548387096779,
          1.5662222222222222,
          1.7808281250000002,
          1.9716190476190472,
          2.0597540983606555,
          2.1158412698412694,
          2.0778437500000004,
          2.34436507936508,
          2.879460317460316,
          3.1255079365079363,
          3.027587301587301,
          2.9614920634920643,
          3.185709677419354,
          2.955301587301587,
          3.0798593749999994,
          3.0055714285714283,
          3.089098360655737,
          2.763171874999999,
          2.9445625,
          2.892603174603175,
          2.922258064516129,
          2.880412698412699,
          2.797145161290325,
          2.17108064516129,
          1.627338709677419,
          1.760904761904762,
          1.4384843750000007,
          1.256984848484849,
          0.9934032258064517,
          1.2832499999999998,
          1.2918593749999998,
          1.4329687499999997,
          1.4978225806451615,
          1.3990317460317463,
          1.5921451612903226,
          1.7428125,
          1.8861129032258066,
          2.0887076923076924,
          2.1354687499999994,
          1.9878500000000001,
          1.86878125,
          1.9259692307692309,
          1.8622121212121208,
          1.8597692307692306,
          1.3972923076923074
         ],
         "y": [
          139162,
          1570500,
          548903,
          -267068,
          -822384,
          -774977,
          -2232653,
          -3404841,
          -2621918,
          -1298581,
          -2351704,
          -3056898,
          -1085012,
          606461,
          -642496,
          -348536,
          -1622122,
          -2018851,
          -1702368,
          -4562813,
          -2956735,
          -1511275,
          -2231293,
          -13048233,
          12049285,
          -642693,
          -592826,
          -1770107,
          -488478,
          3403274,
          626687,
          -545608,
          -9777777,
          -2254820,
          -2633833,
          -3507540,
          -1516128,
          -344471,
          -144230,
          -247244,
          -704121,
          657279,
          1178343,
          44633,
          -455423,
          1152067,
          761688,
          -17775,
          -213497,
          1513613,
          564041,
          348019,
          227114,
          2147207,
          2384395,
          5763127,
          926580,
          3467788,
          2828108,
          1422907,
          3055504,
          4678728,
          6494263,
          6983407,
          2856167,
          4229096,
          3407438,
          2861738,
          2647152,
          5046701,
          3575301,
          5752299,
          3157073,
          3745492,
          3481675,
          3554690,
          2738558,
          4894087,
          4363439,
          3738977,
          -3226298
         ]
        },
        {
         "hovertemplate": "%{text} <br> KEROSENE JET FUEL PRICE: $%{x} <br> QUARTERLY NET INCOME: %{y}",
         "mode": "markers",
         "name": "LATIN AMERICA",
         "text": [
          "2000 - Quar 1",
          "2000 - Quar 2",
          "2000 - Quar 3",
          "2000 - Quar 4",
          "2001 - Quar 1",
          "2001 - Quar 2",
          "2001 - Quar 3",
          "2001 - Quar 4",
          "2002 - Quar 1",
          "2002 - Quar 2",
          "2002 - Quar 3",
          "2002 - Quar 4",
          "2003 - Quar 1",
          "2003 - Quar 2",
          "2003 - Quar 3",
          "2003 - Quar 4",
          "2004 - Quar 1",
          "2004 - Quar 2",
          "2004 - Quar 3",
          "2004 - Quar 4",
          "2005 - Quar 1",
          "2005 - Quar 2",
          "2005 - Quar 3",
          "2005 - Quar 4",
          "2006 - Quar 1",
          "2006 - Quar 2",
          "2006 - Quar 3",
          "2006 - Quar 4",
          "2007 - Quar 1",
          "2007 - Quar 2",
          "2007 - Quar 3",
          "2007 - Quar 4",
          "2008 - Quar 1",
          "2008 - Quar 2",
          "2008 - Quar 3",
          "2008 - Quar 4",
          "2009 - Quar 1",
          "2009 - Quar 2",
          "2009 - Quar 3",
          "2009 - Quar 4",
          "2010 - Quar 1",
          "2010 - Quar 2",
          "2010 - Quar 3",
          "2010 - Quar 4",
          "2011 - Quar 1",
          "2011 - Quar 2",
          "2011 - Quar 3",
          "2011 - Quar 4",
          "2012 - Quar 1",
          "2012 - Quar 2",
          "2012 - Quar 3",
          "2012 - Quar 4",
          "2013 - Quar 1",
          "2013 - Quar 2",
          "2013 - Quar 3",
          "2013 - Quar 4",
          "2014 - Quar 1",
          "2014 - Quar 2",
          "2014 - Quar 3",
          "2014 - Quar 4",
          "2015 - Quar 1",
          "2015 - Quar 2",
          "2015 - Quar 3",
          "2015 - Quar 4",
          "2016 - Quar 1",
          "2016 - Quar 2",
          "2016 - Quar 3",
          "2016 - Quar 4",
          "2017 - Quar 1",
          "2017 - Quar 2",
          "2017 - Quar 3",
          "2017 - Quar 4",
          "2018 - Quar 1",
          "2018 - Quar 2",
          "2018 - Quar 3",
          "2018 - Quar 4",
          "2019 - Quar 1",
          "2019 - Quar 2",
          "2019 - Quar 3",
          "2019 - Quar 4",
          "2020 - Quar 1"
         ],
         "type": "scatter",
         "x": [
          0.7767580645161289,
          0.7569682539682541,
          0.9059354838709676,
          0.9598730158730159,
          0.8098548387096771,
          0.7865238095238093,
          0.73725,
          0.5623114754098361,
          0.5731311475409836,
          0.6628906249999998,
          0.7393015873015875,
          0.771032258064516,
          0.9381129032258063,
          0.7356666666666667,
          0.7806562499999999,
          0.8430819672131146,
          0.957483870967742,
          1.0351451612903229,
          1.2505624999999998,
          1.3615409836065573,
          1.4216290322580643,
          1.5669218749999998,
          1.9299206349206348,
          1.9452580645161295,
          1.8188064516129023,
          2.0750793650793655,
          2.0356451612903226,
          1.7600967741935485,
          1.7488709677419356,
          2.060190476190477,
          2.1611562500000003,
          2.5468888888888883,
          2.8197580645161286,
          3.6707968750000006,
          3.4991874999999997,
          1.846047619047619,
          1.3313548387096779,
          1.5662222222222222,
          1.7808281250000002,
          1.9716190476190472,
          2.0597540983606555,
          2.1158412698412694,
          2.0778437500000004,
          2.34436507936508,
          2.879460317460316,
          3.1255079365079363,
          3.027587301587301,
          2.9614920634920643,
          3.185709677419354,
          2.955301587301587,
          3.0798593749999994,
          3.0055714285714283,
          3.089098360655737,
          2.763171874999999,
          2.9445625,
          2.892603174603175,
          2.922258064516129,
          2.880412698412699,
          2.797145161290325,
          2.17108064516129,
          1.627338709677419,
          1.760904761904762,
          1.4384843750000007,
          1.256984848484849,
          0.9934032258064517,
          1.2832499999999998,
          1.2918593749999998,
          1.4329687499999997,
          1.4978225806451615,
          1.3990317460317463,
          1.5921451612903226,
          1.7428125,
          1.8861129032258066,
          2.0887076923076924,
          2.1354687499999994,
          1.9878500000000001,
          1.86878125,
          1.9259692307692309,
          1.8622121212121208,
          1.8597692307692306,
          1.3972923076923074
         ],
         "y": [
          58927,
          -86040,
          33056,
          6639,
          76822,
          3683,
          -6375,
          -63631,
          -176148,
          -44110,
          -67435,
          -149090,
          -51869,
          100285,
          129566,
          107826,
          201821,
          42467,
          38782,
          30756,
          95583,
          30014,
          -43150,
          -802628,
          1110214,
          42078,
          190769,
          121001,
          303476,
          368016,
          242447,
          221388,
          -335226,
          -221837,
          171764,
          -29950,
          136650,
          -11264,
          86376,
          192905,
          40958,
          95963,
          262817,
          235472,
          177773,
          151816,
          420131,
          162680,
          -357006,
          -104616,
          187415,
          169237,
          290326,
          -59773,
          125408,
          156472,
          22305,
          -54932,
          -75577,
          -131575,
          213705,
          158598,
          604630,
          25921,
          362407,
          279168,
          266508,
          141921,
          61452,
          152157,
          380782,
          156080,
          341526,
          150583,
          336129,
          205160,
          269912,
          337052,
          477840,
          465079,
          -251044
         ]
        },
        {
         "hovertemplate": "%{text} <br> KEROSENE JET FUEL PRICE: $%{x} <br> QUARTERLY NET INCOME: %{y}",
         "mode": "markers",
         "name": "ATLANTIC FLIGHTS",
         "text": [
          "2000 - Quar 1",
          "2000 - Quar 2",
          "2000 - Quar 3",
          "2000 - Quar 4",
          "2001 - Quar 1",
          "2001 - Quar 2",
          "2001 - Quar 3",
          "2001 - Quar 4",
          "2002 - Quar 1",
          "2002 - Quar 2",
          "2002 - Quar 3",
          "2002 - Quar 4",
          "2003 - Quar 1",
          "2003 - Quar 2",
          "2003 - Quar 3",
          "2003 - Quar 4",
          "2004 - Quar 1",
          "2004 - Quar 2",
          "2004 - Quar 3",
          "2004 - Quar 4",
          "2005 - Quar 1",
          "2005 - Quar 2",
          "2005 - Quar 3",
          "2005 - Quar 4",
          "2006 - Quar 1",
          "2006 - Quar 2",
          "2006 - Quar 3",
          "2006 - Quar 4",
          "2007 - Quar 1",
          "2007 - Quar 2",
          "2007 - Quar 3",
          "2007 - Quar 4",
          "2008 - Quar 1",
          "2008 - Quar 2",
          "2008 - Quar 3",
          "2008 - Quar 4",
          "2009 - Quar 1",
          "2009 - Quar 2",
          "2009 - Quar 3",
          "2009 - Quar 4",
          "2010 - Quar 1",
          "2010 - Quar 2",
          "2010 - Quar 3",
          "2010 - Quar 4",
          "2011 - Quar 1",
          "2011 - Quar 2",
          "2011 - Quar 3",
          "2011 - Quar 4",
          "2012 - Quar 1",
          "2012 - Quar 2",
          "2012 - Quar 3",
          "2012 - Quar 4",
          "2013 - Quar 1",
          "2013 - Quar 2",
          "2013 - Quar 3",
          "2013 - Quar 4",
          "2014 - Quar 1",
          "2014 - Quar 2",
          "2014 - Quar 3",
          "2014 - Quar 4",
          "2015 - Quar 1",
          "2015 - Quar 2",
          "2015 - Quar 3",
          "2015 - Quar 4",
          "2016 - Quar 1",
          "2016 - Quar 2",
          "2016 - Quar 3",
          "2016 - Quar 4",
          "2017 - Quar 1",
          "2017 - Quar 2",
          "2017 - Quar 3",
          "2017 - Quar 4",
          "2018 - Quar 1",
          "2018 - Quar 2",
          "2018 - Quar 3",
          "2018 - Quar 4",
          "2019 - Quar 1",
          "2019 - Quar 2",
          "2019 - Quar 3",
          "2019 - Quar 4",
          "2020 - Quar 1"
         ],
         "type": "scatter",
         "x": [
          0.7767580645161289,
          0.7569682539682541,
          0.9059354838709676,
          0.9598730158730159,
          0.8098548387096771,
          0.7865238095238093,
          0.73725,
          0.5623114754098361,
          0.5731311475409836,
          0.6628906249999998,
          0.7393015873015875,
          0.771032258064516,
          0.9381129032258063,
          0.7356666666666667,
          0.7806562499999999,
          0.8430819672131146,
          0.957483870967742,
          1.0351451612903229,
          1.2505624999999998,
          1.3615409836065573,
          1.4216290322580643,
          1.5669218749999998,
          1.9299206349206348,
          1.9452580645161295,
          1.8188064516129023,
          2.0750793650793655,
          2.0356451612903226,
          1.7600967741935485,
          1.7488709677419356,
          2.060190476190477,
          2.1611562500000003,
          2.5468888888888883,
          2.8197580645161286,
          3.6707968750000006,
          3.4991874999999997,
          1.846047619047619,
          1.3313548387096779,
          1.5662222222222222,
          1.7808281250000002,
          1.9716190476190472,
          2.0597540983606555,
          2.1158412698412694,
          2.0778437500000004,
          2.34436507936508,
          2.879460317460316,
          3.1255079365079363,
          3.027587301587301,
          2.9614920634920643,
          3.185709677419354,
          2.955301587301587,
          3.0798593749999994,
          3.0055714285714283,
          3.089098360655737,
          2.763171874999999,
          2.9445625,
          2.892603174603175,
          2.922258064516129,
          2.880412698412699,
          2.797145161290325,
          2.17108064516129,
          1.627338709677419,
          1.760904761904762,
          1.4384843750000007,
          1.256984848484849,
          0.9934032258064517,
          1.2832499999999998,
          1.2918593749999998,
          1.4329687499999997,
          1.4978225806451615,
          1.3990317460317463,
          1.5921451612903226,
          1.7428125,
          1.8861129032258066,
          2.0887076923076924,
          2.1354687499999994,
          1.9878500000000001,
          1.86878125,
          1.9259692307692309,
          1.8622121212121208,
          1.8597692307692306,
          1.3972923076923074
         ],
         "y": [
          -68918,
          250371,
          226224,
          -95916,
          -59644,
          116147,
          -44209,
          -194802,
          -372012,
          -43360,
          -38578,
          -575563,
          -452157,
          168328,
          290670,
          109623,
          31510,
          115648,
          331619,
          -71246,
          -202866,
          207515,
          164743,
          -2278672,
          2966133,
          83950,
          310776,
          -172714,
          112807,
          1224053,
          591292,
          120177,
          -1326883,
          -849465,
          -213390,
          -886774,
          -446958,
          -164482,
          -3069,
          -20067,
          -146182,
          396501,
          397620,
          -200267,
          -612217,
          -285411,
          94273,
          -363956,
          -876974,
          -293620,
          309960,
          -269382,
          -372745,
          299871,
          620320,
          899296,
          -269343,
          521443,
          633410,
          -342098,
          152544,
          655387,
          1683382,
          407138,
          43896,
          326080,
          351436,
          -91411,
          -134888,
          115185,
          19548,
          -227641,
          319232,
          396013,
          391801,
          11404,
          -146614,
          278518,
          323253,
          -76833,
          -924756
         ]
        },
        {
         "hovertemplate": "%{text} <br> KEROSENE JET FUEL PRICE: $%{x} <br> QUARTERLY NET INCOME: %{y}",
         "mode": "markers",
         "name": "PACIFIC FLIGHTS",
         "text": [
          "2000 - Quar 1",
          "2000 - Quar 2",
          "2000 - Quar 3",
          "2000 - Quar 4",
          "2001 - Quar 1",
          "2001 - Quar 2",
          "2001 - Quar 3",
          "2001 - Quar 4",
          "2002 - Quar 1",
          "2002 - Quar 2",
          "2002 - Quar 3",
          "2002 - Quar 4",
          "2003 - Quar 1",
          "2003 - Quar 2",
          "2003 - Quar 3",
          "2003 - Quar 4",
          "2004 - Quar 1",
          "2004 - Quar 2",
          "2004 - Quar 3",
          "2004 - Quar 4",
          "2005 - Quar 1",
          "2005 - Quar 2",
          "2005 - Quar 3",
          "2005 - Quar 4",
          "2006 - Quar 1",
          "2006 - Quar 2",
          "2006 - Quar 3",
          "2006 - Quar 4",
          "2007 - Quar 1",
          "2007 - Quar 2",
          "2007 - Quar 3",
          "2007 - Quar 4",
          "2008 - Quar 1",
          "2008 - Quar 2",
          "2008 - Quar 3",
          "2008 - Quar 4",
          "2009 - Quar 1",
          "2009 - Quar 2",
          "2009 - Quar 3",
          "2009 - Quar 4",
          "2010 - Quar 1",
          "2010 - Quar 2",
          "2010 - Quar 3",
          "2010 - Quar 4",
          "2011 - Quar 1",
          "2011 - Quar 2",
          "2011 - Quar 3",
          "2011 - Quar 4",
          "2012 - Quar 1",
          "2012 - Quar 2",
          "2012 - Quar 3",
          "2012 - Quar 4",
          "2013 - Quar 1",
          "2013 - Quar 2",
          "2013 - Quar 3",
          "2013 - Quar 4",
          "2014 - Quar 1",
          "2014 - Quar 2",
          "2014 - Quar 3",
          "2014 - Quar 4",
          "2015 - Quar 1",
          "2015 - Quar 2",
          "2015 - Quar 3",
          "2015 - Quar 4",
          "2016 - Quar 1",
          "2016 - Quar 2",
          "2016 - Quar 3",
          "2016 - Quar 4",
          "2017 - Quar 1",
          "2017 - Quar 2",
          "2017 - Quar 3",
          "2017 - Quar 4",
          "2018 - Quar 1",
          "2018 - Quar 2",
          "2018 - Quar 3",
          "2018 - Quar 4",
          "2019 - Quar 1",
          "2019 - Quar 2",
          "2019 - Quar 3",
          "2019 - Quar 4",
          "2020 - Quar 1"
         ],
         "type": "scatter",
         "x": [
          0.7767580645161289,
          0.7569682539682541,
          0.9059354838709676,
          0.9598730158730159,
          0.8098548387096771,
          0.7865238095238093,
          0.73725,
          0.5623114754098361,
          0.5731311475409836,
          0.6628906249999998,
          0.7393015873015875,
          0.771032258064516,
          0.9381129032258063,
          0.7356666666666667,
          0.7806562499999999,
          0.8430819672131146,
          0.957483870967742,
          1.0351451612903229,
          1.2505624999999998,
          1.3615409836065573,
          1.4216290322580643,
          1.5669218749999998,
          1.9299206349206348,
          1.9452580645161295,
          1.8188064516129023,
          2.0750793650793655,
          2.0356451612903226,
          1.7600967741935485,
          1.7488709677419356,
          2.060190476190477,
          2.1611562500000003,
          2.5468888888888883,
          2.8197580645161286,
          3.6707968750000006,
          3.4991874999999997,
          1.846047619047619,
          1.3313548387096779,
          1.5662222222222222,
          1.7808281250000002,
          1.9716190476190472,
          2.0597540983606555,
          2.1158412698412694,
          2.0778437500000004,
          2.34436507936508,
          2.879460317460316,
          3.1255079365079363,
          3.027587301587301,
          2.9614920634920643,
          3.185709677419354,
          2.955301587301587,
          3.0798593749999994,
          3.0055714285714283,
          3.089098360655737,
          2.763171874999999,
          2.9445625,
          2.892603174603175,
          2.922258064516129,
          2.880412698412699,
          2.797145161290325,
          2.17108064516129,
          1.627338709677419,
          1.760904761904762,
          1.4384843750000007,
          1.256984848484849,
          0.9934032258064517,
          1.2832499999999998,
          1.2918593749999998,
          1.4329687499999997,
          1.4978225806451615,
          1.3990317460317463,
          1.5921451612903226,
          1.7428125,
          1.8861129032258066,
          2.0887076923076924,
          2.1354687499999994,
          1.9878500000000001,
          1.86878125,
          1.9259692307692309,
          1.8622121212121208,
          1.8597692307692306,
          1.3972923076923074
         ],
         "y": [
          -106308,
          154724,
          83675,
          5533,
          -101160,
          -205108,
          -272018,
          -190370,
          -89470,
          -49899,
          -64051,
          -288296,
          -330213,
          -227315,
          -51195,
          -42980,
          -73884,
          -61035,
          94637,
          -31241,
          -179050,
          -249681,
          -293751,
          -4111334,
          4705502,
          -186742,
          -109207,
          -57349,
          -39093,
          922144,
          302755,
          135670,
          -151807,
          -953640,
          -58070,
          -499005,
          -63964,
          -114056,
          -58753,
          23138,
          107467,
          359678,
          461467,
          174245,
          37456,
          -24198,
          199367,
          9876,
          -196898,
          -310960,
          327948,
          -240082,
          -335847,
          -198500,
          83532,
          610054,
          -145495,
          -120602,
          96429,
          -468313,
          79301,
          201055,
          888611,
          -7333,
          226726,
          257402,
          163709,
          -168870,
          -240086,
          -259166,
          -87092,
          -255386,
          -399452,
          -215682,
          -119818,
          -272172,
          -143659,
          -275831,
          -191276,
          -340004,
          -553586
         ]
        },
        {
         "hovertemplate": "%{text} <br> KEROSENE JET FUEL PRICE: $%{x} <br> QUARTERLY NET INCOME: %{y}",
         "mode": "markers",
         "name": "INTERNATIONAL FLIGHTS",
         "text": [
          "2000 - Quar 1",
          "2000 - Quar 2",
          "2000 - Quar 3",
          "2000 - Quar 4",
          "2001 - Quar 1",
          "2001 - Quar 2",
          "2001 - Quar 3",
          "2001 - Quar 4",
          "2002 - Quar 1",
          "2002 - Quar 2",
          "2002 - Quar 3",
          "2002 - Quar 4",
          "2003 - Quar 1",
          "2003 - Quar 2",
          "2003 - Quar 3",
          "2003 - Quar 4",
          "2004 - Quar 1",
          "2004 - Quar 2",
          "2004 - Quar 3",
          "2004 - Quar 4",
          "2005 - Quar 1",
          "2005 - Quar 2",
          "2005 - Quar 3",
          "2005 - Quar 4",
          "2006 - Quar 1",
          "2006 - Quar 2",
          "2006 - Quar 3",
          "2006 - Quar 4",
          "2007 - Quar 1",
          "2007 - Quar 2",
          "2007 - Quar 3",
          "2007 - Quar 4",
          "2008 - Quar 1",
          "2008 - Quar 2",
          "2008 - Quar 3",
          "2008 - Quar 4",
          "2009 - Quar 1",
          "2009 - Quar 2",
          "2009 - Quar 3",
          "2009 - Quar 4",
          "2010 - Quar 1",
          "2010 - Quar 2",
          "2010 - Quar 3",
          "2010 - Quar 4",
          "2011 - Quar 1",
          "2011 - Quar 2",
          "2011 - Quar 3",
          "2011 - Quar 4",
          "2012 - Quar 1",
          "2012 - Quar 2",
          "2012 - Quar 3",
          "2012 - Quar 4",
          "2013 - Quar 1",
          "2013 - Quar 2",
          "2013 - Quar 3",
          "2013 - Quar 4",
          "2014 - Quar 1",
          "2014 - Quar 2",
          "2014 - Quar 3",
          "2014 - Quar 4",
          "2015 - Quar 1",
          "2015 - Quar 2",
          "2015 - Quar 3",
          "2015 - Quar 4",
          "2016 - Quar 1",
          "2016 - Quar 2",
          "2016 - Quar 3",
          "2016 - Quar 4",
          "2017 - Quar 1",
          "2017 - Quar 2",
          "2017 - Quar 3",
          "2017 - Quar 4",
          "2018 - Quar 1",
          "2018 - Quar 2",
          "2018 - Quar 3",
          "2018 - Quar 4",
          "2019 - Quar 1",
          "2019 - Quar 2",
          "2019 - Quar 3",
          "2019 - Quar 4",
          "2020 - Quar 1"
         ],
         "type": "scatter",
         "x": [
          0.7767580645161289,
          0.7569682539682541,
          0.9059354838709676,
          0.9598730158730159,
          0.8098548387096771,
          0.7865238095238093,
          0.73725,
          0.5623114754098361,
          0.5731311475409836,
          0.6628906249999998,
          0.7393015873015875,
          0.771032258064516,
          0.9381129032258063,
          0.7356666666666667,
          0.7806562499999999,
          0.8430819672131146,
          0.957483870967742,
          1.0351451612903229,
          1.2505624999999998,
          1.3615409836065573,
          1.4216290322580643,
          1.5669218749999998,
          1.9299206349206348,
          1.9452580645161295,
          1.8188064516129023,
          2.0750793650793655,
          2.0356451612903226,
          1.7600967741935485,
          1.7488709677419356,
          2.060190476190477,
          2.1611562500000003,
          2.5468888888888883,
          2.8197580645161286,
          3.6707968750000006,
          3.4991874999999997,
          1.846047619047619,
          1.3313548387096779,
          1.5662222222222222,
          1.7808281250000002,
          1.9716190476190472,
          2.0597540983606555,
          2.1158412698412694,
          2.0778437500000004,
          2.34436507936508,
          2.879460317460316,
          3.1255079365079363,
          3.027587301587301,
          2.9614920634920643,
          3.185709677419354,
          2.955301587301587,
          3.0798593749999994,
          3.0055714285714283,
          3.089098360655737,
          2.763171874999999,
          2.9445625,
          2.892603174603175,
          2.922258064516129,
          2.880412698412699,
          2.797145161290325,
          2.17108064516129,
          1.627338709677419,
          1.760904761904762,
          1.4384843750000007,
          1.256984848484849,
          0.9934032258064517,
          1.2832499999999998,
          1.2918593749999998,
          1.4329687499999997,
          1.4978225806451615,
          1.3990317460317463,
          1.5921451612903226,
          1.7428125,
          1.8861129032258066,
          2.0887076923076924,
          2.1354687499999994,
          1.9878500000000001,
          1.86878125,
          1.9259692307692309,
          1.8622121212121208,
          1.8597692307692306,
          1.3972923076923074
         ],
         "y": [
          839,
          9541,
          45470,
          23388,
          -3410,
          -62860,
          -4848,
          -19871,
          9187,
          -33900,
          27239,
          -80895,
          -1673,
          -340,
          7554,
          -1997,
          6499,
          6648,
          113802,
          24949,
          35932,
          36266,
          70285,
          48434,
          31349,
          9296,
          38787,
          58610,
          44269,
          62075,
          37068,
          46986,
          -8011,
          3106,
          14972,
          -231649,
          45643,
          5612,
          17452,
          100634,
          86152,
          86089,
          69066,
          62815,
          4263,
          9125,
          6956,
          -36306,
          -47476,
          -33105,
          -19657,
          -93230,
          145522,
          -42398,
          9086,
          -41253,
          15751,
          35687,
          40277,
          37883,
          43486,
          38855,
          -15769,
          38520,
          5922,
          2399,
          6472,
          81537,
          -15375,
          -59347,
          13447,
          163358,
          20232,
          32741,
          40944,
          80929,
          -25952,
          17323,
          -50583,
          -189151,
          13600
         ]
        }
       ],
       "layout": {
        "font": {
         "family": "Courier New, monospace",
         "size": 14
        },
        "legend": {
         "title": {
          "text": "REGIONS"
         }
        },
        "template": {
         "data": {
          "bar": [
           {
            "error_x": {
             "color": "#2a3f5f"
            },
            "error_y": {
             "color": "#2a3f5f"
            },
            "marker": {
             "line": {
              "color": "#E5ECF6",
              "width": 0.5
             }
            },
            "type": "bar"
           }
          ],
          "barpolar": [
           {
            "marker": {
             "line": {
              "color": "#E5ECF6",
              "width": 0.5
             }
            },
            "type": "barpolar"
           }
          ],
          "carpet": [
           {
            "aaxis": {
             "endlinecolor": "#2a3f5f",
             "gridcolor": "white",
             "linecolor": "white",
             "minorgridcolor": "white",
             "startlinecolor": "#2a3f5f"
            },
            "baxis": {
             "endlinecolor": "#2a3f5f",
             "gridcolor": "white",
             "linecolor": "white",
             "minorgridcolor": "white",
             "startlinecolor": "#2a3f5f"
            },
            "type": "carpet"
           }
          ],
          "choropleth": [
           {
            "colorbar": {
             "outlinewidth": 0,
             "ticks": ""
            },
            "type": "choropleth"
           }
          ],
          "contour": [
           {
            "colorbar": {
             "outlinewidth": 0,
             "ticks": ""
            },
            "colorscale": [
             [
              0,
              "#0d0887"
             ],
             [
              0.1111111111111111,
              "#46039f"
             ],
             [
              0.2222222222222222,
              "#7201a8"
             ],
             [
              0.3333333333333333,
              "#9c179e"
             ],
             [
              0.4444444444444444,
              "#bd3786"
             ],
             [
              0.5555555555555556,
              "#d8576b"
             ],
             [
              0.6666666666666666,
              "#ed7953"
             ],
             [
              0.7777777777777778,
              "#fb9f3a"
             ],
             [
              0.8888888888888888,
              "#fdca26"
             ],
             [
              1,
              "#f0f921"
             ]
            ],
            "type": "contour"
           }
          ],
          "contourcarpet": [
           {
            "colorbar": {
             "outlinewidth": 0,
             "ticks": ""
            },
            "type": "contourcarpet"
           }
          ],
          "heatmap": [
           {
            "colorbar": {
             "outlinewidth": 0,
             "ticks": ""
            },
            "colorscale": [
             [
              0,
              "#0d0887"
             ],
             [
              0.1111111111111111,
              "#46039f"
             ],
             [
              0.2222222222222222,
              "#7201a8"
             ],
             [
              0.3333333333333333,
              "#9c179e"
             ],
             [
              0.4444444444444444,
              "#bd3786"
             ],
             [
              0.5555555555555556,
              "#d8576b"
             ],
             [
              0.6666666666666666,
              "#ed7953"
             ],
             [
              0.7777777777777778,
              "#fb9f3a"
             ],
             [
              0.8888888888888888,
              "#fdca26"
             ],
             [
              1,
              "#f0f921"
             ]
            ],
            "type": "heatmap"
           }
          ],
          "heatmapgl": [
           {
            "colorbar": {
             "outlinewidth": 0,
             "ticks": ""
            },
            "colorscale": [
             [
              0,
              "#0d0887"
             ],
             [
              0.1111111111111111,
              "#46039f"
             ],
             [
              0.2222222222222222,
              "#7201a8"
             ],
             [
              0.3333333333333333,
              "#9c179e"
             ],
             [
              0.4444444444444444,
              "#bd3786"
             ],
             [
              0.5555555555555556,
              "#d8576b"
             ],
             [
              0.6666666666666666,
              "#ed7953"
             ],
             [
              0.7777777777777778,
              "#fb9f3a"
             ],
             [
              0.8888888888888888,
              "#fdca26"
             ],
             [
              1,
              "#f0f921"
             ]
            ],
            "type": "heatmapgl"
           }
          ],
          "histogram": [
           {
            "marker": {
             "colorbar": {
              "outlinewidth": 0,
              "ticks": ""
             }
            },
            "type": "histogram"
           }
          ],
          "histogram2d": [
           {
            "colorbar": {
             "outlinewidth": 0,
             "ticks": ""
            },
            "colorscale": [
             [
              0,
              "#0d0887"
             ],
             [
              0.1111111111111111,
              "#46039f"
             ],
             [
              0.2222222222222222,
              "#7201a8"
             ],
             [
              0.3333333333333333,
              "#9c179e"
             ],
             [
              0.4444444444444444,
              "#bd3786"
             ],
             [
              0.5555555555555556,
              "#d8576b"
             ],
             [
              0.6666666666666666,
              "#ed7953"
             ],
             [
              0.7777777777777778,
              "#fb9f3a"
             ],
             [
              0.8888888888888888,
              "#fdca26"
             ],
             [
              1,
              "#f0f921"
             ]
            ],
            "type": "histogram2d"
           }
          ],
          "histogram2dcontour": [
           {
            "colorbar": {
             "outlinewidth": 0,
             "ticks": ""
            },
            "colorscale": [
             [
              0,
              "#0d0887"
             ],
             [
              0.1111111111111111,
              "#46039f"
             ],
             [
              0.2222222222222222,
              "#7201a8"
             ],
             [
              0.3333333333333333,
              "#9c179e"
             ],
             [
              0.4444444444444444,
              "#bd3786"
             ],
             [
              0.5555555555555556,
              "#d8576b"
             ],
             [
              0.6666666666666666,
              "#ed7953"
             ],
             [
              0.7777777777777778,
              "#fb9f3a"
             ],
             [
              0.8888888888888888,
              "#fdca26"
             ],
             [
              1,
              "#f0f921"
             ]
            ],
            "type": "histogram2dcontour"
           }
          ],
          "mesh3d": [
           {
            "colorbar": {
             "outlinewidth": 0,
             "ticks": ""
            },
            "type": "mesh3d"
           }
          ],
          "parcoords": [
           {
            "line": {
             "colorbar": {
              "outlinewidth": 0,
              "ticks": ""
             }
            },
            "type": "parcoords"
           }
          ],
          "pie": [
           {
            "automargin": true,
            "type": "pie"
           }
          ],
          "scatter": [
           {
            "marker": {
             "colorbar": {
              "outlinewidth": 0,
              "ticks": ""
             }
            },
            "type": "scatter"
           }
          ],
          "scatter3d": [
           {
            "line": {
             "colorbar": {
              "outlinewidth": 0,
              "ticks": ""
             }
            },
            "marker": {
             "colorbar": {
              "outlinewidth": 0,
              "ticks": ""
             }
            },
            "type": "scatter3d"
           }
          ],
          "scattercarpet": [
           {
            "marker": {
             "colorbar": {
              "outlinewidth": 0,
              "ticks": ""
             }
            },
            "type": "scattercarpet"
           }
          ],
          "scattergeo": [
           {
            "marker": {
             "colorbar": {
              "outlinewidth": 0,
              "ticks": ""
             }
            },
            "type": "scattergeo"
           }
          ],
          "scattergl": [
           {
            "marker": {
             "colorbar": {
              "outlinewidth": 0,
              "ticks": ""
             }
            },
            "type": "scattergl"
           }
          ],
          "scattermapbox": [
           {
            "marker": {
             "colorbar": {
              "outlinewidth": 0,
              "ticks": ""
             }
            },
            "type": "scattermapbox"
           }
          ],
          "scatterpolar": [
           {
            "marker": {
             "colorbar": {
              "outlinewidth": 0,
              "ticks": ""
             }
            },
            "type": "scatterpolar"
           }
          ],
          "scatterpolargl": [
           {
            "marker": {
             "colorbar": {
              "outlinewidth": 0,
              "ticks": ""
             }
            },
            "type": "scatterpolargl"
           }
          ],
          "scatterternary": [
           {
            "marker": {
             "colorbar": {
              "outlinewidth": 0,
              "ticks": ""
             }
            },
            "type": "scatterternary"
           }
          ],
          "surface": [
           {
            "colorbar": {
             "outlinewidth": 0,
             "ticks": ""
            },
            "colorscale": [
             [
              0,
              "#0d0887"
             ],
             [
              0.1111111111111111,
              "#46039f"
             ],
             [
              0.2222222222222222,
              "#7201a8"
             ],
             [
              0.3333333333333333,
              "#9c179e"
             ],
             [
              0.4444444444444444,
              "#bd3786"
             ],
             [
              0.5555555555555556,
              "#d8576b"
             ],
             [
              0.6666666666666666,
              "#ed7953"
             ],
             [
              0.7777777777777778,
              "#fb9f3a"
             ],
             [
              0.8888888888888888,
              "#fdca26"
             ],
             [
              1,
              "#f0f921"
             ]
            ],
            "type": "surface"
           }
          ],
          "table": [
           {
            "cells": {
             "fill": {
              "color": "#EBF0F8"
             },
             "line": {
              "color": "white"
             }
            },
            "header": {
             "fill": {
              "color": "#C8D4E3"
             },
             "line": {
              "color": "white"
             }
            },
            "type": "table"
           }
          ]
         },
         "layout": {
          "annotationdefaults": {
           "arrowcolor": "#2a3f5f",
           "arrowhead": 0,
           "arrowwidth": 1
          },
          "coloraxis": {
           "colorbar": {
            "outlinewidth": 0,
            "ticks": ""
           }
          },
          "colorscale": {
           "diverging": [
            [
             0,
             "#8e0152"
            ],
            [
             0.1,
             "#c51b7d"
            ],
            [
             0.2,
             "#de77ae"
            ],
            [
             0.3,
             "#f1b6da"
            ],
            [
             0.4,
             "#fde0ef"
            ],
            [
             0.5,
             "#f7f7f7"
            ],
            [
             0.6,
             "#e6f5d0"
            ],
            [
             0.7,
             "#b8e186"
            ],
            [
             0.8,
             "#7fbc41"
            ],
            [
             0.9,
             "#4d9221"
            ],
            [
             1,
             "#276419"
            ]
           ],
           "sequential": [
            [
             0,
             "#0d0887"
            ],
            [
             0.1111111111111111,
             "#46039f"
            ],
            [
             0.2222222222222222,
             "#7201a8"
            ],
            [
             0.3333333333333333,
             "#9c179e"
            ],
            [
             0.4444444444444444,
             "#bd3786"
            ],
            [
             0.5555555555555556,
             "#d8576b"
            ],
            [
             0.6666666666666666,
             "#ed7953"
            ],
            [
             0.7777777777777778,
             "#fb9f3a"
            ],
            [
             0.8888888888888888,
             "#fdca26"
            ],
            [
             1,
             "#f0f921"
            ]
           ],
           "sequentialminus": [
            [
             0,
             "#0d0887"
            ],
            [
             0.1111111111111111,
             "#46039f"
            ],
            [
             0.2222222222222222,
             "#7201a8"
            ],
            [
             0.3333333333333333,
             "#9c179e"
            ],
            [
             0.4444444444444444,
             "#bd3786"
            ],
            [
             0.5555555555555556,
             "#d8576b"
            ],
            [
             0.6666666666666666,
             "#ed7953"
            ],
            [
             0.7777777777777778,
             "#fb9f3a"
            ],
            [
             0.8888888888888888,
             "#fdca26"
            ],
            [
             1,
             "#f0f921"
            ]
           ]
          },
          "colorway": [
           "#636efa",
           "#EF553B",
           "#00cc96",
           "#ab63fa",
           "#FFA15A",
           "#19d3f3",
           "#FF6692",
           "#B6E880",
           "#FF97FF",
           "#FECB52"
          ],
          "font": {
           "color": "#2a3f5f"
          },
          "geo": {
           "bgcolor": "white",
           "lakecolor": "white",
           "landcolor": "#E5ECF6",
           "showlakes": true,
           "showland": true,
           "subunitcolor": "white"
          },
          "hoverlabel": {
           "align": "left"
          },
          "hovermode": "closest",
          "mapbox": {
           "style": "light"
          },
          "paper_bgcolor": "white",
          "plot_bgcolor": "#E5ECF6",
          "polar": {
           "angularaxis": {
            "gridcolor": "white",
            "linecolor": "white",
            "ticks": ""
           },
           "bgcolor": "#E5ECF6",
           "radialaxis": {
            "gridcolor": "white",
            "linecolor": "white",
            "ticks": ""
           }
          },
          "scene": {
           "xaxis": {
            "backgroundcolor": "#E5ECF6",
            "gridcolor": "white",
            "gridwidth": 2,
            "linecolor": "white",
            "showbackground": true,
            "ticks": "",
            "zerolinecolor": "white"
           },
           "yaxis": {
            "backgroundcolor": "#E5ECF6",
            "gridcolor": "white",
            "gridwidth": 2,
            "linecolor": "white",
            "showbackground": true,
            "ticks": "",
            "zerolinecolor": "white"
           },
           "zaxis": {
            "backgroundcolor": "#E5ECF6",
            "gridcolor": "white",
            "gridwidth": 2,
            "linecolor": "white",
            "showbackground": true,
            "ticks": "",
            "zerolinecolor": "white"
           }
          },
          "shapedefaults": {
           "line": {
            "color": "#2a3f5f"
           }
          },
          "ternary": {
           "aaxis": {
            "gridcolor": "white",
            "linecolor": "white",
            "ticks": ""
           },
           "baxis": {
            "gridcolor": "white",
            "linecolor": "white",
            "ticks": ""
           },
           "bgcolor": "#E5ECF6",
           "caxis": {
            "gridcolor": "white",
            "linecolor": "white",
            "ticks": ""
           }
          },
          "title": {
           "x": 0.05
          },
          "xaxis": {
           "automargin": true,
           "gridcolor": "white",
           "linecolor": "white",
           "ticks": "",
           "title": {
            "standoff": 15
           },
           "zerolinecolor": "white",
           "zerolinewidth": 2
          },
          "yaxis": {
           "automargin": true,
           "gridcolor": "white",
           "linecolor": "white",
           "ticks": "",
           "title": {
            "standoff": 15
           },
           "zerolinecolor": "white",
           "zerolinewidth": 2
          }
         }
        },
        "title": {
         "text": "U.S. Gulf Coast Kerosene-Type Jet Fuel Price($USD/Gallon) vs. Quarterly Net Income"
        },
        "xaxis": {
         "title": {
          "text": "U.S. Gulf Coast Kerosene-Type Jet Fuel Spot Price FOB in U.S. Dollars per Gallon ($USD/Gallon)"
         }
        },
        "yaxis": {
         "title": {
          "text": "Quartlery Net Income for all U.S. Carriers($USD)"
         }
        }
       }
      },
      "text/html": [
       "<div>\n",
       "        \n",
       "        \n",
       "            <div id=\"aa25ef0e-42ed-43ac-9484-d615b88824ca\" class=\"plotly-graph-div\" style=\"height:525px; width:100%;\"></div>\n",
       "            <script type=\"text/javascript\">\n",
       "                require([\"plotly\"], function(Plotly) {\n",
       "                    window.PLOTLYENV=window.PLOTLYENV || {};\n",
       "                    \n",
       "                if (document.getElementById(\"aa25ef0e-42ed-43ac-9484-d615b88824ca\")) {\n",
       "                    Plotly.newPlot(\n",
       "                        'aa25ef0e-42ed-43ac-9484-d615b88824ca',\n",
       "                        [{\"hovertemplate\": \"%{text} <br> KEROSENE JET FUEL PRICE: $%{x} <br> QUARTERLY NET INCOME: %{y}\", \"mode\": \"markers\", \"name\": \"TOTAL FLIGHTS\", \"text\": [\"2000 - Quar 1\", \"2000 - Quar 2\", \"2000 - Quar 3\", \"2000 - Quar 4\", \"2001 - Quar 1\", \"2001 - Quar 2\", \"2001 - Quar 3\", \"2001 - Quar 4\", \"2002 - Quar 1\", \"2002 - Quar 2\", \"2002 - Quar 3\", \"2002 - Quar 4\", \"2003 - Quar 1\", \"2003 - Quar 2\", \"2003 - Quar 3\", \"2003 - Quar 4\", \"2004 - Quar 1\", \"2004 - Quar 2\", \"2004 - Quar 3\", \"2004 - Quar 4\", \"2005 - Quar 1\", \"2005 - Quar 2\", \"2005 - Quar 3\", \"2005 - Quar 4\", \"2006 - Quar 1\", \"2006 - Quar 2\", \"2006 - Quar 3\", \"2006 - Quar 4\", \"2007 - Quar 1\", \"2007 - Quar 2\", \"2007 - Quar 3\", \"2007 - Quar 4\", \"2008 - Quar 1\", \"2008 - Quar 2\", \"2008 - Quar 3\", \"2008 - Quar 4\", \"2009 - Quar 1\", \"2009 - Quar 2\", \"2009 - Quar 3\", \"2009 - Quar 4\", \"2010 - Quar 1\", \"2010 - Quar 2\", \"2010 - Quar 3\", \"2010 - Quar 4\", \"2011 - Quar 1\", \"2011 - Quar 2\", \"2011 - Quar 3\", \"2011 - Quar 4\", \"2012 - Quar 1\", \"2012 - Quar 2\", \"2012 - Quar 3\", \"2012 - Quar 4\", \"2013 - Quar 1\", \"2013 - Quar 2\", \"2013 - Quar 3\", \"2013 - Quar 4\", \"2014 - Quar 1\", \"2014 - Quar 2\", \"2014 - Quar 3\", \"2014 - Quar 4\", \"2015 - Quar 1\", \"2015 - Quar 2\", \"2015 - Quar 3\", \"2015 - Quar 4\", \"2016 - Quar 1\", \"2016 - Quar 2\", \"2016 - Quar 3\", \"2016 - Quar 4\", \"2017 - Quar 1\", \"2017 - Quar 2\", \"2017 - Quar 3\", \"2017 - Quar 4\", \"2018 - Quar 1\", \"2018 - Quar 2\", \"2018 - Quar 3\", \"2018 - Quar 4\", \"2019 - Quar 1\", \"2019 - Quar 2\", \"2019 - Quar 3\", \"2019 - Quar 4\", \"2020 - Quar 1\"], \"type\": \"scatter\", \"x\": [0.7767580645161289, 0.7569682539682541, 0.9059354838709676, 0.9598730158730159, 0.8098548387096771, 0.7865238095238093, 0.73725, 0.5623114754098361, 0.5731311475409836, 0.6628906249999998, 0.7393015873015875, 0.771032258064516, 0.9381129032258063, 0.7356666666666667, 0.7806562499999999, 0.8430819672131146, 0.957483870967742, 1.0351451612903229, 1.2505624999999998, 1.3615409836065573, 1.4216290322580643, 1.5669218749999998, 1.9299206349206348, 1.9452580645161295, 1.8188064516129023, 2.0750793650793655, 2.0356451612903226, 1.7600967741935485, 1.7488709677419356, 2.060190476190477, 2.1611562500000003, 2.5468888888888883, 2.8197580645161286, 3.6707968750000006, 3.4991874999999997, 1.846047619047619, 1.3313548387096779, 1.5662222222222222, 1.7808281250000002, 1.9716190476190472, 2.0597540983606555, 2.1158412698412694, 2.0778437500000004, 2.34436507936508, 2.879460317460316, 3.1255079365079363, 3.027587301587301, 2.9614920634920643, 3.185709677419354, 2.955301587301587, 3.0798593749999994, 3.0055714285714283, 3.089098360655737, 2.763171874999999, 2.9445625, 2.892603174603175, 2.922258064516129, 2.880412698412699, 2.797145161290325, 2.17108064516129, 1.627338709677419, 1.760904761904762, 1.4384843750000007, 1.256984848484849, 0.9934032258064517, 1.2832499999999998, 1.2918593749999998, 1.4329687499999997, 1.4978225806451615, 1.3990317460317463, 1.5921451612903226, 1.7428125, 1.8861129032258066, 2.0887076923076924, 2.1354687499999994, 1.9878500000000001, 1.86878125, 1.9259692307692309, 1.8622121212121208, 1.8597692307692306, 1.3972923076923074], \"y\": [23702.0, 1899096.0, 937327.0, -327425.0, -909776.0, -923115.0, -2560103.0, -3873515.0, -3250361.0, -1469850.0, -2494531.0, -4150742.0, -1920924.0, 647420.0, -265900.0, -176064.0, -1456177.0, -1915125.0, -1123527.0, -4609595.0, -3207135.0, -1487161.0, -2333166.0, -20192434.0, 20862482.0, -694110.0, -161700.0, -1820559.0, -67019.0, 5979562.0, 1800249.0, -21387.0, -11599703.0, -4276656.0, -2718557.0, -5154919.0, -1844758.0, -628662.0, -102224.0, 49366.0, -615726.0, 1595509.0, 2369313.0, 316898.0, -848148.0, 1003401.0, 1482415.0, -245480.0, -1691852.0, 771313.0, 1369708.0, -85437.0, -45631.0, 2146407.0, 3222741.0, 7387696.0, 549797.0, 3849384.0, 3522647.0, 518805.0, 3544541.0, 5732622.0, 9655117.0, 7447652.0, 3495119.0, 5094145.0, 4195563.0, 2824916.0, 2318254.0, 4995529.0, 3901986.0, 5588711.0, 3438610.0, 4109147.0, 4130730.0, 3580010.0, 2692244.0, 5251150.0, 4922673.0, 3598068.0, -4942084.0]}, {\"hovertemplate\": \"%{text} <br> KEROSENE JET FUEL PRICE: $%{x} <br> QUARTERLY NET INCOME: %{y}\", \"mode\": \"markers\", \"name\": \"DOMESTIC FLIGHTS\", \"text\": [\"2000 - Quar 1\", \"2000 - Quar 2\", \"2000 - Quar 3\", \"2000 - Quar 4\", \"2001 - Quar 1\", \"2001 - Quar 2\", \"2001 - Quar 3\", \"2001 - Quar 4\", \"2002 - Quar 1\", \"2002 - Quar 2\", \"2002 - Quar 3\", \"2002 - Quar 4\", \"2003 - Quar 1\", \"2003 - Quar 2\", \"2003 - Quar 3\", \"2003 - Quar 4\", \"2004 - Quar 1\", \"2004 - Quar 2\", \"2004 - Quar 3\", \"2004 - Quar 4\", \"2005 - Quar 1\", \"2005 - Quar 2\", \"2005 - Quar 3\", \"2005 - Quar 4\", \"2006 - Quar 1\", \"2006 - Quar 2\", \"2006 - Quar 3\", \"2006 - Quar 4\", \"2007 - Quar 1\", \"2007 - Quar 2\", \"2007 - Quar 3\", \"2007 - Quar 4\", \"2008 - Quar 1\", \"2008 - Quar 2\", \"2008 - Quar 3\", \"2008 - Quar 4\", \"2009 - Quar 1\", \"2009 - Quar 2\", \"2009 - Quar 3\", \"2009 - Quar 4\", \"2010 - Quar 1\", \"2010 - Quar 2\", \"2010 - Quar 3\", \"2010 - Quar 4\", \"2011 - Quar 1\", \"2011 - Quar 2\", \"2011 - Quar 3\", \"2011 - Quar 4\", \"2012 - Quar 1\", \"2012 - Quar 2\", \"2012 - Quar 3\", \"2012 - Quar 4\", \"2013 - Quar 1\", \"2013 - Quar 2\", \"2013 - Quar 3\", \"2013 - Quar 4\", \"2014 - Quar 1\", \"2014 - Quar 2\", \"2014 - Quar 3\", \"2014 - Quar 4\", \"2015 - Quar 1\", \"2015 - Quar 2\", \"2015 - Quar 3\", \"2015 - Quar 4\", \"2016 - Quar 1\", \"2016 - Quar 2\", \"2016 - Quar 3\", \"2016 - Quar 4\", \"2017 - Quar 1\", \"2017 - Quar 2\", \"2017 - Quar 3\", \"2017 - Quar 4\", \"2018 - Quar 1\", \"2018 - Quar 2\", \"2018 - Quar 3\", \"2018 - Quar 4\", \"2019 - Quar 1\", \"2019 - Quar 2\", \"2019 - Quar 3\", \"2019 - Quar 4\", \"2020 - Quar 1\"], \"type\": \"scatter\", \"x\": [0.7767580645161289, 0.7569682539682541, 0.9059354838709676, 0.9598730158730159, 0.8098548387096771, 0.7865238095238093, 0.73725, 0.5623114754098361, 0.5731311475409836, 0.6628906249999998, 0.7393015873015875, 0.771032258064516, 0.9381129032258063, 0.7356666666666667, 0.7806562499999999, 0.8430819672131146, 0.957483870967742, 1.0351451612903229, 1.2505624999999998, 1.3615409836065573, 1.4216290322580643, 1.5669218749999998, 1.9299206349206348, 1.9452580645161295, 1.8188064516129023, 2.0750793650793655, 2.0356451612903226, 1.7600967741935485, 1.7488709677419356, 2.060190476190477, 2.1611562500000003, 2.5468888888888883, 2.8197580645161286, 3.6707968750000006, 3.4991874999999997, 1.846047619047619, 1.3313548387096779, 1.5662222222222222, 1.7808281250000002, 1.9716190476190472, 2.0597540983606555, 2.1158412698412694, 2.0778437500000004, 2.34436507936508, 2.879460317460316, 3.1255079365079363, 3.027587301587301, 2.9614920634920643, 3.185709677419354, 2.955301587301587, 3.0798593749999994, 3.0055714285714283, 3.089098360655737, 2.763171874999999, 2.9445625, 2.892603174603175, 2.922258064516129, 2.880412698412699, 2.797145161290325, 2.17108064516129, 1.627338709677419, 1.760904761904762, 1.4384843750000007, 1.256984848484849, 0.9934032258064517, 1.2832499999999998, 1.2918593749999998, 1.4329687499999997, 1.4978225806451615, 1.3990317460317463, 1.5921451612903226, 1.7428125, 1.8861129032258066, 2.0887076923076924, 2.1354687499999994, 1.9878500000000001, 1.86878125, 1.9259692307692309, 1.8622121212121208, 1.8597692307692306, 1.3972923076923074], \"y\": [139162.0, 1570500.0, 548903.0, -267068.0, -822384.0, -774977.0, -2232653.0, -3404841.0, -2621918.0, -1298581.0, -2351704.0, -3056898.0, -1085012.0, 606461.0, -642496.0, -348536.0, -1622122.0, -2018851.0, -1702368.0, -4562813.0, -2956735.0, -1511275.0, -2231293.0, -13048233.0, 12049285.0, -642693.0, -592826.0, -1770107.0, -488478.0, 3403274.0, 626687.0, -545608.0, -9777777.0, -2254820.0, -2633833.0, -3507540.0, -1516128.0, -344471.0, -144230.0, -247244.0, -704121.0, 657279.0, 1178343.0, 44633.0, -455423.0, 1152067.0, 761688.0, -17775.0, -213497.0, 1513613.0, 564041.0, 348019.0, 227114.0, 2147207.0, 2384395.0, 5763127.0, 926580.0, 3467788.0, 2828108.0, 1422907.0, 3055504.0, 4678728.0, 6494263.0, 6983407.0, 2856167.0, 4229096.0, 3407438.0, 2861738.0, 2647152.0, 5046701.0, 3575301.0, 5752299.0, 3157073.0, 3745492.0, 3481675.0, 3554690.0, 2738558.0, 4894087.0, 4363439.0, 3738977.0, -3226298.0]}, {\"hovertemplate\": \"%{text} <br> KEROSENE JET FUEL PRICE: $%{x} <br> QUARTERLY NET INCOME: %{y}\", \"mode\": \"markers\", \"name\": \"LATIN AMERICA\", \"text\": [\"2000 - Quar 1\", \"2000 - Quar 2\", \"2000 - Quar 3\", \"2000 - Quar 4\", \"2001 - Quar 1\", \"2001 - Quar 2\", \"2001 - Quar 3\", \"2001 - Quar 4\", \"2002 - Quar 1\", \"2002 - Quar 2\", \"2002 - Quar 3\", \"2002 - Quar 4\", \"2003 - Quar 1\", \"2003 - Quar 2\", \"2003 - Quar 3\", \"2003 - Quar 4\", \"2004 - Quar 1\", \"2004 - Quar 2\", \"2004 - Quar 3\", \"2004 - Quar 4\", \"2005 - Quar 1\", \"2005 - Quar 2\", \"2005 - Quar 3\", \"2005 - Quar 4\", \"2006 - Quar 1\", \"2006 - Quar 2\", \"2006 - Quar 3\", \"2006 - Quar 4\", \"2007 - Quar 1\", \"2007 - Quar 2\", \"2007 - Quar 3\", \"2007 - Quar 4\", \"2008 - Quar 1\", \"2008 - Quar 2\", \"2008 - Quar 3\", \"2008 - Quar 4\", \"2009 - Quar 1\", \"2009 - Quar 2\", \"2009 - Quar 3\", \"2009 - Quar 4\", \"2010 - Quar 1\", \"2010 - Quar 2\", \"2010 - Quar 3\", \"2010 - Quar 4\", \"2011 - Quar 1\", \"2011 - Quar 2\", \"2011 - Quar 3\", \"2011 - Quar 4\", \"2012 - Quar 1\", \"2012 - Quar 2\", \"2012 - Quar 3\", \"2012 - Quar 4\", \"2013 - Quar 1\", \"2013 - Quar 2\", \"2013 - Quar 3\", \"2013 - Quar 4\", \"2014 - Quar 1\", \"2014 - Quar 2\", \"2014 - Quar 3\", \"2014 - Quar 4\", \"2015 - Quar 1\", \"2015 - Quar 2\", \"2015 - Quar 3\", \"2015 - Quar 4\", \"2016 - Quar 1\", \"2016 - Quar 2\", \"2016 - Quar 3\", \"2016 - Quar 4\", \"2017 - Quar 1\", \"2017 - Quar 2\", \"2017 - Quar 3\", \"2017 - Quar 4\", \"2018 - Quar 1\", \"2018 - Quar 2\", \"2018 - Quar 3\", \"2018 - Quar 4\", \"2019 - Quar 1\", \"2019 - Quar 2\", \"2019 - Quar 3\", \"2019 - Quar 4\", \"2020 - Quar 1\"], \"type\": \"scatter\", \"x\": [0.7767580645161289, 0.7569682539682541, 0.9059354838709676, 0.9598730158730159, 0.8098548387096771, 0.7865238095238093, 0.73725, 0.5623114754098361, 0.5731311475409836, 0.6628906249999998, 0.7393015873015875, 0.771032258064516, 0.9381129032258063, 0.7356666666666667, 0.7806562499999999, 0.8430819672131146, 0.957483870967742, 1.0351451612903229, 1.2505624999999998, 1.3615409836065573, 1.4216290322580643, 1.5669218749999998, 1.9299206349206348, 1.9452580645161295, 1.8188064516129023, 2.0750793650793655, 2.0356451612903226, 1.7600967741935485, 1.7488709677419356, 2.060190476190477, 2.1611562500000003, 2.5468888888888883, 2.8197580645161286, 3.6707968750000006, 3.4991874999999997, 1.846047619047619, 1.3313548387096779, 1.5662222222222222, 1.7808281250000002, 1.9716190476190472, 2.0597540983606555, 2.1158412698412694, 2.0778437500000004, 2.34436507936508, 2.879460317460316, 3.1255079365079363, 3.027587301587301, 2.9614920634920643, 3.185709677419354, 2.955301587301587, 3.0798593749999994, 3.0055714285714283, 3.089098360655737, 2.763171874999999, 2.9445625, 2.892603174603175, 2.922258064516129, 2.880412698412699, 2.797145161290325, 2.17108064516129, 1.627338709677419, 1.760904761904762, 1.4384843750000007, 1.256984848484849, 0.9934032258064517, 1.2832499999999998, 1.2918593749999998, 1.4329687499999997, 1.4978225806451615, 1.3990317460317463, 1.5921451612903226, 1.7428125, 1.8861129032258066, 2.0887076923076924, 2.1354687499999994, 1.9878500000000001, 1.86878125, 1.9259692307692309, 1.8622121212121208, 1.8597692307692306, 1.3972923076923074], \"y\": [58927.0, -86040.0, 33056.0, 6639.0, 76822.0, 3683.0, -6375.0, -63631.0, -176148.0, -44110.0, -67435.0, -149090.0, -51869.0, 100285.0, 129566.0, 107826.0, 201821.0, 42467.0, 38782.0, 30756.0, 95583.0, 30014.0, -43150.0, -802628.0, 1110214.0, 42078.0, 190769.0, 121001.0, 303476.0, 368016.0, 242447.0, 221388.0, -335226.0, -221837.0, 171764.0, -29950.0, 136650.0, -11264.0, 86376.0, 192905.0, 40958.0, 95963.0, 262817.0, 235472.0, 177773.0, 151816.0, 420131.0, 162680.0, -357006.0, -104616.0, 187415.0, 169237.0, 290326.0, -59773.0, 125408.0, 156472.0, 22305.0, -54932.0, -75577.0, -131575.0, 213705.0, 158598.0, 604630.0, 25921.0, 362407.0, 279168.0, 266508.0, 141921.0, 61452.0, 152157.0, 380782.0, 156080.0, 341526.0, 150583.0, 336129.0, 205160.0, 269912.0, 337052.0, 477840.0, 465079.0, -251044.0]}, {\"hovertemplate\": \"%{text} <br> KEROSENE JET FUEL PRICE: $%{x} <br> QUARTERLY NET INCOME: %{y}\", \"mode\": \"markers\", \"name\": \"ATLANTIC FLIGHTS\", \"text\": [\"2000 - Quar 1\", \"2000 - Quar 2\", \"2000 - Quar 3\", \"2000 - Quar 4\", \"2001 - Quar 1\", \"2001 - Quar 2\", \"2001 - Quar 3\", \"2001 - Quar 4\", \"2002 - Quar 1\", \"2002 - Quar 2\", \"2002 - Quar 3\", \"2002 - Quar 4\", \"2003 - Quar 1\", \"2003 - Quar 2\", \"2003 - Quar 3\", \"2003 - Quar 4\", \"2004 - Quar 1\", \"2004 - Quar 2\", \"2004 - Quar 3\", \"2004 - Quar 4\", \"2005 - Quar 1\", \"2005 - Quar 2\", \"2005 - Quar 3\", \"2005 - Quar 4\", \"2006 - Quar 1\", \"2006 - Quar 2\", \"2006 - Quar 3\", \"2006 - Quar 4\", \"2007 - Quar 1\", \"2007 - Quar 2\", \"2007 - Quar 3\", \"2007 - Quar 4\", \"2008 - Quar 1\", \"2008 - Quar 2\", \"2008 - Quar 3\", \"2008 - Quar 4\", \"2009 - Quar 1\", \"2009 - Quar 2\", \"2009 - Quar 3\", \"2009 - Quar 4\", \"2010 - Quar 1\", \"2010 - Quar 2\", \"2010 - Quar 3\", \"2010 - Quar 4\", \"2011 - Quar 1\", \"2011 - Quar 2\", \"2011 - Quar 3\", \"2011 - Quar 4\", \"2012 - Quar 1\", \"2012 - Quar 2\", \"2012 - Quar 3\", \"2012 - Quar 4\", \"2013 - Quar 1\", \"2013 - Quar 2\", \"2013 - Quar 3\", \"2013 - Quar 4\", \"2014 - Quar 1\", \"2014 - Quar 2\", \"2014 - Quar 3\", \"2014 - Quar 4\", \"2015 - Quar 1\", \"2015 - Quar 2\", \"2015 - Quar 3\", \"2015 - Quar 4\", \"2016 - Quar 1\", \"2016 - Quar 2\", \"2016 - Quar 3\", \"2016 - Quar 4\", \"2017 - Quar 1\", \"2017 - Quar 2\", \"2017 - Quar 3\", \"2017 - Quar 4\", \"2018 - Quar 1\", \"2018 - Quar 2\", \"2018 - Quar 3\", \"2018 - Quar 4\", \"2019 - Quar 1\", \"2019 - Quar 2\", \"2019 - Quar 3\", \"2019 - Quar 4\", \"2020 - Quar 1\"], \"type\": \"scatter\", \"x\": [0.7767580645161289, 0.7569682539682541, 0.9059354838709676, 0.9598730158730159, 0.8098548387096771, 0.7865238095238093, 0.73725, 0.5623114754098361, 0.5731311475409836, 0.6628906249999998, 0.7393015873015875, 0.771032258064516, 0.9381129032258063, 0.7356666666666667, 0.7806562499999999, 0.8430819672131146, 0.957483870967742, 1.0351451612903229, 1.2505624999999998, 1.3615409836065573, 1.4216290322580643, 1.5669218749999998, 1.9299206349206348, 1.9452580645161295, 1.8188064516129023, 2.0750793650793655, 2.0356451612903226, 1.7600967741935485, 1.7488709677419356, 2.060190476190477, 2.1611562500000003, 2.5468888888888883, 2.8197580645161286, 3.6707968750000006, 3.4991874999999997, 1.846047619047619, 1.3313548387096779, 1.5662222222222222, 1.7808281250000002, 1.9716190476190472, 2.0597540983606555, 2.1158412698412694, 2.0778437500000004, 2.34436507936508, 2.879460317460316, 3.1255079365079363, 3.027587301587301, 2.9614920634920643, 3.185709677419354, 2.955301587301587, 3.0798593749999994, 3.0055714285714283, 3.089098360655737, 2.763171874999999, 2.9445625, 2.892603174603175, 2.922258064516129, 2.880412698412699, 2.797145161290325, 2.17108064516129, 1.627338709677419, 1.760904761904762, 1.4384843750000007, 1.256984848484849, 0.9934032258064517, 1.2832499999999998, 1.2918593749999998, 1.4329687499999997, 1.4978225806451615, 1.3990317460317463, 1.5921451612903226, 1.7428125, 1.8861129032258066, 2.0887076923076924, 2.1354687499999994, 1.9878500000000001, 1.86878125, 1.9259692307692309, 1.8622121212121208, 1.8597692307692306, 1.3972923076923074], \"y\": [-68918.0, 250371.0, 226224.0, -95916.0, -59644.0, 116147.0, -44209.0, -194802.0, -372012.0, -43360.0, -38578.0, -575563.0, -452157.0, 168328.0, 290670.0, 109623.0, 31510.0, 115648.0, 331619.0, -71246.0, -202866.0, 207515.0, 164743.0, -2278672.0, 2966133.0, 83950.0, 310776.0, -172714.0, 112807.0, 1224053.0, 591292.0, 120177.0, -1326883.0, -849465.0, -213390.0, -886774.0, -446958.0, -164482.0, -3069.0, -20067.0, -146182.0, 396501.0, 397620.0, -200267.0, -612217.0, -285411.0, 94273.0, -363956.0, -876974.0, -293620.0, 309960.0, -269382.0, -372745.0, 299871.0, 620320.0, 899296.0, -269343.0, 521443.0, 633410.0, -342098.0, 152544.0, 655387.0, 1683382.0, 407138.0, 43896.0, 326080.0, 351436.0, -91411.0, -134888.0, 115185.0, 19548.0, -227641.0, 319232.0, 396013.0, 391801.0, 11404.0, -146614.0, 278518.0, 323253.0, -76833.0, -924756.0]}, {\"hovertemplate\": \"%{text} <br> KEROSENE JET FUEL PRICE: $%{x} <br> QUARTERLY NET INCOME: %{y}\", \"mode\": \"markers\", \"name\": \"PACIFIC FLIGHTS\", \"text\": [\"2000 - Quar 1\", \"2000 - Quar 2\", \"2000 - Quar 3\", \"2000 - Quar 4\", \"2001 - Quar 1\", \"2001 - Quar 2\", \"2001 - Quar 3\", \"2001 - Quar 4\", \"2002 - Quar 1\", \"2002 - Quar 2\", \"2002 - Quar 3\", \"2002 - Quar 4\", \"2003 - Quar 1\", \"2003 - Quar 2\", \"2003 - Quar 3\", \"2003 - Quar 4\", \"2004 - Quar 1\", \"2004 - Quar 2\", \"2004 - Quar 3\", \"2004 - Quar 4\", \"2005 - Quar 1\", \"2005 - Quar 2\", \"2005 - Quar 3\", \"2005 - Quar 4\", \"2006 - Quar 1\", \"2006 - Quar 2\", \"2006 - Quar 3\", \"2006 - Quar 4\", \"2007 - Quar 1\", \"2007 - Quar 2\", \"2007 - Quar 3\", \"2007 - Quar 4\", \"2008 - Quar 1\", \"2008 - Quar 2\", \"2008 - Quar 3\", \"2008 - Quar 4\", \"2009 - Quar 1\", \"2009 - Quar 2\", \"2009 - Quar 3\", \"2009 - Quar 4\", \"2010 - Quar 1\", \"2010 - Quar 2\", \"2010 - Quar 3\", \"2010 - Quar 4\", \"2011 - Quar 1\", \"2011 - Quar 2\", \"2011 - Quar 3\", \"2011 - Quar 4\", \"2012 - Quar 1\", \"2012 - Quar 2\", \"2012 - Quar 3\", \"2012 - Quar 4\", \"2013 - Quar 1\", \"2013 - Quar 2\", \"2013 - Quar 3\", \"2013 - Quar 4\", \"2014 - Quar 1\", \"2014 - Quar 2\", \"2014 - Quar 3\", \"2014 - Quar 4\", \"2015 - Quar 1\", \"2015 - Quar 2\", \"2015 - Quar 3\", \"2015 - Quar 4\", \"2016 - Quar 1\", \"2016 - Quar 2\", \"2016 - Quar 3\", \"2016 - Quar 4\", \"2017 - Quar 1\", \"2017 - Quar 2\", \"2017 - Quar 3\", \"2017 - Quar 4\", \"2018 - Quar 1\", \"2018 - Quar 2\", \"2018 - Quar 3\", \"2018 - Quar 4\", \"2019 - Quar 1\", \"2019 - Quar 2\", \"2019 - Quar 3\", \"2019 - Quar 4\", \"2020 - Quar 1\"], \"type\": \"scatter\", \"x\": [0.7767580645161289, 0.7569682539682541, 0.9059354838709676, 0.9598730158730159, 0.8098548387096771, 0.7865238095238093, 0.73725, 0.5623114754098361, 0.5731311475409836, 0.6628906249999998, 0.7393015873015875, 0.771032258064516, 0.9381129032258063, 0.7356666666666667, 0.7806562499999999, 0.8430819672131146, 0.957483870967742, 1.0351451612903229, 1.2505624999999998, 1.3615409836065573, 1.4216290322580643, 1.5669218749999998, 1.9299206349206348, 1.9452580645161295, 1.8188064516129023, 2.0750793650793655, 2.0356451612903226, 1.7600967741935485, 1.7488709677419356, 2.060190476190477, 2.1611562500000003, 2.5468888888888883, 2.8197580645161286, 3.6707968750000006, 3.4991874999999997, 1.846047619047619, 1.3313548387096779, 1.5662222222222222, 1.7808281250000002, 1.9716190476190472, 2.0597540983606555, 2.1158412698412694, 2.0778437500000004, 2.34436507936508, 2.879460317460316, 3.1255079365079363, 3.027587301587301, 2.9614920634920643, 3.185709677419354, 2.955301587301587, 3.0798593749999994, 3.0055714285714283, 3.089098360655737, 2.763171874999999, 2.9445625, 2.892603174603175, 2.922258064516129, 2.880412698412699, 2.797145161290325, 2.17108064516129, 1.627338709677419, 1.760904761904762, 1.4384843750000007, 1.256984848484849, 0.9934032258064517, 1.2832499999999998, 1.2918593749999998, 1.4329687499999997, 1.4978225806451615, 1.3990317460317463, 1.5921451612903226, 1.7428125, 1.8861129032258066, 2.0887076923076924, 2.1354687499999994, 1.9878500000000001, 1.86878125, 1.9259692307692309, 1.8622121212121208, 1.8597692307692306, 1.3972923076923074], \"y\": [-106308.0, 154724.0, 83675.0, 5533.0, -101160.0, -205108.0, -272018.0, -190370.0, -89470.0, -49899.0, -64051.0, -288296.0, -330213.0, -227315.0, -51195.0, -42980.0, -73884.0, -61035.0, 94637.0, -31241.0, -179050.0, -249681.0, -293751.0, -4111334.0, 4705502.0, -186742.0, -109207.0, -57349.0, -39093.0, 922144.0, 302755.0, 135670.0, -151807.0, -953640.0, -58070.0, -499005.0, -63964.0, -114056.0, -58753.0, 23138.0, 107467.0, 359678.0, 461467.0, 174245.0, 37456.0, -24198.0, 199367.0, 9876.0, -196898.0, -310960.0, 327948.0, -240082.0, -335847.0, -198500.0, 83532.0, 610054.0, -145495.0, -120602.0, 96429.0, -468313.0, 79301.0, 201055.0, 888611.0, -7333.0, 226726.0, 257402.0, 163709.0, -168870.0, -240086.0, -259166.0, -87092.0, -255386.0, -399452.0, -215682.0, -119818.0, -272172.0, -143659.0, -275831.0, -191276.0, -340004.0, -553586.0]}, {\"hovertemplate\": \"%{text} <br> KEROSENE JET FUEL PRICE: $%{x} <br> QUARTERLY NET INCOME: %{y}\", \"mode\": \"markers\", \"name\": \"INTERNATIONAL FLIGHTS\", \"text\": [\"2000 - Quar 1\", \"2000 - Quar 2\", \"2000 - Quar 3\", \"2000 - Quar 4\", \"2001 - Quar 1\", \"2001 - Quar 2\", \"2001 - Quar 3\", \"2001 - Quar 4\", \"2002 - Quar 1\", \"2002 - Quar 2\", \"2002 - Quar 3\", \"2002 - Quar 4\", \"2003 - Quar 1\", \"2003 - Quar 2\", \"2003 - Quar 3\", \"2003 - Quar 4\", \"2004 - Quar 1\", \"2004 - Quar 2\", \"2004 - Quar 3\", \"2004 - Quar 4\", \"2005 - Quar 1\", \"2005 - Quar 2\", \"2005 - Quar 3\", \"2005 - Quar 4\", \"2006 - Quar 1\", \"2006 - Quar 2\", \"2006 - Quar 3\", \"2006 - Quar 4\", \"2007 - Quar 1\", \"2007 - Quar 2\", \"2007 - Quar 3\", \"2007 - Quar 4\", \"2008 - Quar 1\", \"2008 - Quar 2\", \"2008 - Quar 3\", \"2008 - Quar 4\", \"2009 - Quar 1\", \"2009 - Quar 2\", \"2009 - Quar 3\", \"2009 - Quar 4\", \"2010 - Quar 1\", \"2010 - Quar 2\", \"2010 - Quar 3\", \"2010 - Quar 4\", \"2011 - Quar 1\", \"2011 - Quar 2\", \"2011 - Quar 3\", \"2011 - Quar 4\", \"2012 - Quar 1\", \"2012 - Quar 2\", \"2012 - Quar 3\", \"2012 - Quar 4\", \"2013 - Quar 1\", \"2013 - Quar 2\", \"2013 - Quar 3\", \"2013 - Quar 4\", \"2014 - Quar 1\", \"2014 - Quar 2\", \"2014 - Quar 3\", \"2014 - Quar 4\", \"2015 - Quar 1\", \"2015 - Quar 2\", \"2015 - Quar 3\", \"2015 - Quar 4\", \"2016 - Quar 1\", \"2016 - Quar 2\", \"2016 - Quar 3\", \"2016 - Quar 4\", \"2017 - Quar 1\", \"2017 - Quar 2\", \"2017 - Quar 3\", \"2017 - Quar 4\", \"2018 - Quar 1\", \"2018 - Quar 2\", \"2018 - Quar 3\", \"2018 - Quar 4\", \"2019 - Quar 1\", \"2019 - Quar 2\", \"2019 - Quar 3\", \"2019 - Quar 4\", \"2020 - Quar 1\"], \"type\": \"scatter\", \"x\": [0.7767580645161289, 0.7569682539682541, 0.9059354838709676, 0.9598730158730159, 0.8098548387096771, 0.7865238095238093, 0.73725, 0.5623114754098361, 0.5731311475409836, 0.6628906249999998, 0.7393015873015875, 0.771032258064516, 0.9381129032258063, 0.7356666666666667, 0.7806562499999999, 0.8430819672131146, 0.957483870967742, 1.0351451612903229, 1.2505624999999998, 1.3615409836065573, 1.4216290322580643, 1.5669218749999998, 1.9299206349206348, 1.9452580645161295, 1.8188064516129023, 2.0750793650793655, 2.0356451612903226, 1.7600967741935485, 1.7488709677419356, 2.060190476190477, 2.1611562500000003, 2.5468888888888883, 2.8197580645161286, 3.6707968750000006, 3.4991874999999997, 1.846047619047619, 1.3313548387096779, 1.5662222222222222, 1.7808281250000002, 1.9716190476190472, 2.0597540983606555, 2.1158412698412694, 2.0778437500000004, 2.34436507936508, 2.879460317460316, 3.1255079365079363, 3.027587301587301, 2.9614920634920643, 3.185709677419354, 2.955301587301587, 3.0798593749999994, 3.0055714285714283, 3.089098360655737, 2.763171874999999, 2.9445625, 2.892603174603175, 2.922258064516129, 2.880412698412699, 2.797145161290325, 2.17108064516129, 1.627338709677419, 1.760904761904762, 1.4384843750000007, 1.256984848484849, 0.9934032258064517, 1.2832499999999998, 1.2918593749999998, 1.4329687499999997, 1.4978225806451615, 1.3990317460317463, 1.5921451612903226, 1.7428125, 1.8861129032258066, 2.0887076923076924, 2.1354687499999994, 1.9878500000000001, 1.86878125, 1.9259692307692309, 1.8622121212121208, 1.8597692307692306, 1.3972923076923074], \"y\": [839.0, 9541.0, 45470.0, 23388.0, -3410.0, -62860.0, -4848.0, -19871.0, 9187.0, -33900.0, 27239.0, -80895.0, -1673.0, -340.0, 7554.0, -1997.0, 6499.0, 6648.0, 113802.0, 24949.0, 35932.0, 36266.0, 70285.0, 48434.0, 31349.0, 9296.0, 38787.0, 58610.0, 44269.0, 62075.0, 37068.0, 46986.0, -8011.0, 3106.0, 14972.0, -231649.0, 45643.0, 5612.0, 17452.0, 100634.0, 86152.0, 86089.0, 69066.0, 62815.0, 4263.0, 9125.0, 6956.0, -36306.0, -47476.0, -33105.0, -19657.0, -93230.0, 145522.0, -42398.0, 9086.0, -41253.0, 15751.0, 35687.0, 40277.0, 37883.0, 43486.0, 38855.0, -15769.0, 38520.0, 5922.0, 2399.0, 6472.0, 81537.0, -15375.0, -59347.0, 13447.0, 163358.0, 20232.0, 32741.0, 40944.0, 80929.0, -25952.0, 17323.0, -50583.0, -189151.0, 13600.0]}],\n",
       "                        {\"font\": {\"family\": \"Courier New, monospace\", \"size\": 14}, \"legend\": {\"title\": {\"text\": \"REGIONS\"}}, \"template\": {\"data\": {\"bar\": [{\"error_x\": {\"color\": \"#2a3f5f\"}, \"error_y\": {\"color\": \"#2a3f5f\"}, \"marker\": {\"line\": {\"color\": \"#E5ECF6\", \"width\": 0.5}}, \"type\": \"bar\"}], \"barpolar\": [{\"marker\": {\"line\": {\"color\": \"#E5ECF6\", \"width\": 0.5}}, \"type\": \"barpolar\"}], \"carpet\": [{\"aaxis\": {\"endlinecolor\": \"#2a3f5f\", \"gridcolor\": \"white\", \"linecolor\": \"white\", \"minorgridcolor\": \"white\", \"startlinecolor\": \"#2a3f5f\"}, \"baxis\": {\"endlinecolor\": \"#2a3f5f\", \"gridcolor\": \"white\", \"linecolor\": \"white\", \"minorgridcolor\": \"white\", \"startlinecolor\": \"#2a3f5f\"}, \"type\": \"carpet\"}], \"choropleth\": [{\"colorbar\": {\"outlinewidth\": 0, \"ticks\": \"\"}, \"type\": \"choropleth\"}], \"contour\": [{\"colorbar\": {\"outlinewidth\": 0, \"ticks\": \"\"}, \"colorscale\": [[0.0, \"#0d0887\"], [0.1111111111111111, \"#46039f\"], [0.2222222222222222, \"#7201a8\"], [0.3333333333333333, \"#9c179e\"], [0.4444444444444444, \"#bd3786\"], [0.5555555555555556, \"#d8576b\"], [0.6666666666666666, \"#ed7953\"], [0.7777777777777778, \"#fb9f3a\"], [0.8888888888888888, \"#fdca26\"], [1.0, \"#f0f921\"]], \"type\": \"contour\"}], \"contourcarpet\": [{\"colorbar\": {\"outlinewidth\": 0, \"ticks\": \"\"}, \"type\": \"contourcarpet\"}], \"heatmap\": [{\"colorbar\": {\"outlinewidth\": 0, \"ticks\": \"\"}, \"colorscale\": [[0.0, \"#0d0887\"], [0.1111111111111111, \"#46039f\"], [0.2222222222222222, \"#7201a8\"], [0.3333333333333333, \"#9c179e\"], [0.4444444444444444, \"#bd3786\"], [0.5555555555555556, \"#d8576b\"], [0.6666666666666666, \"#ed7953\"], [0.7777777777777778, \"#fb9f3a\"], [0.8888888888888888, \"#fdca26\"], [1.0, \"#f0f921\"]], \"type\": \"heatmap\"}], \"heatmapgl\": [{\"colorbar\": {\"outlinewidth\": 0, \"ticks\": \"\"}, \"colorscale\": [[0.0, \"#0d0887\"], [0.1111111111111111, \"#46039f\"], [0.2222222222222222, \"#7201a8\"], [0.3333333333333333, \"#9c179e\"], [0.4444444444444444, \"#bd3786\"], [0.5555555555555556, \"#d8576b\"], [0.6666666666666666, \"#ed7953\"], [0.7777777777777778, \"#fb9f3a\"], [0.8888888888888888, \"#fdca26\"], [1.0, \"#f0f921\"]], \"type\": \"heatmapgl\"}], \"histogram\": [{\"marker\": {\"colorbar\": {\"outlinewidth\": 0, \"ticks\": \"\"}}, \"type\": \"histogram\"}], \"histogram2d\": [{\"colorbar\": {\"outlinewidth\": 0, \"ticks\": \"\"}, \"colorscale\": [[0.0, \"#0d0887\"], [0.1111111111111111, \"#46039f\"], [0.2222222222222222, \"#7201a8\"], [0.3333333333333333, \"#9c179e\"], [0.4444444444444444, \"#bd3786\"], [0.5555555555555556, \"#d8576b\"], [0.6666666666666666, \"#ed7953\"], [0.7777777777777778, \"#fb9f3a\"], [0.8888888888888888, \"#fdca26\"], [1.0, \"#f0f921\"]], \"type\": \"histogram2d\"}], \"histogram2dcontour\": [{\"colorbar\": {\"outlinewidth\": 0, \"ticks\": \"\"}, \"colorscale\": [[0.0, \"#0d0887\"], [0.1111111111111111, \"#46039f\"], [0.2222222222222222, \"#7201a8\"], [0.3333333333333333, \"#9c179e\"], [0.4444444444444444, \"#bd3786\"], [0.5555555555555556, \"#d8576b\"], [0.6666666666666666, \"#ed7953\"], [0.7777777777777778, \"#fb9f3a\"], [0.8888888888888888, \"#fdca26\"], [1.0, \"#f0f921\"]], \"type\": \"histogram2dcontour\"}], \"mesh3d\": [{\"colorbar\": {\"outlinewidth\": 0, \"ticks\": \"\"}, \"type\": \"mesh3d\"}], \"parcoords\": [{\"line\": {\"colorbar\": {\"outlinewidth\": 0, \"ticks\": \"\"}}, \"type\": \"parcoords\"}], \"pie\": [{\"automargin\": true, \"type\": \"pie\"}], \"scatter\": [{\"marker\": {\"colorbar\": {\"outlinewidth\": 0, \"ticks\": \"\"}}, \"type\": \"scatter\"}], \"scatter3d\": [{\"line\": {\"colorbar\": {\"outlinewidth\": 0, \"ticks\": \"\"}}, \"marker\": {\"colorbar\": {\"outlinewidth\": 0, \"ticks\": \"\"}}, \"type\": \"scatter3d\"}], \"scattercarpet\": [{\"marker\": {\"colorbar\": {\"outlinewidth\": 0, \"ticks\": \"\"}}, \"type\": \"scattercarpet\"}], \"scattergeo\": [{\"marker\": {\"colorbar\": {\"outlinewidth\": 0, \"ticks\": \"\"}}, \"type\": \"scattergeo\"}], \"scattergl\": [{\"marker\": {\"colorbar\": {\"outlinewidth\": 0, \"ticks\": \"\"}}, \"type\": \"scattergl\"}], \"scattermapbox\": [{\"marker\": {\"colorbar\": {\"outlinewidth\": 0, \"ticks\": \"\"}}, \"type\": \"scattermapbox\"}], \"scatterpolar\": [{\"marker\": {\"colorbar\": {\"outlinewidth\": 0, \"ticks\": \"\"}}, \"type\": \"scatterpolar\"}], \"scatterpolargl\": [{\"marker\": {\"colorbar\": {\"outlinewidth\": 0, \"ticks\": \"\"}}, \"type\": \"scatterpolargl\"}], \"scatterternary\": [{\"marker\": {\"colorbar\": {\"outlinewidth\": 0, \"ticks\": \"\"}}, \"type\": \"scatterternary\"}], \"surface\": [{\"colorbar\": {\"outlinewidth\": 0, \"ticks\": \"\"}, \"colorscale\": [[0.0, \"#0d0887\"], [0.1111111111111111, \"#46039f\"], [0.2222222222222222, \"#7201a8\"], [0.3333333333333333, \"#9c179e\"], [0.4444444444444444, \"#bd3786\"], [0.5555555555555556, \"#d8576b\"], [0.6666666666666666, \"#ed7953\"], [0.7777777777777778, \"#fb9f3a\"], [0.8888888888888888, \"#fdca26\"], [1.0, \"#f0f921\"]], \"type\": \"surface\"}], \"table\": [{\"cells\": {\"fill\": {\"color\": \"#EBF0F8\"}, \"line\": {\"color\": \"white\"}}, \"header\": {\"fill\": {\"color\": \"#C8D4E3\"}, \"line\": {\"color\": \"white\"}}, \"type\": \"table\"}]}, \"layout\": {\"annotationdefaults\": {\"arrowcolor\": \"#2a3f5f\", \"arrowhead\": 0, \"arrowwidth\": 1}, \"coloraxis\": {\"colorbar\": {\"outlinewidth\": 0, \"ticks\": \"\"}}, \"colorscale\": {\"diverging\": [[0, \"#8e0152\"], [0.1, \"#c51b7d\"], [0.2, \"#de77ae\"], [0.3, \"#f1b6da\"], [0.4, \"#fde0ef\"], [0.5, \"#f7f7f7\"], [0.6, \"#e6f5d0\"], [0.7, \"#b8e186\"], [0.8, \"#7fbc41\"], [0.9, \"#4d9221\"], [1, \"#276419\"]], \"sequential\": [[0.0, \"#0d0887\"], [0.1111111111111111, \"#46039f\"], [0.2222222222222222, \"#7201a8\"], [0.3333333333333333, \"#9c179e\"], [0.4444444444444444, \"#bd3786\"], [0.5555555555555556, \"#d8576b\"], [0.6666666666666666, \"#ed7953\"], [0.7777777777777778, \"#fb9f3a\"], [0.8888888888888888, \"#fdca26\"], [1.0, \"#f0f921\"]], \"sequentialminus\": [[0.0, \"#0d0887\"], [0.1111111111111111, \"#46039f\"], [0.2222222222222222, \"#7201a8\"], [0.3333333333333333, \"#9c179e\"], [0.4444444444444444, \"#bd3786\"], [0.5555555555555556, \"#d8576b\"], [0.6666666666666666, \"#ed7953\"], [0.7777777777777778, \"#fb9f3a\"], [0.8888888888888888, \"#fdca26\"], [1.0, \"#f0f921\"]]}, \"colorway\": [\"#636efa\", \"#EF553B\", \"#00cc96\", \"#ab63fa\", \"#FFA15A\", \"#19d3f3\", \"#FF6692\", \"#B6E880\", \"#FF97FF\", \"#FECB52\"], \"font\": {\"color\": \"#2a3f5f\"}, \"geo\": {\"bgcolor\": \"white\", \"lakecolor\": \"white\", \"landcolor\": \"#E5ECF6\", \"showlakes\": true, \"showland\": true, \"subunitcolor\": \"white\"}, \"hoverlabel\": {\"align\": \"left\"}, \"hovermode\": \"closest\", \"mapbox\": {\"style\": \"light\"}, \"paper_bgcolor\": \"white\", \"plot_bgcolor\": \"#E5ECF6\", \"polar\": {\"angularaxis\": {\"gridcolor\": \"white\", \"linecolor\": \"white\", \"ticks\": \"\"}, \"bgcolor\": \"#E5ECF6\", \"radialaxis\": {\"gridcolor\": \"white\", \"linecolor\": \"white\", \"ticks\": \"\"}}, \"scene\": {\"xaxis\": {\"backgroundcolor\": \"#E5ECF6\", \"gridcolor\": \"white\", \"gridwidth\": 2, \"linecolor\": \"white\", \"showbackground\": true, \"ticks\": \"\", \"zerolinecolor\": \"white\"}, \"yaxis\": {\"backgroundcolor\": \"#E5ECF6\", \"gridcolor\": \"white\", \"gridwidth\": 2, \"linecolor\": \"white\", \"showbackground\": true, \"ticks\": \"\", \"zerolinecolor\": \"white\"}, \"zaxis\": {\"backgroundcolor\": \"#E5ECF6\", \"gridcolor\": \"white\", \"gridwidth\": 2, \"linecolor\": \"white\", \"showbackground\": true, \"ticks\": \"\", \"zerolinecolor\": \"white\"}}, \"shapedefaults\": {\"line\": {\"color\": \"#2a3f5f\"}}, \"ternary\": {\"aaxis\": {\"gridcolor\": \"white\", \"linecolor\": \"white\", \"ticks\": \"\"}, \"baxis\": {\"gridcolor\": \"white\", \"linecolor\": \"white\", \"ticks\": \"\"}, \"bgcolor\": \"#E5ECF6\", \"caxis\": {\"gridcolor\": \"white\", \"linecolor\": \"white\", \"ticks\": \"\"}}, \"title\": {\"x\": 0.05}, \"xaxis\": {\"automargin\": true, \"gridcolor\": \"white\", \"linecolor\": \"white\", \"ticks\": \"\", \"title\": {\"standoff\": 15}, \"zerolinecolor\": \"white\", \"zerolinewidth\": 2}, \"yaxis\": {\"automargin\": true, \"gridcolor\": \"white\", \"linecolor\": \"white\", \"ticks\": \"\", \"title\": {\"standoff\": 15}, \"zerolinecolor\": \"white\", \"zerolinewidth\": 2}}}, \"title\": {\"text\": \"U.S. Gulf Coast Kerosene-Type Jet Fuel Price($USD/Gallon) vs. Quarterly Net Income\"}, \"xaxis\": {\"title\": {\"text\": \"U.S. Gulf Coast Kerosene-Type Jet Fuel Spot Price FOB in U.S. Dollars per Gallon ($USD/Gallon)\"}}, \"yaxis\": {\"title\": {\"text\": \"Quartlery Net Income for all U.S. Carriers($USD)\"}}},\n",
       "                        {\"responsive\": true}\n",
       "                    ).then(function(){\n",
       "                            \n",
       "var gd = document.getElementById('aa25ef0e-42ed-43ac-9484-d615b88824ca');\n",
       "var x = new MutationObserver(function (mutations, observer) {{\n",
       "        var display = window.getComputedStyle(gd).display;\n",
       "        if (!display || display === 'none') {{\n",
       "            console.log([gd, 'removed!']);\n",
       "            Plotly.purge(gd);\n",
       "            observer.disconnect();\n",
       "        }}\n",
       "}});\n",
       "\n",
       "// Listen for the removal of the full notebook cells\n",
       "var notebookContainer = gd.closest('#notebook-container');\n",
       "if (notebookContainer) {{\n",
       "    x.observe(notebookContainer, {childList: true});\n",
       "}}\n",
       "\n",
       "// Listen for the clearing of the current output cell\n",
       "var outputEl = gd.closest('.output');\n",
       "if (outputEl) {{\n",
       "    x.observe(outputEl, {childList: true});\n",
       "}}\n",
       "\n",
       "                        })\n",
       "                };\n",
       "                });\n",
       "            </script>\n",
       "        </div>"
      ]
     },
     "metadata": {},
     "output_type": "display_data"
    }
   ],
   "source": [
    "# COMPARE DOMESTIC, INTL, AND TOTAL FLIGHTS:\n",
    "fig4 = go.Figure()\n",
    "\n",
    "fig4.add_trace(go.Scatter(\n",
    "    x=income_and_fuel['U.S. Gulf Coast Kerosene-Type Jet Fuel Spot Price FOB in U.S. Dollars per Gallon'],\n",
    "    y=income_and_fuel['TOTAL'],\n",
    "    name=\"TOTAL FLIGHTS\",       # this sets its legend entry\n",
    "    mode='markers',\n",
    "    text=income_and_fuel['PERIOD'], \n",
    "    hovertemplate='%{text} <br> KEROSENE JET FUEL PRICE: $%{x} <br> QUARTERLY NET INCOME: %{y}',\n",
    "))\n",
    "\n",
    "fig4.add_trace(go.Scatter(\n",
    "    x=income_and_fuel['U.S. Gulf Coast Kerosene-Type Jet Fuel Spot Price FOB in U.S. Dollars per Gallon'],\n",
    "    y=income_and_fuel['DOMESTIC'],\n",
    "    name=\"DOMESTIC FLIGHTS\",       # this sets its legend entry\n",
    "    mode='markers',\n",
    "    text=income_and_fuel['PERIOD'], \n",
    "    hovertemplate='%{text} <br> KEROSENE JET FUEL PRICE: $%{x} <br> QUARTERLY NET INCOME: %{y}',\n",
    "))\n",
    "\n",
    "fig4.add_trace(go.Scatter(\n",
    "    x=income_and_fuel['U.S. Gulf Coast Kerosene-Type Jet Fuel Spot Price FOB in U.S. Dollars per Gallon'],\n",
    "    y=income_and_fuel['LATIN AMERICA'],\n",
    "    name=\"LATIN AMERICA\",       # this sets its legend entry\n",
    "    mode='markers',\n",
    "    text=income_and_fuel['PERIOD'], \n",
    "    hovertemplate='%{text} <br> KEROSENE JET FUEL PRICE: $%{x} <br> QUARTERLY NET INCOME: %{y}'\n",
    "))\n",
    "\n",
    "\n",
    "fig4.add_trace(go.Scatter(\n",
    "    x=income_and_fuel['U.S. Gulf Coast Kerosene-Type Jet Fuel Spot Price FOB in U.S. Dollars per Gallon'],\n",
    "    y=income_and_fuel['ATLANTIC'],\n",
    "    name=\"ATLANTIC FLIGHTS\",       # this sets its legend entry\n",
    "    mode='markers',\n",
    "    text=income_and_fuel['PERIOD'], \n",
    "    hovertemplate='%{text} <br> KEROSENE JET FUEL PRICE: $%{x} <br> QUARTERLY NET INCOME: %{y}'\n",
    "))\n",
    "\n",
    "fig4.add_trace(go.Scatter(\n",
    "    x=income_and_fuel['U.S. Gulf Coast Kerosene-Type Jet Fuel Spot Price FOB in U.S. Dollars per Gallon'],\n",
    "    y=income_and_fuel['PACIFIC'],\n",
    "    name=\"PACIFIC FLIGHTS\",       # this sets its legend entry\n",
    "    mode='markers',\n",
    "    text=income_and_fuel['PERIOD'], \n",
    "    hovertemplate='%{text} <br> KEROSENE JET FUEL PRICE: $%{x} <br> QUARTERLY NET INCOME: %{y}'\n",
    "))\n",
    "\n",
    "\n",
    "fig4.add_trace(go.Scatter(\n",
    "    x=income_and_fuel['U.S. Gulf Coast Kerosene-Type Jet Fuel Spot Price FOB in U.S. Dollars per Gallon'],\n",
    "    y=income_and_fuel['INTERNATIONAL'],\n",
    "    name=\"INTERNATIONAL FLIGHTS\",       # this sets its legend entry\n",
    "    mode='markers',\n",
    "    text=income_and_fuel['PERIOD'], \n",
    "    hovertemplate='%{text} <br> KEROSENE JET FUEL PRICE: $%{x} <br> QUARTERLY NET INCOME: %{y}'\n",
    "))\n",
    "\n",
    "\n",
    "fig4.update_layout(\n",
    "    title=\"U.S. Gulf Coast Kerosene-Type Jet Fuel Price($USD/Gallon) vs. Quarterly Net Income\",\n",
    "    xaxis_title=\"U.S. Gulf Coast Kerosene-Type Jet Fuel Spot Price FOB in U.S. Dollars per Gallon ($USD/Gallon)\",\n",
    "    yaxis_title=\"Quartlery Net Income for all U.S. Carriers($USD)\",\n",
    "    legend_title=\"REGIONS\",\n",
    "    font=dict(\n",
    "        family=\"Courier New, monospace\",\n",
    "        size=14\n",
    "    )\n",
    ")\n",
    "\n",
    "fig4.show()\n",
    "fig4.write_html('U.S. Kerosene-Type Jet Fuel Prices vs. Quarterly Net Income')"
   ]
  },
  {
   "cell_type": "code",
   "execution_count": 92,
   "metadata": {},
   "outputs": [
    {
     "data": {
      "text/html": [
       "<div>\n",
       "<style scoped>\n",
       "    .dataframe tbody tr th:only-of-type {\n",
       "        vertical-align: middle;\n",
       "    }\n",
       "\n",
       "    .dataframe tbody tr th {\n",
       "        vertical-align: top;\n",
       "    }\n",
       "\n",
       "    .dataframe thead th {\n",
       "        text-align: right;\n",
       "    }\n",
       "</style>\n",
       "<table border=\"1\" class=\"dataframe\">\n",
       "  <thead>\n",
       "    <tr style=\"text-align: right;\">\n",
       "      <th></th>\n",
       "      <th>Year</th>\n",
       "      <th>Quarter</th>\n",
       "      <th>DOMESTIC</th>\n",
       "      <th>LATIN AMERICA</th>\n",
       "      <th>ATLANTIC</th>\n",
       "      <th>PACIFIC</th>\n",
       "      <th>INTERNATIONAL</th>\n",
       "      <th>TOTAL</th>\n",
       "      <th>U.S. Gulf Coast Kerosene-Type Jet Fuel Spot Price FOB in U.S. Dollars per Gallon</th>\n",
       "      <th>PERIOD</th>\n",
       "    </tr>\n",
       "  </thead>\n",
       "  <tbody>\n",
       "    <tr>\n",
       "      <th>0</th>\n",
       "      <td>2000</td>\n",
       "      <td>1</td>\n",
       "      <td>139162.0</td>\n",
       "      <td>58927.0</td>\n",
       "      <td>-68918.0</td>\n",
       "      <td>-106308.0</td>\n",
       "      <td>839.0</td>\n",
       "      <td>23702.0</td>\n",
       "      <td>0.776758</td>\n",
       "      <td>2000 - Quar 1</td>\n",
       "    </tr>\n",
       "    <tr>\n",
       "      <th>4</th>\n",
       "      <td>2001</td>\n",
       "      <td>1</td>\n",
       "      <td>-822384.0</td>\n",
       "      <td>76822.0</td>\n",
       "      <td>-59644.0</td>\n",
       "      <td>-101160.0</td>\n",
       "      <td>-3410.0</td>\n",
       "      <td>-909776.0</td>\n",
       "      <td>0.809855</td>\n",
       "      <td>2001 - Quar 1</td>\n",
       "    </tr>\n",
       "    <tr>\n",
       "      <th>8</th>\n",
       "      <td>2002</td>\n",
       "      <td>1</td>\n",
       "      <td>-2621918.0</td>\n",
       "      <td>-176148.0</td>\n",
       "      <td>-372012.0</td>\n",
       "      <td>-89470.0</td>\n",
       "      <td>9187.0</td>\n",
       "      <td>-3250361.0</td>\n",
       "      <td>0.573131</td>\n",
       "      <td>2002 - Quar 1</td>\n",
       "    </tr>\n",
       "    <tr>\n",
       "      <th>12</th>\n",
       "      <td>2003</td>\n",
       "      <td>1</td>\n",
       "      <td>-1085012.0</td>\n",
       "      <td>-51869.0</td>\n",
       "      <td>-452157.0</td>\n",
       "      <td>-330213.0</td>\n",
       "      <td>-1673.0</td>\n",
       "      <td>-1920924.0</td>\n",
       "      <td>0.938113</td>\n",
       "      <td>2003 - Quar 1</td>\n",
       "    </tr>\n",
       "    <tr>\n",
       "      <th>16</th>\n",
       "      <td>2004</td>\n",
       "      <td>1</td>\n",
       "      <td>-1622122.0</td>\n",
       "      <td>201821.0</td>\n",
       "      <td>31510.0</td>\n",
       "      <td>-73884.0</td>\n",
       "      <td>6499.0</td>\n",
       "      <td>-1456177.0</td>\n",
       "      <td>0.957484</td>\n",
       "      <td>2004 - Quar 1</td>\n",
       "    </tr>\n",
       "    <tr>\n",
       "      <th>20</th>\n",
       "      <td>2005</td>\n",
       "      <td>1</td>\n",
       "      <td>-2956735.0</td>\n",
       "      <td>95583.0</td>\n",
       "      <td>-202866.0</td>\n",
       "      <td>-179050.0</td>\n",
       "      <td>35932.0</td>\n",
       "      <td>-3207135.0</td>\n",
       "      <td>1.421629</td>\n",
       "      <td>2005 - Quar 1</td>\n",
       "    </tr>\n",
       "    <tr>\n",
       "      <th>24</th>\n",
       "      <td>2006</td>\n",
       "      <td>1</td>\n",
       "      <td>12049285.0</td>\n",
       "      <td>1110214.0</td>\n",
       "      <td>2966133.0</td>\n",
       "      <td>4705502.0</td>\n",
       "      <td>31349.0</td>\n",
       "      <td>20862482.0</td>\n",
       "      <td>1.818806</td>\n",
       "      <td>2006 - Quar 1</td>\n",
       "    </tr>\n",
       "    <tr>\n",
       "      <th>28</th>\n",
       "      <td>2007</td>\n",
       "      <td>1</td>\n",
       "      <td>-488478.0</td>\n",
       "      <td>303476.0</td>\n",
       "      <td>112807.0</td>\n",
       "      <td>-39093.0</td>\n",
       "      <td>44269.0</td>\n",
       "      <td>-67019.0</td>\n",
       "      <td>1.748871</td>\n",
       "      <td>2007 - Quar 1</td>\n",
       "    </tr>\n",
       "    <tr>\n",
       "      <th>32</th>\n",
       "      <td>2008</td>\n",
       "      <td>1</td>\n",
       "      <td>-9777777.0</td>\n",
       "      <td>-335226.0</td>\n",
       "      <td>-1326883.0</td>\n",
       "      <td>-151807.0</td>\n",
       "      <td>-8011.0</td>\n",
       "      <td>-11599703.0</td>\n",
       "      <td>2.819758</td>\n",
       "      <td>2008 - Quar 1</td>\n",
       "    </tr>\n",
       "    <tr>\n",
       "      <th>36</th>\n",
       "      <td>2009</td>\n",
       "      <td>1</td>\n",
       "      <td>-1516128.0</td>\n",
       "      <td>136650.0</td>\n",
       "      <td>-446958.0</td>\n",
       "      <td>-63964.0</td>\n",
       "      <td>45643.0</td>\n",
       "      <td>-1844758.0</td>\n",
       "      <td>1.331355</td>\n",
       "      <td>2009 - Quar 1</td>\n",
       "    </tr>\n",
       "    <tr>\n",
       "      <th>40</th>\n",
       "      <td>2010</td>\n",
       "      <td>1</td>\n",
       "      <td>-704121.0</td>\n",
       "      <td>40958.0</td>\n",
       "      <td>-146182.0</td>\n",
       "      <td>107467.0</td>\n",
       "      <td>86152.0</td>\n",
       "      <td>-615726.0</td>\n",
       "      <td>2.059754</td>\n",
       "      <td>2010 - Quar 1</td>\n",
       "    </tr>\n",
       "    <tr>\n",
       "      <th>44</th>\n",
       "      <td>2011</td>\n",
       "      <td>1</td>\n",
       "      <td>-455423.0</td>\n",
       "      <td>177773.0</td>\n",
       "      <td>-612217.0</td>\n",
       "      <td>37456.0</td>\n",
       "      <td>4263.0</td>\n",
       "      <td>-848148.0</td>\n",
       "      <td>2.879460</td>\n",
       "      <td>2011 - Quar 1</td>\n",
       "    </tr>\n",
       "    <tr>\n",
       "      <th>48</th>\n",
       "      <td>2012</td>\n",
       "      <td>1</td>\n",
       "      <td>-213497.0</td>\n",
       "      <td>-357006.0</td>\n",
       "      <td>-876974.0</td>\n",
       "      <td>-196898.0</td>\n",
       "      <td>-47476.0</td>\n",
       "      <td>-1691852.0</td>\n",
       "      <td>3.185710</td>\n",
       "      <td>2012 - Quar 1</td>\n",
       "    </tr>\n",
       "    <tr>\n",
       "      <th>52</th>\n",
       "      <td>2013</td>\n",
       "      <td>1</td>\n",
       "      <td>227114.0</td>\n",
       "      <td>290326.0</td>\n",
       "      <td>-372745.0</td>\n",
       "      <td>-335847.0</td>\n",
       "      <td>145522.0</td>\n",
       "      <td>-45631.0</td>\n",
       "      <td>3.089098</td>\n",
       "      <td>2013 - Quar 1</td>\n",
       "    </tr>\n",
       "    <tr>\n",
       "      <th>56</th>\n",
       "      <td>2014</td>\n",
       "      <td>1</td>\n",
       "      <td>926580.0</td>\n",
       "      <td>22305.0</td>\n",
       "      <td>-269343.0</td>\n",
       "      <td>-145495.0</td>\n",
       "      <td>15751.0</td>\n",
       "      <td>549797.0</td>\n",
       "      <td>2.922258</td>\n",
       "      <td>2014 - Quar 1</td>\n",
       "    </tr>\n",
       "    <tr>\n",
       "      <th>60</th>\n",
       "      <td>2015</td>\n",
       "      <td>1</td>\n",
       "      <td>3055504.0</td>\n",
       "      <td>213705.0</td>\n",
       "      <td>152544.0</td>\n",
       "      <td>79301.0</td>\n",
       "      <td>43486.0</td>\n",
       "      <td>3544541.0</td>\n",
       "      <td>1.627339</td>\n",
       "      <td>2015 - Quar 1</td>\n",
       "    </tr>\n",
       "    <tr>\n",
       "      <th>64</th>\n",
       "      <td>2016</td>\n",
       "      <td>1</td>\n",
       "      <td>2856167.0</td>\n",
       "      <td>362407.0</td>\n",
       "      <td>43896.0</td>\n",
       "      <td>226726.0</td>\n",
       "      <td>5922.0</td>\n",
       "      <td>3495119.0</td>\n",
       "      <td>0.993403</td>\n",
       "      <td>2016 - Quar 1</td>\n",
       "    </tr>\n",
       "    <tr>\n",
       "      <th>68</th>\n",
       "      <td>2017</td>\n",
       "      <td>1</td>\n",
       "      <td>2647152.0</td>\n",
       "      <td>61452.0</td>\n",
       "      <td>-134888.0</td>\n",
       "      <td>-240086.0</td>\n",
       "      <td>-15375.0</td>\n",
       "      <td>2318254.0</td>\n",
       "      <td>1.497823</td>\n",
       "      <td>2017 - Quar 1</td>\n",
       "    </tr>\n",
       "    <tr>\n",
       "      <th>72</th>\n",
       "      <td>2018</td>\n",
       "      <td>1</td>\n",
       "      <td>3157073.0</td>\n",
       "      <td>341526.0</td>\n",
       "      <td>319232.0</td>\n",
       "      <td>-399452.0</td>\n",
       "      <td>20232.0</td>\n",
       "      <td>3438610.0</td>\n",
       "      <td>1.886113</td>\n",
       "      <td>2018 - Quar 1</td>\n",
       "    </tr>\n",
       "    <tr>\n",
       "      <th>76</th>\n",
       "      <td>2019</td>\n",
       "      <td>1</td>\n",
       "      <td>2738558.0</td>\n",
       "      <td>269912.0</td>\n",
       "      <td>-146614.0</td>\n",
       "      <td>-143659.0</td>\n",
       "      <td>-25952.0</td>\n",
       "      <td>2692244.0</td>\n",
       "      <td>1.868781</td>\n",
       "      <td>2019 - Quar 1</td>\n",
       "    </tr>\n",
       "    <tr>\n",
       "      <th>80</th>\n",
       "      <td>2020</td>\n",
       "      <td>1</td>\n",
       "      <td>-3226298.0</td>\n",
       "      <td>-251044.0</td>\n",
       "      <td>-924756.0</td>\n",
       "      <td>-553586.0</td>\n",
       "      <td>13600.0</td>\n",
       "      <td>-4942084.0</td>\n",
       "      <td>1.397292</td>\n",
       "      <td>2020 - Quar 1</td>\n",
       "    </tr>\n",
       "  </tbody>\n",
       "</table>\n",
       "</div>"
      ],
      "text/plain": [
       "    Year Quarter    DOMESTIC  LATIN AMERICA   ATLANTIC    PACIFIC  \\\n",
       "0   2000       1    139162.0        58927.0   -68918.0  -106308.0   \n",
       "4   2001       1   -822384.0        76822.0   -59644.0  -101160.0   \n",
       "8   2002       1  -2621918.0      -176148.0  -372012.0   -89470.0   \n",
       "12  2003       1  -1085012.0       -51869.0  -452157.0  -330213.0   \n",
       "16  2004       1  -1622122.0       201821.0    31510.0   -73884.0   \n",
       "20  2005       1  -2956735.0        95583.0  -202866.0  -179050.0   \n",
       "24  2006       1  12049285.0      1110214.0  2966133.0  4705502.0   \n",
       "28  2007       1   -488478.0       303476.0   112807.0   -39093.0   \n",
       "32  2008       1  -9777777.0      -335226.0 -1326883.0  -151807.0   \n",
       "36  2009       1  -1516128.0       136650.0  -446958.0   -63964.0   \n",
       "40  2010       1   -704121.0        40958.0  -146182.0   107467.0   \n",
       "44  2011       1   -455423.0       177773.0  -612217.0    37456.0   \n",
       "48  2012       1   -213497.0      -357006.0  -876974.0  -196898.0   \n",
       "52  2013       1    227114.0       290326.0  -372745.0  -335847.0   \n",
       "56  2014       1    926580.0        22305.0  -269343.0  -145495.0   \n",
       "60  2015       1   3055504.0       213705.0   152544.0    79301.0   \n",
       "64  2016       1   2856167.0       362407.0    43896.0   226726.0   \n",
       "68  2017       1   2647152.0        61452.0  -134888.0  -240086.0   \n",
       "72  2018       1   3157073.0       341526.0   319232.0  -399452.0   \n",
       "76  2019       1   2738558.0       269912.0  -146614.0  -143659.0   \n",
       "80  2020       1  -3226298.0      -251044.0  -924756.0  -553586.0   \n",
       "\n",
       "    INTERNATIONAL       TOTAL  \\\n",
       "0           839.0     23702.0   \n",
       "4         -3410.0   -909776.0   \n",
       "8          9187.0  -3250361.0   \n",
       "12        -1673.0  -1920924.0   \n",
       "16         6499.0  -1456177.0   \n",
       "20        35932.0  -3207135.0   \n",
       "24        31349.0  20862482.0   \n",
       "28        44269.0    -67019.0   \n",
       "32        -8011.0 -11599703.0   \n",
       "36        45643.0  -1844758.0   \n",
       "40        86152.0   -615726.0   \n",
       "44         4263.0   -848148.0   \n",
       "48       -47476.0  -1691852.0   \n",
       "52       145522.0    -45631.0   \n",
       "56        15751.0    549797.0   \n",
       "60        43486.0   3544541.0   \n",
       "64         5922.0   3495119.0   \n",
       "68       -15375.0   2318254.0   \n",
       "72        20232.0   3438610.0   \n",
       "76       -25952.0   2692244.0   \n",
       "80        13600.0  -4942084.0   \n",
       "\n",
       "    U.S. Gulf Coast Kerosene-Type Jet Fuel Spot Price FOB in U.S. Dollars per Gallon  \\\n",
       "0                                            0.776758                                  \n",
       "4                                            0.809855                                  \n",
       "8                                            0.573131                                  \n",
       "12                                           0.938113                                  \n",
       "16                                           0.957484                                  \n",
       "20                                           1.421629                                  \n",
       "24                                           1.818806                                  \n",
       "28                                           1.748871                                  \n",
       "32                                           2.819758                                  \n",
       "36                                           1.331355                                  \n",
       "40                                           2.059754                                  \n",
       "44                                           2.879460                                  \n",
       "48                                           3.185710                                  \n",
       "52                                           3.089098                                  \n",
       "56                                           2.922258                                  \n",
       "60                                           1.627339                                  \n",
       "64                                           0.993403                                  \n",
       "68                                           1.497823                                  \n",
       "72                                           1.886113                                  \n",
       "76                                           1.868781                                  \n",
       "80                                           1.397292                                  \n",
       "\n",
       "           PERIOD  \n",
       "0   2000 - Quar 1  \n",
       "4   2001 - Quar 1  \n",
       "8   2002 - Quar 1  \n",
       "12  2003 - Quar 1  \n",
       "16  2004 - Quar 1  \n",
       "20  2005 - Quar 1  \n",
       "24  2006 - Quar 1  \n",
       "28  2007 - Quar 1  \n",
       "32  2008 - Quar 1  \n",
       "36  2009 - Quar 1  \n",
       "40  2010 - Quar 1  \n",
       "44  2011 - Quar 1  \n",
       "48  2012 - Quar 1  \n",
       "52  2013 - Quar 1  \n",
       "56  2014 - Quar 1  \n",
       "60  2015 - Quar 1  \n",
       "64  2016 - Quar 1  \n",
       "68  2017 - Quar 1  \n",
       "72  2018 - Quar 1  \n",
       "76  2019 - Quar 1  \n",
       "80  2020 - Quar 1  "
      ]
     },
     "execution_count": 92,
     "metadata": {},
     "output_type": "execute_result"
    }
   ],
   "source": [
    "# ISOLATE FOR Q1 EARNINGS ONLY:\n",
    "income_and_fuel_Q1 = income_and_fuel[income_and_fuel['Quarter'] == '1']\n",
    "income_and_fuel_Q1"
   ]
  },
  {
   "cell_type": "code",
   "execution_count": 96,
   "metadata": {},
   "outputs": [
    {
     "data": {
      "application/vnd.plotly.v1+json": {
       "config": {
        "plotlyServerURL": "https://plot.ly"
       },
       "data": [
        {
         "hovertemplate": "%{text} <br> KEROSENE JET FUEL PRICE: $%{x} <br> QUARTERLY NET INCOME: %{y}",
         "mode": "markers",
         "name": "TOTAL FLIGHTS",
         "text": [
          "2000",
          "2001",
          "2002",
          "2003",
          "2004",
          "2005",
          "2006",
          "2007",
          "2008",
          "2009",
          "2010",
          "2011",
          "2012",
          "2013",
          "2014",
          "2015",
          "2016",
          "2017",
          "2018",
          "2019",
          "2020"
         ],
         "type": "scatter",
         "x": [
          0.7767580645161289,
          0.8098548387096771,
          0.5731311475409836,
          0.9381129032258063,
          0.957483870967742,
          1.4216290322580643,
          1.8188064516129023,
          1.7488709677419356,
          2.8197580645161286,
          1.3313548387096779,
          2.0597540983606555,
          2.879460317460316,
          3.185709677419354,
          3.089098360655737,
          2.922258064516129,
          1.627338709677419,
          0.9934032258064517,
          1.4978225806451615,
          1.8861129032258066,
          1.86878125,
          1.3972923076923074
         ],
         "y": [
          23702,
          1899096,
          937327,
          -327425,
          -909776,
          -923115,
          -2560103,
          -3873515,
          -3250361,
          -1469850,
          -2494531,
          -4150742,
          -1920924,
          647420,
          -265900,
          -176064,
          -1456177,
          -1915125,
          -1123527,
          -4609595,
          -3207135,
          -1487161,
          -2333166,
          -20192434,
          20862482,
          -694110,
          -161700,
          -1820559,
          -67019,
          5979562,
          1800249,
          -21387,
          -11599703,
          -4276656,
          -2718557,
          -5154919,
          -1844758,
          -628662,
          -102224,
          49366,
          -615726,
          1595509,
          2369313,
          316898,
          -848148,
          1003401,
          1482415,
          -245480,
          -1691852,
          771313,
          1369708,
          -85437,
          -45631,
          2146407,
          3222741,
          7387696,
          549797,
          3849384,
          3522647,
          518805,
          3544541,
          5732622,
          9655117,
          7447652,
          3495119,
          5094145,
          4195563,
          2824916,
          2318254,
          4995529,
          3901986,
          5588711,
          3438610,
          4109147,
          4130730,
          3580010,
          2692244,
          5251150,
          4922673,
          3598068,
          -4942084
         ]
        },
        {
         "hovertemplate": "%{text} <br> KEROSENE JET FUEL PRICE: $%{x} <br> QUARTERLY NET INCOME: %{y}",
         "mode": "markers",
         "name": "DOMESTIC FLIGHTS",
         "text": [
          "2000",
          "2001",
          "2002",
          "2003",
          "2004",
          "2005",
          "2006",
          "2007",
          "2008",
          "2009",
          "2010",
          "2011",
          "2012",
          "2013",
          "2014",
          "2015",
          "2016",
          "2017",
          "2018",
          "2019",
          "2020"
         ],
         "type": "scatter",
         "x": [
          0.7767580645161289,
          0.8098548387096771,
          0.5731311475409836,
          0.9381129032258063,
          0.957483870967742,
          1.4216290322580643,
          1.8188064516129023,
          1.7488709677419356,
          2.8197580645161286,
          1.3313548387096779,
          2.0597540983606555,
          2.879460317460316,
          3.185709677419354,
          3.089098360655737,
          2.922258064516129,
          1.627338709677419,
          0.9934032258064517,
          1.4978225806451615,
          1.8861129032258066,
          1.86878125,
          1.3972923076923074
         ],
         "y": [
          139162,
          -822384,
          -2621918,
          -1085012,
          -1622122,
          -2956735,
          12049285,
          -488478,
          -9777777,
          -1516128,
          -704121,
          -455423,
          -213497,
          227114,
          926580,
          3055504,
          2856167,
          2647152,
          3157073,
          2738558,
          -3226298
         ]
        },
        {
         "hovertemplate": "%{text} <br> KEROSENE JET FUEL PRICE: $%{x} <br> QUARTERLY NET INCOME: %{y}",
         "mode": "markers",
         "name": "LATIN AMERICA",
         "text": [
          "2000",
          "2001",
          "2002",
          "2003",
          "2004",
          "2005",
          "2006",
          "2007",
          "2008",
          "2009",
          "2010",
          "2011",
          "2012",
          "2013",
          "2014",
          "2015",
          "2016",
          "2017",
          "2018",
          "2019",
          "2020"
         ],
         "type": "scatter",
         "x": [
          0.7767580645161289,
          0.8098548387096771,
          0.5731311475409836,
          0.9381129032258063,
          0.957483870967742,
          1.4216290322580643,
          1.8188064516129023,
          1.7488709677419356,
          2.8197580645161286,
          1.3313548387096779,
          2.0597540983606555,
          2.879460317460316,
          3.185709677419354,
          3.089098360655737,
          2.922258064516129,
          1.627338709677419,
          0.9934032258064517,
          1.4978225806451615,
          1.8861129032258066,
          1.86878125,
          1.3972923076923074
         ],
         "y": [
          58927,
          76822,
          -176148,
          -51869,
          201821,
          95583,
          1110214,
          303476,
          -335226,
          136650,
          40958,
          177773,
          -357006,
          290326,
          22305,
          213705,
          362407,
          61452,
          341526,
          269912,
          -251044
         ]
        },
        {
         "hovertemplate": "%{text} <br> KEROSENE JET FUEL PRICE: $%{x} <br> QUARTERLY NET INCOME: %{y}",
         "mode": "markers",
         "name": "ATLANTIC FLIGHTS",
         "text": [
          "2000",
          "2001",
          "2002",
          "2003",
          "2004",
          "2005",
          "2006",
          "2007",
          "2008",
          "2009",
          "2010",
          "2011",
          "2012",
          "2013",
          "2014",
          "2015",
          "2016",
          "2017",
          "2018",
          "2019",
          "2020"
         ],
         "type": "scatter",
         "x": [
          0.7767580645161289,
          0.8098548387096771,
          0.5731311475409836,
          0.9381129032258063,
          0.957483870967742,
          1.4216290322580643,
          1.8188064516129023,
          1.7488709677419356,
          2.8197580645161286,
          1.3313548387096779,
          2.0597540983606555,
          2.879460317460316,
          3.185709677419354,
          3.089098360655737,
          2.922258064516129,
          1.627338709677419,
          0.9934032258064517,
          1.4978225806451615,
          1.8861129032258066,
          1.86878125,
          1.3972923076923074
         ],
         "y": [
          -68918,
          -59644,
          -372012,
          -452157,
          31510,
          -202866,
          2966133,
          112807,
          -1326883,
          -446958,
          -146182,
          -612217,
          -876974,
          -372745,
          -269343,
          152544,
          43896,
          -134888,
          319232,
          -146614,
          -924756
         ]
        },
        {
         "hovertemplate": "%{text} <br> KEROSENE JET FUEL PRICE: $%{x} <br> QUARTERLY NET INCOME: %{y}",
         "mode": "markers",
         "name": "PACIFIC FLIGHTS",
         "text": [
          "2000",
          "2001",
          "2002",
          "2003",
          "2004",
          "2005",
          "2006",
          "2007",
          "2008",
          "2009",
          "2010",
          "2011",
          "2012",
          "2013",
          "2014",
          "2015",
          "2016",
          "2017",
          "2018",
          "2019",
          "2020"
         ],
         "type": "scatter",
         "x": [
          0.7767580645161289,
          0.8098548387096771,
          0.5731311475409836,
          0.9381129032258063,
          0.957483870967742,
          1.4216290322580643,
          1.8188064516129023,
          1.7488709677419356,
          2.8197580645161286,
          1.3313548387096779,
          2.0597540983606555,
          2.879460317460316,
          3.185709677419354,
          3.089098360655737,
          2.922258064516129,
          1.627338709677419,
          0.9934032258064517,
          1.4978225806451615,
          1.8861129032258066,
          1.86878125,
          1.3972923076923074
         ],
         "y": [
          -106308,
          -101160,
          -89470,
          -330213,
          -73884,
          -179050,
          4705502,
          -39093,
          -151807,
          -63964,
          107467,
          37456,
          -196898,
          -335847,
          -145495,
          79301,
          226726,
          -240086,
          -399452,
          -143659,
          -553586
         ]
        },
        {
         "hovertemplate": "%{text} <br> KEROSENE JET FUEL PRICE: $%{x} <br> QUARTERLY NET INCOME: %{y}",
         "mode": "markers",
         "name": "INTERNATIONAL FLIGHTS",
         "text": [
          "2000",
          "2001",
          "2002",
          "2003",
          "2004",
          "2005",
          "2006",
          "2007",
          "2008",
          "2009",
          "2010",
          "2011",
          "2012",
          "2013",
          "2014",
          "2015",
          "2016",
          "2017",
          "2018",
          "2019",
          "2020"
         ],
         "type": "scatter",
         "x": [
          0.7767580645161289,
          0.8098548387096771,
          0.5731311475409836,
          0.9381129032258063,
          0.957483870967742,
          1.4216290322580643,
          1.8188064516129023,
          1.7488709677419356,
          2.8197580645161286,
          1.3313548387096779,
          2.0597540983606555,
          2.879460317460316,
          3.185709677419354,
          3.089098360655737,
          2.922258064516129,
          1.627338709677419,
          0.9934032258064517,
          1.4978225806451615,
          1.8861129032258066,
          1.86878125,
          1.3972923076923074
         ],
         "y": [
          839,
          -3410,
          9187,
          -1673,
          6499,
          35932,
          31349,
          44269,
          -8011,
          45643,
          86152,
          4263,
          -47476,
          145522,
          15751,
          43486,
          5922,
          -15375,
          20232,
          -25952,
          13600
         ]
        }
       ],
       "layout": {
        "font": {
         "family": "Courier New, monospace",
         "size": 12
        },
        "legend": {
         "title": {
          "text": "REGIONS"
         }
        },
        "template": {
         "data": {
          "bar": [
           {
            "error_x": {
             "color": "#2a3f5f"
            },
            "error_y": {
             "color": "#2a3f5f"
            },
            "marker": {
             "line": {
              "color": "#E5ECF6",
              "width": 0.5
             }
            },
            "type": "bar"
           }
          ],
          "barpolar": [
           {
            "marker": {
             "line": {
              "color": "#E5ECF6",
              "width": 0.5
             }
            },
            "type": "barpolar"
           }
          ],
          "carpet": [
           {
            "aaxis": {
             "endlinecolor": "#2a3f5f",
             "gridcolor": "white",
             "linecolor": "white",
             "minorgridcolor": "white",
             "startlinecolor": "#2a3f5f"
            },
            "baxis": {
             "endlinecolor": "#2a3f5f",
             "gridcolor": "white",
             "linecolor": "white",
             "minorgridcolor": "white",
             "startlinecolor": "#2a3f5f"
            },
            "type": "carpet"
           }
          ],
          "choropleth": [
           {
            "colorbar": {
             "outlinewidth": 0,
             "ticks": ""
            },
            "type": "choropleth"
           }
          ],
          "contour": [
           {
            "colorbar": {
             "outlinewidth": 0,
             "ticks": ""
            },
            "colorscale": [
             [
              0,
              "#0d0887"
             ],
             [
              0.1111111111111111,
              "#46039f"
             ],
             [
              0.2222222222222222,
              "#7201a8"
             ],
             [
              0.3333333333333333,
              "#9c179e"
             ],
             [
              0.4444444444444444,
              "#bd3786"
             ],
             [
              0.5555555555555556,
              "#d8576b"
             ],
             [
              0.6666666666666666,
              "#ed7953"
             ],
             [
              0.7777777777777778,
              "#fb9f3a"
             ],
             [
              0.8888888888888888,
              "#fdca26"
             ],
             [
              1,
              "#f0f921"
             ]
            ],
            "type": "contour"
           }
          ],
          "contourcarpet": [
           {
            "colorbar": {
             "outlinewidth": 0,
             "ticks": ""
            },
            "type": "contourcarpet"
           }
          ],
          "heatmap": [
           {
            "colorbar": {
             "outlinewidth": 0,
             "ticks": ""
            },
            "colorscale": [
             [
              0,
              "#0d0887"
             ],
             [
              0.1111111111111111,
              "#46039f"
             ],
             [
              0.2222222222222222,
              "#7201a8"
             ],
             [
              0.3333333333333333,
              "#9c179e"
             ],
             [
              0.4444444444444444,
              "#bd3786"
             ],
             [
              0.5555555555555556,
              "#d8576b"
             ],
             [
              0.6666666666666666,
              "#ed7953"
             ],
             [
              0.7777777777777778,
              "#fb9f3a"
             ],
             [
              0.8888888888888888,
              "#fdca26"
             ],
             [
              1,
              "#f0f921"
             ]
            ],
            "type": "heatmap"
           }
          ],
          "heatmapgl": [
           {
            "colorbar": {
             "outlinewidth": 0,
             "ticks": ""
            },
            "colorscale": [
             [
              0,
              "#0d0887"
             ],
             [
              0.1111111111111111,
              "#46039f"
             ],
             [
              0.2222222222222222,
              "#7201a8"
             ],
             [
              0.3333333333333333,
              "#9c179e"
             ],
             [
              0.4444444444444444,
              "#bd3786"
             ],
             [
              0.5555555555555556,
              "#d8576b"
             ],
             [
              0.6666666666666666,
              "#ed7953"
             ],
             [
              0.7777777777777778,
              "#fb9f3a"
             ],
             [
              0.8888888888888888,
              "#fdca26"
             ],
             [
              1,
              "#f0f921"
             ]
            ],
            "type": "heatmapgl"
           }
          ],
          "histogram": [
           {
            "marker": {
             "colorbar": {
              "outlinewidth": 0,
              "ticks": ""
             }
            },
            "type": "histogram"
           }
          ],
          "histogram2d": [
           {
            "colorbar": {
             "outlinewidth": 0,
             "ticks": ""
            },
            "colorscale": [
             [
              0,
              "#0d0887"
             ],
             [
              0.1111111111111111,
              "#46039f"
             ],
             [
              0.2222222222222222,
              "#7201a8"
             ],
             [
              0.3333333333333333,
              "#9c179e"
             ],
             [
              0.4444444444444444,
              "#bd3786"
             ],
             [
              0.5555555555555556,
              "#d8576b"
             ],
             [
              0.6666666666666666,
              "#ed7953"
             ],
             [
              0.7777777777777778,
              "#fb9f3a"
             ],
             [
              0.8888888888888888,
              "#fdca26"
             ],
             [
              1,
              "#f0f921"
             ]
            ],
            "type": "histogram2d"
           }
          ],
          "histogram2dcontour": [
           {
            "colorbar": {
             "outlinewidth": 0,
             "ticks": ""
            },
            "colorscale": [
             [
              0,
              "#0d0887"
             ],
             [
              0.1111111111111111,
              "#46039f"
             ],
             [
              0.2222222222222222,
              "#7201a8"
             ],
             [
              0.3333333333333333,
              "#9c179e"
             ],
             [
              0.4444444444444444,
              "#bd3786"
             ],
             [
              0.5555555555555556,
              "#d8576b"
             ],
             [
              0.6666666666666666,
              "#ed7953"
             ],
             [
              0.7777777777777778,
              "#fb9f3a"
             ],
             [
              0.8888888888888888,
              "#fdca26"
             ],
             [
              1,
              "#f0f921"
             ]
            ],
            "type": "histogram2dcontour"
           }
          ],
          "mesh3d": [
           {
            "colorbar": {
             "outlinewidth": 0,
             "ticks": ""
            },
            "type": "mesh3d"
           }
          ],
          "parcoords": [
           {
            "line": {
             "colorbar": {
              "outlinewidth": 0,
              "ticks": ""
             }
            },
            "type": "parcoords"
           }
          ],
          "pie": [
           {
            "automargin": true,
            "type": "pie"
           }
          ],
          "scatter": [
           {
            "marker": {
             "colorbar": {
              "outlinewidth": 0,
              "ticks": ""
             }
            },
            "type": "scatter"
           }
          ],
          "scatter3d": [
           {
            "line": {
             "colorbar": {
              "outlinewidth": 0,
              "ticks": ""
             }
            },
            "marker": {
             "colorbar": {
              "outlinewidth": 0,
              "ticks": ""
             }
            },
            "type": "scatter3d"
           }
          ],
          "scattercarpet": [
           {
            "marker": {
             "colorbar": {
              "outlinewidth": 0,
              "ticks": ""
             }
            },
            "type": "scattercarpet"
           }
          ],
          "scattergeo": [
           {
            "marker": {
             "colorbar": {
              "outlinewidth": 0,
              "ticks": ""
             }
            },
            "type": "scattergeo"
           }
          ],
          "scattergl": [
           {
            "marker": {
             "colorbar": {
              "outlinewidth": 0,
              "ticks": ""
             }
            },
            "type": "scattergl"
           }
          ],
          "scattermapbox": [
           {
            "marker": {
             "colorbar": {
              "outlinewidth": 0,
              "ticks": ""
             }
            },
            "type": "scattermapbox"
           }
          ],
          "scatterpolar": [
           {
            "marker": {
             "colorbar": {
              "outlinewidth": 0,
              "ticks": ""
             }
            },
            "type": "scatterpolar"
           }
          ],
          "scatterpolargl": [
           {
            "marker": {
             "colorbar": {
              "outlinewidth": 0,
              "ticks": ""
             }
            },
            "type": "scatterpolargl"
           }
          ],
          "scatterternary": [
           {
            "marker": {
             "colorbar": {
              "outlinewidth": 0,
              "ticks": ""
             }
            },
            "type": "scatterternary"
           }
          ],
          "surface": [
           {
            "colorbar": {
             "outlinewidth": 0,
             "ticks": ""
            },
            "colorscale": [
             [
              0,
              "#0d0887"
             ],
             [
              0.1111111111111111,
              "#46039f"
             ],
             [
              0.2222222222222222,
              "#7201a8"
             ],
             [
              0.3333333333333333,
              "#9c179e"
             ],
             [
              0.4444444444444444,
              "#bd3786"
             ],
             [
              0.5555555555555556,
              "#d8576b"
             ],
             [
              0.6666666666666666,
              "#ed7953"
             ],
             [
              0.7777777777777778,
              "#fb9f3a"
             ],
             [
              0.8888888888888888,
              "#fdca26"
             ],
             [
              1,
              "#f0f921"
             ]
            ],
            "type": "surface"
           }
          ],
          "table": [
           {
            "cells": {
             "fill": {
              "color": "#EBF0F8"
             },
             "line": {
              "color": "white"
             }
            },
            "header": {
             "fill": {
              "color": "#C8D4E3"
             },
             "line": {
              "color": "white"
             }
            },
            "type": "table"
           }
          ]
         },
         "layout": {
          "annotationdefaults": {
           "arrowcolor": "#2a3f5f",
           "arrowhead": 0,
           "arrowwidth": 1
          },
          "coloraxis": {
           "colorbar": {
            "outlinewidth": 0,
            "ticks": ""
           }
          },
          "colorscale": {
           "diverging": [
            [
             0,
             "#8e0152"
            ],
            [
             0.1,
             "#c51b7d"
            ],
            [
             0.2,
             "#de77ae"
            ],
            [
             0.3,
             "#f1b6da"
            ],
            [
             0.4,
             "#fde0ef"
            ],
            [
             0.5,
             "#f7f7f7"
            ],
            [
             0.6,
             "#e6f5d0"
            ],
            [
             0.7,
             "#b8e186"
            ],
            [
             0.8,
             "#7fbc41"
            ],
            [
             0.9,
             "#4d9221"
            ],
            [
             1,
             "#276419"
            ]
           ],
           "sequential": [
            [
             0,
             "#0d0887"
            ],
            [
             0.1111111111111111,
             "#46039f"
            ],
            [
             0.2222222222222222,
             "#7201a8"
            ],
            [
             0.3333333333333333,
             "#9c179e"
            ],
            [
             0.4444444444444444,
             "#bd3786"
            ],
            [
             0.5555555555555556,
             "#d8576b"
            ],
            [
             0.6666666666666666,
             "#ed7953"
            ],
            [
             0.7777777777777778,
             "#fb9f3a"
            ],
            [
             0.8888888888888888,
             "#fdca26"
            ],
            [
             1,
             "#f0f921"
            ]
           ],
           "sequentialminus": [
            [
             0,
             "#0d0887"
            ],
            [
             0.1111111111111111,
             "#46039f"
            ],
            [
             0.2222222222222222,
             "#7201a8"
            ],
            [
             0.3333333333333333,
             "#9c179e"
            ],
            [
             0.4444444444444444,
             "#bd3786"
            ],
            [
             0.5555555555555556,
             "#d8576b"
            ],
            [
             0.6666666666666666,
             "#ed7953"
            ],
            [
             0.7777777777777778,
             "#fb9f3a"
            ],
            [
             0.8888888888888888,
             "#fdca26"
            ],
            [
             1,
             "#f0f921"
            ]
           ]
          },
          "colorway": [
           "#636efa",
           "#EF553B",
           "#00cc96",
           "#ab63fa",
           "#FFA15A",
           "#19d3f3",
           "#FF6692",
           "#B6E880",
           "#FF97FF",
           "#FECB52"
          ],
          "font": {
           "color": "#2a3f5f"
          },
          "geo": {
           "bgcolor": "white",
           "lakecolor": "white",
           "landcolor": "#E5ECF6",
           "showlakes": true,
           "showland": true,
           "subunitcolor": "white"
          },
          "hoverlabel": {
           "align": "left"
          },
          "hovermode": "closest",
          "mapbox": {
           "style": "light"
          },
          "paper_bgcolor": "white",
          "plot_bgcolor": "#E5ECF6",
          "polar": {
           "angularaxis": {
            "gridcolor": "white",
            "linecolor": "white",
            "ticks": ""
           },
           "bgcolor": "#E5ECF6",
           "radialaxis": {
            "gridcolor": "white",
            "linecolor": "white",
            "ticks": ""
           }
          },
          "scene": {
           "xaxis": {
            "backgroundcolor": "#E5ECF6",
            "gridcolor": "white",
            "gridwidth": 2,
            "linecolor": "white",
            "showbackground": true,
            "ticks": "",
            "zerolinecolor": "white"
           },
           "yaxis": {
            "backgroundcolor": "#E5ECF6",
            "gridcolor": "white",
            "gridwidth": 2,
            "linecolor": "white",
            "showbackground": true,
            "ticks": "",
            "zerolinecolor": "white"
           },
           "zaxis": {
            "backgroundcolor": "#E5ECF6",
            "gridcolor": "white",
            "gridwidth": 2,
            "linecolor": "white",
            "showbackground": true,
            "ticks": "",
            "zerolinecolor": "white"
           }
          },
          "shapedefaults": {
           "line": {
            "color": "#2a3f5f"
           }
          },
          "ternary": {
           "aaxis": {
            "gridcolor": "white",
            "linecolor": "white",
            "ticks": ""
           },
           "baxis": {
            "gridcolor": "white",
            "linecolor": "white",
            "ticks": ""
           },
           "bgcolor": "#E5ECF6",
           "caxis": {
            "gridcolor": "white",
            "linecolor": "white",
            "ticks": ""
           }
          },
          "title": {
           "x": 0.05
          },
          "xaxis": {
           "automargin": true,
           "gridcolor": "white",
           "linecolor": "white",
           "ticks": "",
           "title": {
            "standoff": 15
           },
           "zerolinecolor": "white",
           "zerolinewidth": 2
          },
          "yaxis": {
           "automargin": true,
           "gridcolor": "white",
           "linecolor": "white",
           "ticks": "",
           "title": {
            "standoff": 15
           },
           "zerolinecolor": "white",
           "zerolinewidth": 2
          }
         }
        },
        "title": {
         "text": "U.S. Gulf Coast Kerosene-Type Jet Fuel Price($USD/Gallon) vs. Quarterly Net Income QUARTER ONE"
        },
        "xaxis": {
         "title": {
          "text": "U.S. Gulf Coast Kerosene-Type Jet Fuel Spot Price FOB in U.S. Dollars per Gallon ($USD/Gallon)"
         }
        },
        "yaxis": {
         "title": {
          "text": "Quartlery Net Income for all U.S. Carriers($USD)"
         }
        }
       }
      },
      "text/html": [
       "<div>\n",
       "        \n",
       "        \n",
       "            <div id=\"8a69b509-852c-4a58-b24d-1db8555cb184\" class=\"plotly-graph-div\" style=\"height:525px; width:100%;\"></div>\n",
       "            <script type=\"text/javascript\">\n",
       "                require([\"plotly\"], function(Plotly) {\n",
       "                    window.PLOTLYENV=window.PLOTLYENV || {};\n",
       "                    \n",
       "                if (document.getElementById(\"8a69b509-852c-4a58-b24d-1db8555cb184\")) {\n",
       "                    Plotly.newPlot(\n",
       "                        '8a69b509-852c-4a58-b24d-1db8555cb184',\n",
       "                        [{\"hovertemplate\": \"%{text} <br> KEROSENE JET FUEL PRICE: $%{x} <br> QUARTERLY NET INCOME: %{y}\", \"mode\": \"markers\", \"name\": \"TOTAL FLIGHTS\", \"text\": [\"2000\", \"2001\", \"2002\", \"2003\", \"2004\", \"2005\", \"2006\", \"2007\", \"2008\", \"2009\", \"2010\", \"2011\", \"2012\", \"2013\", \"2014\", \"2015\", \"2016\", \"2017\", \"2018\", \"2019\", \"2020\"], \"type\": \"scatter\", \"x\": [0.7767580645161289, 0.8098548387096771, 0.5731311475409836, 0.9381129032258063, 0.957483870967742, 1.4216290322580643, 1.8188064516129023, 1.7488709677419356, 2.8197580645161286, 1.3313548387096779, 2.0597540983606555, 2.879460317460316, 3.185709677419354, 3.089098360655737, 2.922258064516129, 1.627338709677419, 0.9934032258064517, 1.4978225806451615, 1.8861129032258066, 1.86878125, 1.3972923076923074], \"y\": [23702.0, 1899096.0, 937327.0, -327425.0, -909776.0, -923115.0, -2560103.0, -3873515.0, -3250361.0, -1469850.0, -2494531.0, -4150742.0, -1920924.0, 647420.0, -265900.0, -176064.0, -1456177.0, -1915125.0, -1123527.0, -4609595.0, -3207135.0, -1487161.0, -2333166.0, -20192434.0, 20862482.0, -694110.0, -161700.0, -1820559.0, -67019.0, 5979562.0, 1800249.0, -21387.0, -11599703.0, -4276656.0, -2718557.0, -5154919.0, -1844758.0, -628662.0, -102224.0, 49366.0, -615726.0, 1595509.0, 2369313.0, 316898.0, -848148.0, 1003401.0, 1482415.0, -245480.0, -1691852.0, 771313.0, 1369708.0, -85437.0, -45631.0, 2146407.0, 3222741.0, 7387696.0, 549797.0, 3849384.0, 3522647.0, 518805.0, 3544541.0, 5732622.0, 9655117.0, 7447652.0, 3495119.0, 5094145.0, 4195563.0, 2824916.0, 2318254.0, 4995529.0, 3901986.0, 5588711.0, 3438610.0, 4109147.0, 4130730.0, 3580010.0, 2692244.0, 5251150.0, 4922673.0, 3598068.0, -4942084.0]}, {\"hovertemplate\": \"%{text} <br> KEROSENE JET FUEL PRICE: $%{x} <br> QUARTERLY NET INCOME: %{y}\", \"mode\": \"markers\", \"name\": \"DOMESTIC FLIGHTS\", \"text\": [\"2000\", \"2001\", \"2002\", \"2003\", \"2004\", \"2005\", \"2006\", \"2007\", \"2008\", \"2009\", \"2010\", \"2011\", \"2012\", \"2013\", \"2014\", \"2015\", \"2016\", \"2017\", \"2018\", \"2019\", \"2020\"], \"type\": \"scatter\", \"x\": [0.7767580645161289, 0.8098548387096771, 0.5731311475409836, 0.9381129032258063, 0.957483870967742, 1.4216290322580643, 1.8188064516129023, 1.7488709677419356, 2.8197580645161286, 1.3313548387096779, 2.0597540983606555, 2.879460317460316, 3.185709677419354, 3.089098360655737, 2.922258064516129, 1.627338709677419, 0.9934032258064517, 1.4978225806451615, 1.8861129032258066, 1.86878125, 1.3972923076923074], \"y\": [139162.0, -822384.0, -2621918.0, -1085012.0, -1622122.0, -2956735.0, 12049285.0, -488478.0, -9777777.0, -1516128.0, -704121.0, -455423.0, -213497.0, 227114.0, 926580.0, 3055504.0, 2856167.0, 2647152.0, 3157073.0, 2738558.0, -3226298.0]}, {\"hovertemplate\": \"%{text} <br> KEROSENE JET FUEL PRICE: $%{x} <br> QUARTERLY NET INCOME: %{y}\", \"mode\": \"markers\", \"name\": \"LATIN AMERICA\", \"text\": [\"2000\", \"2001\", \"2002\", \"2003\", \"2004\", \"2005\", \"2006\", \"2007\", \"2008\", \"2009\", \"2010\", \"2011\", \"2012\", \"2013\", \"2014\", \"2015\", \"2016\", \"2017\", \"2018\", \"2019\", \"2020\"], \"type\": \"scatter\", \"x\": [0.7767580645161289, 0.8098548387096771, 0.5731311475409836, 0.9381129032258063, 0.957483870967742, 1.4216290322580643, 1.8188064516129023, 1.7488709677419356, 2.8197580645161286, 1.3313548387096779, 2.0597540983606555, 2.879460317460316, 3.185709677419354, 3.089098360655737, 2.922258064516129, 1.627338709677419, 0.9934032258064517, 1.4978225806451615, 1.8861129032258066, 1.86878125, 1.3972923076923074], \"y\": [58927.0, 76822.0, -176148.0, -51869.0, 201821.0, 95583.0, 1110214.0, 303476.0, -335226.0, 136650.0, 40958.0, 177773.0, -357006.0, 290326.0, 22305.0, 213705.0, 362407.0, 61452.0, 341526.0, 269912.0, -251044.0]}, {\"hovertemplate\": \"%{text} <br> KEROSENE JET FUEL PRICE: $%{x} <br> QUARTERLY NET INCOME: %{y}\", \"mode\": \"markers\", \"name\": \"ATLANTIC FLIGHTS\", \"text\": [\"2000\", \"2001\", \"2002\", \"2003\", \"2004\", \"2005\", \"2006\", \"2007\", \"2008\", \"2009\", \"2010\", \"2011\", \"2012\", \"2013\", \"2014\", \"2015\", \"2016\", \"2017\", \"2018\", \"2019\", \"2020\"], \"type\": \"scatter\", \"x\": [0.7767580645161289, 0.8098548387096771, 0.5731311475409836, 0.9381129032258063, 0.957483870967742, 1.4216290322580643, 1.8188064516129023, 1.7488709677419356, 2.8197580645161286, 1.3313548387096779, 2.0597540983606555, 2.879460317460316, 3.185709677419354, 3.089098360655737, 2.922258064516129, 1.627338709677419, 0.9934032258064517, 1.4978225806451615, 1.8861129032258066, 1.86878125, 1.3972923076923074], \"y\": [-68918.0, -59644.0, -372012.0, -452157.0, 31510.0, -202866.0, 2966133.0, 112807.0, -1326883.0, -446958.0, -146182.0, -612217.0, -876974.0, -372745.0, -269343.0, 152544.0, 43896.0, -134888.0, 319232.0, -146614.0, -924756.0]}, {\"hovertemplate\": \"%{text} <br> KEROSENE JET FUEL PRICE: $%{x} <br> QUARTERLY NET INCOME: %{y}\", \"mode\": \"markers\", \"name\": \"PACIFIC FLIGHTS\", \"text\": [\"2000\", \"2001\", \"2002\", \"2003\", \"2004\", \"2005\", \"2006\", \"2007\", \"2008\", \"2009\", \"2010\", \"2011\", \"2012\", \"2013\", \"2014\", \"2015\", \"2016\", \"2017\", \"2018\", \"2019\", \"2020\"], \"type\": \"scatter\", \"x\": [0.7767580645161289, 0.8098548387096771, 0.5731311475409836, 0.9381129032258063, 0.957483870967742, 1.4216290322580643, 1.8188064516129023, 1.7488709677419356, 2.8197580645161286, 1.3313548387096779, 2.0597540983606555, 2.879460317460316, 3.185709677419354, 3.089098360655737, 2.922258064516129, 1.627338709677419, 0.9934032258064517, 1.4978225806451615, 1.8861129032258066, 1.86878125, 1.3972923076923074], \"y\": [-106308.0, -101160.0, -89470.0, -330213.0, -73884.0, -179050.0, 4705502.0, -39093.0, -151807.0, -63964.0, 107467.0, 37456.0, -196898.0, -335847.0, -145495.0, 79301.0, 226726.0, -240086.0, -399452.0, -143659.0, -553586.0]}, {\"hovertemplate\": \"%{text} <br> KEROSENE JET FUEL PRICE: $%{x} <br> QUARTERLY NET INCOME: %{y}\", \"mode\": \"markers\", \"name\": \"INTERNATIONAL FLIGHTS\", \"text\": [\"2000\", \"2001\", \"2002\", \"2003\", \"2004\", \"2005\", \"2006\", \"2007\", \"2008\", \"2009\", \"2010\", \"2011\", \"2012\", \"2013\", \"2014\", \"2015\", \"2016\", \"2017\", \"2018\", \"2019\", \"2020\"], \"type\": \"scatter\", \"x\": [0.7767580645161289, 0.8098548387096771, 0.5731311475409836, 0.9381129032258063, 0.957483870967742, 1.4216290322580643, 1.8188064516129023, 1.7488709677419356, 2.8197580645161286, 1.3313548387096779, 2.0597540983606555, 2.879460317460316, 3.185709677419354, 3.089098360655737, 2.922258064516129, 1.627338709677419, 0.9934032258064517, 1.4978225806451615, 1.8861129032258066, 1.86878125, 1.3972923076923074], \"y\": [839.0, -3410.0, 9187.0, -1673.0, 6499.0, 35932.0, 31349.0, 44269.0, -8011.0, 45643.0, 86152.0, 4263.0, -47476.0, 145522.0, 15751.0, 43486.0, 5922.0, -15375.0, 20232.0, -25952.0, 13600.0]}],\n",
       "                        {\"font\": {\"family\": \"Courier New, monospace\", \"size\": 12}, \"legend\": {\"title\": {\"text\": \"REGIONS\"}}, \"template\": {\"data\": {\"bar\": [{\"error_x\": {\"color\": \"#2a3f5f\"}, \"error_y\": {\"color\": \"#2a3f5f\"}, \"marker\": {\"line\": {\"color\": \"#E5ECF6\", \"width\": 0.5}}, \"type\": \"bar\"}], \"barpolar\": [{\"marker\": {\"line\": {\"color\": \"#E5ECF6\", \"width\": 0.5}}, \"type\": \"barpolar\"}], \"carpet\": [{\"aaxis\": {\"endlinecolor\": \"#2a3f5f\", \"gridcolor\": \"white\", \"linecolor\": \"white\", \"minorgridcolor\": \"white\", \"startlinecolor\": \"#2a3f5f\"}, \"baxis\": {\"endlinecolor\": \"#2a3f5f\", \"gridcolor\": \"white\", \"linecolor\": \"white\", \"minorgridcolor\": \"white\", \"startlinecolor\": \"#2a3f5f\"}, \"type\": \"carpet\"}], \"choropleth\": [{\"colorbar\": {\"outlinewidth\": 0, \"ticks\": \"\"}, \"type\": \"choropleth\"}], \"contour\": [{\"colorbar\": {\"outlinewidth\": 0, \"ticks\": \"\"}, \"colorscale\": [[0.0, \"#0d0887\"], [0.1111111111111111, \"#46039f\"], [0.2222222222222222, \"#7201a8\"], [0.3333333333333333, \"#9c179e\"], [0.4444444444444444, \"#bd3786\"], [0.5555555555555556, \"#d8576b\"], [0.6666666666666666, \"#ed7953\"], [0.7777777777777778, \"#fb9f3a\"], [0.8888888888888888, \"#fdca26\"], [1.0, \"#f0f921\"]], \"type\": \"contour\"}], \"contourcarpet\": [{\"colorbar\": {\"outlinewidth\": 0, \"ticks\": \"\"}, \"type\": \"contourcarpet\"}], \"heatmap\": [{\"colorbar\": {\"outlinewidth\": 0, \"ticks\": \"\"}, \"colorscale\": [[0.0, \"#0d0887\"], [0.1111111111111111, \"#46039f\"], [0.2222222222222222, \"#7201a8\"], [0.3333333333333333, \"#9c179e\"], [0.4444444444444444, \"#bd3786\"], [0.5555555555555556, \"#d8576b\"], [0.6666666666666666, \"#ed7953\"], [0.7777777777777778, \"#fb9f3a\"], [0.8888888888888888, \"#fdca26\"], [1.0, \"#f0f921\"]], \"type\": \"heatmap\"}], \"heatmapgl\": [{\"colorbar\": {\"outlinewidth\": 0, \"ticks\": \"\"}, \"colorscale\": [[0.0, \"#0d0887\"], [0.1111111111111111, \"#46039f\"], [0.2222222222222222, \"#7201a8\"], [0.3333333333333333, \"#9c179e\"], [0.4444444444444444, \"#bd3786\"], [0.5555555555555556, \"#d8576b\"], [0.6666666666666666, \"#ed7953\"], [0.7777777777777778, \"#fb9f3a\"], [0.8888888888888888, \"#fdca26\"], [1.0, \"#f0f921\"]], \"type\": \"heatmapgl\"}], \"histogram\": [{\"marker\": {\"colorbar\": {\"outlinewidth\": 0, \"ticks\": \"\"}}, \"type\": \"histogram\"}], \"histogram2d\": [{\"colorbar\": {\"outlinewidth\": 0, \"ticks\": \"\"}, \"colorscale\": [[0.0, \"#0d0887\"], [0.1111111111111111, \"#46039f\"], [0.2222222222222222, \"#7201a8\"], [0.3333333333333333, \"#9c179e\"], [0.4444444444444444, \"#bd3786\"], [0.5555555555555556, \"#d8576b\"], [0.6666666666666666, \"#ed7953\"], [0.7777777777777778, \"#fb9f3a\"], [0.8888888888888888, \"#fdca26\"], [1.0, \"#f0f921\"]], \"type\": \"histogram2d\"}], \"histogram2dcontour\": [{\"colorbar\": {\"outlinewidth\": 0, \"ticks\": \"\"}, \"colorscale\": [[0.0, \"#0d0887\"], [0.1111111111111111, \"#46039f\"], [0.2222222222222222, \"#7201a8\"], [0.3333333333333333, \"#9c179e\"], [0.4444444444444444, \"#bd3786\"], [0.5555555555555556, \"#d8576b\"], [0.6666666666666666, \"#ed7953\"], [0.7777777777777778, \"#fb9f3a\"], [0.8888888888888888, \"#fdca26\"], [1.0, \"#f0f921\"]], \"type\": \"histogram2dcontour\"}], \"mesh3d\": [{\"colorbar\": {\"outlinewidth\": 0, \"ticks\": \"\"}, \"type\": \"mesh3d\"}], \"parcoords\": [{\"line\": {\"colorbar\": {\"outlinewidth\": 0, \"ticks\": \"\"}}, \"type\": \"parcoords\"}], \"pie\": [{\"automargin\": true, \"type\": \"pie\"}], \"scatter\": [{\"marker\": {\"colorbar\": {\"outlinewidth\": 0, \"ticks\": \"\"}}, \"type\": \"scatter\"}], \"scatter3d\": [{\"line\": {\"colorbar\": {\"outlinewidth\": 0, \"ticks\": \"\"}}, \"marker\": {\"colorbar\": {\"outlinewidth\": 0, \"ticks\": \"\"}}, \"type\": \"scatter3d\"}], \"scattercarpet\": [{\"marker\": {\"colorbar\": {\"outlinewidth\": 0, \"ticks\": \"\"}}, \"type\": \"scattercarpet\"}], \"scattergeo\": [{\"marker\": {\"colorbar\": {\"outlinewidth\": 0, \"ticks\": \"\"}}, \"type\": \"scattergeo\"}], \"scattergl\": [{\"marker\": {\"colorbar\": {\"outlinewidth\": 0, \"ticks\": \"\"}}, \"type\": \"scattergl\"}], \"scattermapbox\": [{\"marker\": {\"colorbar\": {\"outlinewidth\": 0, \"ticks\": \"\"}}, \"type\": \"scattermapbox\"}], \"scatterpolar\": [{\"marker\": {\"colorbar\": {\"outlinewidth\": 0, \"ticks\": \"\"}}, \"type\": \"scatterpolar\"}], \"scatterpolargl\": [{\"marker\": {\"colorbar\": {\"outlinewidth\": 0, \"ticks\": \"\"}}, \"type\": \"scatterpolargl\"}], \"scatterternary\": [{\"marker\": {\"colorbar\": {\"outlinewidth\": 0, \"ticks\": \"\"}}, \"type\": \"scatterternary\"}], \"surface\": [{\"colorbar\": {\"outlinewidth\": 0, \"ticks\": \"\"}, \"colorscale\": [[0.0, \"#0d0887\"], [0.1111111111111111, \"#46039f\"], [0.2222222222222222, \"#7201a8\"], [0.3333333333333333, \"#9c179e\"], [0.4444444444444444, \"#bd3786\"], [0.5555555555555556, \"#d8576b\"], [0.6666666666666666, \"#ed7953\"], [0.7777777777777778, \"#fb9f3a\"], [0.8888888888888888, \"#fdca26\"], [1.0, \"#f0f921\"]], \"type\": \"surface\"}], \"table\": [{\"cells\": {\"fill\": {\"color\": \"#EBF0F8\"}, \"line\": {\"color\": \"white\"}}, \"header\": {\"fill\": {\"color\": \"#C8D4E3\"}, \"line\": {\"color\": \"white\"}}, \"type\": \"table\"}]}, \"layout\": {\"annotationdefaults\": {\"arrowcolor\": \"#2a3f5f\", \"arrowhead\": 0, \"arrowwidth\": 1}, \"coloraxis\": {\"colorbar\": {\"outlinewidth\": 0, \"ticks\": \"\"}}, \"colorscale\": {\"diverging\": [[0, \"#8e0152\"], [0.1, \"#c51b7d\"], [0.2, \"#de77ae\"], [0.3, \"#f1b6da\"], [0.4, \"#fde0ef\"], [0.5, \"#f7f7f7\"], [0.6, \"#e6f5d0\"], [0.7, \"#b8e186\"], [0.8, \"#7fbc41\"], [0.9, \"#4d9221\"], [1, \"#276419\"]], \"sequential\": [[0.0, \"#0d0887\"], [0.1111111111111111, \"#46039f\"], [0.2222222222222222, \"#7201a8\"], [0.3333333333333333, \"#9c179e\"], [0.4444444444444444, \"#bd3786\"], [0.5555555555555556, \"#d8576b\"], [0.6666666666666666, \"#ed7953\"], [0.7777777777777778, \"#fb9f3a\"], [0.8888888888888888, \"#fdca26\"], [1.0, \"#f0f921\"]], \"sequentialminus\": [[0.0, \"#0d0887\"], [0.1111111111111111, \"#46039f\"], [0.2222222222222222, \"#7201a8\"], [0.3333333333333333, \"#9c179e\"], [0.4444444444444444, \"#bd3786\"], [0.5555555555555556, \"#d8576b\"], [0.6666666666666666, \"#ed7953\"], [0.7777777777777778, \"#fb9f3a\"], [0.8888888888888888, \"#fdca26\"], [1.0, \"#f0f921\"]]}, \"colorway\": [\"#636efa\", \"#EF553B\", \"#00cc96\", \"#ab63fa\", \"#FFA15A\", \"#19d3f3\", \"#FF6692\", \"#B6E880\", \"#FF97FF\", \"#FECB52\"], \"font\": {\"color\": \"#2a3f5f\"}, \"geo\": {\"bgcolor\": \"white\", \"lakecolor\": \"white\", \"landcolor\": \"#E5ECF6\", \"showlakes\": true, \"showland\": true, \"subunitcolor\": \"white\"}, \"hoverlabel\": {\"align\": \"left\"}, \"hovermode\": \"closest\", \"mapbox\": {\"style\": \"light\"}, \"paper_bgcolor\": \"white\", \"plot_bgcolor\": \"#E5ECF6\", \"polar\": {\"angularaxis\": {\"gridcolor\": \"white\", \"linecolor\": \"white\", \"ticks\": \"\"}, \"bgcolor\": \"#E5ECF6\", \"radialaxis\": {\"gridcolor\": \"white\", \"linecolor\": \"white\", \"ticks\": \"\"}}, \"scene\": {\"xaxis\": {\"backgroundcolor\": \"#E5ECF6\", \"gridcolor\": \"white\", \"gridwidth\": 2, \"linecolor\": \"white\", \"showbackground\": true, \"ticks\": \"\", \"zerolinecolor\": \"white\"}, \"yaxis\": {\"backgroundcolor\": \"#E5ECF6\", \"gridcolor\": \"white\", \"gridwidth\": 2, \"linecolor\": \"white\", \"showbackground\": true, \"ticks\": \"\", \"zerolinecolor\": \"white\"}, \"zaxis\": {\"backgroundcolor\": \"#E5ECF6\", \"gridcolor\": \"white\", \"gridwidth\": 2, \"linecolor\": \"white\", \"showbackground\": true, \"ticks\": \"\", \"zerolinecolor\": \"white\"}}, \"shapedefaults\": {\"line\": {\"color\": \"#2a3f5f\"}}, \"ternary\": {\"aaxis\": {\"gridcolor\": \"white\", \"linecolor\": \"white\", \"ticks\": \"\"}, \"baxis\": {\"gridcolor\": \"white\", \"linecolor\": \"white\", \"ticks\": \"\"}, \"bgcolor\": \"#E5ECF6\", \"caxis\": {\"gridcolor\": \"white\", \"linecolor\": \"white\", \"ticks\": \"\"}}, \"title\": {\"x\": 0.05}, \"xaxis\": {\"automargin\": true, \"gridcolor\": \"white\", \"linecolor\": \"white\", \"ticks\": \"\", \"title\": {\"standoff\": 15}, \"zerolinecolor\": \"white\", \"zerolinewidth\": 2}, \"yaxis\": {\"automargin\": true, \"gridcolor\": \"white\", \"linecolor\": \"white\", \"ticks\": \"\", \"title\": {\"standoff\": 15}, \"zerolinecolor\": \"white\", \"zerolinewidth\": 2}}}, \"title\": {\"text\": \"U.S. Gulf Coast Kerosene-Type Jet Fuel Price($USD/Gallon) vs. Quarterly Net Income QUARTER ONE\"}, \"xaxis\": {\"title\": {\"text\": \"U.S. Gulf Coast Kerosene-Type Jet Fuel Spot Price FOB in U.S. Dollars per Gallon ($USD/Gallon)\"}}, \"yaxis\": {\"title\": {\"text\": \"Quartlery Net Income for all U.S. Carriers($USD)\"}}},\n",
       "                        {\"responsive\": true}\n",
       "                    ).then(function(){\n",
       "                            \n",
       "var gd = document.getElementById('8a69b509-852c-4a58-b24d-1db8555cb184');\n",
       "var x = new MutationObserver(function (mutations, observer) {{\n",
       "        var display = window.getComputedStyle(gd).display;\n",
       "        if (!display || display === 'none') {{\n",
       "            console.log([gd, 'removed!']);\n",
       "            Plotly.purge(gd);\n",
       "            observer.disconnect();\n",
       "        }}\n",
       "}});\n",
       "\n",
       "// Listen for the removal of the full notebook cells\n",
       "var notebookContainer = gd.closest('#notebook-container');\n",
       "if (notebookContainer) {{\n",
       "    x.observe(notebookContainer, {childList: true});\n",
       "}}\n",
       "\n",
       "// Listen for the clearing of the current output cell\n",
       "var outputEl = gd.closest('.output');\n",
       "if (outputEl) {{\n",
       "    x.observe(outputEl, {childList: true});\n",
       "}}\n",
       "\n",
       "                        })\n",
       "                };\n",
       "                });\n",
       "            </script>\n",
       "        </div>"
      ]
     },
     "metadata": {},
     "output_type": "display_data"
    }
   ],
   "source": [
    "# COMPARE DOMESTIC, INTL, AND TOTAL FLIGHTS:\n",
    "fig5 = go.Figure()\n",
    "\n",
    "fig5.add_trace(go.Scatter(\n",
    "    x=income_and_fuel_Q1['U.S. Gulf Coast Kerosene-Type Jet Fuel Spot Price FOB in U.S. Dollars per Gallon'],\n",
    "    y=income_and_fuel['TOTAL'],\n",
    "    name=\"TOTAL FLIGHTS\",       # this sets its legend entry\n",
    "    mode='markers',\n",
    "    text=income_and_fuel_Q1['Year'], \n",
    "    hovertemplate='%{text} <br> KEROSENE JET FUEL PRICE: $%{x} <br> QUARTERLY NET INCOME: %{y}',\n",
    "))\n",
    "\n",
    "fig5.add_trace(go.Scatter(\n",
    "    x=income_and_fuel_Q1['U.S. Gulf Coast Kerosene-Type Jet Fuel Spot Price FOB in U.S. Dollars per Gallon'],\n",
    "    y=income_and_fuel_Q1['DOMESTIC'],\n",
    "    name=\"DOMESTIC FLIGHTS\",       # this sets its legend entry\n",
    "    mode='markers',\n",
    "    text=income_and_fuel_Q1['Year'], \n",
    "    hovertemplate='%{text} <br> KEROSENE JET FUEL PRICE: $%{x} <br> QUARTERLY NET INCOME: %{y}',\n",
    "))\n",
    "\n",
    "fig5.add_trace(go.Scatter(\n",
    "    x=income_and_fuel_Q1['U.S. Gulf Coast Kerosene-Type Jet Fuel Spot Price FOB in U.S. Dollars per Gallon'],\n",
    "    y=income_and_fuel_Q1['LATIN AMERICA'],\n",
    "    name=\"LATIN AMERICA\",       # this sets its legend entry\n",
    "    mode='markers',\n",
    "    text=income_and_fuel_Q1['Year'], \n",
    "    hovertemplate='%{text} <br> KEROSENE JET FUEL PRICE: $%{x} <br> QUARTERLY NET INCOME: %{y}'\n",
    "))\n",
    "\n",
    "\n",
    "fig5.add_trace(go.Scatter(\n",
    "    x=income_and_fuel_Q1['U.S. Gulf Coast Kerosene-Type Jet Fuel Spot Price FOB in U.S. Dollars per Gallon'],\n",
    "    y=income_and_fuel_Q1['ATLANTIC'],\n",
    "    name=\"ATLANTIC FLIGHTS\",       # this sets its legend entry\n",
    "    mode='markers',\n",
    "   text=income_and_fuel_Q1['Year'], \n",
    "    hovertemplate='%{text} <br> KEROSENE JET FUEL PRICE: $%{x} <br> QUARTERLY NET INCOME: %{y}'\n",
    "))\n",
    "\n",
    "fig5.add_trace(go.Scatter(\n",
    "    x=income_and_fuel_Q1['U.S. Gulf Coast Kerosene-Type Jet Fuel Spot Price FOB in U.S. Dollars per Gallon'],\n",
    "    y=income_and_fuel_Q1['PACIFIC'],\n",
    "    name=\"PACIFIC FLIGHTS\",       # this sets its legend entry\n",
    "    mode='markers',\n",
    "    text=income_and_fuel_Q1['Year'], \n",
    "    hovertemplate='%{text} <br> KEROSENE JET FUEL PRICE: $%{x} <br> QUARTERLY NET INCOME: %{y}'\n",
    "))\n",
    "\n",
    "\n",
    "fig5.add_trace(go.Scatter(\n",
    "    x=income_and_fuel_Q1['U.S. Gulf Coast Kerosene-Type Jet Fuel Spot Price FOB in U.S. Dollars per Gallon'],\n",
    "    y=income_and_fuel_Q1['INTERNATIONAL'],\n",
    "    name=\"INTERNATIONAL FLIGHTS\",       # this sets its legend entry\n",
    "    mode='markers',\n",
    "    text=income_and_fuel_Q1['Year'], \n",
    "    hovertemplate='%{text} <br> KEROSENE JET FUEL PRICE: $%{x} <br> QUARTERLY NET INCOME: %{y}'\n",
    "))\n",
    "\n",
    "\n",
    "fig5.update_layout(\n",
    "    title=\"U.S. Gulf Coast Kerosene-Type Jet Fuel Price($USD/Gallon) vs. Quarterly Net Income QUARTER ONE\",\n",
    "    xaxis_title=\"U.S. Gulf Coast Kerosene-Type Jet Fuel Spot Price FOB in U.S. Dollars per Gallon ($USD/Gallon)\",\n",
    "    yaxis_title=\"Quartlery Net Income for all U.S. Carriers($USD)\",\n",
    "    legend_title=\"REGIONS\",\n",
    "    font=dict(\n",
    "        family=\"Courier New, monospace\",\n",
    "        size=12\n",
    "    )\n",
    ")\n",
    "\n",
    "fig5.show()"
   ]
  },
  {
   "cell_type": "code",
   "execution_count": null,
   "metadata": {},
   "outputs": [],
   "source": []
  }
 ],
 "metadata": {
  "kernelspec": {
   "display_name": "Python 3",
   "language": "python",
   "name": "python3"
  },
  "language_info": {
   "codemirror_mode": {
    "name": "ipython",
    "version": 3
   },
   "file_extension": ".py",
   "mimetype": "text/x-python",
   "name": "python",
   "nbconvert_exporter": "python",
   "pygments_lexer": "ipython3",
   "version": "3.7.6"
  }
 },
 "nbformat": 4,
 "nbformat_minor": 4
}

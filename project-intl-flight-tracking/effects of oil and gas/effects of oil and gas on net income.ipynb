{
 "cells": [
  {
   "cell_type": "code",
   "execution_count": 1,
   "metadata": {},
   "outputs": [],
   "source": [
    "# IMPORT STATEMENTS\n",
    "import pandas as pd"
   ]
  },
  {
   "cell_type": "code",
   "execution_count": 10,
   "metadata": {},
   "outputs": [
    {
     "data": {
      "text/plain": [
       "[     Year Quarter  DOMESTIC  LATIN AMERICA  ATLANTIC  PACIFIC  INTERNATIONAL  \\\n",
       " 0    2000       1    139162          58927    -68918  -106308            839   \n",
       " 1    2000       2   1570500         -86040    250371   154724           9541   \n",
       " 2    2000       3    548903          33056    226224    83675          45470   \n",
       " 3    2000       4   -267068           6639    -95916     5533          23388   \n",
       " 4    2000   TOTAL   1991496          12581    311761   137623          79238   \n",
       " ..    ...     ...       ...            ...       ...      ...            ...   \n",
       " 97   2019       3   4363439         477840    323253  -191276         -50583   \n",
       " 98   2019       4   3738977         465079    -76833  -340004        -189151   \n",
       " 99   2019   TOTAL  15735062        1549883    378323  -950769        -248364   \n",
       " 100  2020       1  -3226298        -251044   -924756  -553586          13600   \n",
       " 101  2020   TOTAL  -3226298        -251044   -924756  -553586          13600   \n",
       " \n",
       "         TOTAL  \n",
       " 0       23702  \n",
       " 1     1899096  \n",
       " 2      937327  \n",
       " 3     -327425  \n",
       " 4     2532700  \n",
       " ..        ...  \n",
       " 97    4922673  \n",
       " 98    3598068  \n",
       " 99   16464136  \n",
       " 100  -4942084  \n",
       " 101  -4942084  \n",
       " \n",
       " [102 rows x 8 columns]]"
      ]
     },
     "execution_count": 10,
     "metadata": {},
     "output_type": "execute_result"
    }
   ],
   "source": [
    "net_income = pd.read_html('Net_Income.xls')\n",
    "net_income"
   ]
  },
  {
   "cell_type": "code",
   "execution_count": null,
   "metadata": {},
   "outputs": [],
   "source": []
  }
 ],
 "metadata": {
  "kernelspec": {
   "display_name": "Python 3",
   "language": "python",
   "name": "python3"
  },
  "language_info": {
   "codemirror_mode": {
    "name": "ipython",
    "version": 3
   },
   "file_extension": ".py",
   "mimetype": "text/x-python",
   "name": "python",
   "nbconvert_exporter": "python",
   "pygments_lexer": "ipython3",
   "version": "3.7.6"
  }
 },
 "nbformat": 4,
 "nbformat_minor": 4
}

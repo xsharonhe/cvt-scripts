{
 "cells": [
  {
   "cell_type": "code",
   "execution_count": 226,
   "metadata": {},
   "outputs": [],
   "source": [
    "from requests_html import HTMLSession\n",
    "import requests\n",
    "from bs4 import BeautifulSoup\n",
    "import pandas as pd\n",
    "import re"
   ]
  },
  {
   "cell_type": "code",
   "execution_count": 3,
   "metadata": {},
   "outputs": [],
   "source": [
    "session = HTMLSession()"
   ]
  },
  {
   "cell_type": "code",
   "execution_count": 49,
   "metadata": {},
   "outputs": [],
   "source": [
    "res = session.get('https://travel.state.gov/content/travel/en/traveladvisories/COVID-19-Country-Specific-Information.html')"
   ]
  },
  {
   "cell_type": "code",
   "execution_count": 50,
   "metadata": {},
   "outputs": [
    {
     "data": {
      "text/plain": [
       "200"
      ]
     },
     "execution_count": 50,
     "metadata": {},
     "output_type": "execute_result"
    }
   ],
   "source": [
    "res.status_code"
   ]
  },
  {
   "cell_type": "code",
   "execution_count": 415,
   "metadata": {},
   "outputs": [
    {
     "data": {
      "text/plain": [
       "['https://af.usembassy.gov/covid-19-information/',\n",
       " 'https://al.usembassy.gov/covid-19-information/',\n",
       " 'https://dz.usembassy.gov/covid-19-information/',\n",
       " 'https://es.usembassy.gov/covid-19-information/',\n",
       " 'https://ao.usembassy.gov/covid-19-information/',\n",
       " 'https://bb.usembassy.gov/covid-19-information/',\n",
       " 'https://bb.usembassy.gov/covid-19-information/',\n",
       " 'https://ar.usembassy.gov/covid-19/',\n",
       " 'https://am.usembassy.gov/u-s-citizen-services/covid-19-information/',\n",
       " 'https://cw.usconsulate.gov/news-events/covid-19-information/',\n",
       " 'https://au.usembassy.gov/covid-19-information/',\n",
       " 'https://at.usembassy.gov/covid-19-information-february-25-2020/',\n",
       " 'https://az.usembassy.gov/covid-19-information-for-azerbaijan/',\n",
       " 'https://bh.usembassy.gov/covid-19-information/',\n",
       " 'https://bd.usembassy.gov/covid-19-information/',\n",
       " 'https://bb.usembassy.gov/covid-19-information/',\n",
       " 'https://by.usembassy.gov/u-s-citizen-services/covid-19-information/',\n",
       " 'https://be.usembassy.gov/covid-19-information/',\n",
       " 'https://bz.usembassy.gov/covid-19-information/',\n",
       " 'https://bj.usembassy.gov/covid-19-information/',\n",
       " 'https://bm.usconsulate.gov/covid-19-information/',\n",
       " 'https://in.usembassy.gov/covid-19-information/',\n",
       " 'https://bo.usembassy.gov/covid-19-information/',\n",
       " 'https://cw.usconsulate.gov/news-events/covid-19-information/',\n",
       " 'https://ba.usembassy.gov/covid-19-information/',\n",
       " 'https://bw.usembassy.gov/covid-19-information/',\n",
       " 'https://br.usembassy.gov/covid-19-information/',\n",
       " 'https://bb.usembassy.gov/covid-19-information/',\n",
       " 'https://bn.usembassy.gov/u-s-citizen-services-covid-19-information/',\n",
       " 'https://bg.usembassy.gov/novel-coronavirus-covid-19-information/',\n",
       " 'https://bf.usembassy.gov/u-s-citizen-services/covid-19-information/',\n",
       " 'https://mm.usembassy.gov/covid-19-information/',\n",
       " 'https://bi.usembassy.gov/covid-19-information/',\n",
       " 'https://cv.usembassy.gov/covid-19-information/',\n",
       " 'https://kh.usembassy.gov/covid-19-information/',\n",
       " 'https://cm.usembassy.gov/covid-19-information/',\n",
       " 'https://ca.usembassy.gov/covid-19-information-canada/',\n",
       " 'https://jm.usembassy.gov/covid-19-information-cayman-islands/',\n",
       " 'https://cf.usembassy.gov/covid-19-information/',\n",
       " 'https://td.usembassy.gov/covid-19-information/',\n",
       " 'https://cl.usembassy.gov/covid-19-information/',\n",
       " 'https://china.usembassy-china.org.cn/covid-19-information/',\n",
       " 'https://co.usembassy.gov/covid-19-information/',\n",
       " 'https://mg.usembassy.gov/u-s-citizen-services/security-and-travel-information/covid-19-information/',\n",
       " 'https://cr.usembassy.gov/covid-19-information/',\n",
       " 'https://ci.usembassy.gov/covid-19-information/',\n",
       " 'https://hr.usembassy.gov/covid-19-information/',\n",
       " 'https://cu.usembassy.gov/covid-19-information/',\n",
       " 'https://cw.usconsulate.gov/news-events/covid-19-information/',\n",
       " 'https://cy.usembassy.gov/covid-19-information/',\n",
       " 'https://cz.usembassy.gov/covid-19-information/',\n",
       " 'https://cd.usembassy.gov/covid-19-information/',\n",
       " 'https://dk.usembassy.gov/u-s-citizen-services/security-and-travel-information/covid-19-information/',\n",
       " 'https://dj.usembassy.gov/covid-19-information-25-february-2020/',\n",
       " 'https://bb.usembassy.gov/covid-19-information/',\n",
       " 'https://do.usembassy.gov/u-s-citizen-services/covid-19-information/',\n",
       " 'https://ec.usembassy.gov/covid-19-information-ecu/',\n",
       " 'https://eg.usembassy.gov/u-s-citizen-services/covid-19-information/',\n",
       " 'https://sv.usembassy.gov/covid-19-information/',\n",
       " 'https://gq.usembassy.gov/covid-19-information/',\n",
       " 'https://er.usembassy.gov/covid-19-information/',\n",
       " 'https://ee.usembassy.gov/covid-19-information/',\n",
       " 'https://sz.usembassy.gov/covid-19-information/',\n",
       " 'https://et.usembassy.gov/covid-19-information/',\n",
       " 'https://fj.usembassy.gov/u-s-citizen-services/covid-19-information/',\n",
       " 'https://fi.usembassy.gov/covid-19-information/',\n",
       " 'https://fr.usembassy.gov/covid-19-information/',\n",
       " 'https://sr.usembassy.gov/covid-19-information/',\n",
       " 'https://fj.usembassy.gov/covid-19-information/',\n",
       " 'https://bb.usembassy.gov/covid-19-information/',\n",
       " 'https://ga.usembassy.gov/u-s-citizen-services/coronavirus-update/',\n",
       " 'https://ge.usembassy.gov/covid-19-information-on-georgia/',\n",
       " 'https://de.usembassy.gov/covid-19-information/',\n",
       " 'https://gh.usembassy.gov/ghana-covid-19-information/',\n",
       " 'https://gr.usembassy.gov/covid-19-information/',\n",
       " 'https://bb.usembassy.gov/covid-19-information/',\n",
       " 'https://gt.usembassy.gov/alert-covid-19/',\n",
       " 'https://gn.usembassy.gov/u-s-citizen-services/',\n",
       " 'https://gw.usmission.gov/covid-19-information/',\n",
       " 'https://gy.usembassy.gov/covid-19-information/',\n",
       " 'https://ht.usembassy.gov/covid-19-information/',\n",
       " 'https://gcc01.safelinks.protection.outlook.com/?url=https%3A%2F%2Fhn.usembassy.gov%2Fcovid-19-information%2F&data=02%7C01%7CHardingCM%40state.gov%7C0e399c3eba414582fb0708d81939aec8%7C66cf50745afe48d1a691a12b2121f44b%7C0%7C0%7C637287082815088625&sdata=zor9KKXIUoOUT%2BTMAw%2B8Z16gc4i43XbY%2B3ek5muviJQ%3D&reserved=0',\n",
       " 'https://hk.usconsulate.gov/covid-19-information/',\n",
       " 'https://hu.usembassy.gov/covid-19/',\n",
       " 'https://is.usembassy.gov/covid-19-information/',\n",
       " 'https://in.usembassy.gov/u-s-citizen-services/covid-19-information/',\n",
       " 'https://id.usembassy.gov/u-s-citizen-services/covid-19-information/',\n",
       " 'https://ir.usembassy.gov/covid-19-information/',\n",
       " 'https://iq.usembassy.gov/covid-19-information/',\n",
       " 'https://ie.usembassy.gov/covid-19-information/',\n",
       " 'https://il.usembassy.gov/covid-19-information/',\n",
       " 'https://it.usembassy.gov/covid-19-information/',\n",
       " 'https://jm.usembassy.gov/covid-19-information-jamaica/',\n",
       " 'https://jp.usembassy.gov/covid-19-information/',\n",
       " 'https://jo.usembassy.gov/covid-19-information/',\n",
       " 'https://kz.usembassy.gov/covid-19-information/',\n",
       " 'https://ke.usembassy.gov/covid-19-information/',\n",
       " 'https://fj.usembassy.gov/u-s-citizen-services/covid-19-information/',\n",
       " 'https://xk.usembassy.gov/covid-19-information-u-s-embassy-pristina-kosovo/',\n",
       " 'https://kw.usembassy.gov/covid-19-information/',\n",
       " 'https://la.usembassy.gov/covid-19-information/',\n",
       " 'https://lv.usembassy.gov/covid-19-information/',\n",
       " 'https://lb.usembassy.gov/covid-19-information/',\n",
       " 'https://ls.usembassy.gov/lesotho-country-specific-information-on-coronavirus-worldwide-outbreak/',\n",
       " 'https://lr.usembassy.gov/covid-19-information/',\n",
       " 'https://ly.usembassy.gov/embassy/',\n",
       " 'https://ch.usembassy.gov/covid-19/',\n",
       " 'https://lt.usembassy.gov/covid-19-information/',\n",
       " 'https://lu.usembassy.gov/covid-19-information/',\n",
       " 'https://hk.usconsulate.gov/covid-19-information/',\n",
       " 'https://mg.usembassy.gov/u-s-citizen-services/security-and-travel-information/covid-19-information/',\n",
       " 'https://mw.usembassy.gov/covid-19-information/',\n",
       " 'https://my.usembassy.gov/u-s-citizen-services/covid-19-information/',\n",
       " 'https://mv.usmission.gov/covid-19-information/',\n",
       " 'https://ml.usembassy.gov/u-s-citizen-services/covid-19-information/',\n",
       " 'https://mt.usembassy.gov/u-s-citizen-services/information-on-covid-19/',\n",
       " 'https://mh.usembassy.gov/covid-19-information/',\n",
       " 'https://mr.usembassy.gov/covid-19-information/',\n",
       " 'https://mu.usembassy.gov/covid-19-information/',\n",
       " 'https://mx.usembassy.gov/covid-19-information/',\n",
       " 'https://fm.usembassy.gov/covid-19-information/',\n",
       " 'https://md.usembassy.gov/u-s-citizen-services/covid-19-information/',\n",
       " 'https://mn.usembassy.gov/covid-19-information/',\n",
       " 'https://me.usembassy.gov/covid-19-information/',\n",
       " 'https://bb.usembassy.gov/covid-19-information/',\n",
       " 'https://ma.usembassy.gov/25161/',\n",
       " 'https://mz.usembassy.gov/covid-19-information/',\n",
       " 'https://na.usembassy.gov/covid-19-information/',\n",
       " 'https://fj.usembassy.gov/u-s-citizen-services/covid-19-information/',\n",
       " 'https://np.usembassy.gov/covid-19-information/',\n",
       " 'https://nl.usembassy.gov/covid-19-information-3/',\n",
       " 'https://fj.usembassy.gov/covid-19-information/',\n",
       " 'https://nz.usembassy.gov/covid-19-information/',\n",
       " 'https://ni.usembassy.gov/covid-19-information/',\n",
       " 'https://ne.usembassy.gov/u-s-citizen-services/covid-19-information/',\n",
       " 'https://ng.usembassy.gov/u-s-citizen-services/covid-19-information/',\n",
       " 'https://www.swedenabroad.se/en/embassies/north-korea-pyongyang/#',\n",
       " 'https://mk.usembassy.gov/covid-19-information/',\n",
       " 'https://no.usembassy.gov/covid-19-information/',\n",
       " 'https://om.usembassy.gov/covid-19-information/',\n",
       " 'https://pk.usembassy.gov/covid-19-information/',\n",
       " 'https://pw.usembassy.gov/covid-19-information/',\n",
       " 'https://pa.usembassy.gov/covid-19-information/',\n",
       " 'https://pg.usembassy.gov/covid-19-information/',\n",
       " 'https://py.usembassy.gov/covid-19-information/',\n",
       " 'https://pe.usembassy.gov/covid-19-information/',\n",
       " 'https://ph.usembassy.gov/covid-19-information/',\n",
       " 'https://pl.usembassy.gov/covid-19-information/',\n",
       " 'https://pt.usembassy.gov/covid-19-information/',\n",
       " 'https://qa.usembassy.gov/covid-19-information-4/',\n",
       " 'https://cg.usembassy.gov/covid-19-information/',\n",
       " 'https://ro.usembassy.gov/covid-19-information/',\n",
       " 'https://ru.usembassy.gov/covid-19-information/',\n",
       " 'https://rw.usembassy.gov/health-alert-covid-19-information/',\n",
       " 'https://bb.usembassy.gov/covid-19-information/',\n",
       " 'https://bb.usembassy.gov/covid-19-information/',\n",
       " 'https://bb.usembassy.gov/covid-19-information/',\n",
       " 'https://ws.usembassy.gov/covid-19-information/',\n",
       " 'https://ga.usembassy.gov/u-s-citizen-services/coronavirus-update/',\n",
       " 'https://sa.usembassy.gov/u-s-citizen-services/covid-19-information/',\n",
       " 'https://sn.usembassy.gov/covid-19-information/',\n",
       " 'https://rs.usembassy.gov/covid-19-information/',\n",
       " 'https://mu.usembassy.gov/covid-19-seychelles/',\n",
       " 'https://sl.usembassy.gov/covid-19-information/',\n",
       " 'https://sg.usembassy.gov/u-s-citizen-services/covid-19-information/',\n",
       " 'https://cw.usconsulate.gov/news-events/covid-19-information/',\n",
       " 'https://sk.usembassy.gov/covid-19-information/',\n",
       " 'https://si.usembassy.gov/covid-19-information/',\n",
       " 'https://pg.usembassy.gov/covid-19-information/',\n",
       " 'https://so.usembassy.gov/covid-19-information/',\n",
       " 'https://za.usembassy.gov/covid-19-information/',\n",
       " 'https://kr.usembassy.gov/022420-covid-19-information/',\n",
       " 'https://ss.usembassy.gov/covid-19-information/',\n",
       " 'https://es.usembassy.gov/covid-19-information/',\n",
       " 'https://lk.usembassy.gov/covid-19-information/',\n",
       " 'https://sd.usembassy.gov/covid-19-information/',\n",
       " 'https://sr.usembassy.gov/covid-19-information/',\n",
       " 'https://se.usembassy.gov/covid-19-coronavirus-information/',\n",
       " 'https://ch.usembassy.gov/covid-19/',\n",
       " 'https://sy.usembassy.gov/embassy/damascus/',\n",
       " 'https://www.ait.org.tw/covid-19-information/',\n",
       " 'https://tj.usembassy.gov/covid-19-information/',\n",
       " 'https://tz.usembassy.gov/covid-19-information/',\n",
       " 'https://th.usembassy.gov/covid-19-information/',\n",
       " 'https://bs.usembassy.gov/covid-19-information/',\n",
       " 'https://gm.usembassy.gov/u-s-citizen-services/covid-19-information/',\n",
       " 'https://kg.usembassy.gov/covid-19-information/',\n",
       " 'https://tl.usembassy.gov/coronavirus-covid-19-outbreak-first-identified-in-wuhan-china-travel-restrictions/',\n",
       " 'https://tg.usembassy.gov/u-s-citizen-services/security-and-travel-information/covid-19/',\n",
       " 'https://fj.usembassy.gov/u-s-citizen-services/covid-19-information/',\n",
       " 'https://tt.usembassy.gov/covid-19-information/',\n",
       " 'https://tn.usembassy.gov/covid-19-information/',\n",
       " 'https://tr.usembassy.gov/covid-19-information/',\n",
       " 'https://tm.usembassy.gov/covid-19-information/',\n",
       " 'https://bs.usembassy.gov/covid-19-information/',\n",
       " 'https://fj.usembassy.gov/u-s-citizen-services/covid-19-information/',\n",
       " 'https://ug.usembassy.gov/uganda-has-not-confirmed-cases-of-covid-19-within-its-borders-february-25-2020/',\n",
       " 'https://ua.usembassy.gov/covid-19-information/',\n",
       " 'https://ae.usembassy.gov/u-s-citizen-services/covid-19-information/',\n",
       " 'https://uk.usembassy.gov/covid-19-coronavirus-information/',\n",
       " 'https://uy.usembassy.gov/covid-19-information/',\n",
       " 'https://uz.usembassy.gov/covid-19-information/',\n",
       " 'https://pg.usembassy.gov/covid-19-information/',\n",
       " 'https://ve.usembassy.gov/covid-19-information/',\n",
       " 'https://vn.usembassy.gov/u-s-citizen-services/covid-19-information/',\n",
       " 'https://ye.usembassy.gov/embassy/',\n",
       " 'https://zm.usembassy.gov/covid-19-information/',\n",
       " 'https://zw.usembassy.gov/covid-19-information/']"
      ]
     },
     "execution_count": 415,
     "metadata": {},
     "output_type": "execute_result"
    }
   ],
   "source": [
    "linksAll = res.html.xpath('//td/a/@href')\n",
    "linksAll"
   ]
  },
  {
   "cell_type": "code",
   "execution_count": 65,
   "metadata": {},
   "outputs": [],
   "source": [
    "# REMOVE safelinks link\n",
    "for link in links:\n",
    "    if 'safelinks' in link:\n",
    "        links.remove(link)"
   ]
  },
  {
   "cell_type": "code",
   "execution_count": 78,
   "metadata": {},
   "outputs": [],
   "source": [
    "r = requests.get(links[0])"
   ]
  },
  {
   "cell_type": "code",
   "execution_count": 100,
   "metadata": {},
   "outputs": [],
   "source": [
    "html = r.content"
   ]
  },
  {
   "cell_type": "code",
   "execution_count": 85,
   "metadata": {},
   "outputs": [],
   "source": [
    "soup = BeautifulSoup(html, \"lxml\")"
   ]
  },
  {
   "cell_type": "code",
   "execution_count": 91,
   "metadata": {},
   "outputs": [],
   "source": [
    "country = soup.find('span', attrs={'class': 'head-title-1 head-one-liner'})"
   ]
  },
  {
   "cell_type": "code",
   "execution_count": 98,
   "metadata": {},
   "outputs": [
    {
     "data": {
      "text/plain": [
       "'Afghanistan'"
      ]
     },
     "execution_count": 98,
     "metadata": {},
     "output_type": "execute_result"
    }
   ],
   "source": [
    "country.string[16:]"
   ]
  },
  {
   "cell_type": "code",
   "execution_count": 121,
   "metadata": {},
   "outputs": [],
   "source": [
    "blockquote = soup.find('blockquote')\n",
    "blockquote"
   ]
  },
  {
   "cell_type": "code",
   "execution_count": 213,
   "metadata": {},
   "outputs": [],
   "source": [
    "article = soup.find('article')"
   ]
  },
  {
   "cell_type": "code",
   "execution_count": 293,
   "metadata": {},
   "outputs": [
    {
     "data": {
      "text/plain": [
       "['Afghanistan has a total of 36,937 confirmed cases of COVID-19 (Coronavirus) and 1,298 deaths attributed to the disease (Ministry of Public Health). Kabul (14,745 confirmed cases and 512 deaths), Herat (5,677 confirmed cases and 177 deaths), Balkh (1,876 confirmed cases and 72 deaths), Nangarhar (1,385 confirmed cases and 74 deaths), and Kandahar (1,380 confirmed cases and 35 deaths) have the most cases.The total number of COVID-19 testing labs is 11. There are five in Kabul (National Public Health Lab, National Veterinary Lab, Afghan-Japan Hospital, Military Hospital and FMIC), and one each in Herat, Kandahar, Nangarhar, Balkh, Paktya, and Kunduz.A new 100-bed COVID-19 hospital is now open in Herat.The Darulaman Palace (300 beds) and Kabul and PolyTechnic universities’ dormitories have been converted into isolation facilities in Kabul city.Large numbers of travelers have been reported returning from Iran to Afghanistan through Herat province. Iran is experiencing sustained community spread of COVID-19, and is subject to U.S. travel restrictions.American citizens with questions related to the COVID-19 coronavirus can contact the Overseas Citizens Services call center at +1 202-501-4444 (overseas) or 1-888-407-4747 (U.S. & Canada).',\n",
       " 'Are there any new restrictions in place as a result of the worldwide outbreak?On June 24th, the Afghanistan Civil Aviation Authority announced some airlines (Emirates, Turkish, Ariana and Kam) have resumed services. Please check with the airlines directly regarding commercial options for international travelers leaving Afghanistan.The Government of Afghanistan has re-opened its border with Iran, which had been closed briefly to all air and ground travel.What procedures are in place at airports and other ports of entry?Entry and exit procedures are pending guidance from the Government of Afghanistan as airports and land borders resume normal operations.',\n",
       " 'People arriving from other countries and who do not show symptoms of COVID-19 are advised to self-quarantine at home for 14 days. If you have any symptoms, you are instructed to contact the Ministry of Public Health and seek care.Testing and Treatment Provincial hospitals are establishing protocols for triaging and evaluating patients under investigation.Isolation wards for treatment have been established in Herat (80 beds) and Kabul (100 beds) for patients with COVID-19.',\n",
       " 'Ministry of Public Health (English) – https://moph.gov.af/en/all-newshttps://moph.gov.af/dr/all-news – وزارت صحت عامهhttps://moph.gov.af/ps/all-news – د عامې روغتیا وزارت',\n",
       " 'What the Department of State Can and Can’t Do in a CrisisTravel.State.gov – Travel Advisory on COVID-19CDC Travel Notice on COVID-19CDC Guidance on Self-QuarantineCDC Nonpharmaceutical InterventionsCDC Travelers’ Health PageState.gov Country Information and Travel Advisory pageDHS.gov: COVID-19: Protecting Air Travelers and the American PublicBy U.S. Embassy in Kabul | 6 August, 2020 | Topics: Alert, Consular Affairs, Messages for U.S. Citizens, News, Security & Emergency Messages, U.S. Citizen Services, U.S. Embassy in KabulSuggested for YouStatement by Secretary Pompeo on the Loya Jirga in AfghanistanStatement on July 29, 2020 Visit to Afghanistan by Ambassador Khalilzad']"
      ]
     },
     "execution_count": 293,
     "metadata": {},
     "output_type": "execute_result"
    }
   ],
   "source": [
    "article_text = article.text.replace('\\n', '').replace('\\xa0', '')\n",
    "afghanistan_list = re.split('Country-Specific Information:|Entry and Exit Requirements:|Quarantine Information:|Local Resources:|Other links:'\n",
    "         , article_text)\n",
    "afghanistan_list.pop(0)\n",
    "afghanistan_list"
   ]
  },
  {
   "cell_type": "code",
   "execution_count": 238,
   "metadata": {},
   "outputs": [],
   "source": [
    "other_links = article.findChildren('a')"
   ]
  },
  {
   "cell_type": "code",
   "execution_count": 381,
   "metadata": {},
   "outputs": [
    {
     "data": {
      "text/plain": [
       "['COVID-19: https://travel.state.gov/content/travel/en/traveladvisories/traveladvisories/iran-travel-advisory.html#ExternalPopup',\n",
       " 'symptoms: https://www.cdc.gov/coronavirus/2019-ncov/symptoms-testing/index.html',\n",
       " 'symptoms: https://www.cdc.gov/coronavirus/2019-ncov/symptoms-testing/index.html',\n",
       " 'https://moph.gov.af/en/all-news: https://moph.gov.af/en/all-news',\n",
       " 'https://moph.gov.af/dr/all-news: https://moph.gov.af/dr/all-news',\n",
       " 'https://moph.gov.af/ps/all-news: https://moph.gov.af/ps/all-news',\n",
       " 'What the Department of State Can and Can’t Do in a Crisis: https://travel.state.gov/content/travel/en/international-travel/emergencies/what-state-dept-can-cant-do-crisis.html',\n",
       " 'Travel.State.gov – Travel Advisory on COVID-19: https://travel.state.gov/content/travel/en/traveladvisories/ea/novel-coronavirus-hubei-province--china.html',\n",
       " 'CDC Travel Notice on COVID-19: https://wwwnc.cdc.gov/travel/notices/warning/novel-coronavirus-china',\n",
       " 'CDC Guidance on Self-Quarantine: https://www.cdc.gov/coronavirus/2019-ncov/hcp/guidance-prevent-spread.html',\n",
       " 'CDC Nonpharmaceutical Interventions: https://www.cdc.gov/nonpharmaceutical-interventions/',\n",
       " 'CDC Travelers’ Health Page: https://wwwnc.cdc.gov/travel/',\n",
       " 'Country Information: https://travel.state.gov/content/travel/en/international-travel/International-Travel-Country-Information-Pages/Afghanistan.html',\n",
       " 'Travel Advisory: https://travel.state.gov/content/travel/en/traveladvisories/traveladvisories/afghanistan-advisory.html',\n",
       " 'DHS.gov: COVID-19: Protecting Air Travelers and the American Public: https://www.dhs.gov/protecting-air-travelers-and-american-public',\n",
       " 'U.S. Embassy in Kabul: https://af.usembassy.gov/author/usembassykabul/',\n",
       " 'Alert: https://af.usembassy.gov/category/alert/',\n",
       " 'Consular Affairs: https://af.usembassy.gov/category/consular-affairs/',\n",
       " 'Messages for U.S. Citizens: https://af.usembassy.gov/category/messages-for-us-citizens/',\n",
       " 'News: https://af.usembassy.gov/category/news/',\n",
       " 'Security & Emergency Messages: https://af.usembassy.gov/category/security-and-emergency-messages/',\n",
       " 'U.S. Citizen Services: https://af.usembassy.gov/category/us-citizen-services/',\n",
       " 'U.S. Embassy in Kabul: https://af.usembassy.gov/category/u-s-embassy-in-kabul/',\n",
       " ': https://af.usembassy.gov/statement-by-secretary-pompeo-on-the-loya-jirga-in-afghanistan/',\n",
       " 'Statement by Secretary Pompeo on the Loya Jirga in Afghanistan: https://af.usembassy.gov/statement-by-secretary-pompeo-on-the-loya-jirga-in-afghanistan/',\n",
       " ': https://af.usembassy.gov/statement-on-july-29-2020-visit-to-afghanistan-by-ambassador-khalilzad/',\n",
       " 'Statement on July 29, 2020 Visit to Afghanistan by Ambassador Khalilzad: https://af.usembassy.gov/statement-on-july-29-2020-visit-to-afghanistan-by-ambassador-khalilzad/']"
      ]
     },
     "execution_count": 381,
     "metadata": {},
     "output_type": "execute_result"
    }
   ],
   "source": [
    "resources = []\n",
    "for link in other_links:\n",
    "    resource = link.text + \": \" + link['href']\n",
    "    resources.append(resource)\n",
    "resources = [resource.replace('\\n', '') for resource in resources]\n",
    "resources"
   ]
  },
  {
   "cell_type": "code",
   "execution_count": 114,
   "metadata": {},
   "outputs": [],
   "source": [
    "r2 = requests.get(links[1])"
   ]
  },
  {
   "cell_type": "code",
   "execution_count": 117,
   "metadata": {},
   "outputs": [],
   "source": [
    "html2 = r2.content"
   ]
  },
  {
   "cell_type": "code",
   "execution_count": 109,
   "metadata": {},
   "outputs": [],
   "source": [
    "soup2 = BeautifulSoup(html2, \"lxml\")"
   ]
  },
  {
   "cell_type": "code",
   "execution_count": 118,
   "metadata": {},
   "outputs": [],
   "source": [
    "country2 = soup2.find('span', attrs={'class': 'head-title-1 head-one-liner'})"
   ]
  },
  {
   "cell_type": "code",
   "execution_count": 119,
   "metadata": {},
   "outputs": [
    {
     "data": {
      "text/plain": [
       "'Albania'"
      ]
     },
     "execution_count": 119,
     "metadata": {},
     "output_type": "execute_result"
    }
   ],
   "source": [
    "country2.string[16:]"
   ]
  },
  {
   "cell_type": "code",
   "execution_count": 135,
   "metadata": {},
   "outputs": [
    {
     "data": {
      "text/plain": [
       "<blockquote><p><strong>Operational Status<br/>\n",
       "</strong>U.S. Citizen emergency services only. All routine U.S. Citizen services and visa operations are temporarily suspended.</p>\n",
       "<p><strong>U.S. Citizens and Lawful Permanent Residents:</strong> In support of the Government of Albania’s efforts to prevent further spread of COVID-19 by limiting public gatherings and increasing social spacing, the U.S. Embassy has cancelled all routine American citizen services and is providing emergency services only. <span style=\"color: red;\">While the provision of routine American citizen services remains suspended due to the COVID-19 pandemic, the U.S. Embassy Consular Section will now begin processing passport applications for urgent travel. For information on obtaining a passport for such travel, please visit <a href=\"https://al.usembassy.gov/u-s-citizen-services/\">our web-page</a></span>. If you require an emergency service, please write to ACSTirana@state.gov.</p>\n",
       "<p><strong>Visas:</strong> In response to significant worldwide challenges related to the COVID-19 pandemic, the Department of State has temporarily suspended routine visa services at all U.S. Embassies and Consulates. Embassies and consulates have canceled all routine immigrant and non-immigrant visa appointments as of March 20, 2020. We will resume routine visa services as soon as possible but are unable to provide a specific date at this time. Please visit the <a href=\"https://travel.state.gov/content/travel/en/traveladvisories/ea/covid-19-visa-services-and-restrictions.html\" rel=\"noopener noreferrer\" target=\"_blank\">Department of State’s Bureau of Consular Affairs website</a> for notices which contain detailed information about the current status of visa services worldwide and visa restrictions related to the COVID-19 global pandemic.</p></blockquote>"
      ]
     },
     "execution_count": 135,
     "metadata": {},
     "output_type": "execute_result"
    }
   ],
   "source": [
    "blockquote = soup2.find('blockquote')\n",
    "blockquote"
   ]
  },
  {
   "cell_type": "code",
   "execution_count": 128,
   "metadata": {},
   "outputs": [],
   "source": [
    "text = blockquote.text"
   ]
  },
  {
   "cell_type": "code",
   "execution_count": 331,
   "metadata": {},
   "outputs": [
    {
     "data": {
      "text/plain": [
       "'Operational Status U.S. Citizen emergency services only. All routine U.S. Citizen services and visa operations are temporarily suspended. U.S. Citizens and Lawful Permanent Residents: In support of the Government of Albania’s efforts to prevent further spread of COVID-19 by limiting public gatherings and increasing social spacing, the U.S. Embassy has cancelled all routine American citizen services and is providing emergency services only. While the provision of routine American citizen services remains suspended due to the COVID-19 pandemic, the U.S. Embassy Consular Section will now begin processing passport applications for urgent travel. For information on obtaining a passport for such travel, please visit our web-page. If you require an emergency service, please write to ACSTirana@state.gov. Visas: In response to significant worldwide challenges related to the COVID-19 pandemic, the Department of State has temporarily suspended routine visa services at all U.S. Embassies and Consulates. Embassies and consulates have canceled all routine immigrant and non-immigrant visa appointments as of March 20, 2020. We will resume routine visa services as soon as possible but are unable to provide a specific date at this time. Please visit the Department of State’s Bureau of Consular Affairs website for notices which contain detailed information about the current status of visa services worldwide and visa restrictions related to the COVID-19 global pandemic.'"
      ]
     },
     "execution_count": 331,
     "metadata": {},
     "output_type": "execute_result"
    }
   ],
   "source": [
    "blockquoteText = text.replace('\\n', ' ').replace('\\xa0', ' ')\n",
    "blockquoteText"
   ]
  },
  {
   "cell_type": "code",
   "execution_count": 161,
   "metadata": {},
   "outputs": [],
   "source": [
    "blockquote_links = blockquote.findChildren('a')"
   ]
  },
  {
   "cell_type": "code",
   "execution_count": 162,
   "metadata": {},
   "outputs": [
    {
     "data": {
      "text/plain": [
       "[<a href=\"https://al.usembassy.gov/u-s-citizen-services/\">our web-page</a>,\n",
       " <a href=\"https://travel.state.gov/content/travel/en/traveladvisories/ea/covid-19-visa-services-and-restrictions.html\" rel=\"noopener noreferrer\" target=\"_blank\">Department of State’s Bureau of Consular Affairs website</a>]"
      ]
     },
     "execution_count": 162,
     "metadata": {},
     "output_type": "execute_result"
    }
   ],
   "source": [
    "blockquote_links"
   ]
  },
  {
   "cell_type": "code",
   "execution_count": 168,
   "metadata": {},
   "outputs": [],
   "source": [
    "blockquote_info = []\n",
    "for link in blockquote_links:\n",
    "    info = link.text + \": \" + link['href']\n",
    "    blockquote_info.append(info)"
   ]
  },
  {
   "cell_type": "code",
   "execution_count": 169,
   "metadata": {},
   "outputs": [
    {
     "data": {
      "text/plain": [
       "['our web-page: https://al.usembassy.gov/u-s-citizen-services/',\n",
       " 'Department of State’s Bureau of Consular Affairs website: https://travel.state.gov/content/travel/en/traveladvisories/ea/covid-19-visa-services-and-restrictions.html']"
      ]
     },
     "execution_count": 169,
     "metadata": {},
     "output_type": "execute_result"
    }
   ],
   "source": [
    "blockquote_info"
   ]
  },
  {
   "cell_type": "code",
   "execution_count": 245,
   "metadata": {},
   "outputs": [
    {
     "data": {
      "text/plain": [
       "[<blockquote><p><strong>Operational Status<br/>\n",
       " </strong>U.S. Citizen emergency services only. All routine U.S. Citizen services and visa operations are temporarily suspended.</p>\n",
       " <p><strong>U.S. Citizens and Lawful Permanent Residents:</strong> In support of the Government of Albania’s efforts to prevent further spread of COVID-19 by limiting public gatherings and increasing social spacing, the U.S. Embassy has cancelled all routine American citizen services and is providing emergency services only. <span style=\"color: red;\">While the provision of routine American citizen services remains suspended due to the COVID-19 pandemic, the U.S. Embassy Consular Section will now begin processing passport applications for urgent travel. For information on obtaining a passport for such travel, please visit <a href=\"https://al.usembassy.gov/u-s-citizen-services/\">our web-page</a></span>. If you require an emergency service, please write to ACSTirana@state.gov.</p>\n",
       " <p><strong>Visas:</strong> In response to significant worldwide challenges related to the COVID-19 pandemic, the Department of State has temporarily suspended routine visa services at all U.S. Embassies and Consulates. Embassies and consulates have canceled all routine immigrant and non-immigrant visa appointments as of March 20, 2020. We will resume routine visa services as soon as possible but are unable to provide a specific date at this time. Please visit the <a href=\"https://travel.state.gov/content/travel/en/traveladvisories/ea/covid-19-visa-services-and-restrictions.html\" rel=\"noopener noreferrer\" target=\"_blank\">Department of State’s Bureau of Consular Affairs website</a> for notices which contain detailed information about the current status of visa services worldwide and visa restrictions related to the COVID-19 global pandemic.</p></blockquote>,\n",
       " <blockquote><p>Commercial flights returned to Albania on June 15, 2020. <span style=\"color: red;\">U.S. citizens who are returning to the United States are currently only being allowed to transit one Schengen country on their journey home. We recommend that you contact your airline regarding any boarding restrictions that may be in place, as air carriers have the final decision as to who they will and will not board.</span></p>\n",
       " <p><span style=\"color: red;\">Visa holders wishing to travel to the United States should review travel restrictions <a href=\"https://travel.state.gov/content/travel/en/traveladvisories/ea/covid-19-visa-services-and-restrictions.html\">here</a> for the latest information.</span></p>\n",
       " <p>If you wish to travel to the United States, we encourage you to contact a travel agent or the airlines for information about available travel options. Please be advised that international travel is highly unpredictable at this time and flights and countries’ entry requirements are subject to change without notice. We strongly encourage you to purchase travel insurance in the event your travel plans change.</p></blockquote>]"
      ]
     },
     "execution_count": 245,
     "metadata": {},
     "output_type": "execute_result"
    }
   ],
   "source": [
    "blockquoteAll = soup2.find_all('blockquote')\n",
    "blockquoteAll"
   ]
  },
  {
   "cell_type": "code",
   "execution_count": 247,
   "metadata": {},
   "outputs": [
    {
     "name": "stdout",
     "output_type": "stream",
     "text": [
      "Operational Status\n",
      "U.S. Citizen emergency services only. All routine U.S. Citizen services and visa operations are temporarily suspended.\n",
      "U.S. Citizens and Lawful Permanent Residents: In support of the Government of Albania’s efforts to prevent further spread of COVID-19 by limiting public gatherings and increasing social spacing, the U.S. Embassy has cancelled all routine American citizen services and is providing emergency services only. While the provision of routine American citizen services remains suspended due to the COVID-19 pandemic, the U.S. Embassy Consular Section will now begin processing passport applications for urgent travel. For information on obtaining a passport for such travel, please visit our web-page. If you require an emergency service, please write to ACSTirana@state.gov.\n",
      "Visas: In response to significant worldwide challenges related to the COVID-19 pandemic, the Department of State has temporarily suspended routine visa services at all U.S. Embassies and Consulates. Embassies and consulates have canceled all routine immigrant and non-immigrant visa appointments as of March 20, 2020. We will resume routine visa services as soon as possible but are unable to provide a specific date at this time. Please visit the Department of State’s Bureau of Consular Affairs website for notices which contain detailed information about the current status of visa services worldwide and visa restrictions related to the COVID-19 global pandemic.\n",
      " haha \n",
      "Commercial flights returned to Albania on June 15, 2020. U.S. citizens who are returning to the United States are currently only being allowed to transit one Schengen country on their journey home. We recommend that you contact your airline regarding any boarding restrictions that may be in place, as air carriers have the final decision as to who they will and will not board.\n",
      "Visa holders wishing to travel to the United States should review travel restrictions here for the latest information.\n",
      "If you wish to travel to the United States, we encourage you to contact a travel agent or the airlines for information about available travel options. Please be advised that international travel is highly unpredictable at this time and flights and countries’ entry requirements are subject to change without notice. We strongly encourage you to purchase travel insurance in the event your travel plans change.\n",
      " haha \n"
     ]
    }
   ],
   "source": [
    "for blockquote in blockquoteAll:\n",
    "    print(blockquote.text)"
   ]
  },
  {
   "cell_type": "code",
   "execution_count": 252,
   "metadata": {},
   "outputs": [],
   "source": [
    "blockquote_info = []\n",
    "for blockquote in blockquoteAll:\n",
    "    child = blockquote.findChildren('a')\n",
    "    for link in child:\n",
    "        info = link.text + \": \" + link['href']\n",
    "        blockquote_info.append(info)"
   ]
  },
  {
   "cell_type": "code",
   "execution_count": 343,
   "metadata": {},
   "outputs": [
    {
     "data": {
      "text/plain": [
       "['our web-page: https://al.usembassy.gov/u-s-citizen-services/',\n",
       " 'Department of State’s Bureau of Consular Affairs website: https://travel.state.gov/content/travel/en/traveladvisories/ea/covid-19-visa-services-and-restrictions.html',\n",
       " 'here: https://travel.state.gov/content/travel/en/traveladvisories/ea/covid-19-visa-services-and-restrictions.html']"
      ]
     },
     "execution_count": 343,
     "metadata": {},
     "output_type": "execute_result"
    }
   ],
   "source": [
    "blockquote_info"
   ]
  },
  {
   "cell_type": "code",
   "execution_count": 326,
   "metadata": {},
   "outputs": [
    {
     "data": {
      "text/plain": [
       "\"Ask a COVID-19 Question.entry-content ul.yxt-AutoComplete-results:first-child{padding-left: 10px;}.js-yext-autocomplete-option.yxt-AutoComplete-option.yxt-AutoComplete-option--item{color:#003875;cursor:pointer;}.js-yxt-SearchBar-clear.yxt-SearchBar-clear{display:none}.Icon.Icon--yext_animated_forward.Icon--lg{display:none}.js-yext-submit.yxt-SearchBar-button{width:30px;border:none;background:0 0;float:right;position:relative;top:-36px;margin:0;padding:0;right:6px}.js-yext-query.yxt-SearchBar-input{width:100%;padding:5px}.yxt-SearchBar-autocomplete.yxt-AutoComplete-wrapper.js-yxt-AutoComplete-wrapper{position:relative;background:#efefef}.yxt-SearchBar-autocomplete.yxt-AutoComplete-wrapper.js-yxt-AutoComplete-wrapper .yxt-AutoComplete{padding:20px 10px 10px}div.yxt-AutoComplete ul.yxt-AutoComplete-results:first-child li{list-style:none;font-weight:700}function initAnswers () {ANSWERS.init({apiKey: '505b20bfe024d820138df5b38458b894' ,experienceKey: 'state_department_config' ,experienceVersion: 'PRODUCTION' ,locale: 'EN' ,businessId: '3163171' ,onReady: function () {ANSWERS .addComponent( 'SearchBar' , {container: '.search_form' ,redirectUrl: 'https://covid19.state.gov/search.html' ,promptHeader: 'You can ask us:' ,searchText: 'What can we help you find?',placeholderText: 'Search for...'});}});}Operational StatusU.S. Citizen emergency services only. All routine U.S. Citizen services and visa operations are temporarily suspended.U.S. Citizens and Lawful Permanent Residents: In support of the Government of Albania’s efforts to prevent further spread of COVID-19 by limiting public gatherings and increasing social spacing, the U.S. Embassy has cancelled all routine American citizen services and is providing emergency services only. While the provision of routine American citizen services remains suspended due to the COVID-19 pandemic, the U.S. Embassy Consular Section will now begin processing passport applications for urgent travel. For information on obtaining a passport for such travel, please visit our web-page. If you require an emergency service, please write to ACSTirana@state.gov.Visas: In response to significant worldwide challenges related to the COVID-19 pandemic, the Department of State has temporarily suspended routine visa services at all U.S. Embassies and Consulates. Embassies and consulates have canceled all routine immigrant and non-immigrant visa appointments as of March 20, 2020. We will resume routine visa services as soon as possible but are unable to provide a specific date at this time. Please visit the Department of State’s Bureau of Consular Affairs websitefor notices which contain detailed information about the current status of visa services worldwide and visa restrictions related to the COVID-19 global pandemic.Click here for the latest alerts and messages for U.S. citizens in Albania.NOTE: Red colored text updated on 8/6/2020.\""
      ]
     },
     "execution_count": 326,
     "metadata": {},
     "output_type": "execute_result"
    }
   ],
   "source": [
    "article2 = soup2.find('article')\n",
    "article_text2 = article2.text.replace('\\n', '').replace('\\xa0', '').replace('\\r', '')\n",
    "lst = re.split('Country-Specific Information:|Entry and Exit Requirements:|Entry and Exit Requirements|Regional Travel:|Travel to the United States:|Quarantine Information:|Local Resources:|Other links:|Actions to Take:'\n",
    "         , article_text2)\n",
    "lst.pop(0)"
   ]
  },
  {
   "cell_type": "code",
   "execution_count": 327,
   "metadata": {},
   "outputs": [
    {
     "data": {
      "text/plain": [
       "['Albania has confirmed more than five thousand five hundredcases of COVID-19 within its borders.Commercial flights returned to Albania on June 15, 2020. U.S. citizens who are returning to the United States are currently only being allowed to transit one Schengen country on their journey home. We recommend that you contact your airline regarding any boarding restrictions that may be in place, as air carriers have the final decision as to who they will and will not board.The Albanian government announced:Preschools and kindergartens reopened on June 1, 2020.All cultural events and other large public gatherings in Albania are cancelled indefinitely.Professional sporting events have resumed, with no spectators allowed to attend.Malls and shops are open with strict social distancing guidelines in place.Hairdressers and dentists are open with strict social distancing guidelines in place.Restaurants and cafes are open.All indoor activity centers for children, gyms, sports centers, swimming pools, internet cafes, cultural centers, and entertainment centers reopened on June 1, 2020.Beaches are open.Outdoor exercise is permitted.Libraries and museums are open.Public transportation has resumed.All maritime and air borders have reopened.On July 15 Minister of Health and Social Protection Ogerta Manastirliu announced that wearing a mask is mandatory in Albania for any individual in closed spaces to include: Public administration offices, Non-public administration, Public transport, offices, Staircases of apartment buildings, Elevators, Shopping malls, Shops, Supermarkets, Markets and other services. Non-compliance with this rule will result in a fine of 2,000 ALL.',\n",
       " 'Commercial flights returned to Albania on June 15, 2020. We recommend that you contact your airline regarding any boarding restrictions that may be in place, as air carriers have the final decision as to who they will and will not board.Albania has increased the number of medical personnel at all ports of entries.Enhanced screening and quarantine measures are being implemented. Travelers should be prepared for travel restrictions to be put into effect with little or no advance notice. Visit the website of theAlbanian Ministry of Health and Social Protectionand theInstitute of Public Healthfor additional information on these new measures.For information on entry/exit requirements, please visit our web page “Entering and Residing in Albania”',\n",
       " 'Albania’s land borders are now open for travel, but some neighboring countries have travel restrictions in place impacting U.S. citizens. If you want to travel to a neighboring country, please visit the website of the U.S. embassy located in that country for more information on specific restrictions on U.S. citizens:– COVID-19 update web-page of U.S. Embassy in Kosovo.– COVID-19 update web-page of U.S. Embassy in Montenegro.– COVID-19 update web-page of U.S. Embassy in North Macedonia.– COVID-19 update web-page of U.S. Embassy in Greece.',\n",
       " 'Commercial flights returned to Albania on June 15, 2020. U.S. citizens who are returning to the United States are currently only being allowed to transit one Schengen country on their journey home. We recommend that you contact your airline regarding any boarding restrictions that may be in place, as air carriers have the final decision as to who they will and will not board.Visa holders wishing to travel to the United States should review travel restrictions here for the latest information.If you wish to travel to the United States, we encourage you to contact a travel agent or the airlines for information about available travel options. Please be advised that international travel is highly unpredictable at this time and flights and countries’ entry requirements are subject to change without notice. We strongly encourage you to purchase travel insurance in the event your travel plans change.',\n",
       " 'There is no general requirement for travelers returning to Albania to self-quarantine. Quarantine will only apply in specific cases when ordered by health authorities.An official isolation and treatment site has been designated at the Infectious Disease Hospital at Mother Teresa University Hospital. The National Medical Emergency Center is responsible for the physical transfer of any patients suspected to be infected with the virus. No private hospitals are authorized to manage COVID-19 cases. There is no official information available about the length of time individuals will be held in these temporary quarantine spaces.',\n",
       " 'Stay home and contact the Albanian National Medical Emergency line at 127 if you believe that you have contracted the COVID-19 virus. Wait for guidance before going to a medical facility.Visit theAlbanian government COVID-19 websitefor updated information.Consult theCDC websitefor the most up-to-date information.For the most recent information on what you can do to reduce your risk of contracting COVID-19 please see theCDC’s latest recommendations.Visit theCOVID-19 crisis page on travel.state.govfor the latest information.Check with your airlines or cruise lines regarding any updated information about your travel plans and/or restrictions.Visit this current pagefor information on conditions in Albania.Visit theDepartment of Homeland Security’s website on the latest travel restrictions to the U.S.',\n",
       " '(Note: The below links to local resources are in Albanian language only.)Medical Emergency Line:127(For suspected Coronavirus cases)National Emergency Line:112(Equivalent of U.S. 911)Public Health Institute(Albanian language only) (Official Facebook page)National Medical Emergency(Official Facebook page)Ministry of Health and Social Protection(Official Facebook page)State Police(for updated news on entry/exit requirements)Tirana International Airport(Flight Information)Civil Aviation Authority (Flight Information) (Official Facebook page)Maritime General Directorate (Ferry Information) (Official Facebook page)Albanian government information on COVID-19',\n",
       " 'COVID-19 crisis page on travel.state.govCDC page on COVID-19Albania Country Information and Travel Advisory page on travel.state.govBy U.S. Embassy Tirana | 7 August, 2020 | Topics: Alert, Embassy, NewsSuggested for YouTravel Advisory for U.S. CitizensU.S. Embassy Statement']"
      ]
     },
     "execution_count": 327,
     "metadata": {},
     "output_type": "execute_result"
    }
   ],
   "source": [
    "lst"
   ]
  },
  {
   "cell_type": "code",
   "execution_count": 328,
   "metadata": {},
   "outputs": [],
   "source": [
    "other_links2 = article2.findChildren('a')"
   ]
  },
  {
   "cell_type": "code",
   "execution_count": 385,
   "metadata": {},
   "outputs": [
    {
     "data": {
      "text/plain": [
       "['our web-page: https://al.usembassy.gov/u-s-citizen-services/',\n",
       " 'Department of State’s Bureau of Consular Affairs website: https://travel.state.gov/content/travel/en/traveladvisories/ea/covid-19-visa-services-and-restrictions.html',\n",
       " 'Click here for the latest alerts and messages for U.S. citizens in Albania.: https://al.usembassy.gov/u-s-citizen-services/security-and-travel-information/',\n",
       " 'Albanian Ministry of Health and Social Protection: https://shendetesia.gov.al/',\n",
       " 'Institute of Public Health: http://www.ishp.gov.al/',\n",
       " 'Entering and Residing in Albania: https://al.usembassy.gov/u-s-citizen-services/additional-resources/entering-and-residing/',\n",
       " 'COVID-19 update web-page: https://xk.usembassy.gov/coronavirus/',\n",
       " 'COVID-19 update web-page: https://me.usembassy.gov/covid-19-information/',\n",
       " 'COVID-19 update web-page: https://mk.usembassy.gov/covid-19-information/',\n",
       " 'COVID-19 update web-page: https://gr.usembassy.gov/covid-19-information/',\n",
       " 'here: https://travel.state.gov/content/travel/en/traveladvisories/ea/covid-19-visa-services-and-restrictions.html',\n",
       " 'Albanian government COVID-19 website: http://www.ishp.gov.al/',\n",
       " 'CDC website: https://www.cdc.gov/coronavirus/2019-ncov/index.html',\n",
       " 'CDC’s latest recommendations: https://www.cdc.gov/coronavirus/2019-ncov/prevent-getting-sick/index.html',\n",
       " 'COVID-19 crisis page on travel.state.gov: https://travel.state.gov/content/travel/en/traveladvisories/ea/covid-19-information.html',\n",
       " 'this current page: https://al.usembassy.gov/updates_covid19/',\n",
       " 'Department of Homeland Security’s website: https://www.dhs.gov/news/2020/02/02/dhs-issues-supplemental-instructions-inbound-flights-individuals-who-have-been-china',\n",
       " 'Public Health Institute: http://www.ishp.gov.al/',\n",
       " 'Official Facebook page: https://www.facebook.com/Instituti-i-Sh%C3%ABndetit-Publik-Faqja-zyrtare-1403099393317094/',\n",
       " 'National Medical Emergency: http://www.urgjenca.gov.al/',\n",
       " 'Official Facebook page: https://www.facebook.com/QendraKombetareUrgjencesMjekesore/',\n",
       " 'Ministry of Health and Social Protection: http://shendetesia.gov.al/',\n",
       " 'Official Facebook page: https://www.facebook.com/MinistriaeShendetesisedheMbrojtjesSociale/',\n",
       " 'State Police: https://www.asp.gov.al/',\n",
       " 'Tirana International Airport: http://www.tirana-airport.com/',\n",
       " 'Official Facebook page: https://www.facebook.com/AlbanianCAA/',\n",
       " 'Official Facebook page: https://www.facebook.com/drejtoriadetare/',\n",
       " 'Albanian government information on COVID-19: https://coronavirus.al/',\n",
       " 'COVID-19 crisis page on travel.state.gov: https://travel.state.gov/content/travel/en/traveladvisories/ea/novel-coronavirus-hubei-province--china.html',\n",
       " 'CDC page on COVID-19: https://wwwnc.cdc.gov/travel/notices/warning/novel-coronavirus-china',\n",
       " 'travel.state.gov: https://travel.state.gov/content/travel/en/international-travel/International-Travel-Country-Information-Pages/Albania.html',\n",
       " 'U.S. Embassy Tirana: https://al.usembassy.gov/author/usembassytirana/',\n",
       " 'Alert: https://al.usembassy.gov/category/alert/',\n",
       " 'Embassy: https://al.usembassy.gov/category/embassy/',\n",
       " 'News: https://al.usembassy.gov/category/news/',\n",
       " ': https://al.usembassy.gov/travel-advisory-20200809/',\n",
       " 'Travel Advisory for U.S. Citizens: https://al.usembassy.gov/travel-advisory-20200809/',\n",
       " ': https://al.usembassy.gov/u-s-embassy-statement-56/',\n",
       " 'U.S. Embassy Statement: https://al.usembassy.gov/u-s-embassy-statement-56/']"
      ]
     },
     "execution_count": 385,
     "metadata": {},
     "output_type": "execute_result"
    }
   ],
   "source": [
    "resources = []\n",
    "for link in other_links2:\n",
    "    resource = link.text + \": \" + link['href']\n",
    "    resources.append(resource)\n",
    "resources = [resource.replace('\\n', '') for resource in resources]\n",
    "resources"
   ]
  },
  {
   "cell_type": "code",
   "execution_count": 421,
   "metadata": {},
   "outputs": [
    {
     "data": {
      "text/plain": [
       "['As of August 11 Algeria confirmed 36,204 cases of COVID-19 and 1,322 COVID-19 related deaths in its borders.The Algerian government has started to ease the measures it had undertaken to limit the spread of COVID-19 by allowing more businesses to reopen and allowing public transportation in cities to resume, but the lifting of restrictions will be gradual and dependent on the evolution of COVID-19 cases in Algeria. People are required to wear a protective mask when in public. All land borders remain closed and the suspension of non-cargo domestic and international air and maritime travel remains in place. All vehicle travel between the 29 provinces listed below as being impacted by a curfew has been prohibited for one week as of July 10. The governor of Algiers prohibited all public transportation on Fridays and Saturdays until further notice. Public transportation (and depending on the province, private transportation) may be suspended in the other 28 provinces affected by a curfew on Fridays and Saturdays. A curfew is in effect in 29 of Algeria’s 48 provinces, including in Algiers, where the curfew is from 8pm to 5am. The other provinces covered by the curfew are: Boumerdes, Souk Ahras, Tissemsilt, Djelfa, Mascara, Oum El Bouaghi, Batna, Bouira, Relizane, Biskra, Khenchela, M’sila, Chlef, Sidi Bel Abbes, Médéa, Blida, Bordj Bou Arreridj, Tipaza, Ouargla, Bechar, Constantine, Oran, Sétif, Annaba, Bejaia, Adrar, Laghouat, El Oued. Curfews are constantly being reviewed and revised and the curfew may be more restrictive in certain provinces or in certain areas of the provinces above for short periods of time as the health situation develops.  The Ministry of Health has advised people to dial 3030 if they suspect they are symptomatic. Visit the website of the Algerian Ministry of Health for updates and its dedicated webpage for additional information on these measures. ',\n",
       " 'Algeria closed all land borders and suspended non-cargo international air and maritime travel as of March 17 and suspended domestic flights as of March 22.Global Health Alerts:The Department of State has issued aLevel 3 Travel Advisory (Reconsider Travel) for Algeria.CDC has issued aLevel 3 Travel Noticefor Algeria.On March 22, the Algerian government declared Algeria is a Level 3 country based on the World Health Organization criteria.',\n",
       " 'U.S. Embassy Algiers has suspended all routine consular services and is providing only emergency services. U.S. citizens should  ACSAlgiers@state.gov.Please make sure you are also enrolled in the Smart Traveler Enrollment Program (STEP) at http://step.state.govto ensure the U.S. Embassy can contact you with updates.Please continue to check this website and the Embassy’sTwitterandFacebookaccounts for updates.Several airlines are running exceptional flights for their citizens. Seats may be available at short notice for other nationalities. If you wish to depart Algeria and are interested in receiving information about possible upcoming flights, please  ACSAlgiers@state.gov.',\n",
       " 'The United States Embassy in Algeria remains unable to resume routine immigrant and nonimmigrant visa services at this time.We will resume routine visa services as soon as possible but are unable to provide a specific date.The MRV fee is valid and may be used to schedule an interview appointment in the country where it was purchased within one year of the date of payment. If you have an urgent matter and need to travel immediately, please follow the guidance provided at  https://www.ustraveldocs.com/dz/dz-main-contactus.asp, e-mailsupport-Algeria@ustraveldocs.com, or call 213 982 402 688to request an emergency appointment.Applicants for H1B, H2B, H4, L and certain J categories covered byPresidential Proclamation 10052should request an appointment only if you have reason to believe you may qualify for one of the exceptions listed in the Proclamation here:  https://www.whitehouse.gov/presidential-actions/proclamation-suspending-entry-aliens-present-risk-u-s-labor-market-following-coronavirus-outbreak/.',\n",
       " 'As of March 18, 2020, Algerian authorities announced that they are quarantining known cases of confirmed COVID-19 within its borders.',\n",
       " 'Coronavirus COVID-19 page on Algerian Ministry of Healthandits dedicated page.',\n",
       " 'COVID-19 crisis page on travel.state.gov.CDC page on COVID-19.Country Information and Travel Advisorypage.By U.S. Embassy in Algiers | 11 August, 2020 | Topics: Alert, Messages for U.S. Citizens, News | Tags: COVID-19 CoronavirusSuggested for YouHealth\\u202fAlert – U.S. Embassy AlgiersProcurement Opportunities!']"
      ]
     },
     "execution_count": 421,
     "metadata": {},
     "output_type": "execute_result"
    }
   ],
   "source": [
    "r = requests.get(linksAll[2])\n",
    "html = r.content\n",
    "soup = BeautifulSoup(html, \"lxml\")\n",
    "country = soup.find('span', attrs={'class': 'head-title-1 head-one-liner'})\n",
    "country.string[16:]\n",
    "article = soup.find('article')\n",
    "article_text = article.text.replace('\\n', '').replace('\\xa0', '').replace('https', ' https').replace('http', ' http').replace('email', ' ')\n",
    "algeria_list = re.split('Country-Specific Information:|Entry and Exit Requirements:|Quarantine Information:|Local Resources:|Other links:| Global Health Alerts:|American Citizen Services:|Visa Appointments:'\n",
    "         , article_text)\n",
    "algeria_list.pop(0)\n",
    "algeria_list"
   ]
  },
  {
   "cell_type": "code",
   "execution_count": 413,
   "metadata": {},
   "outputs": [
    {
     "data": {
      "text/plain": [
       "['Level 3 Travel Notice: https://wwwnc.cdc.gov/travel/notices/',\n",
       " 'http://step.state.gov: http://step.state.gov/',\n",
       " 'Facebook: https://gcc01.safelinks.protection.outlook.com/?url=https%3A%2F%2Fwww.facebook.com%2FUSEmbassyAlgiers%2F&data=02%7C01%7CHajiS%40state.gov%7C62a1a31fa543435b58e208d7dada0061%7C66cf50745afe48d1a691a12b2121f44b%7C0%7C0%7C637218502147499416&sdata=6gJdXUPT%2F8z9XEJI%2FSrOU%2FcNPQezrVlBJrNxNXpB7bI%3D&reserved=0',\n",
       " 'https://www.ustraveldocs.com/dz/dz-main-contactus.asp: https://gcc01.safelinks.protection.outlook.com/?url=https%3A%2F%2Fwww.ustraveldocs.com%2Fdz%2Fdz-main-contactus.asp&data=02%7C01%7CWulfsbergPH%40state.gov%7Cde9fef3d5ce84c20cef608d828d967ad%7C66cf50745afe48d1a691a12b2121f44b%7C0%7C0%7C637304261490838030&sdata=osmLc0Rj13pnUm46cR6Gmj4OEBGS36tq%2B6JF4udd6%2FI%3D&reserved=0',\n",
       " 'Presidential Proclamation 10052: https://gcc01.safelinks.protection.outlook.com/?url=https%3A%2F%2Fwww.whitehouse.gov%2Fpresidential-actions%2Fproclamation-suspending-entry-aliens-present-risk-u-s-labor-market-following-coronavirus-outbreak%2F&data=02%7C01%7CWulfsbergPH%40state.gov%7Cde9fef3d5ce84c20cef608d828d967ad%7C66cf50745afe48d1a691a12b2121f44b%7C0%7C0%7C637304261490838030&sdata=4HTmOM8RFSVHeO6oFrC2EHM40onvOiZ9uK5GAmX1Q3Y%3D&reserved=0',\n",
       " 'Coronavirus COVID-19 page on Algerian Ministry of Health: http://www.sante.gov.dz/coronavirus/coronavirus-2019.html',\n",
       " 'COVID-19 crisis page on travel.state.gov: https://travel.state.gov/content/travel/en/traveladvisories/ea/novel-coronavirus-hubei-province--china.html',\n",
       " 'Country Information and Travel Advisory: https://travel.state.gov/content/travel/en/international-travel/International-Travel-Country-Information-Pages/Algeria.html',\n",
       " 'Alert: https://dz.usembassy.gov/category/alert/',\n",
       " 'News: https://dz.usembassy.gov/category/news/',\n",
       " ': https://dz.usembassy.gov/health_alert-u-s-embassy-algiers-algeria/',\n",
       " ': https://dz.usembassy.gov/requests-for-quotations-2020/']"
      ]
     },
     "execution_count": 413,
     "metadata": {},
     "output_type": "execute_result"
    }
   ],
   "source": [
    "other_links = article.findChildren('a')\n",
    "for link in other_links:\n",
    "    if 'href' not in link:\n",
    "        other_links.remove(link)\n",
    "resources = []\n",
    "for link in other_links:\n",
    "    resource = link.text + \": \" + link['href']\n",
    "    resources.append(resource)\n",
    "resources = [resource.replace('\\n', '').replace('\\xa0', '') for resource in resources]\n",
    "resources"
   ]
  },
  {
   "cell_type": "code",
   "execution_count": 646,
   "metadata": {},
   "outputs": [],
   "source": [
    "def getInfoList(r):\n",
    "    \"\"\"\n",
    "    Returns an info list of information on the embassy page.\n",
    "    :param r (response of requests object)\n",
    "    :returns lst of information (lst)\n",
    "    \"\"\"\n",
    "    html = r.content\n",
    "    soup = BeautifulSoup(html, \"lxml\")\n",
    "    country = soup.find('span', attrs={'class': 'head-title-3'})\n",
    "    country = country.string[16:].strip()\n",
    "    article = soup.find('article')\n",
    "    article_text = article.text.replace('\\n', '').replace('\\xa0', '').replace('https', ' https').replace('http', ' http').replace('email', ' ')\n",
    "    article_text = article_text.replace('\\u202f', '')\n",
    "    lst = re.split('COUNTRY-SPECIFIC INFORMATION:|Country-Specific Information:|Entry and Exit Requirements:|Quarantine Information:|Local Resources:|Other links:| Global Health Alerts:|American Citizen Services:|Visa Appointments:|Travelers Attempting to Depart Argentina'\n",
    "             , article_text)\n",
    "    lst.pop(0)\n",
    "    lst.insert(0, country)\n",
    "    \n",
    "    return lst"
   ]
  },
  {
   "cell_type": "code",
   "execution_count": 523,
   "metadata": {},
   "outputs": [],
   "source": [
    "def getResources(r):\n",
    "    \"\"\"\n",
    "    Returns an info list of links on the embassy page.\n",
    "    :param r (response of requests object)\n",
    "    :returns lst of links (lst)\n",
    "    \"\"\"\n",
    "    html = r.content\n",
    "    soup = BeautifulSoup(html, \"lxml\")\n",
    "    article = soup.find('article')\n",
    "    other_links = article.findChildren('a')\n",
    "    for link in other_links:\n",
    "        if 'href' not in link:\n",
    "            other_links.remove(link)\n",
    "    resources = []\n",
    "    for link in other_links:\n",
    "        resource = link.text + \": \" + link['href']\n",
    "        resources.append(resource)\n",
    "    resources = [resource.replace('\\n', '').replace('\\xa0', '').replace('\\u202f', '') for resource in resources]\n",
    "    return resources"
   ]
  },
  {
   "cell_type": "code",
   "execution_count": 476,
   "metadata": {},
   "outputs": [],
   "source": [
    "r = requests.get(linksAll[3])\n",
    "lst = getInfoList(r)\n",
    "resources = getResources(r)"
   ]
  },
  {
   "cell_type": "code",
   "execution_count": 513,
   "metadata": {},
   "outputs": [],
   "source": [
    "r = requests.get(linksAll[4])\n",
    "lst = getInfoList(r)\n",
    "resources = getResources(r)"
   ]
  },
  {
   "cell_type": "code",
   "execution_count": 559,
   "metadata": {},
   "outputs": [],
   "source": [
    "r = requests.get(linksAll[7])\n",
    "lst = getInfoList(r)\n",
    "resources = getResources(r)"
   ]
  },
  {
   "cell_type": "code",
   "execution_count": 551,
   "metadata": {},
   "outputs": [],
   "source": [
    "ar_alert = requests.get('https://ar.usembassy.gov/argentina-level-4-do-not-travel/')"
   ]
  },
  {
   "cell_type": "code",
   "execution_count": 553,
   "metadata": {},
   "outputs": [],
   "source": [
    "html = ar_alert.content\n",
    "soup = BeautifulSoup(html, \"lxml\")"
   ]
  },
  {
   "cell_type": "code",
   "execution_count": 560,
   "metadata": {},
   "outputs": [
    {
     "data": {
      "text/plain": [
       "'CHECKHEREFOR FURTHER INFORMATION ON COVID-19 SITUATION IN ARGENTINADo not travel to Argentina due to COVID-19.Readthe Department of State’sCOVID-19 pagebeforeyou plan any international travel.TheCenters for Disease Controland Prevention(CDC)has issued aLevel 3 Travel Health NoticeforArgentina due to COVID-19.Travelers to Argentina may experience border closures, airport closures, travel prohibitions, stay at home orders, business closures, and other emergency conditions within Argentina due to COVID-19. Visit the Embassy’s COVID-19 page for more information on COVID-19 in Argentina.Read the Safety and Security section on the country information page.If you decide to travel to Argentina:See the U.S. Embassy’s web page regarding COVID-19.Visit the CDC’s webpage on Travel and COVID-19.Enroll in the Smart Traveler Enrollment Program (STEP) to receive Alerts and make it easier to locate you in an emergency.Follow us onFacebook andTwitter.Review the Crime and Safety Report for Argentina.U.S. citizens who travel abroad should always have a contingency plan for emergency situations. Review the Traveler’s Checklist.Last Update: Reissued with updates to COVID-19 information.By U.S. Mission Argentina | 6 August, 2020 | Topics: AlertSuggested for YouArgentina Health AlertArgentina Health Alert'"
      ]
     },
     "execution_count": 560,
     "metadata": {},
     "output_type": "execute_result"
    }
   ],
   "source": [
    "article = soup.find('article')\n",
    "article_text = article.text.replace('\\n', '').replace('\\xa0', '').replace('https', ' https').replace('http', ' http').replace('email', ' ')\n",
    "article_text = article_text.replace('\\u202f', '')\n",
    "article_text"
   ]
  },
  {
   "cell_type": "code",
   "execution_count": 556,
   "metadata": {},
   "outputs": [
    {
     "data": {
      "text/plain": [
       "['COVID-19 page: https://travel.state.gov/content/travel/en/traveladvisories/ea/covid-19-information.html',\n",
       " 'country information page: https://travel.state.gov/content/travel/en/international-travel/International-Travel-Country-Information-Pages/Argentina.html',\n",
       " 'Travel and COVID-19: https://www.cdc.gov/coronavirus/2019-ncov/travelers/index.html',\n",
       " 'Facebook : https://www.facebook.com/travelgov',\n",
       " 'Crime and Safety Report: https://gcc01.safelinks.protection.outlook.com/?url=https%3A%2F%2Fwww.osac.gov%2FCountry%2FArgentina%2FDetail&data=02%7C01%7CNealBS%40state.gov%7C28132f97b44944e717a208d81dcd5877%7C66cf50745afe48d1a691a12b2121f44b%7C0%7C0%7C637292115071493531&sdata=5LkphQcarwlhvf5ESa0LxLBU8%2Bccw%2BNXjaQxkznFLis%3D&reserved=0',\n",
       " 'U.S. Mission Argentina: https://ar.usembassy.gov/author/mission/',\n",
       " ': https://ar.usembassy.gov/argentina-health-alert-25/',\n",
       " ': https://ar.usembassy.gov/argentina-health-alert-july-17-2020/']"
      ]
     },
     "execution_count": 556,
     "metadata": {},
     "output_type": "execute_result"
    }
   ],
   "source": [
    "article = soup.find('article')\n",
    "other_links = article.findChildren('a')\n",
    "for link in other_links:\n",
    "    if 'href' not in link:\n",
    "        other_links.remove(link)\n",
    "resourcesAlert = []\n",
    "for link in other_links:\n",
    "    resource = link.text + \": \" + link['href']\n",
    "    resourcesAlert.append(resource)\n",
    "resourcesAlert = [resource.replace('\\n', '').replace('\\xa0', '').replace('\\u202f', '') for resource in resourcesAlert]\n",
    "resourcesAlert"
   ]
  },
  {
   "cell_type": "code",
   "execution_count": 581,
   "metadata": {},
   "outputs": [],
   "source": [
    "def getInfoListDiv(r):\n",
    "    \"\"\"\n",
    "    Returns an info list of information on the embassy page for __main__ html structures\n",
    "    :param r (response of requests object)\n",
    "    :returns lst of information (lst)\n",
    "    \"\"\"\n",
    "    html = r.content\n",
    "    soup = BeautifulSoup(html, \"lxml\")\n",
    "    country = soup.find('span', attrs={'class': 'head-title-1 head-one-liner'})\n",
    "    country = country.string[16:].strip()\n",
    "    article = soup.find('main')\n",
    "    article_text = article.text.replace('\\n', '').replace('\\xa0', '').replace('https', ' https').replace('http', ' http').replace('email', ' ')\n",
    "    article_text = article_text.replace('\\u202f', '')\n",
    "    lst = re.split('COVID-19 Website Notice – Embassy Yerevan|COUNTRY-SPECIFIC INFORMATION:|Country-Specific Information:|Entry and Exit Requirements:|Quarantine Information:|Local Resources:|Other links:| Global Health Alerts:|American Citizen Services:|Visa Appointments:|Travelers Attempting to Depart Argentina'\n",
    "             , article_text)\n",
    "    lst.pop(0)\n",
    "    lst.insert(0, country)\n",
    "    \n",
    "    return lst"
   ]
  },
  {
   "cell_type": "code",
   "execution_count": 578,
   "metadata": {},
   "outputs": [],
   "source": [
    "def getResourcesDiv(r):\n",
    "    \"\"\"\n",
    "    Returns an info list of links on the embassy page for __main__ html structures.\n",
    "    :param r (response of requests object)\n",
    "    :returns lst of links (lst)\n",
    "    \"\"\"\n",
    "    html = r.content\n",
    "    soup = BeautifulSoup(html, \"lxml\")\n",
    "    article = soup.find('main')\n",
    "    other_links = article.findChildren('a')\n",
    "    for link in other_links:\n",
    "        if 'href' not in link:\n",
    "            other_links.remove(link)\n",
    "    resources = []\n",
    "    for link in other_links:\n",
    "        resource = link.text + \": \" + link['href']\n",
    "        resources.append(resource)\n",
    "    resources = [resource.replace('\\n', '').replace('\\xa0', '').replace('\\u202f', '') for resource in resources]\n",
    "    return resources"
   ]
  },
  {
   "cell_type": "code",
   "execution_count": 587,
   "metadata": {},
   "outputs": [],
   "source": [
    "r = requests.get(linksAll[8])\n",
    "lst = getInfoListDiv(r)\n",
    "resources = getResourcesDiv(r)"
   ]
  },
  {
   "cell_type": "code",
   "execution_count": 668,
   "metadata": {},
   "outputs": [],
   "source": [
    "r = requests.get(linksAll[10])\n",
    "lst = getInfoList(r)"
   ]
  },
  {
   "cell_type": "code",
   "execution_count": 675,
   "metadata": {},
   "outputs": [],
   "source": [
    "resources = getResources(r)"
   ]
  },
  {
   "cell_type": "code",
   "execution_count": 689,
   "metadata": {},
   "outputs": [],
   "source": [
    "r = requests.get(linksAll[11])\n",
    "lst = getInfoList(r)\n",
    "resources = getResources(r)"
   ]
  },
  {
   "cell_type": "code",
   "execution_count": 727,
   "metadata": {},
   "outputs": [],
   "source": [
    "r = requests.get(linksAll[12])\n",
    "lst = getInfoList(r)\n",
    "resources = getResources(r)"
   ]
  },
  {
   "cell_type": "code",
   "execution_count": 745,
   "metadata": {},
   "outputs": [],
   "source": [
    "r = requests.get(linksAll[13])\n",
    "lst = getInfoList(r)\n",
    "resources = getResources(r)"
   ]
  },
  {
   "cell_type": "code",
   "execution_count": 782,
   "metadata": {},
   "outputs": [],
   "source": [
    "r = requests.get(linksAll[14])\n",
    "lst = getInfoList(r)\n",
    "resources = getResources(r)"
   ]
  },
  {
   "cell_type": "code",
   "execution_count": 781,
   "metadata": {},
   "outputs": [],
   "source": [
    "def getInfoList(r):\n",
    "    \"\"\"\n",
    "    Returns an info list of information on the embassy page.\n",
    "    :param r (response of requests object)\n",
    "    :returns lst of information (lst)\n",
    "    \"\"\"\n",
    "    html = r.content\n",
    "    soup = BeautifulSoup(html, \"lxml\")\n",
    "    country = soup.find('span', attrs={'class': 'head-title-1'})\n",
    "    country = country.string[16:].strip()\n",
    "    article = soup.find('article')\n",
    "    article_text = article.text.replace('\\n', '').replace('\\xa0', '').replace('https', ' https').replace('http', ' http').replace('email', ' ')\n",
    "    article_text = article_text.replace('\\u202f', '')\n",
    "    lst = re.split('INFORMATION ON FLIGHTS:|Quarantine Information|Country-Specific Information:|COUNTRY-SPECIFIC INFORMATION:|Entry and Exit Requirements:|ENTRY AND EXIT REQUIREMENTS:|Country Specific Information|Entry and Exit Requirements|Quarantine Information:|QUARANTINE INFORMATION:|Local Resources:|LOCAL RESOURCES:|Other links:| Global Health Alerts:|American Citizen Services:|Visa Appointments:|Travelers Attempting to Depart Argentina'\n",
    "             , article_text)\n",
    "    lst.insert(0, country)\n",
    "    \n",
    "    return lst"
   ]
  },
  {
   "cell_type": "code",
   "execution_count": 726,
   "metadata": {},
   "outputs": [],
   "source": [
    "def getResources(r):\n",
    "    \"\"\"\n",
    "    Returns an info list of links on the embassy page.\n",
    "    :param r (response of requests object)\n",
    "    :returns lst of links (lst)\n",
    "    \"\"\"\n",
    "    html = r.content\n",
    "    soup = BeautifulSoup(html, \"lxml\")\n",
    "    article = soup.find('article')\n",
    "    other_links = article.findChildren('a')\n",
    "    resources = []\n",
    "    for link in other_links:\n",
    "        resource = link.text + \": \" + link['href']\n",
    "        resources.append(resource)\n",
    "    resources = [resource.replace('\\u202f', '').replace('\\n', '') for resource in resources]\n",
    "    return resources"
   ]
  },
  {
   "cell_type": "code",
   "execution_count": 830,
   "metadata": {},
   "outputs": [],
   "source": [
    "r = requests.get(linksAll[16])\n",
    "lst = getInfoListDiv(r)\n",
    "resources = getResourcesDiv(r)"
   ]
  },
  {
   "cell_type": "code",
   "execution_count": 847,
   "metadata": {},
   "outputs": [],
   "source": [
    "r = requests.get(linksAll[17])\n",
    "lst = getInfoListDiv(r)\n",
    "resources = getResourcesDiv(r)"
   ]
  },
  {
   "cell_type": "code",
   "execution_count": 1037,
   "metadata": {},
   "outputs": [],
   "source": [
    "r = requests.get(linksAll[18])\n",
    "lst = getInfoListDiv(r)\n",
    "resources = getResourcesDiv(r)"
   ]
  },
  {
   "cell_type": "code",
   "execution_count": 1040,
   "metadata": {},
   "outputs": [],
   "source": [
    "r = requests.get(linksAll[19])\n",
    "lst = getInfoListDiv(r)\n",
    "resources = getResourcesDiv(r)"
   ]
  },
  {
   "cell_type": "code",
   "execution_count": 1056,
   "metadata": {},
   "outputs": [],
   "source": [
    "r = requests.get(linksAll[20])\n",
    "lst = getInfoListDiv(r)\n",
    "resources = getResourcesDiv(r)"
   ]
  },
  {
   "cell_type": "code",
   "execution_count": 1081,
   "metadata": {},
   "outputs": [],
   "source": [
    "r = requests.get(linksAll[22])\n",
    "lst = getInfoListDiv(r)\n",
    "resources = getResourcesDiv(r)"
   ]
  },
  {
   "cell_type": "code",
   "execution_count": 1091,
   "metadata": {},
   "outputs": [],
   "source": [
    "r = requests.get(linksAll[24])\n",
    "lst = getInfoListDiv(r)\n",
    "resources = getResourcesDiv(r)"
   ]
  },
  {
   "cell_type": "code",
   "execution_count": 1108,
   "metadata": {},
   "outputs": [],
   "source": [
    "r = requests.get(linksAll[25])\n",
    "lst = getInfoListDiv(r)\n",
    "resources = getResourcesDiv(r)"
   ]
  },
  {
   "cell_type": "code",
   "execution_count": 1115,
   "metadata": {},
   "outputs": [],
   "source": [
    "r = requests.get(linksAll[26])\n",
    "lst = getInfoListDiv(r)\n",
    "resources = getRexsourcesDiv(r)"
   ]
  },
  {
   "cell_type": "code",
   "execution_count": 1147,
   "metadata": {},
   "outputs": [],
   "source": [
    "r = requests.get(linksAll[28])\n",
    "lst = getInfoListDiv(r)\n",
    "resources = getResourcesDiv(r)"
   ]
  },
  {
   "cell_type": "code",
   "execution_count": 1163,
   "metadata": {},
   "outputs": [],
   "source": [
    "r = requests.get(linksAll[29])\n",
    "lst = getInfoListDiv(r)\n",
    "resources = getResourcesDiv(r)"
   ]
  },
  {
   "cell_type": "code",
   "execution_count": 1173,
   "metadata": {},
   "outputs": [],
   "source": [
    "r = requests.get(linksAll[30])\n",
    "lst = getInfoListDiv(r)\n",
    "resources = getResourcesDiv(r)"
   ]
  },
  {
   "cell_type": "code",
   "execution_count": 1184,
   "metadata": {},
   "outputs": [],
   "source": [
    "r = requests.get(linksAll[31])\n",
    "lst = getInfoListDiv(r)\n",
    "resources = getResourcesDiv(r)"
   ]
  },
  {
   "cell_type": "code",
   "execution_count": 1191,
   "metadata": {},
   "outputs": [],
   "source": [
    "r = requests.get(linksAll[32])\n",
    "lst = getInfoListDiv(r)\n",
    "resources = getResourcesDiv(r)"
   ]
  },
  {
   "cell_type": "code",
   "execution_count": 1200,
   "metadata": {},
   "outputs": [],
   "source": [
    "r = requests.get(linksAll[33])\n",
    "lst = getInfoListDiv(r)\n",
    "resources = getResourcesDiv(r)"
   ]
  },
  {
   "cell_type": "code",
   "execution_count": 1210,
   "metadata": {},
   "outputs": [],
   "source": [
    "r = requests.get(linksAll[34])\n",
    "lst = getInfoListDiv(r)\n",
    "resources = getResourcesDiv(r)"
   ]
  },
  {
   "cell_type": "code",
   "execution_count": 1221,
   "metadata": {},
   "outputs": [],
   "source": [
    "r = requests.get(linksAll[35])\n",
    "lst = getInfoListDiv(r)\n",
    "resources = getResourcesDiv(r)"
   ]
  },
  {
   "cell_type": "code",
   "execution_count": 1229,
   "metadata": {},
   "outputs": [],
   "source": [
    "r = requests.get(linksAll[36])\n",
    "lst = getInfoListDiv(r)\n",
    "resources = getResourcesDiv(r)"
   ]
  },
  {
   "cell_type": "code",
   "execution_count": 1239,
   "metadata": {},
   "outputs": [],
   "source": [
    "r = requests.get(linksAll[38])\n",
    "lst = getInfoListDiv(r)\n",
    "resources = getResourcesDiv(r)"
   ]
  },
  {
   "cell_type": "code",
   "execution_count": 1246,
   "metadata": {},
   "outputs": [],
   "source": [
    "r = requests.get(linksAll[39])\n",
    "lst = getInfoListDiv(r)\n",
    "resources = getResourcesDiv(r)"
   ]
  },
  {
   "cell_type": "code",
   "execution_count": 1260,
   "metadata": {},
   "outputs": [],
   "source": [
    "r = requests.get(linksAll[40])\n",
    "lst = getInfoListDiv(r)\n",
    "resources = getResourcesDiv(r)"
   ]
  },
  {
   "cell_type": "code",
   "execution_count": 1306,
   "metadata": {},
   "outputs": [],
   "source": [
    "r = requests.get(linksAll[41])\n",
    "lst = getInfoListDiv(r)\n",
    "resources = getResourcesDiv(r)"
   ]
  },
  {
   "cell_type": "code",
   "execution_count": 1312,
   "metadata": {},
   "outputs": [],
   "source": [
    "r = requests.get(linksAll[42])\n",
    "lst = getInfoListDiv(r)\n",
    "resources = getResourcesDiv(r)"
   ]
  },
  {
   "cell_type": "code",
   "execution_count": 1339,
   "metadata": {},
   "outputs": [],
   "source": [
    "r = requests.get(linksAll[43])\n",
    "lst = getInfoListDiv(r)\n",
    "resources = getResourcesDiv(r)"
   ]
  },
  {
   "cell_type": "code",
   "execution_count": 1351,
   "metadata": {},
   "outputs": [],
   "source": [
    "r = requests.get(linksAll[44])\n",
    "lst = getInfoListDiv(r)\n",
    "resources = getResourcesDiv(r)"
   ]
  },
  {
   "cell_type": "code",
   "execution_count": 1356,
   "metadata": {},
   "outputs": [],
   "source": [
    "r = requests.get(linksAll[45])\n",
    "lst = getInfoListDiv(r)\n",
    "resources = getResourcesDiv(r)"
   ]
  },
  {
   "cell_type": "code",
   "execution_count": 1362,
   "metadata": {},
   "outputs": [],
   "source": [
    "r = requests.get(linksAll[46])\n",
    "lst = getInfoListDiv(r)\n",
    "resources = getResourcesDiv(r)"
   ]
  },
  {
   "cell_type": "code",
   "execution_count": 1367,
   "metadata": {},
   "outputs": [],
   "source": [
    "r = requests.get(linksAll[47])\n",
    "lst = getInfoListDiv(r)\n",
    "resources = getResourcesDiv(r)"
   ]
  },
  {
   "cell_type": "code",
   "execution_count": 1399,
   "metadata": {},
   "outputs": [],
   "source": [
    "r = requests.get(linksAll[49])\n",
    "lst = getInfoListDiv(r)\n",
    "resources = getResourcesDiv(r)"
   ]
  },
  {
   "cell_type": "code",
   "execution_count": 1422,
   "metadata": {},
   "outputs": [],
   "source": [
    "r = requests.get(linksAll[50])\n",
    "lst = getInfoListDiv(r)\n",
    "resources = getResourcesDiv(r)"
   ]
  },
  {
   "cell_type": "code",
   "execution_count": 1435,
   "metadata": {},
   "outputs": [],
   "source": [
    "r = requests.get(linksAll[51])\n",
    "lst = getInfoListDiv(r)\n",
    "resources = getResourcesDiv(r)"
   ]
  },
  {
   "cell_type": "code",
   "execution_count": 1445,
   "metadata": {},
   "outputs": [],
   "source": [
    "r = requests.get(linksAll[52])\n",
    "lst = getInfoListDiv(r)\n",
    "resources = getResourcesDiv(r)"
   ]
  },
  {
   "cell_type": "code",
   "execution_count": 1453,
   "metadata": {},
   "outputs": [],
   "source": [
    "r = requests.get(linksAll[53])\n",
    "lst = getInfoListDiv(r)\n",
    "resources = getResourcesDiv(r)"
   ]
  },
  {
   "cell_type": "code",
   "execution_count": 1487,
   "metadata": {},
   "outputs": [],
   "source": [
    "r = requests.get(linksAll[55])\n",
    "lst = getInfoListDiv(r)\n",
    "resources = getResourcesDiv(r)"
   ]
  },
  {
   "cell_type": "code",
   "execution_count": 1494,
   "metadata": {},
   "outputs": [],
   "source": [
    "r = requests.get(linksAll[56])\n",
    "lst = getInfoListDiv(r)\n",
    "resources = getResourcesDiv(r)"
   ]
  },
  {
   "cell_type": "code",
   "execution_count": 1502,
   "metadata": {},
   "outputs": [],
   "source": [
    "r = requests.get(linksAll[57])\n",
    "lst = getInfoListDiv(r)\n",
    "resources = getResourcesDiv(r)"
   ]
  },
  {
   "cell_type": "code",
   "execution_count": 1508,
   "metadata": {},
   "outputs": [],
   "source": [
    "r = requests.get(linksAll[58])\n",
    "lst = getInfoListDiv(r)\n",
    "resources = getResourcesDiv(r)"
   ]
  },
  {
   "cell_type": "code",
   "execution_count": 1532,
   "metadata": {},
   "outputs": [],
   "source": [
    "r = requests.get(linksAll[59])\n",
    "lst = getInfoListDiv(r)\n",
    "resources = getResourcesDiv(r)"
   ]
  },
  {
   "cell_type": "code",
   "execution_count": 1544,
   "metadata": {},
   "outputs": [],
   "source": [
    "r = requests.get(linksAll[60])\n",
    "lst = getInfoListDiv(r)\n",
    "resources = getResourcesDiv(r)"
   ]
  },
  {
   "cell_type": "code",
   "execution_count": 1550,
   "metadata": {},
   "outputs": [],
   "source": [
    "r = requests.get(linksAll[61])\n",
    "lst = getInfoListDiv(r)\n",
    "resources = getResourcesDiv(r)"
   ]
  },
  {
   "cell_type": "code",
   "execution_count": 1578,
   "metadata": {},
   "outputs": [],
   "source": [
    "r = requests.get(linksAll[62])\n",
    "lst = getInfoListDiv(r)\n",
    "resources = getResourcesDiv(r)"
   ]
  },
  {
   "cell_type": "code",
   "execution_count": 1581,
   "metadata": {},
   "outputs": [],
   "source": [
    "r = requests.get(linksAll[63])\n",
    "lst = getInfoListDiv(r)\n",
    "resources = getResourcesDiv(r)"
   ]
  },
  {
   "cell_type": "code",
   "execution_count": 1618,
   "metadata": {},
   "outputs": [],
   "source": [
    "r = requests.get(linksAll[65])\n",
    "lst = getInfoListDiv(r)\n",
    "resources = getResourcesDiv(r)"
   ]
  },
  {
   "cell_type": "code",
   "execution_count": 1655,
   "metadata": {},
   "outputs": [],
   "source": [
    "r = requests.get(linksAll[66])\n",
    "lst = getInfoListDiv(r)"
   ]
  },
  {
   "cell_type": "code",
   "execution_count": 1662,
   "metadata": {},
   "outputs": [],
   "source": [
    "r = requests.get(linksAll[67])\n",
    "lst = getInfoListDiv(r)\n",
    "resources = getResourcesDiv(r)"
   ]
  },
  {
   "cell_type": "code",
   "execution_count": 1679,
   "metadata": {},
   "outputs": [],
   "source": [
    "r = requests.get(linksAll[70])\n",
    "lst = getInfoListDiv(r)\n",
    "resources = getResourcesDiv(r)"
   ]
  },
  {
   "cell_type": "code",
   "execution_count": 1689,
   "metadata": {},
   "outputs": [],
   "source": [
    "r = requests.get(linksAll[71])\n",
    "lst = getInfoListDiv(r)\n",
    "resources = getResourcesDiv(r)"
   ]
  },
  {
   "cell_type": "code",
   "execution_count": 1697,
   "metadata": {},
   "outputs": [],
   "source": [
    "r = requests.get(linksAll[72])\n",
    "lst = getInfoListDiv(r)\n",
    "resources = getResourcesDiv(r)"
   ]
  },
  {
   "cell_type": "code",
   "execution_count": 1709,
   "metadata": {},
   "outputs": [],
   "source": [
    "r = requests.get(linksAll[73])\n",
    "lst = getInfoListDiv(r)\n",
    "resources = getResourcesDiv(r)"
   ]
  },
  {
   "cell_type": "code",
   "execution_count": 1718,
   "metadata": {},
   "outputs": [],
   "source": [
    "r = requests.get(linksAll[74])\n",
    "lst = getInfoListDiv(r)\n",
    "resources = getResourcesDiv(r)"
   ]
  },
  {
   "cell_type": "code",
   "execution_count": 1748,
   "metadata": {},
   "outputs": [],
   "source": [
    "r = requests.get('https://bb.usembassy.gov/covid-information-grenada/')\n",
    "lst = getInfoListDiv(r)\n",
    "resources = getResourcesDiv(r)"
   ]
  },
  {
   "cell_type": "code",
   "execution_count": 1776,
   "metadata": {},
   "outputs": [],
   "source": [
    "r = requests.get('https://gt.usembassy.gov/message-to-u-s-citizens-government-of-guatemala-continues-restrictions-in-response-to-covid-19/')\n",
    "lst = getInfoListDiv(r)\n",
    "resources = getResourcesDiv(r)"
   ]
  },
  {
   "cell_type": "code",
   "execution_count": 1805,
   "metadata": {},
   "outputs": [],
   "source": [
    "r = requests.get(linksAll[78])\n",
    "lst = getInfoListDiv(r)\n",
    "resources = getResourcesDiv(r)"
   ]
  },
  {
   "cell_type": "code",
   "execution_count": 1812,
   "metadata": {},
   "outputs": [],
   "source": [
    "r = requests.get(linksAll[79])\n",
    "lst = getInfoListDiv(r)\n",
    "resources = getResourcesDiv(r)"
   ]
  },
  {
   "cell_type": "code",
   "execution_count": 1815,
   "metadata": {},
   "outputs": [],
   "source": [
    "r = requests.get(linksAll[80])\n",
    "lst = getInfoListDiv(r)\n",
    "resources = getResourcesDiv(r)"
   ]
  },
  {
   "cell_type": "code",
   "execution_count": 1820,
   "metadata": {},
   "outputs": [],
   "source": [
    "r = requests.get(linksAll[81])\n",
    "lst = getInfoListDiv(r)\n",
    "resources = getResourcesDiv(r)"
   ]
  },
  {
   "cell_type": "code",
   "execution_count": 1831,
   "metadata": {},
   "outputs": [],
   "source": [
    "r = requests.get(linksAll[82])\n",
    "lst = getInfoListDiv(r)\n",
    "resources = getResourcesDiv(r)"
   ]
  },
  {
   "cell_type": "code",
   "execution_count": 1835,
   "metadata": {},
   "outputs": [],
   "source": [
    "def getInfoListDiv(r):\n",
    "    \"\"\"\n",
    "    Returns an info list of information on the embassy page for __main__ html structures\n",
    "    :param r (response of requests object)\n",
    "    :returns lst of information (lst)\n",
    "    \"\"\"\n",
    "    html = r.content\n",
    "    soup = BeautifulSoup(html, \"lxml\")\n",
    "    country = soup.find('span', attrs={'class': 'head-title-1'})\n",
    "    country = country.string[16:].strip()\n",
    "    article = soup.find('main')\n",
    "    article_text = article.text.replace('\\n', '').replace('\\xa0', '').replace('https', ' https').replace('http', ' http').replace('email', ' ')\n",
    "    article_text = article_text.replace('\\u202f', '')\n",
    "    lst = re.split('Area-specific Information|Country-Specific Information:|COUNTRY-SPECIFIC INFORMATION:|Country-Specific Information|Entry and Exit Requirements:|Entry and Exit Requirements :|ENTRY AND EXIT REQUIREMENTS:|Entry and Exit Requirements|Country Specific Information|Country-Specific Information|Entry and Exit Requirements|Quarantine Information:|QUARANTINE INFORMATION:|Quarantine Information|Local Resources:|LOCAL RESOURCES:|Other links:| Global Health Alerts:|American Citizen Services:|Visa Appointments:|Travelers Attempting to Depart Argentina'\n",
    "             , article_text)\n",
    "    lst.pop(0)\n",
    "    lst.insert(0, country)\n",
    "    \n",
    "    return lst"
   ]
  },
  {
   "cell_type": "code",
   "execution_count": 1787,
   "metadata": {},
   "outputs": [],
   "source": [
    "def getResourcesDiv(r):\n",
    "    \"\"\"\n",
    "    Returns an info list of links on the embassy page for __main__ html structures.\n",
    "    :param r (response of requests object)\n",
    "    :returns lst of links (lst)\n",
    "    \"\"\"\n",
    "    html = r.content\n",
    "    soup = BeautifulSoup(html, \"lxml\")\n",
    "    article = soup.find('main')\n",
    "    other_links = article.findChildren('a')\n",
    "    resources = []\n",
    "    for link in other_links:\n",
    "        if 'href' not in link:\n",
    "            other_links.remove(link)\n",
    "        elif link == '<a> </a>':\n",
    "            other_links.remove(link)\n",
    "    for link in other_links:\n",
    "        resource = link.text + \": \" + link['href']\n",
    "        resources.append(resource)\n",
    "    resources = [resource.replace('\\n', '').replace('\\xa0', '').replace('\\u202f', '') for resource in resources]\n",
    "    return resources"
   ]
  },
  {
   "cell_type": "code",
   "execution_count": 1836,
   "metadata": {},
   "outputs": [],
   "source": [
    "r = requests.get(linksAll[83])\n",
    "lst = getInfoListDiv(r)\n",
    "resources = getResourcesDiv(r)"
   ]
  },
  {
   "cell_type": "code",
   "execution_count": 1837,
   "metadata": {},
   "outputs": [
    {
     "data": {
      "text/plain": [
       "['Hungary',\n",
       " 'Hungary has 4813 confirmed cases of COVID-19 within its borders. Number of deceased: 607.For official up-to-date information about COVID-19 related restrictions and regulations, please visit:   https://koronavirus.gov.hu/. English language information is available at  http://abouthungary.hu/news-in-brief/coronavirus-heres-the-latest/General rule is that physical distancing of one and a half meters is to be kept, and face masks – or mask-like substitutes (scarves, shawls, etc.) – are mandatory when shopping, on public transport, and in taxis.Public areas, parks, shops, shopping malls, and markets are open.Restaurants, cafés, bars, and hotels are open, but employees are expected to wear face masks.Cultural institutions, such as libraries, museums, zoos, cinemas, and theaters are open.Universities may be open provided that physical distancing is observed, but the rector has the ultimate right to decide. Visiting student residences is still prohibited.Open-air cultural and sporting events (e.g. open-air theater, cinema, circus, exhibition, literary event) can be attended in accordance with epidemiological rules. Spectators may occupy only one in four seats, shall not sit directly behind each other and shall have a safety distance of at least 1.5 meters between them. An outdoor event is a program that takes place for the entire duration outside a walled, covered building on all sides, or during which spectators are protected by a tent (such as a circus tent) due to the weather, or those that are enclosed by a wall built for the event or take place in an uncovered or partially covered facility (e.g. stadium, swimming pool, outdoor stage, outdoor cinema).Mass events of more than 500 people are banned. Worship services can be held, and civil marriages and funerals can also be held at a protective distance. Family events and weddings of less than 200 people can be held.Budapest’s Liszt Ferenc airport is open.Covid-19 information for passengers is available at   https://www.bud.hu/en/covid_19.For departing passengers with cancelled flights, travelers should check carrier schedules for the latest updates and work directly with the carrier or travel agent to arrange or reschedule travel.The U.S. Embassy in Budapest is currently offering limited appointments for some American Citizens services, to include passports and Consular Reports of Birth Abroad. Please refer to our U.S. Citizen Services page (  https://hu.usembassy.gov/u-s-citizen-services/) for an appointment. Passport processing in the United States remains slow. In case you need to travel to the U.S. in the next seven days please come to the Embassy to submit an application for an emergency passport. Official hours for emergency passport applications: Monday – Friday 8:30 am – 9:30 am. No appointment is necessary. Visa applicants with interview appointments scheduled in the next 30 days should refer to the following website for more information:  http://cdn.ustraveldocs.com/hu/.Entering HungaryAs of July 15, 2020, the Government of Hungary introduces entry restrictions. Countries are classified into “red”, “yellow” and “green” categories, based on the severity of the COVID situation in each.Hungarian citizens and their relatives can enter Hungary from a “green” country without a health check. A Hungarian citizen coming from a “yellow” or “red” country will be subjected to health checks at the border and must be quarantined for 14 days. An exception to this is if they can credibly show two negative coronavirus tests 48 hours apart in the previous 5 days. A Hungarian citizen coming from a “yellow” country may be released from quarantine after the first negative coronavirus test, but if coming from a “red” country, two negative tests are required.In the case of non-Hungarian citizens, those coming from a “yellow” country can enter under the same conditions as Hungarian citizens, but it is not possible to enter Hungary from a “red” country.Categories and countries (as of August 5, 2020):“Red” Countries:Republic of Albania, Bosnia and Herzegovina, Republic of Belarus, Republic of Kosovo, Republic of Northern Macedonia, Moldova, Montenegro, Ukraine, all African countries, all Asian countries, except for Japan, the People’s Republic of China, and South Korea, all countries belonging to the Australian continent, and most countries on the American continent.“Yellow” Countries:Bulgaria, United Kingdom, Norway, Russian Federation, Romania, Republic of Serbia, Kingdom of Sweden, Japan, People’s Republic of China, United States of America, Canada, and Spain.“Green” Countries:Countries that did not receive a yellow or red classification are green.The Government of Hungary will regularly review the classification of countries, and will adjust it to possible changes in the COVID situation.Transit and freight traffic are exempt but will have to follow an officially designated corridor. At the same time, health examinations may be carried out if needed.See details with a map of Europe here (as of July 13, 2020): http://abouthungary.hu/news-in-brief/government-introduces-new-international-travel-restrictions/Information about testing requirements: http://abouthungary.hu/news-in-brief/chief-medical-officer-is-continuously-monitoring-epidemic-situation-abroad-as-well/Official list of countries by category (as of August 5, 2020):  https://magyarkozlony.hu/dokumentumok/1738d89faf98120575e675ba8d1f7206d96f6cb9/megtekintes (PDF 623KB) (in Hungarian)Humanitarian corridors: Foreign citizens arriving from abroad in passenger traffic to transit can enter Hungary if they undergo a medical check upon entry and such a check does not reveal the suspicion of infection. Please check the Hungarian Police’s website for details:  http://www.police.hu/en/content/humanitarian-corridorException Requests: Foreigners may make a request an exception and entry permit with supporting documents on the National Police website. See   https://ugyintezes.police.hu/web/guest/uj-ugy-inditasa/ (in Hungarian only)Entering the United StatesTravel restrictions barring entry to the U.S. from the Schengen Zone do not apply to U.S. citizens and lawful permanent residents and some family members of U.S. citizens, including any prospective adoptee who is seeking to enter the United States pursuant to the IR-4 or IH-4 visa classifications. For further information about the exceptions and the most current information regarding COVID-19, the March 11 and March 14 Presidential Proclamations, and its impact on travel to the United States, please visit www.coronavirus.gov, www.dhs.gov/coronavirus and www.whitehouse.gov/.Transportation InformationU.S. citizens who are considering returning to the United States should work with their airlines to make travel arrangements while flights are still available. In case commercial transportation options cease to be available, we are compiling a list of persons seeking to leave Hungary. Please enroll in STEP at   https://step.state.gov/ and provide your name and contact information to our   address: HungaryUSCitizen@state.gov so we can contact you as soon as we have any updates.Your   message should include the following information:Your full name as spelled in your passport.Information we can use to contact you now – a current phone number and   address.Your date of birth (MM/DD/YYYY).Your passport number, and its date of issuance and expiration. If it is not a U.S. passport, please note the country that issued it. Please also note any non-U.S. citizen immediate family members traveling with you.Please note your current location (city and country) and any special needs you may have, such as medical issues.For the latest information regarding flights departing Budapest, please visit the airport’s website which is updated continuously.',\n",
       " 'There are individuals who have been quarantined in Hungary as precautionary measure due to the possibility they may be infected.The Hungarian government has stated that if such individuals remain symptom-free for more than two weeks they can be released.Local ResourcesThe Hungarian government has created a public hotline for individuals to talk to infectious disease specialists about COVID-19: 06-80-277-455 and 06-80-277-456. Please note that this hotline is offered in Hungarian only.Hungarian Government’s page:   https://koronavirus.gov.hu/COVID-19-Related On-line Information Sources in HungaryOther linksCOVID-19 crisis page on travel.state.govCDC page on COVID-19Travel.state.gov Country Information and Travel Advisory pageDepartment of State Coronavirus Disease 2019 (COVID-19) pageAlerts and Messages, U.S. Embassy BudapestBy U.S. Embassy Budapest | 13 August, 2020 | Topics: Alert, Consular Affairs, Europe & Eurasia, Health Issues, Messages for U.S. Citizens, News, U.S. & Hungary, U.S. Citizen ServicesSuggested for YouU.S. Ambassador Cornstein Hails Hungary’s Billion Dollar Air Defense PurchaseHeating, Ventilation and Air Conditioning (HVAC)  Controls Technician (August 10)']"
      ]
     },
     "execution_count": 1837,
     "metadata": {},
     "output_type": "execute_result"
    }
   ],
   "source": [
    "lst"
   ]
  },
  {
   "cell_type": "code",
   "execution_count": 1653,
   "metadata": {},
   "outputs": [
    {
     "data": {
      "text/plain": [
       "['COVID-19 Traveler Information: https://travel.state.gov/content/travel/en/traveladvisories/ea/covid-19-information.html',\n",
       " 'Travel Advisories: https://travel.state.gov/content/travel/en/traveladvisories/traveladvisories.html/',\n",
       " 'U.S. Embassy COVID pages: https://travel.state.gov/content/travel/en/traveladvisories/COVID-19-Country-Specific-Information.html',\n",
       " 'here: http://fr.usembassy.gov/frequently-asked-questions-related-to-u-s-citizens-and-covid-19/',\n",
       " 'passport processing: https://fr.usembassy.gov/u-s-citizen-services/passports/',\n",
       " 'reports of birth abroad: https://fr.usembassy.gov/u-s-citizen-services/child-family-matters/consular-report-birth-abroad/',\n",
       " 'notary actions: https://fr.usembassy.gov/u-s-citizen-services/notarial-services-all-nationalities-3/',\n",
       " 'voting assistance: https://fr.usembassy.gov/u-s-citizen-services/notarial-services-all-nationalities-3/',\n",
       " 'federal benefits assistance: https://fr.usembassy.gov/u-s-citizen-services/social-security-administration/',\n",
       " 'Delta Airlines,: https://www.delta.com/fr/en',\n",
       " 'Air France: https://www.airfrance.fr/en',\n",
       " 'United Airlines,: https://www.united.com/en/us',\n",
       " 'American Airlines: https://www.aa.com/homePage.do?locale=fr',\n",
       " 'essential travel: https://www.diplomatie.gouv.fr/en/coming-to-france/coronavirus-advice-for-foreign-nationals-in-france/',\n",
       " 'French Embassy or French Consulate: https://franceintheus.org/',\n",
       " 'France Visas: https://france-visas.gouv.fr/en_US/web/france-visas/long-stay-visa#:~:text=In%20order%20to%20extend%20your%20stay%20beyond%20the,conditions%20as%20if%20you%20held%20a%20Schengen%20visa.',\n",
       " 'Ministry of the Interior: https://www.interieur.gouv.fr/Actualites/Communiques/Duree-de-validite-des-titres-de-sejour',\n",
       " 'Prefecture de Police: https://www.prefecturedepolice.interieur.gouv.fr/Demarches/Particulier/Ressortissants-etrangers/Ressortissants-etrangers',\n",
       " 'here,: https://fr.usembassy.gov/wp-content/uploads/sites/50/attestation-french.pdf',\n",
       " 'here: https://fr.usembassy.gov/wp-content/uploads/sites/50/English-attestation.pdf',\n",
       " 'Ministry of Foreign Affairs website: https://www.diplomatie.gouv.fr/en/coming-to-france/coronavirus-advice-for-foreign-nationals-in-france/',\n",
       " 'Most Recent Alerts.: https://fr.usembassy.gov/u-s-citizen-services/security-and-travel-information/',\n",
       " 'guide: https://fr.usembassy.gov/u-s-citizen-services/additional-resources-u-s-citizens/resources-for-staying-at-home-during-the-covid-19-outbreak/',\n",
       " 'https://www.gouvernement.fr/info-coronavirus: https://www.gouvernement.fr/info-coronavirus',\n",
       " 'here.: https://www.prefecturedepolice.interieur.gouv.fr/Nous-connaitre/Actualites/Prevention/Coronavirus-Covid-19-fermeture-des-services-accueillant-le-public',\n",
       " 'Information for U.S. citizens returning from France: https://www.dhs.gov/news/2020/03/13/department-homeland-security-outlines-new-process-americans-returning-certain',\n",
       " 'Department of State Emergency Alert on COVID-19: https://travel.state.gov/content/travel/en/traveladvisories/ea/novel-coronavirus-hubei-province--china.html',\n",
       " 'Centers for Disease Control: COVID-19 Information: https://www.cdc.gov/coronavirus/2019-ncov/index.html',\n",
       " 'Centers for Disease Control: Information for Travel: https://www.cdc.gov/coronavirus/2019-ncov/travelers/index.html',\n",
       " 'France Country Specific Information: https://travel.state.gov/content/travel/en/international-travel/International-Travel-Country-Information-Pages/France.html',\n",
       " 'http://www.france24.com/en/: https://www.france24.com/en/',\n",
       " 'http://en.rfi.fr/france/: http://www.rfi.fr/en/france/',\n",
       " 'http://www.thelocal.fr/ : https://www.thelocal.fr/',\n",
       " 'CitizenInfo@state.gov: mailto:Citizeninfo@state.gov',\n",
       " 'CitizenInfoMarseille@state.gov: mailto:CitizeninfoMarseille@state.gov']"
      ]
     },
     "execution_count": 1653,
     "metadata": {},
     "output_type": "execute_result"
    }
   ],
   "source": [
    "html = r.content\n",
    "soup = BeautifulSoup(html, \"lxml\")\n",
    "article = soup.find('main')\n",
    "other_links = article.findChildren('a')\n",
    "resources = []\n",
    "for link in other_links[:35]:\n",
    "    resource = link.text + \": \" + link['href']\n",
    "    resources.append(resource)\n",
    "resources = [resource.replace('\\n', '').replace('\\xa0', '').replace('\\u202f', '') for resource in resources]\n",
    "resources"
   ]
  },
  {
   "cell_type": "markdown",
   "metadata": {},
   "source": [
    "# U.S. Consulate General in Curacao countries"
   ]
  },
  {
   "cell_type": "code",
   "execution_count": 1375,
   "metadata": {},
   "outputs": [
    {
     "data": {
      "text/plain": [
       "200"
      ]
     },
     "execution_count": 1375,
     "metadata": {},
     "output_type": "execute_result"
    }
   ],
   "source": [
    "res = requests.get('https://cw.usconsulate.gov/news-events/covid-19-information/')\n",
    "res.status_code"
   ]
  },
  {
   "cell_type": "code",
   "execution_count": 1376,
   "metadata": {},
   "outputs": [],
   "source": [
    "html = res.content\n",
    "soup = BeautifulSoup(html, \"lxml\")"
   ]
  },
  {
   "cell_type": "code",
   "execution_count": 1377,
   "metadata": {},
   "outputs": [
    {
     "data": {
      "text/plain": [
       "'Curacao'"
      ]
     },
     "execution_count": 1377,
     "metadata": {},
     "output_type": "execute_result"
    }
   ],
   "source": [
    "names = soup.find_all('h4', attrs={'class': 'panel-title'})\n",
    "names = [name.text for name in names]\n",
    "names[2]"
   ]
  },
  {
   "cell_type": "code",
   "execution_count": 1378,
   "metadata": {},
   "outputs": [],
   "source": [
    "articles = soup.find_all('div', attrs={'class': 'accdiv'})\n",
    "articles = [article.text.replace('\\n', '').replace('\\xa0', '').replace('https', ' https').replace('http', ' http').replace('email', ' ').replace('\\u202f', '') for article in articles]"
   ]
  },
  {
   "cell_type": "code",
   "execution_count": 1379,
   "metadata": {},
   "outputs": [
    {
     "data": {
      "text/plain": [
       "''"
      ]
     },
     "execution_count": 1379,
     "metadata": {},
     "output_type": "execute_result"
    }
   ],
   "source": [
    "aruba = re.split('COUNTRY-SPECIFIC INFORMATION:|Country-Specific Information:|Entry and Exit Requirements:|Quarantine Information:|Local Resources:|Other links:| Global Health Alerts:|American Citizen Services:|Visa Appointments:'\n",
    "                 , articles[1])\n",
    "aruba.pop(0)"
   ]
  },
  {
   "cell_type": "code",
   "execution_count": 1380,
   "metadata": {},
   "outputs": [
    {
     "data": {
      "text/plain": [
       "'Travelers who have been physically present in the United States within the past 14 days are not allowed to enter Bonaire.Transportation Options:Flights to and from Curacao resumed on June 12, 2020Flights to and from Aruba resumed on June 15, 2020 through August 5, 2020Flights to and from Europe resumed on July 1, 2020Consular Operations:The United States Consulate General in Curacao is open for all routine U.S. citizen services.The United States Consulate General in Curacao is open for some limited visa services (including interviews for student and some petition-based visas). The Consulate can also process visa renewals by mail for qualified applicants.'"
      ]
     },
     "execution_count": 1380,
     "metadata": {},
     "output_type": "execute_result"
    }
   ],
   "source": [
    "aruba[2]"
   ]
  },
  {
   "cell_type": "code",
   "execution_count": 1381,
   "metadata": {},
   "outputs": [
    {
     "data": {
      "text/plain": [
       "[<a href=\"http://gobiernu.cw/reisverificatie\">http://gobiernu.cw/reisverificatie</a>,\n",
       " <a href=\"https://dicardcuracao.com/portal\">https://dicardcuracao.com/portal</a>,\n",
       " <a href=\"mailto:reisverificatie.cur@gobiernu.cw\">reisverificatie.cur@gobiernu.cw</a>,\n",
       " <a href=\"https://www.cdc.gov/coronavirus/2019-ncov/travelers/from-other-countries.html\">https://www.cdc.gov/coronavirus/2019-ncov/travelers/from-other-countries.html</a>,\n",
       " <a href=\"https://cw.usconsulate.gov/u-s-citizen-services/\">U.S. citizen services</a>,\n",
       " <a href=\"https://cw.usconsulate.gov/visas/\">visa services</a>,\n",
       " <a href=\"https://cw.usconsulate.gov/visas/interview-waiver/\">visa renewals by mail</a>,\n",
       " <a href=\"https://gobiernu.cw/corona-travel-to-curacao/\">https://gobiernu.cw/corona-travel-to-curacao/</a>,\n",
       " <a href=\"https://www.curacao-airport.com/news/coronavirus-bulletins\">https://www.curacao-airport.com/news/coronavirus-bulletins</a>,\n",
       " <a href=\"https://travel.state.gov/content/travel/en/traveladvisories/ea/covid-19-information.html\">COVID-19 crisis page on travel.state.gov</a>,\n",
       " <a href=\"https://www.cdc.gov/coronavirus/2019-ncov/travelers/index.html\">CDC page on COVID-19</a>,\n",
       " <a href=\"https://travel.state.gov/content/travel/en/international-travel/International-Travel-Country-Information-Pages/Curacao.html\">Curaçao Country Specific Information from travel.state.gov</a>]"
      ]
     },
     "execution_count": 1381,
     "metadata": {},
     "output_type": "execute_result"
    }
   ],
   "source": [
    "refArticles = soup.find_all('div', attrs={'class': 'accdiv'})\n",
    "refLinks = [article.findChildren('a') for article in refArticles]\n",
    "refLinks[2]"
   ]
  },
  {
   "cell_type": "code",
   "execution_count": 1382,
   "metadata": {},
   "outputs": [
    {
     "data": {
      "text/plain": [
       "['http://gobiernu.cw/reisverificatie: http://gobiernu.cw/reisverificatie',\n",
       " 'https://dicardcuracao.com/portal: https://dicardcuracao.com/portal',\n",
       " 'reisverificatie.cur@gobiernu.cw: mailto:reisverificatie.cur@gobiernu.cw',\n",
       " 'https://www.cdc.gov/coronavirus/2019-ncov/travelers/from-other-countries.html: https://www.cdc.gov/coronavirus/2019-ncov/travelers/from-other-countries.html',\n",
       " 'U.S. citizen services: https://cw.usconsulate.gov/u-s-citizen-services/',\n",
       " 'visa services: https://cw.usconsulate.gov/visas/',\n",
       " 'visa renewals by mail: https://cw.usconsulate.gov/visas/interview-waiver/',\n",
       " 'https://gobiernu.cw/corona-travel-to-curacao/: https://gobiernu.cw/corona-travel-to-curacao/',\n",
       " 'https://www.curacao-airport.com/news/coronavirus-bulletins: https://www.curacao-airport.com/news/coronavirus-bulletins',\n",
       " 'COVID-19 crisis page on travel.state.gov: https://travel.state.gov/content/travel/en/traveladvisories/ea/covid-19-information.html',\n",
       " 'CDC page on COVID-19: https://www.cdc.gov/coronavirus/2019-ncov/travelers/index.html',\n",
       " 'Curaçao Country Specific Information from travel.state.gov: https://travel.state.gov/content/travel/en/international-travel/International-Travel-Country-Information-Pages/Curacao.html']"
      ]
     },
     "execution_count": 1382,
     "metadata": {},
     "output_type": "execute_result"
    }
   ],
   "source": [
    "other_links = refLinks[2]\n",
    "resCW = []\n",
    "for link in other_links:\n",
    "    resource = link.text + \": \" + link['href']\n",
    "    resCW.append(resource)\n",
    "resCW = [resource.replace('\\u202f', ' ') for resource in resCW]\n",
    "resCW"
   ]
  },
  {
   "cell_type": "markdown",
   "metadata": {},
   "source": [
    "# Barbados and the Eastern Carribean"
   ]
  },
  {
   "cell_type": "code",
   "execution_count": 1671,
   "metadata": {},
   "outputs": [
    {
     "data": {
      "text/plain": [
       "200"
      ]
     },
     "execution_count": 1671,
     "metadata": {},
     "output_type": "execute_result"
    }
   ],
   "source": [
    "res = requests.get('https://bb.usembassy.gov/u-s-citizen-services/covid-19-information/')\n",
    "res.status_code"
   ]
  },
  {
   "cell_type": "code",
   "execution_count": 1672,
   "metadata": {},
   "outputs": [],
   "source": [
    "html = res.content\n",
    "soup = BeautifulSoup(html, \"lxml\")"
   ]
  },
  {
   "cell_type": "code",
   "execution_count": 1673,
   "metadata": {},
   "outputs": [
    {
     "data": {
      "text/plain": [
       "['Anguilla',\n",
       " 'Antigua & Barbuda',\n",
       " 'Barbados',\n",
       " 'British Virgin Islands',\n",
       " 'Dominica',\n",
       " 'Grenada',\n",
       " 'Guadeloupe',\n",
       " 'Martinique',\n",
       " 'Montserrat',\n",
       " 'Saint Barthelemy',\n",
       " 'Saint Kitts and Nevis',\n",
       " 'Saint Lucia',\n",
       " 'Saint Martin',\n",
       " 'Saint Vincent and the Grenadines']"
      ]
     },
     "execution_count": 1673,
     "metadata": {},
     "output_type": "execute_result"
    }
   ],
   "source": [
    "names = soup.find_all('h4', attrs={'class': 'panel-title'})\n",
    "names = [name.text for name in names]\n",
    "names"
   ]
  },
  {
   "cell_type": "code",
   "execution_count": 1674,
   "metadata": {},
   "outputs": [],
   "source": [
    "articles = soup.find_all('div', attrs={'class': 'accdiv'})\n",
    "articles = [article.text.replace('\\n', '').replace('\\xa0', '').replace('https', ' https').replace('http', ' http').replace('email', ' ').replace('\\u202f', '') for article in articles]"
   ]
  },
  {
   "cell_type": "code",
   "execution_count": 1675,
   "metadata": {},
   "outputs": [],
   "source": [
    "lst = re.split('INFORMATION ON FLIGHTS:|Quarantine Information|Country-Specific Information:|COUNTRY-SPECIFIC INFORMATION:|Entry and Exit Requirements:|ENTRY AND EXIT REQUIREMENTS:|Country Specific Information|Entry and Exit Requirements|Quarantine Information:|QUARANTINE INFORMATION:|Local Resources:|LOCAL RESOURCES:|Other links:| Global Health Alerts:|American Citizen Services:|Visa Appointments:|Travelers Attempting to Depart Argentina'\n",
    "             , articles[5])"
   ]
  },
  {
   "cell_type": "code",
   "execution_count": 1676,
   "metadata": {},
   "outputs": [
    {
     "data": {
      "text/plain": [
       "['', 'See Grenada’s COVID-19 Information Page']"
      ]
     },
     "execution_count": 1676,
     "metadata": {},
     "output_type": "execute_result"
    }
   ],
   "source": [
    "lst"
   ]
  },
  {
   "cell_type": "code",
   "execution_count": 1476,
   "metadata": {},
   "outputs": [
    {
     "data": {
      "text/plain": [
       "[<a href=\"http://domcovid19.dominica.gov.dm/\">http://domcovid19.dominica.gov.dm/</a>,\n",
       " <a href=\"https://travel.state.gov/content/travel/en/international-travel/International-Travel-Country-Information-Pages/Dominica.html\">Dominica COVID-19 Information</a>,\n",
       " <a href=\"https://travel.state.gov/content/travel/en/international-travel/before-you-go/travelers-with-special-considerations/cruise-ship-passengers.html\">Travel.State.gov information for cruise ship passengers</a>,\n",
       " <a href=\"https://travel.state.gov/content/travel/en/traveladvisories/ea/novel-coronavirus-hubei-province--china.html\">COVID-19 crisis page on travel.state.gov</a>,\n",
       " <a href=\"https://www.cdc.gov/coronavirus/2019-ncov/travelers/index.html\">CDC page on COVID-19</a>,\n",
       " <a href=\"http://carpha.org/What-We-Do/Public-Health/Novel-Coronavirus\">Caribbean Public Health Agency (CARPHA)</a>]"
      ]
     },
     "execution_count": 1476,
     "metadata": {},
     "output_type": "execute_result"
    }
   ],
   "source": [
    "refArticles = soup.find_all('div', attrs={'class': 'accdiv'})\n",
    "refLinks = [article.findChildren('a') for article in refArticles]\n",
    "refLinks[4]"
   ]
  },
  {
   "cell_type": "code",
   "execution_count": 1477,
   "metadata": {},
   "outputs": [
    {
     "data": {
      "text/plain": [
       "['http://domcovid19.dominica.gov.dm/: http://domcovid19.dominica.gov.dm/',\n",
       " 'Dominica COVID-19 Information: https://travel.state.gov/content/travel/en/international-travel/International-Travel-Country-Information-Pages/Dominica.html',\n",
       " 'Travel.State.gov information for cruise ship passengers: https://travel.state.gov/content/travel/en/international-travel/before-you-go/travelers-with-special-considerations/cruise-ship-passengers.html',\n",
       " 'COVID-19 crisis page on travel.state.gov: https://travel.state.gov/content/travel/en/traveladvisories/ea/novel-coronavirus-hubei-province--china.html',\n",
       " 'CDC page on COVID-19: https://www.cdc.gov/coronavirus/2019-ncov/travelers/index.html',\n",
       " 'Caribbean Public Health Agency (CARPHA): http://carpha.org/What-We-Do/Public-Health/Novel-Coronavirus']"
      ]
     },
     "execution_count": 1477,
     "metadata": {},
     "output_type": "execute_result"
    }
   ],
   "source": [
    "other_links = refLinks[4]\n",
    "resBB = []\n",
    "for link in other_links:\n",
    "    resource = link.text + \": \" + link['href']\n",
    "    resBB.append(resource)\n",
    "resBB = [resource.replace('\\u202f', ' ') for resource in resBB]\n",
    "resBB"
   ]
  },
  {
   "cell_type": "code",
   "execution_count": 1018,
   "metadata": {},
   "outputs": [
    {
     "data": {
      "text/plain": [
       "'British Virgin Islands'"
      ]
     },
     "execution_count": 1018,
     "metadata": {},
     "output_type": "execute_result"
    }
   ],
   "source": [
    "names[3]"
   ]
  },
  {
   "cell_type": "markdown",
   "metadata": {},
   "source": [
    "# Fiji Embassies"
   ]
  },
  {
   "cell_type": "code",
   "execution_count": 1585,
   "metadata": {},
   "outputs": [
    {
     "data": {
      "text/plain": [
       "200"
      ]
     },
     "execution_count": 1585,
     "metadata": {},
     "output_type": "execute_result"
    }
   ],
   "source": [
    "res = requests.get('https://fj.usembassy.gov/u-s-citizen-services/covid-19-information/')\n",
    "res.status_code"
   ]
  },
  {
   "cell_type": "code",
   "execution_count": 1586,
   "metadata": {},
   "outputs": [],
   "source": [
    "html = res.content\n",
    "soup = BeautifulSoup(html, \"lxml\")"
   ]
  },
  {
   "cell_type": "code",
   "execution_count": 1587,
   "metadata": {},
   "outputs": [
    {
     "data": {
      "text/plain": [
       "['Fiji',\n",
       " 'French Polynesia',\n",
       " 'Kiribati',\n",
       " 'New Caledonia',\n",
       " 'Nauru',\n",
       " 'Tonga',\n",
       " 'Tuvalu']"
      ]
     },
     "execution_count": 1587,
     "metadata": {},
     "output_type": "execute_result"
    }
   ],
   "source": [
    "names = soup.find_all('h4', attrs={'class': 'panel-title'})\n",
    "names = [name.text.title() for name in names]\n",
    "names"
   ]
  },
  {
   "cell_type": "code",
   "execution_count": 1588,
   "metadata": {},
   "outputs": [],
   "source": [
    "articles = soup.find_all('div', attrs={'class': 'accdiv'})\n",
    "articles = [article.text.replace('\\n', '').replace('\\xa0', '').replace('https', ' https').replace('http', ' http').replace('email', ' ').replace('\\u202f', '') for article in articles]"
   ]
  },
  {
   "cell_type": "code",
   "execution_count": 1594,
   "metadata": {},
   "outputs": [],
   "source": [
    "lst = re.split('INFORMATION ON FLIGHTS:|Quarantine Information|Country-Specific Information:|COUNTRY-SPECIFIC INFORMATION:|Entry and Exit Requirements:|ENTRY AND EXIT REQUIREMENTS:|Country Specific Information|Entry and Exit Requirements|Quarantine Information:|QUARANTINE INFORMATION:|Local Resources:|LOCAL RESOURCES:|Other links:| Global Health Alerts:|American Citizen Services:|Visa Appointments:|Travelers Attempting to Depart Argentina'\n",
    "             , articles[0])"
   ]
  },
  {
   "cell_type": "code",
   "execution_count": 1595,
   "metadata": {},
   "outputs": [
    {
     "data": {
      "text/plain": [
       "['',\n",
       " 'Fiji has confirmed a case of COVID-19 within its borders.Fiji has announced entry restrictions for foreign national travelers who have been in the United States, China, Italy, Iran, or South Korea within 14 days of arriving in Fiji.Please note that travel restrictions are subject to change without notice.',\n",
       " 'Fiji has closed its border to foreign nationals who have been in the United States, Europe, China, Italy, Iran, South Korea, or Spain within 14 days of their intended travel to Fiji, including travelers seeking to transit Fiji. Travelers covered by this restriction will be prevented from boarding Fiji-bound flights.Travelers to Fiji will be asked to complete a health declaration form that will be examined by health officials upon arrival in Fiji. Travelers will also be screened on arrival with handheld temperature scanners, and their travel history and health status will be screened by border agents. Arriving travelers may be required to self-isolate for 14 days at the discretion of local officials.Fiji has banned cruise ships from berthing anywhere in the country.',\n",
       " 'For additional information, please visit the website of the Fiji Ministry of Health and Medical Services website or their Facebook page, as well as Fiji Immigration’s website.',\n",
       " 'COVID-19 crisis page on travel.state.govCDC page on COVID-19Travel.state.gov: Fiji Country Information and Travel Advisory page']"
      ]
     },
     "execution_count": 1595,
     "metadata": {},
     "output_type": "execute_result"
    }
   ],
   "source": [
    "lst"
   ]
  },
  {
   "cell_type": "code",
   "execution_count": 1596,
   "metadata": {},
   "outputs": [
    {
     "data": {
      "text/plain": [
       "[<a href=\"https://gcc01.safelinks.protection.outlook.com/?url=http%3A%2F%2Fwww.health.gov.fj%2F&amp;data=02%7C01%7CArcher-KnepperR%40state.gov%7C7a1c02dac29f4c7b71fa08d7cbb799df%7C66cf50745afe48d1a691a12b2121f44b%7C0%7C0%7C637201861723463623&amp;sdata=4vBkthKF%2FLGmjNy59VoWJmhAwO2stM5F6QgaZ%2FyNDsc%3D&amp;reserved=0\">Fiji Ministry of Health and Medical Services website</a>,\n",
       " <a href=\"https://gcc01.safelinks.protection.outlook.com/?url=https%3A%2F%2Fwww.facebook.com%2FMoHFiji%2F&amp;data=02%7C01%7CArcher-KnepperR%40state.gov%7C7a1c02dac29f4c7b71fa08d7cbb799df%7C66cf50745afe48d1a691a12b2121f44b%7C0%7C0%7C637201861723468597&amp;sdata=SuSqAyySUTofq10IT07WCPCAfLQU3aLqtPEgPEsH4NM%3D&amp;reserved=0\">Facebook page</a>,\n",
       " <a href=\"https://gcc01.safelinks.protection.outlook.com/?url=http%3A%2F%2Fwww.immigration.gov.fj%2F&amp;data=02%7C01%7CArcher-KnepperR%40state.gov%7C7a1c02dac29f4c7b71fa08d7cbb799df%7C66cf50745afe48d1a691a12b2121f44b%7C0%7C0%7C637201861723468597&amp;sdata=8M2NoTtkmgAt0pxqRiDo8RefaiCYCHgkT%2ByxgJoHE%2Bs%3D&amp;reserved=0\">Fiji Immigration’s website</a>,\n",
       " <a href=\"https://travel.state.gov/content/travel/en/traveladvisories/ea/novel-coronavirus-hubei-province--china.html\">COVID-19 crisis page on travel.state.gov</a>,\n",
       " <a href=\"https://gcc01.safelinks.protection.outlook.com/?url=https%3A%2F%2Fwwwnc.cdc.gov%2Ftravel%2Fnotices%2Fwarning%2Fnovel-coronavirus-china&amp;data=02%7C01%7CArcher-KnepperR%40state.gov%7C7a1c02dac29f4c7b71fa08d7cbb799df%7C66cf50745afe48d1a691a12b2121f44b%7C0%7C0%7C637201861723473580&amp;sdata=3z8Lad38mxxIPeO7klPVIdUI02wtjRuP%2FOL3VzxTAjw%3D&amp;reserved=0\">CDC page on COVID-19</a>,\n",
       " <a href=\"https://travel.state.gov/content/travel/en/international-travel/International-Travel-Country-Information-Pages/Fiji.html\">Fiji Country Information and Travel Advisory page</a>]"
      ]
     },
     "execution_count": 1596,
     "metadata": {},
     "output_type": "execute_result"
    }
   ],
   "source": [
    "refArticles = soup.find_all('div', attrs={'class': 'accdiv'})\n",
    "refLinks = [article.findChildren('a') for article in refArticles]\n",
    "refLinks[0]"
   ]
  },
  {
   "cell_type": "code",
   "execution_count": 1598,
   "metadata": {},
   "outputs": [
    {
     "data": {
      "text/plain": [
       "['Fiji Ministry of Health and Medical Services website: https://gcc01.safelinks.protection.outlook.com/?url=http%3A%2F%2Fwww.health.gov.fj%2F&data=02%7C01%7CArcher-KnepperR%40state.gov%7C7a1c02dac29f4c7b71fa08d7cbb799df%7C66cf50745afe48d1a691a12b2121f44b%7C0%7C0%7C637201861723463623&sdata=4vBkthKF%2FLGmjNy59VoWJmhAwO2stM5F6QgaZ%2FyNDsc%3D&reserved=0',\n",
       " 'Facebook page: https://gcc01.safelinks.protection.outlook.com/?url=https%3A%2F%2Fwww.facebook.com%2FMoHFiji%2F&data=02%7C01%7CArcher-KnepperR%40state.gov%7C7a1c02dac29f4c7b71fa08d7cbb799df%7C66cf50745afe48d1a691a12b2121f44b%7C0%7C0%7C637201861723468597&sdata=SuSqAyySUTofq10IT07WCPCAfLQU3aLqtPEgPEsH4NM%3D&reserved=0',\n",
       " 'Fiji Immigration’s website: https://gcc01.safelinks.protection.outlook.com/?url=http%3A%2F%2Fwww.immigration.gov.fj%2F&data=02%7C01%7CArcher-KnepperR%40state.gov%7C7a1c02dac29f4c7b71fa08d7cbb799df%7C66cf50745afe48d1a691a12b2121f44b%7C0%7C0%7C637201861723468597&sdata=8M2NoTtkmgAt0pxqRiDo8RefaiCYCHgkT%2ByxgJoHE%2Bs%3D&reserved=0',\n",
       " 'COVID-19 crisis page on travel.state.gov: https://travel.state.gov/content/travel/en/traveladvisories/ea/novel-coronavirus-hubei-province--china.html',\n",
       " 'CDC page on COVID-19: https://gcc01.safelinks.protection.outlook.com/?url=https%3A%2F%2Fwwwnc.cdc.gov%2Ftravel%2Fnotices%2Fwarning%2Fnovel-coronavirus-china&data=02%7C01%7CArcher-KnepperR%40state.gov%7C7a1c02dac29f4c7b71fa08d7cbb799df%7C66cf50745afe48d1a691a12b2121f44b%7C0%7C0%7C637201861723473580&sdata=3z8Lad38mxxIPeO7klPVIdUI02wtjRuP%2FOL3VzxTAjw%3D&reserved=0',\n",
       " 'Fiji Country Information and Travel Advisory page: https://travel.state.gov/content/travel/en/international-travel/International-Travel-Country-Information-Pages/Fiji.html']"
      ]
     },
     "execution_count": 1598,
     "metadata": {},
     "output_type": "execute_result"
    }
   ],
   "source": [
    "other_links = refLinks[0]\n",
    "resFJ = []\n",
    "for link in other_links:\n",
    "    resource = link.text + \": \" + link['href']\n",
    "    resFJ.append(resource)\n",
    "resFJ = [resource.replace('\\u202f', ' ') for resource in resFJ]\n",
    "resFJ"
   ]
  },
  {
   "cell_type": "markdown",
   "metadata": {},
   "source": [
    "# Creating a dataframe for all information"
   ]
  },
  {
   "cell_type": "code",
   "execution_count": 380,
   "metadata": {},
   "outputs": [],
   "source": [
    "df = pd.DataFrame(columns=['Country', 'Country-Specific Information', 'Entry and Exit Requirements', 'Quarantine Information',\n",
    "             'Local Resources', 'Alerts', 'Alerts Links'])"
   ]
  },
  {
   "cell_type": "code",
   "execution_count": 382,
   "metadata": {},
   "outputs": [],
   "source": [
    "dict1={'Country': country.string[16:], 'Country-Specific Information': afghanistan_list[0],\n",
    "      'Entry and Exit Requirements': afghanistan_list[1], 'Quarantine Information': afghanistan_list[2],\n",
    "      'Local Resources': resources, 'Alerts': '', 'Alerts Links': ''}"
   ]
  },
  {
   "cell_type": "code",
   "execution_count": 383,
   "metadata": {},
   "outputs": [],
   "source": [
    "series = pd.Series(dict1)"
   ]
  },
  {
   "cell_type": "code",
   "execution_count": 384,
   "metadata": {},
   "outputs": [],
   "source": [
    "df = df.append(series, ignore_index=True)"
   ]
  },
  {
   "cell_type": "code",
   "execution_count": 386,
   "metadata": {},
   "outputs": [],
   "source": [
    "dict2={'Country': country2.string[16:], 'Country-Specific Information': lst[0],\n",
    "      'Entry and Exit Requirements': lst[1:4], 'Quarantine Information': lst[4:6],\n",
    "      'Local Resources': resources, 'Alerts': blockquoteText, 'Alerts Links': blockquote_info}"
   ]
  },
  {
   "cell_type": "code",
   "execution_count": 387,
   "metadata": {},
   "outputs": [],
   "source": [
    "series = pd.Series(dict2)\n",
    "df = df.append(series, ignore_index=True)"
   ]
  },
  {
   "cell_type": "code",
   "execution_count": 423,
   "metadata": {},
   "outputs": [],
   "source": [
    "dict3={'Country': country.string[16:], 'Country-Specific Information': algeria_list[0],\n",
    "      'Entry and Exit Requirements': algeria_list[1], 'Quarantine Information': algeria_list[4],\n",
    "      'Local Resources': resources, 'Alerts': algeria_list[2:4], 'Alerts Links': resources[1:4]}"
   ]
  },
  {
   "cell_type": "code",
   "execution_count": 425,
   "metadata": {},
   "outputs": [],
   "source": [
    "series = pd.Series(dict3)\n",
    "df = df.append(series, ignore_index=True)"
   ]
  },
  {
   "cell_type": "code",
   "execution_count": 462,
   "metadata": {},
   "outputs": [],
   "source": [
    "dict3={'Country': lst[0], 'Country-Specific Information': lst[1],\n",
    "      'Entry and Exit Requirements': lst[2], 'Quarantine Information': lst[-1],\n",
    "      'Local Resources': resources, 'Alerts': '', 'Alerts Links': ''}"
   ]
  },
  {
   "cell_type": "code",
   "execution_count": 464,
   "metadata": {},
   "outputs": [],
   "source": [
    "series = pd.Series(dict3)\n",
    "df = df.append(series, ignore_index=True)"
   ]
  },
  {
   "cell_type": "code",
   "execution_count": 466,
   "metadata": {},
   "outputs": [],
   "source": [
    "df_safe = df.copy() # safety copy"
   ]
  },
  {
   "cell_type": "code",
   "execution_count": 516,
   "metadata": {},
   "outputs": [],
   "source": [
    "dict4={'Country': lst[0], 'Country-Specific Information': lst[1],\n",
    "      'Entry and Exit Requirements': lst[2], 'Quarantine Information': lst[3],\n",
    "      'Local Resources': resources, 'Alerts': '', 'Alerts Links': ''}\n",
    "series = pd.Series(dict4)\n",
    "df = df.append(series, ignore_index=True)"
   ]
  },
  {
   "cell_type": "code",
   "execution_count": 519,
   "metadata": {},
   "outputs": [],
   "source": [
    "dict5={'Country': 'Anguilla', 'Country-Specific Information': 'Anguilla has three confirmed cases of COVID-19 within its borders. All persons have recovered from the virus. Resulting in no active cases of COVID-19.',\n",
    "      'Entry and Exit Requirements': \n",
    "       'The government of Anguilla has extended border closures for passenger movements until at least October 31, 2020. There are exceptions for medical emergencies and evacuations approved by the Chief Medical Officer and persons wishing to leave Anguilla on flights/boats to an approved destinations. Persons are free to depart Anguilla without special permission from the government. All persons arriving in Anguilla under the repatriation process is bound by the Quarantine (COVID) rules, signed by the Ministry of Health of June 5, 2020. These regulations require mandatory 14-days quarantine for all.  Anyone failing to comply with these regulations commits and offense pursuant to section 7(2) of the Quarantine Act. All persons arriving in Anguilla who have travelled outside of the Caribbean Region within the last 14 days will be quarantined for 14 days on their arrival. A judgement will be made on arrival by health professionals if this can be self-quarantine or in a government run health facility.', \n",
    "       'Quarantine Information': '',\n",
    "      'Local Resources': ['Travel.state.gov Country Information and Travel Advisory pages: https://travel.state.gov/content/travel/en/international-travel/International-Travel-Country-Information-Pages/Anguilla.html',\n",
    "                         'Travel.State.gov information for cruise ship passengers: https://travel.state.gov/content/travel/en/international-travel/before-you-go/travelers-with-special-considerations/cruise-ship-passengers.html',\n",
    "                         'COVID-19 crisis page on travel.state.gov: https://travel.state.gov/content/travel/en/traveladvisories/ea/covid-19-information.html',\n",
    "                         'CDC page on COVID-19: https://www.cdc.gov/coronavirus/2019-ncov/travelers/index.html',\n",
    "                         'Caribbean Public Health Agency (CARPHA): https://carpha.org/What-We-Do/Public-Health/Novel-Coronavirus'],\n",
    "       'Alerts': '', 'Alerts Links': ''}\n",
    "series = pd.Series(dict5)\n",
    "df = df.append(series, ignore_index=True)"
   ]
  },
  {
   "cell_type": "code",
   "execution_count": 526,
   "metadata": {},
   "outputs": [],
   "source": [
    "dict6={'Country': 'Antigua & Barbuda', 'Country-Specific Information': \n",
    "       'Antigua & Barbuda has recorded 92 confirmed cases of COVID-19 within its borders. State of Emergency has been extended until October 31, 2020',\n",
    "      'Entry and Exit Requirements': \n",
    "       'U.S. citizens are urged to check current entry and exit requirements on the Antigua and Barbuda Tourism Authority website at https://visitantiguabarbuda.com/travel-advisory/ for the latest. Please note there have been recent incidents where passengers that have tested positive for COVID-19 have been allowed to travel. All arriving passengers by air must have a negative COVID-19 RT-PCR (real-time polymerase chain reaction) taken within seven (7) days of their flight. (this includes transiting passengers). Passengers arriving by sea (private yachts/Ferry Services) are subject to quarantine according to guidelines issued by Port Health. All arriving passengers must wear a face mask on disembarkation and in all public areas. Additionally, the wearing of face mask in public spaces is mandatory throughout Antigua and Barbuda and social/physical distancing protocols must be adhered to. The regulations published on June 10, 2020 states that “All visitors to Antigua and Barbuda shall be tested for COVID-19 and shall pay a charge of One Hundred Dollars (US$100.00) United States Currency or its equivalent in Eastern Caribbean Dollars as a charge for the test. Arriving passengers are asked to register with the Ministry of Health Wellness and the Environment by providing information at http://arcg.is/1TvL8a or by calling 1-268-462-2675. All arriving passengers must complete a Health Declaration Form and will be subjected to screening and temperature checks by Port Health authorities upon arrival. All arriving passengers will be monitored for COVID-19 for periods of up to 14 days in accordance with guidelines of the Quarantine Authority and the Quarantine (COVID-19) Guidelines. Visitors may be required to undergo testing for COVID-19 on arrival or at the hotel or place of lodging as determined by the Health Authorities. If tested positive, visitors may be subject to quarantine. Additional lodging may be at the visitors expense. U.S citizens are urged to contact the hotel for details. Arriving passengers with symptoms of COVID-19 may be isolated as determined by the Health Authorities. Transiting passengers/Crew members who require an overnight stay will be required to proceed to a government designated hotel or government-designated facility to await departure.', \n",
    "       'Quarantine Information': '',\n",
    "      'Local Resources': ['Antigua and Barbuda Tourism Authority website: https://visitantiguabarbuda.com/travel-advisory/',\n",
    "                         'Travel Protocols for Antigua and Barbuda: https://visitantiguabarbuda.com/travel-advisory/',\n",
    "                         'Travel.state.gov Country Information and Travel Advisory pages: https://travel.state.gov/content/travel/en/international-travel/International-Travel-Country-Information-Pages/AntiguaandBarbuda.html',\n",
    "                         'Travel.State.gov information for cruise ship passengers: https://travel.state.gov/content/travel/en/international-travel/before-you-go/travelers-with-special-considerations/cruise-ship-passengers.html',\n",
    "                         'COVID-19 crisis page on travel.state.gov: https://travel.state.gov/content/travel/en/traveladvisories/ea/covid-19-information.html',\n",
    "                         'CDC page on COVID-19: https://www.cdc.gov/coronavirus/2019-ncov/travelers/index.html',\n",
    "                         'Caribbean Public Health Agency (CARPHA): https://carpha.org/What-We-Do/Public-Health/Novel-Coronavirus'],\n",
    "       'Alerts': '', 'Alerts Links': ''}\n",
    "series = pd.Series(dict6)\n",
    "df = df.append(series, ignore_index=True)"
   ]
  },
  {
   "cell_type": "code",
   "execution_count": 528,
   "metadata": {},
   "outputs": [],
   "source": [
    "df_copy = df.copy() # checkpoint"
   ]
  },
  {
   "cell_type": "code",
   "execution_count": 562,
   "metadata": {},
   "outputs": [],
   "source": [
    "dict7={'Country': lst[0], 'Country-Specific Information': lst[1],\n",
    "      'Entry and Exit Requirements': lst[3] + lst[2], 'Quarantine Information': lst[4],\n",
    "      'Local Resources': resources, 'Alerts': article_text, 'Alerts Links': resourcesAlert}\n",
    "series = pd.Series(dict7)\n",
    "df = df.append(series, ignore_index=True)"
   ]
  },
  {
   "cell_type": "code",
   "execution_count": 589,
   "metadata": {},
   "outputs": [],
   "source": [
    "dict8={'Country': lst[0], 'Country-Specific Information': lst[2],\n",
    "      'Entry and Exit Requirements': lst[3], 'Quarantine Information': lst[4],\n",
    "      'Local Resources': resources, 'Alerts': lst[1], 'Alerts Links': resources[1:4]}\n",
    "series = pd.Series(dict8)\n",
    "df = df.append(series, ignore_index=True)"
   ]
  },
  {
   "cell_type": "code",
   "execution_count": 635,
   "metadata": {},
   "outputs": [],
   "source": [
    "dict9={'Country': names[0], 'Country-Specific Information': aruba[0],\n",
    "      'Entry and Exit Requirements': lst[1], 'Quarantine Information': lst[2],\n",
    "      'Local Resources': resCW, 'Alerts': '', 'Alerts Links': ''}\n",
    "series = pd.Series(dict9)\n",
    "df = df.append(series, ignore_index=True)"
   ]
  },
  {
   "cell_type": "code",
   "execution_count": 637,
   "metadata": {},
   "outputs": [],
   "source": [
    "df_copy = df.copy() # checkpoint 3"
   ]
  },
  {
   "cell_type": "code",
   "execution_count": 673,
   "metadata": {},
   "outputs": [],
   "source": [
    "dict10={'Country': lst[0], 'Country-Specific Information': lst[4],\n",
    "      'Entry and Exit Requirements': lst[2], 'Quarantine Information': lst[3],\n",
    "      'Local Resources': resources, 'Alerts': lst[1], 'Alerts Links': resources[:2]}\n",
    "series = pd.Series(dict10)\n",
    "df = df.append(series, ignore_index=True)"
   ]
  },
  {
   "cell_type": "code",
   "execution_count": 695,
   "metadata": {},
   "outputs": [],
   "source": [
    "dict11={'Country': lst[0], 'Country-Specific Information': lst[1],\n",
    "      'Entry and Exit Requirements': lst[2], 'Quarantine Information': lst[3],\n",
    "      'Local Resources': resources, 'Alerts': '', 'Alerts Links': ''}\n",
    "series = pd.Series(dict11)\n",
    "df = df.append(series, ignore_index=True)"
   ]
  },
  {
   "cell_type": "code",
   "execution_count": 730,
   "metadata": {},
   "outputs": [],
   "source": [
    "dict12={'Country': lst[0], 'Country-Specific Information': lst[2],\n",
    "      'Entry and Exit Requirements': lst[3], 'Quarantine Information': lst[4],\n",
    "      'Local Resources': resources, 'Alerts': lst[1].strip(), 'Alerts Links': ''}\n",
    "series = pd.Series(dict12)\n",
    "df = df.append(series, ignore_index=True)"
   ]
  },
  {
   "cell_type": "code",
   "execution_count": 732,
   "metadata": {},
   "outputs": [],
   "source": [
    "df_copy = df.copy() # checkpoint 4"
   ]
  },
  {
   "cell_type": "code",
   "execution_count": 755,
   "metadata": {},
   "outputs": [],
   "source": [
    "dict13={'Country': lst[0], 'Country-Specific Information': lst[1],\n",
    "      'Entry and Exit Requirements': lst[2], 'Quarantine Information': lst[3],\n",
    "      'Local Resources': resources, 'Alerts': '', 'Alerts Links': ''}\n",
    "series = pd.Series(dict13)\n",
    "df = df.append(series, ignore_index=True)"
   ]
  },
  {
   "cell_type": "code",
   "execution_count": 790,
   "metadata": {},
   "outputs": [],
   "source": [
    "dict14={'Country': lst[0], 'Country-Specific Information': lst[2],\n",
    "      'Entry and Exit Requirements': lst[3], 'Quarantine Information': lst[4],\n",
    "      'Local Resources': resources, 'Alerts': lst[1].strip(), 'Alerts Links': resources[:7]}\n",
    "series = pd.Series(dict14)\n",
    "df = df.append(series, ignore_index=True)"
   ]
  },
  {
   "cell_type": "code",
   "execution_count": 818,
   "metadata": {},
   "outputs": [],
   "source": [
    "dict15={'Country': names[2], 'Country-Specific Information': lst[0],\n",
    "      'Entry and Exit Requirements': lst[1], 'Quarantine Information': '',\n",
    "      'Local Resources': resBB, 'Alerts': '', 'Alerts Links': ''}\n",
    "series = pd.Series(dict15)\n",
    "df = df.append(series, ignore_index=True)"
   ]
  },
  {
   "cell_type": "code",
   "execution_count": 838,
   "metadata": {},
   "outputs": [],
   "source": [
    "dict16={'Country': lst[0], 'Country-Specific Information': lst[1],\n",
    "      'Entry and Exit Requirements': lst[2], 'Quarantine Information': lst[3][1:],\n",
    "      'Local Resources': resources, 'Alerts': '', 'Alerts Links': ''}\n",
    "series = pd.Series(dict16)\n",
    "df = df.append(series, ignore_index=True)"
   ]
  },
  {
   "cell_type": "code",
   "execution_count": 851,
   "metadata": {},
   "outputs": [],
   "source": [
    "dict17={'Country': lst[0], 'Country-Specific Information': lst[1],\n",
    "      'Entry and Exit Requirements': lst[2], 'Quarantine Information': lst[3],\n",
    "      'Local Resources': resources, 'Alerts': '', 'Alerts Links': ''}\n",
    "series = pd.Series(dict17)\n",
    "df = df.append(series, ignore_index=True)"
   ]
  },
  {
   "cell_type": "code",
   "execution_count": 853,
   "metadata": {},
   "outputs": [],
   "source": [
    "df_copy = df.copy() #Checkpoint 4"
   ]
  },
  {
   "cell_type": "code",
   "execution_count": 1031,
   "metadata": {},
   "outputs": [],
   "source": [
    "df = df_copy.copy()"
   ]
  },
  {
   "cell_type": "code",
   "execution_count": 1032,
   "metadata": {},
   "outputs": [],
   "source": [
    "df.at[15, 'Country'] = names[2] # fix earlier mistake"
   ]
  },
  {
   "cell_type": "code",
   "execution_count": 1039,
   "metadata": {},
   "outputs": [],
   "source": [
    "dict18={'Country': lst[0], 'Country-Specific Information': lst[1],\n",
    "      'Entry and Exit Requirements': lst[2], 'Quarantine Information': lst[3],\n",
    "      'Local Resources': resources, 'Alerts': '', 'Alerts Links': ''}\n",
    "series = pd.Series(dict18)\n",
    "df = df.append(series, ignore_index=True)"
   ]
  },
  {
   "cell_type": "code",
   "execution_count": 1042,
   "metadata": {},
   "outputs": [],
   "source": [
    "dict19={'Country': lst[0], 'Country-Specific Information': lst[1],\n",
    "      'Entry and Exit Requirements': lst[2], 'Quarantine Information': lst[3],\n",
    "      'Local Resources': resources, 'Alerts': '', 'Alerts Links': ''}\n",
    "series = pd.Series(dict19)\n",
    "df = df.append(series, ignore_index=True)"
   ]
  },
  {
   "cell_type": "code",
   "execution_count": 1059,
   "metadata": {},
   "outputs": [],
   "source": [
    "dict20={'Country': lst[0], 'Country-Specific Information': resources[0],\n",
    "      'Entry and Exit Requirements': lst[1], 'Quarantine Information': '',\n",
    "      'Local Resources': resources, 'Alerts': '', 'Alerts Links': ''}\n",
    "series = pd.Series(dict20)\n",
    "df = df.append(series, ignore_index=True)"
   ]
  },
  {
   "cell_type": "code",
   "execution_count": 1060,
   "metadata": {},
   "outputs": [],
   "source": [
    "df_copy = df.copy() # checkpoint 5"
   ]
  },
  {
   "cell_type": "code",
   "execution_count": 1077,
   "metadata": {},
   "outputs": [],
   "source": [
    "dict21={'Country': 'Bhutan', 'Country-Specific Information': 'See India',\n",
    "      'Entry and Exit Requirements': 'See India', 'Quarantine Information': 'See India',\n",
    "      'Local Resources': 'See India', 'Alerts': '', 'Alerts Links': ''}\n",
    "series = pd.Series(dict21)\n",
    "df = df.append(series, ignore_index=True)"
   ]
  },
  {
   "cell_type": "code",
   "execution_count": 1085,
   "metadata": {},
   "outputs": [],
   "source": [
    "dict22={'Country': lst[0], 'Country-Specific Information': lst[1],\n",
    "      'Entry and Exit Requirements': lst[2], 'Quarantine Information': lst[3],\n",
    "      'Local Resources': resources, 'Alerts': '', 'Alerts Links': ''}\n",
    "series = pd.Series(dict22)\n",
    "df = df.append(series, ignore_index=True)"
   ]
  },
  {
   "cell_type": "code",
   "execution_count": 1087,
   "metadata": {},
   "outputs": [],
   "source": [
    "dict23={'Country': names[1], 'Country-Specific Information': aruba[0],\n",
    "      'Entry and Exit Requirements': aruba[1], 'Quarantine Information': aruba[2],\n",
    "      'Local Resources': resCW, 'Alerts': '', 'Alerts Links': ''}\n",
    "series = pd.Series(dict23)\n",
    "df = df.append(series, ignore_index=True)"
   ]
  },
  {
   "cell_type": "code",
   "execution_count": 1088,
   "metadata": {},
   "outputs": [],
   "source": [
    "df_copy = df.copy() # checkpoint 6"
   ]
  },
  {
   "cell_type": "code",
   "execution_count": 1093,
   "metadata": {},
   "outputs": [],
   "source": [
    "dict24={'Country': 'Bosnia and Herzegovina', 'Country-Specific Information': lst[1],\n",
    "      'Entry and Exit Requirements': lst[2], 'Quarantine Information': lst[3],\n",
    "      'Local Resources': resources, 'Alerts': '', 'Alerts Links': ''}\n",
    "series = pd.Series(dict24)\n",
    "df = df.append(series, ignore_index=True)"
   ]
  },
  {
   "cell_type": "code",
   "execution_count": 1111,
   "metadata": {},
   "outputs": [],
   "source": [
    "dict25={'Country': lst[0], 'Country-Specific Information': lst[1],\n",
    "      'Entry and Exit Requirements': lst[2], 'Quarantine Information': '',\n",
    "      'Local Resources': resources, 'Alerts': '', 'Alerts Links': ''}\n",
    "series = pd.Series(dict25)\n",
    "df = df.append(series, ignore_index=True)"
   ]
  },
  {
   "cell_type": "code",
   "execution_count": 1117,
   "metadata": {},
   "outputs": [],
   "source": [
    "df_copy = df.copy()"
   ]
  },
  {
   "cell_type": "code",
   "execution_count": 1124,
   "metadata": {},
   "outputs": [],
   "source": [
    "dict26={'Country': lst[0], 'Country-Specific Information': lst[2],\n",
    "      'Entry and Exit Requirements': lst[3], 'Quarantine Information': lst[4],\n",
    "      'Local Resources': resources, 'Alerts': lst[1], 'Alerts Links': resources[:2]}\n",
    "series = pd.Series(dict26)\n",
    "df = df.append(series, ignore_index=True)"
   ]
  },
  {
   "cell_type": "code",
   "execution_count": 1138,
   "metadata": {},
   "outputs": [],
   "source": [
    "dict27={'Country': names[3], 'Country-Specific Information': lst[1],\n",
    "      'Entry and Exit Requirements': lst[2], 'Quarantine Information': '',\n",
    "      'Local Resources': resBB, 'Alerts': '', 'Alerts Links': ''}\n",
    "series = pd.Series(dict27)\n",
    "df = df.append(series, ignore_index=True)"
   ]
  },
  {
   "cell_type": "code",
   "execution_count": 1153,
   "metadata": {},
   "outputs": [],
   "source": [
    "dict28={'Country': 'Brunei ' + lst[0], 'Country-Specific Information': lst[1],\n",
    "      'Entry and Exit Requirements': lst[2], 'Quarantine Information': lst[3],\n",
    "      'Local Resources': resources, 'Alerts': '', 'Alerts Links': ''}\n",
    "series = pd.Series(dict28)\n",
    "df = df.append(series, ignore_index=True)"
   ]
  },
  {
   "cell_type": "code",
   "execution_count": 1155,
   "metadata": {},
   "outputs": [],
   "source": [
    "df_copy = df.copy()"
   ]
  },
  {
   "cell_type": "code",
   "execution_count": 1167,
   "metadata": {},
   "outputs": [],
   "source": [
    "dict29={'Country': lst[0], 'Country-Specific Information': lst[1],\n",
    "      'Entry and Exit Requirements': lst[2], 'Quarantine Information': lst[3],\n",
    "      'Local Resources': resources, 'Alerts': '', 'Alerts Links': ''}\n",
    "series = pd.Series(dict29)\n",
    "df = df.append(series, ignore_index=True)"
   ]
  },
  {
   "cell_type": "code",
   "execution_count": 1176,
   "metadata": {},
   "outputs": [],
   "source": [
    "dict30={'Country': 'Burkina ' + lst[0], 'Country-Specific Information': lst[1],\n",
    "      'Entry and Exit Requirements': lst[2], 'Quarantine Information': lst[3],\n",
    "      'Local Resources': resources, 'Alerts': '', 'Alerts Links': ''}\n",
    "series = pd.Series(dict30)\n",
    "df = df.append(series, ignore_index=True)"
   ]
  },
  {
   "cell_type": "code",
   "execution_count": 1178,
   "metadata": {},
   "outputs": [],
   "source": [
    "df_copy = df.copy() # checkpoint"
   ]
  },
  {
   "cell_type": "code",
   "execution_count": 1189,
   "metadata": {},
   "outputs": [],
   "source": [
    "dict31={'Country': lst[0], 'Country-Specific Information': lst[1],\n",
    "      'Entry and Exit Requirements': lst[2], 'Quarantine Information': lst[3],\n",
    "      'Local Resources': resources, 'Alerts': '', 'Alerts Links': ''}\n",
    "series = pd.Series(dict31)\n",
    "df = df.append(series, ignore_index=True)"
   ]
  },
  {
   "cell_type": "code",
   "execution_count": 1196,
   "metadata": {},
   "outputs": [],
   "source": [
    "dict32={'Country': lst[0], 'Country-Specific Information': lst[1],\n",
    "      'Entry and Exit Requirements': lst[2], 'Quarantine Information': lst[3],\n",
    "      'Local Resources': resources, 'Alerts': '', 'Alerts Links': ''}\n",
    "series = pd.Series(dict32)\n",
    "df = df.append(series, ignore_index=True)"
   ]
  },
  {
   "cell_type": "code",
   "execution_count": 1206,
   "metadata": {},
   "outputs": [],
   "source": [
    "dict33={'Country': 'Cabo ' + lst[0], 'Country-Specific Information': resources[0],\n",
    "      'Entry and Exit Requirements': lst[1], 'Quarantine Information': lst[2],\n",
    "      'Local Resources': resources, 'Alerts': '', 'Alerts Links': ''}\n",
    "series = pd.Series(dict33)\n",
    "df = df.append(series, ignore_index=True)"
   ]
  },
  {
   "cell_type": "code",
   "execution_count": 1208,
   "metadata": {},
   "outputs": [],
   "source": [
    "df_copy = df.copy()"
   ]
  },
  {
   "cell_type": "code",
   "execution_count": 1213,
   "metadata": {},
   "outputs": [],
   "source": [
    "dict34={'Country': lst[0], 'Country-Specific Information': lst[1],\n",
    "      'Entry and Exit Requirements': lst[2], 'Quarantine Information': lst[3],\n",
    "      'Local Resources': resources, 'Alerts': '', 'Alerts Links': ''}\n",
    "series = pd.Series(dict34)\n",
    "df = df.append(series, ignore_index=True)"
   ]
  },
  {
   "cell_type": "code",
   "execution_count": 1225,
   "metadata": {},
   "outputs": [],
   "source": [
    "dict35={'Country': lst[0], 'Country-Specific Information': lst[2],\n",
    "      'Entry and Exit Requirements': lst[3], 'Quarantine Information': lst[4],\n",
    "      'Local Resources': resources, 'Alerts': lst[1], 'Alerts Links': resources[:13]}\n",
    "series = pd.Series(dict35)\n",
    "df = df.append(series, ignore_index=True)"
   ]
  },
  {
   "cell_type": "code",
   "execution_count": 1233,
   "metadata": {},
   "outputs": [],
   "source": [
    "dict36={'Country': lst[0], 'Country-Specific Information': lst[1],\n",
    "      'Entry and Exit Requirements': lst[2], 'Quarantine Information': lst[3],\n",
    "      'Local Resources': resources, 'Alerts': '', 'Alerts Links': resources[:4]}\n",
    "series = pd.Series(dict36)\n",
    "df = df.append(series, ignore_index=True)"
   ]
  },
  {
   "cell_type": "code",
   "execution_count": 1236,
   "metadata": {},
   "outputs": [],
   "source": [
    "dict37={'Country': 'Cayman Islands', 'Country-Specific Information': 'See Jamaica',\n",
    "      'Entry and Exit Requirements': 'See Jamaica', 'Quarantine Information': 'See Jamaica',\n",
    "      'Local Resources': 'See Jamaica', 'Alerts': '', 'Alerts Links': ''}\n",
    "series = pd.Series(dict37)\n",
    "df = df.append(series, ignore_index=True)"
   ]
  },
  {
   "cell_type": "code",
   "execution_count": 1238,
   "metadata": {},
   "outputs": [],
   "source": [
    "df_copy = df.copy()"
   ]
  },
  {
   "cell_type": "code",
   "execution_count": 1241,
   "metadata": {},
   "outputs": [],
   "source": [
    "dict38={'Country': 'Central African ' + lst[0], 'Country-Specific Information': lst[1],\n",
    "      'Entry and Exit Requirements': lst[2], 'Quarantine Information': lst[3],\n",
    "      'Local Resources': resources, 'Alerts': '', 'Alerts Links': ''}\n",
    "series = pd.Series(dict38)\n",
    "df = df.append(series, ignore_index=True)"
   ]
  },
  {
   "cell_type": "code",
   "execution_count": 1248,
   "metadata": {},
   "outputs": [],
   "source": [
    "dict39={'Country': lst[0], 'Country-Specific Information': lst[1],\n",
    "      'Entry and Exit Requirements': lst[2], 'Quarantine Information': lst[3],\n",
    "      'Local Resources': resources, 'Alerts': '', 'Alerts Links': ''}\n",
    "series = pd.Series(dict39)\n",
    "df = df.append(series, ignore_index=True)"
   ]
  },
  {
   "cell_type": "code",
   "execution_count": 1268,
   "metadata": {},
   "outputs": [],
   "source": [
    "dict40={'Country': lst[0], 'Country-Specific Information': lst[2] + \" Quarantine Information \" + lst[3],\n",
    "      'Entry and Exit Requirements': lst[4] , 'Quarantine Information': lst[5],\n",
    "      'Local Resources': resources, 'Alerts': lst[1][4:], 'Alerts Links': resources[:2]}\n",
    "series = pd.Series(dict40)\n",
    "df = df.append(series, ignore_index=True)"
   ]
  },
  {
   "cell_type": "code",
   "execution_count": 1308,
   "metadata": {},
   "outputs": [],
   "source": [
    "dict41={'Country': lst[0], 'Country-Specific Information': lst[1],\n",
    "      'Entry and Exit Requirements': lst[2], 'Quarantine Information': lst[3],\n",
    "      'Local Resources': resources, 'Alerts': '', 'Alerts Links': ''}\n",
    "series = pd.Series(dict41)\n",
    "df = df.append(series, ignore_index=True)"
   ]
  },
  {
   "cell_type": "code",
   "execution_count": 1315,
   "metadata": {},
   "outputs": [],
   "source": [
    "dict42={'Country': lst[0], 'Country-Specific Information': lst[1],\n",
    "      'Entry and Exit Requirements': lst[2], 'Quarantine Information': lst[3],\n",
    "      'Local Resources': resources, 'Alerts': '', 'Alerts Links': ''}\n",
    "series = pd.Series(dict42)\n",
    "df = df.append(series, ignore_index=True)"
   ]
  },
  {
   "cell_type": "code",
   "execution_count": 1317,
   "metadata": {},
   "outputs": [],
   "source": [
    "df_copy = df.copy()"
   ]
  },
  {
   "cell_type": "code",
   "execution_count": 1345,
   "metadata": {},
   "outputs": [],
   "source": [
    "dict43={'Country': 'Madagascar and ' + lst[0], 'Country-Specific Information': lst[1],\n",
    "      'Entry and Exit Requirements': lst[2], 'Quarantine Information': lst[3],\n",
    "      'Local Resources': resources, 'Alerts': '', 'Alerts Links': ''}\n",
    "series = pd.Series(dict43)\n",
    "df = df.append(series, ignore_index=True)"
   ]
  },
  {
   "cell_type": "code",
   "execution_count": 1354,
   "metadata": {},
   "outputs": [],
   "source": [
    "dict44={'Country': lst[0], 'Country-Specific Information': lst[1],\n",
    "      'Entry and Exit Requirements': lst[2], 'Quarantine Information': lst[3],\n",
    "      'Local Resources': resources, 'Alerts': '', 'Alerts Links': ''}\n",
    "series = pd.Series(dict44)\n",
    "df = df.append(series, ignore_index=True)"
   ]
  },
  {
   "cell_type": "code",
   "execution_count": 1359,
   "metadata": {},
   "outputs": [],
   "source": [
    "dict45={'Country': lst[0], 'Country-Specific Information': lst[1],\n",
    "      'Entry and Exit Requirements': lst[2], 'Quarantine Information': lst[3],\n",
    "      'Local Resources': resources, 'Alerts': '', 'Alerts Links': ''}\n",
    "series = pd.Series(dict45)\n",
    "df = df.append(series, ignore_index=True)"
   ]
  },
  {
   "cell_type": "code",
   "execution_count": 1361,
   "metadata": {},
   "outputs": [],
   "source": [
    "df_copy = df.copy()"
   ]
  },
  {
   "cell_type": "code",
   "execution_count": 1364,
   "metadata": {},
   "outputs": [],
   "source": [
    "dict46={'Country': lst[0], 'Country-Specific Information': lst[1],\n",
    "      'Entry and Exit Requirements': lst[2], 'Quarantine Information': lst[3],\n",
    "      'Local Resources': resources, 'Alerts': '', 'Alerts Links': ''}\n",
    "series = pd.Series(dict46)\n",
    "df = df.append(series, ignore_index=True)"
   ]
  },
  {
   "cell_type": "code",
   "execution_count": 1372,
   "metadata": {},
   "outputs": [],
   "source": [
    "dict47={'Country': lst[0], 'Country-Specific Information': lst[2] + \" Quarantine Information \" + lst[3],\n",
    "      'Entry and Exit Requirements': lst[4] , 'Quarantine Information': lst[5],\n",
    "      'Local Resources': resources, 'Alerts': lst[1], 'Alerts Links': resources[:4]}\n",
    "series = pd.Series(dict47)\n",
    "df = df.append(series, ignore_index=True)"
   ]
  },
  {
   "cell_type": "code",
   "execution_count": 1384,
   "metadata": {},
   "outputs": [],
   "source": [
    "dict48={'Country': names[2], 'Country-Specific Information': aruba[0],\n",
    "      'Entry and Exit Requirements': aruba[1], 'Quarantine Information': aruba[2],\n",
    "      'Local Resources': resCW, 'Alerts': '', 'Alerts Links': ''}\n",
    "series = pdx.Series(dict48)\n",
    "df = df.append(series, ignore_index=True)"
   ]
  },
  {
   "cell_type": "code",
   "execution_count": 1387,
   "metadata": {},
   "outputs": [],
   "source": [
    "df_copy = df.copy()"
   ]
  },
  {
   "cell_type": "code",
   "execution_count": 1405,
   "metadata": {},
   "outputs": [],
   "source": [
    "dict49={'Country': lst[0], 'Country-Specific Information': lst[2],\n",
    "      'Entry and Exit Requirements': lst[3], 'Quarantine Information': '',\n",
    "      'Local Resources': resources, 'Alerts': lst[1], 'Alerts Links': resources[:3]}\n",
    "series = pd.Series(dict49)\n",
    "df = df.append(series, ignore_index=True)"
   ]
  },
  {
   "cell_type": "code",
   "execution_count": 1426,
   "metadata": {},
   "outputs": [],
   "source": [
    "dict50={'Country': lst[0], 'Country-Specific Information': lst[1],\n",
    "      'Entry and Exit Requirements': lst[3], 'Quarantine Information': lst[2],\n",
    "      'Local Resources': resources, 'Alerts': '', 'Alerts Links': ''}\n",
    "series = pd.Series(dict50)\n",
    "df = df.append(series, ignore_index=True)"
   ]
  },
  {
   "cell_type": "code",
   "execution_count": 1438,
   "metadata": {},
   "outputs": [],
   "source": [
    "dict51={'Country': lst[0], 'Country-Specific Information': lst[1],\n",
    "      'Entry and Exit Requirements': lst[2], 'Quarantine Information': '',\n",
    "      'Local Resources': resources, 'Alerts': '', 'Alerts Links': ''}\n",
    "series = pd.Series(dict51)\n",
    "df = df.append(series, ignore_index=True)"
   ]
  },
  {
   "cell_type": "code",
   "execution_count": 1448,
   "metadata": {},
   "outputs": [],
   "source": [
    "dict52={'Country': lst[0], 'Country-Specific Information': lst[1],\n",
    "      'Entry and Exit Requirements': lst[2], 'Quarantine Information': lst[3],\n",
    "      'Local Resources': resources, 'Alerts': '', 'Alerts Links': ''}\n",
    "series = pd.Series(dict52)\n",
    "df = df.append(series, ignore_index=True)"
   ]
  },
  {
   "cell_type": "code",
   "execution_count": 1450,
   "metadata": {},
   "outputs": [],
   "source": [
    "df_copy = df.copy()"
   ]
  },
  {
   "cell_type": "code",
   "execution_count": 1457,
   "metadata": {},
   "outputs": [],
   "source": [
    "dict53={'Country': lst[0], 'Country-Specific Information': lst[1],\n",
    "      'Entry and Exit Requirements': lst[2], 'Quarantine Information': '',\n",
    "      'Local Resources': resources, 'Alerts': '', 'Alerts Links': ''}\n",
    "series = pd.Series(dict53)\n",
    "df = df.append(series, ignore_index=True)"
   ]
  },
  {
   "cell_type": "code",
   "execution_count": 1480,
   "metadata": {},
   "outputs": [],
   "source": [
    "dict54={'Country': names[4], 'Country-Specific Information': lst[1],\n",
    "      'Entry and Exit Requirements': lst[2], 'Quarantine Information': '',\n",
    "      'Local Resources': resBB, 'Alerts': '', 'Alerts Links': ''}\n",
    "series = pd.Series(dict54)\n",
    "df = df.append(series, ignore_index=True)"
   ]
  },
  {
   "cell_type": "code",
   "execution_count": 1490,
   "metadata": {},
   "outputs": [],
   "source": [
    "dict55={'Country': lst[0], 'Country-Specific Information': lst[1],\n",
    "      'Entry and Exit Requirements': lst[2], 'Quarantine Information': lst[3],\n",
    "      'Local Resources': resources, 'Alerts': '', 'Alerts Links': ''}\n",
    "series = pd.Series(dict55)\n",
    "df = df.append(series, ignore_index=True)"
   ]
  },
  {
   "cell_type": "code",
   "execution_count": 1492,
   "metadata": {},
   "outputs": [],
   "source": [
    "df_copy = df.copy()"
   ]
  },
  {
   "cell_type": "code",
   "execution_count": 1497,
   "metadata": {},
   "outputs": [],
   "source": [
    "dict56={'Country': lst[0], 'Country-Specific Information': lst[2],\n",
    "      'Entry and Exit Requirements': lst[1], 'Quarantine Information': '',\n",
    "      'Local Resources': resources, 'Alerts': '', 'Alerts Links': ''}\n",
    "series = pd.Series(dict56)\n",
    "df = df.append(series, ignore_index=True)"
   ]
  },
  {
   "cell_type": "code",
   "execution_count": 1506,
   "metadata": {},
   "outputs": [],
   "source": [
    "dict57={'Country': lst[0], 'Country-Specific Information': lst[1],\n",
    "      'Entry and Exit Requirements': lst[2], 'Quarantine Information': '',\n",
    "      'Local Resources': resources, 'Alerts': '', 'Alerts Links': ''}\n",
    "series = pd.Series(dict57)\n",
    "df = df.append(series, ignore_index=True)"
   ]
  },
  {
   "cell_type": "code",
   "execution_count": 1512,
   "metadata": {},
   "outputs": [],
   "source": [
    "dict58={'Country': 'El Salvador', 'Country-Specific Information': lst[1],\n",
    "      'Entry and Exit Requirements': lst[2], 'Quarantine Information': '',\n",
    "      'Local Resources': resources, 'Alerts': '', 'Alerts Links': ''}\n",
    "series = pd.Series(dict58)\n",
    "df = df.append(series, ignore_index=True)"
   ]
  },
  {
   "cell_type": "code",
   "execution_count": 1514,
   "metadata": {},
   "outputs": [],
   "source": [
    "df_copy = df.copy()"
   ]
  },
  {
   "cell_type": "code",
   "execution_count": 1535,
   "metadata": {},
   "outputs": [],
   "source": [
    "dict59={'Country': lst[0], 'Country-Specific Information': lst[1],\n",
    "      'Entry and Exit Requirements': lst[2], 'Quarantine Information': 'Members of the public ' + lst[3],\n",
    "      'Local Resources': resources, 'Alerts': '', 'Alerts Links': ''}\n",
    "series = pd.Series(dict59)\n",
    "df = df.append(series, ignore_index=True)"
   ]
  },
  {
   "cell_type": "code",
   "execution_count": 1547,
   "metadata": {},
   "outputs": [],
   "source": [
    "dict60={'Country': lst[0], 'Country-Specific Information': 'The Eritrean Ministry of Health ' + lst[1],\n",
    "      'Entry and Exit Requirements': lst[2], 'Quarantine Information': ' ',\n",
    "      'Local Resources': resources, 'Alerts': '', 'Alerts Links': ''}\n",
    "series = pd.Series(dict60)\n",
    "df = df.append(series, ignore_index=True)"
   ]
  },
  {
   "cell_type": "code",
   "execution_count": 1553,
   "metadata": {},
   "outputs": [],
   "source": [
    "dict61={'Country': lst[0], 'Country-Specific Information': 'The Eritrean Ministry of Health ' + lst[1],\n",
    "      'Entry and Exit Requirements': lst[2], 'Quarantine Information': ' ',\n",
    "      'Local Resources': resources, 'Alerts': '', 'Alerts Links': ''}\n",
    "series = pd.Series(dict61)\n",
    "df = df.append(series, ignore_index=True)"
   ]
  },
  {
   "cell_type": "code",
   "execution_count": 1554,
   "metadata": {},
   "outputs": [],
   "source": [
    "df_copy = df.copy()"
   ]
  },
  {
   "cell_type": "code",
   "execution_count": 1579,
   "metadata": {},
   "outputs": [],
   "source": [
    "dict62={'Country': lst[0], 'Country-Specific Information': lst[1],\n",
    "      'Entry and Exit Requirements': lst[2], 'Quarantine Information': lst[3],\n",
    "      'Local Resources': resources, 'Alerts': '', 'Alerts Links': ''}\n",
    "series = pd.Series(dict62)\n",
    "df = df.append(series, ignore_index=True)"
   ]
  },
  {
   "cell_type": "code",
   "execution_count": 1582,
   "metadata": {},
   "outputs": [],
   "source": [
    "dict63={'Country': lst[0], 'Country-Specific Information': lst[1],\n",
    "      'Entry and Exit Requirements': lst[2], 'Quarantine Information': lst[3],\n",
    "      'Local Resources': resources, 'Alerts': '', 'Alerts Links': ''}\n",
    "series = pd.Series(dict63)\n",
    "df = df.append(series, ignore_index=True)"
   ]
  },
  {
   "cell_type": "code",
   "execution_count": 1600,
   "metadata": {},
   "outputs": [],
   "source": [
    "dict64={'Country': names[0], 'Country-Specific Information': lst[1],\n",
    "      'Entry and Exit Requirements': lst[2], 'Quarantine Information':  lst[3],\n",
    "      'Local Resources': resFJ, 'Alerts': '', 'Alerts Links': ''}\n",
    "series = pd.Series(dict64)\n",
    "df = df.append(series, ignore_index=True)"
   ]
  },
  {
   "cell_type": "code",
   "execution_count": 1605,
   "metadata": {},
   "outputs": [],
   "source": [
    "dict65={'Country': lst[0], 'Country-Specific Information': lst[1],\n",
    "      'Entry and Exit Requirements': lst[2], 'Quarantine Information': lst[3],\n",
    "      'Local Resources': resources, 'Alerts': '', 'Alerts Links': ''}\n",
    "series = pd.Series(dict65)\n",
    "df = df.append(series, ignore_index=True)"
   ]
  },
  {
   "cell_type": "code",
   "execution_count": 1607,
   "metadata": {},
   "outputs": [],
   "source": [
    "df_copy = df.copy()"
   ]
  },
  {
   "cell_type": "code",
   "execution_count": null,
   "metadata": {},
   "outputs": [],
   "source": [
    "dict66={'Country': lst[0], 'Country-Specific Information': lst[1],\n",
    "      'Entry and Exit Requirements': lst[2], 'Quarantine Information': lst[3],\n",
    "      'Local Resources': resources, 'Alerts': '', 'Alerts Links': ''}\n",
    "series = pd.Series(dict65)\n",
    "df = df.append(series, ignore_index=True)"
   ]
  },
  {
   "cell_type": "code",
   "execution_count": 1657,
   "metadata": {},
   "outputs": [],
   "source": [
    "dict67={'Country': lst[0], 'Country-Specific Information': lst[1],\n",
    "      'Entry and Exit Requirements': lst[2], 'Quarantine Information': lst[3],\n",
    "      'Local Resources': resources, 'Alerts': '', 'Alerts Links': ''}\n",
    "series = pd.Series(dict67)\n",
    "df = df.append(series, ignore_index=True)"
   ]
  },
  {
   "cell_type": "code",
   "execution_count": 1668,
   "metadata": {},
   "outputs": [],
   "source": [
    "dict68={'Country': 'French Guiana/' + lst[0], 'Country-Specific Information': lst[1],\n",
    "      'Entry and Exit Requirements': lst[2], 'Quarantine Information': lst[3],\n",
    "      'Local Resources': resources, 'Alerts': '', 'Alerts Links': ''}\n",
    "series = pd.Series(dict68)\n",
    "df = df.append(series, ignore_index=True)"
   ]
  },
  {
   "cell_type": "code",
   "execution_count": 1687,
   "metadata": {},
   "outputs": [],
   "source": [
    "dict69={'Country': lst[0], 'Country-Specific Information': lst[2],\n",
    "      'Entry and Exit Requirements': lst[3], 'Quarantine Information': lst[4],\n",
    "      'Local Resources': resources, 'Alerts': lst[1], 'Alerts Links': resources[:3]}\n",
    "series = pd.Series(dict69)\n",
    "df = df.append(series, ignore_index=True)"
   ]
  },
  {
   "cell_type": "code",
   "execution_count": 1693,
   "metadata": {},
   "outputs": [],
   "source": [
    "dict70={'Country': lst[0], 'Country-Specific Information': lst[1],\n",
    "      'Entry and Exit Requirements': lst[2], 'Quarantine Information': lst[3],\n",
    "      'Local Resources': resources, 'Alerts': '', 'Alerts Links': ''}\n",
    "series = pd.Series(dict70)\n",
    "df = df.append(series, ignore_index=True)"
   ]
  },
  {
   "cell_type": "code",
   "execution_count": 1700,
   "metadata": {},
   "outputs": [],
   "source": [
    "dict71={'Country': lst[0], 'Country-Specific Information': lst[1],\n",
    "      'Entry and Exit Requirements': lst[2], 'Quarantine Information': lst[3],\n",
    "      'Local Resources': resources, 'Alerts': '', 'Alerts Links': ''}\n",
    "series = pd.Series(dict71)\n",
    "df = df.append(series, ignore_index=True)"
   ]
  },
  {
   "cell_type": "code",
   "execution_count": 1713,
   "metadata": {},
   "outputs": [],
   "source": [
    "dict72={'Country': lst[0], 'Country-Specific Information': lst[1],\n",
    "      'Entry and Exit Requirements': lst[2], 'Quarantine Information': '',\n",
    "      'Local Resources': resources, 'Alerts': '', 'Alerts Links': ''}\n",
    "series = pd.Series(dict72)\n",
    "df = df.append(series, ignore_index=True)"
   ]
  },
  {
   "cell_type": "code",
   "execution_count": 1720,
   "metadata": {},
   "outputs": [],
   "source": [
    "dict73={'Country': lst[0], 'Country-Specific Information': lst[1],\n",
    "      'Entry and Exit Requirements': lst[2], 'Quarantine Information': lst[3],\n",
    "      'Local Resources': resources, 'Alerts': '', 'Alerts Links': ''}\n",
    "series = pd.Series(dict73)\n",
    "df = df.append(series, ignore_index=True)"
   ]
  },
  {
   "cell_type": "code",
   "execution_count": 1728,
   "metadata": {},
   "outputs": [],
   "source": [
    "dict74={'Country': 'Grenada', 'Country-Specific Information': lst[1],\n",
    "      'Entry and Exit Requirements': lst[2], 'Quarantine Information': '',\n",
    "      'Local Resources': resources, 'Alerts': '', 'Alerts Links': ''}\n",
    "series = pd.Series(dict74)\n",
    "df = df.append(series, ignore_index=True)"
   ]
  },
  {
   "cell_type": "code",
   "execution_count": 1782,
   "metadata": {},
   "outputs": [],
   "source": [
    "dict75={'Country': lst[0], 'Country-Specific Information': lst[1],\n",
    "      'Entry and Exit Requirements': lst[2], 'Quarantine Information': '',\n",
    "      'Local Resources': resources, 'Alerts': '', 'Alerts Links': ''}\n",
    "series = pd.Series(dict75)\n",
    "df = df.append(series, ignore_index=True)"
   ]
  },
  {
   "cell_type": "code",
   "execution_count": 1784,
   "metadata": {},
   "outputs": [],
   "source": [
    "df_copy = df.copy()"
   ]
  },
  {
   "cell_type": "code",
   "execution_count": 1807,
   "metadata": {},
   "outputs": [],
   "source": [
    "dict76={'Country': lst[0], 'Country-Specific Information': lst[1],\n",
    "      'Entry and Exit Requirements': lst[2], 'Quarantine Information': lst[3],\n",
    "      'Local Resources': resources, 'Alerts': '', 'Alerts Links': ''}\n",
    "series = pd.Series(dict76)\n",
    "df = df.append(series, ignore_index=True)"
   ]
  },
  {
   "cell_type": "code",
   "execution_count": 1813,
   "metadata": {},
   "outputs": [],
   "source": [
    "dict77={'Country': lst[0], 'Country-Specific Information': lst[1],\n",
    "      'Entry and Exit Requirements': lst[2], 'Quarantine Information': lst[3],\n",
    "      'Local Resources': resources, 'Alerts': '', 'Alerts Links': ''}\n",
    "series = pd.Series(dict77)\n",
    "df = df.append(series, ignore_index=True)"
   ]
  },
  {
   "cell_type": "code",
   "execution_count": 1817,
   "metadata": {},
   "outputs": [],
   "source": [
    "dict78={'Country': lst[0], 'Country-Specific Information': lst[1],\n",
    "      'Entry and Exit Requirements': lst[2], 'Quarantine Information': lst[3],\n",
    "      'Local Resources': resources, 'Alerts': '', 'Alerts Links': ''}\n",
    "series = pd.Series(dict78)\n",
    "df = df.append(series, ignore_index=True)"
   ]
  },
  {
   "cell_type": "code",
   "execution_count": 1821,
   "metadata": {},
   "outputs": [],
   "source": [
    "dict79={'Country': lst[0], 'Country-Specific Information': lst[1],\n",
    "      'Entry and Exit Requirements': lst[2], 'Quarantine Information': lst[3],\n",
    "      'Local Resources': resources, 'Alerts': '', 'Alerts Links': ''}\n",
    "series = pd.Series(dict79)\n",
    "df = df.append(series, ignore_index=True)"
   ]
  },
  {
   "cell_type": "code",
   "execution_count": 1833,
   "metadata": {},
   "outputs": [],
   "source": [
    "dict80={'Country': lst[0], 'Country-Specific Information': lst[1],\n",
    "      'Entry and Exit Requirements': lst[2], 'Quarantine Information': lst[3],\n",
    "      'Local Resources': resources, 'Alerts': '', 'Alerts Links': ''}\n",
    "series = pd.Series(dict80)\n",
    "df = df.append(series, ignore_index=True)"
   ]
  },
  {
   "cell_type": "code",
   "execution_count": 1834,
   "metadata": {},
   "outputs": [
    {
     "data": {
      "text/html": [
       "<div>\n",
       "<style scoped>\n",
       "    .dataframe tbody tr th:only-of-type {\n",
       "        vertical-align: middle;\n",
       "    }\n",
       "\n",
       "    .dataframe tbody tr th {\n",
       "        vertical-align: top;\n",
       "    }\n",
       "\n",
       "    .dataframe thead th {\n",
       "        text-align: right;\n",
       "    }\n",
       "</style>\n",
       "<table border=\"1\" class=\"dataframe\">\n",
       "  <thead>\n",
       "    <tr style=\"text-align: right;\">\n",
       "      <th></th>\n",
       "      <th>Country</th>\n",
       "      <th>Country-Specific Information</th>\n",
       "      <th>Entry and Exit Requirements</th>\n",
       "      <th>Quarantine Information</th>\n",
       "      <th>Local Resources</th>\n",
       "      <th>Alerts</th>\n",
       "      <th>Alerts Links</th>\n",
       "    </tr>\n",
       "  </thead>\n",
       "  <tbody>\n",
       "    <tr>\n",
       "      <th>75</th>\n",
       "      <td>Guinea-Bissau</td>\n",
       "      <td>As of July 29, Guinea-Bissau has reported 1,95...</td>\n",
       "      <td>The U.S. government has limited ability to pro...</td>\n",
       "      <td>No quarantine policies are currently in effect.</td>\n",
       "      <td>[COVID-19 crisis page on travel.state.gov: htt...</td>\n",
       "      <td></td>\n",
       "      <td></td>\n",
       "    </tr>\n",
       "    <tr>\n",
       "      <th>76</th>\n",
       "      <td>Guyana</td>\n",
       "      <td>For the latest statistics on COVID-19 cases in...</td>\n",
       "      <td>Are there any new restrictions in placebecause...</td>\n",
       "      <td>TheMinistry of Public Healthhas theauthority t...</td>\n",
       "      <td>[announcedan extension ofCOVID-19 Emergency me...</td>\n",
       "      <td></td>\n",
       "      <td></td>\n",
       "    </tr>\n",
       "    <tr>\n",
       "      <th>77</th>\n",
       "      <td>Haiti</td>\n",
       "      <td>Haiti has confirmed cases of COVID-19 within i...</td>\n",
       "      <td>The international airport in Port-au-Prince is...</td>\n",
       "      <td>Travelers arriving by air in Haitiwill have th...</td>\n",
       "      <td>[]</td>\n",
       "      <td></td>\n",
       "      <td></td>\n",
       "    </tr>\n",
       "    <tr>\n",
       "      <th>78</th>\n",
       "      <td>Honduras</td>\n",
       "      <td>(Updated on Thursday, July 30, 2020)Honduras ...</td>\n",
       "      <td>The Honduran government announced all borders ...</td>\n",
       "      <td>Individuals with symptoms consistent with COVI...</td>\n",
       "      <td>[www.spirit.com: http://www.spirit.com, org: h...</td>\n",
       "      <td></td>\n",
       "      <td></td>\n",
       "    </tr>\n",
       "    <tr>\n",
       "      <th>79</th>\n",
       "      <td>Hong Kong &amp; Macau</td>\n",
       "      <td>Hong Kong: The Hong Kong government has confir...</td>\n",
       "      <td>Hong KongThe Hong Kong government is enforcing...</td>\n",
       "      <td>Hong Kong:As of July 29, travelers who have vi...</td>\n",
       "      <td>[Travel Advisory for Macau: https://travel.sta...</td>\n",
       "      <td></td>\n",
       "      <td></td>\n",
       "    </tr>\n",
       "  </tbody>\n",
       "</table>\n",
       "</div>"
      ],
      "text/plain": [
       "              Country                       Country-Specific Information  \\\n",
       "75      Guinea-Bissau  As of July 29, Guinea-Bissau has reported 1,95...   \n",
       "76             Guyana  For the latest statistics on COVID-19 cases in...   \n",
       "77              Haiti  Haiti has confirmed cases of COVID-19 within i...   \n",
       "78           Honduras   (Updated on Thursday, July 30, 2020)Honduras ...   \n",
       "79  Hong Kong & Macau  Hong Kong: The Hong Kong government has confir...   \n",
       "\n",
       "                          Entry and Exit Requirements  \\\n",
       "75  The U.S. government has limited ability to pro...   \n",
       "76  Are there any new restrictions in placebecause...   \n",
       "77  The international airport in Port-au-Prince is...   \n",
       "78  The Honduran government announced all borders ...   \n",
       "79  Hong KongThe Hong Kong government is enforcing...   \n",
       "\n",
       "                               Quarantine Information  \\\n",
       "75    No quarantine policies are currently in effect.   \n",
       "76  TheMinistry of Public Healthhas theauthority t...   \n",
       "77  Travelers arriving by air in Haitiwill have th...   \n",
       "78  Individuals with symptoms consistent with COVI...   \n",
       "79  Hong Kong:As of July 29, travelers who have vi...   \n",
       "\n",
       "                                      Local Resources Alerts Alerts Links  \n",
       "75  [COVID-19 crisis page on travel.state.gov: htt...                      \n",
       "76  [announcedan extension ofCOVID-19 Emergency me...                      \n",
       "77                                                 []                      \n",
       "78  [www.spirit.com: http://www.spirit.com, org: h...                      \n",
       "79  [Travel Advisory for Macau: https://travel.sta...                      "
      ]
     },
     "execution_count": 1834,
     "metadata": {},
     "output_type": "execute_result"
    }
   ],
   "source": [
    "df.tail(5)"
   ]
  },
  {
   "cell_type": "code",
   "execution_count": 1781,
   "metadata": {},
   "outputs": [],
   "source": [
    "df = df.iloc[:74]"
   ]
  },
  {
   "cell_type": "code",
   "execution_count": null,
   "metadata": {},
   "outputs": [],
   "source": []
  }
 ],
 "metadata": {
  "kernelspec": {
   "display_name": "Python (py3-tf2.0)",
   "language": "python",
   "name": "py3-tf2.0"
  },
  "language_info": {
   "codemirror_mode": {
    "name": "ipython",
    "version": 3
   },
   "file_extension": ".py",
   "mimetype": "text/x-python",
   "name": "python",
   "nbconvert_exporter": "python",
   "pygments_lexer": "ipython3",
   "version": "3.7.6"
  }
 },
 "nbformat": 4,
 "nbformat_minor": 4
}

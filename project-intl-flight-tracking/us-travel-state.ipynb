{
 "cells": [
  {
   "cell_type": "code",
   "execution_count": 226,
   "metadata": {},
   "outputs": [],
   "source": [
    "from requests_html import HTMLSession\n",
    "import requests\n",
    "from bs4 import BeautifulSoup\n",
    "import pandas as pd\n",
    "import re"
   ]
  },
  {
   "cell_type": "code",
   "execution_count": 3,
   "metadata": {},
   "outputs": [],
   "source": [
    "session = HTMLSession()"
   ]
  },
  {
   "cell_type": "code",
   "execution_count": 49,
   "metadata": {},
   "outputs": [],
   "source": [
    "res = session.get('https://travel.state.gov/content/travel/en/traveladvisories/COVID-19-Country-Specific-Information.html')"
   ]
  },
  {
   "cell_type": "code",
   "execution_count": 50,
   "metadata": {},
   "outputs": [
    {
     "data": {
      "text/plain": [
       "200"
      ]
     },
     "execution_count": 50,
     "metadata": {},
     "output_type": "execute_result"
    }
   ],
   "source": [
    "res.status_code"
   ]
  },
  {
   "cell_type": "code",
   "execution_count": 415,
   "metadata": {},
   "outputs": [
    {
     "data": {
      "text/plain": [
       "['https://af.usembassy.gov/covid-19-information/',\n",
       " 'https://al.usembassy.gov/covid-19-information/',\n",
       " 'https://dz.usembassy.gov/covid-19-information/',\n",
       " 'https://es.usembassy.gov/covid-19-information/',\n",
       " 'https://ao.usembassy.gov/covid-19-information/',\n",
       " 'https://bb.usembassy.gov/covid-19-information/',\n",
       " 'https://bb.usembassy.gov/covid-19-information/',\n",
       " 'https://ar.usembassy.gov/covid-19/',\n",
       " 'https://am.usembassy.gov/u-s-citizen-services/covid-19-information/',\n",
       " 'https://cw.usconsulate.gov/news-events/covid-19-information/',\n",
       " 'https://au.usembassy.gov/covid-19-information/',\n",
       " 'https://at.usembassy.gov/covid-19-information-february-25-2020/',\n",
       " 'https://az.usembassy.gov/covid-19-information-for-azerbaijan/',\n",
       " 'https://bh.usembassy.gov/covid-19-information/',\n",
       " 'https://bd.usembassy.gov/covid-19-information/',\n",
       " 'https://bb.usembassy.gov/covid-19-information/',\n",
       " 'https://by.usembassy.gov/u-s-citizen-services/covid-19-information/',\n",
       " 'https://be.usembassy.gov/covid-19-information/',\n",
       " 'https://bz.usembassy.gov/covid-19-information/',\n",
       " 'https://bj.usembassy.gov/covid-19-information/',\n",
       " 'https://bm.usconsulate.gov/covid-19-information/',\n",
       " 'https://in.usembassy.gov/covid-19-information/',\n",
       " 'https://bo.usembassy.gov/covid-19-information/',\n",
       " 'https://cw.usconsulate.gov/news-events/covid-19-information/',\n",
       " 'https://ba.usembassy.gov/covid-19-information/',\n",
       " 'https://bw.usembassy.gov/covid-19-information/',\n",
       " 'https://br.usembassy.gov/covid-19-information/',\n",
       " 'https://bb.usembassy.gov/covid-19-information/',\n",
       " 'https://bn.usembassy.gov/u-s-citizen-services-covid-19-information/',\n",
       " 'https://bg.usembassy.gov/novel-coronavirus-covid-19-information/',\n",
       " 'https://bf.usembassy.gov/u-s-citizen-services/covid-19-information/',\n",
       " 'https://mm.usembassy.gov/covid-19-information/',\n",
       " 'https://bi.usembassy.gov/covid-19-information/',\n",
       " 'https://cv.usembassy.gov/covid-19-information/',\n",
       " 'https://kh.usembassy.gov/covid-19-information/',\n",
       " 'https://cm.usembassy.gov/covid-19-information/',\n",
       " 'https://ca.usembassy.gov/covid-19-information-canada/',\n",
       " 'https://jm.usembassy.gov/covid-19-information-cayman-islands/',\n",
       " 'https://cf.usembassy.gov/covid-19-information/',\n",
       " 'https://td.usembassy.gov/covid-19-information/',\n",
       " 'https://cl.usembassy.gov/covid-19-information/',\n",
       " 'https://china.usembassy-china.org.cn/covid-19-information/',\n",
       " 'https://co.usembassy.gov/covid-19-information/',\n",
       " 'https://mg.usembassy.gov/u-s-citizen-services/security-and-travel-information/covid-19-information/',\n",
       " 'https://cr.usembassy.gov/covid-19-information/',\n",
       " 'https://ci.usembassy.gov/covid-19-information/',\n",
       " 'https://hr.usembassy.gov/covid-19-information/',\n",
       " 'https://cu.usembassy.gov/covid-19-information/',\n",
       " 'https://cw.usconsulate.gov/news-events/covid-19-information/',\n",
       " 'https://cy.usembassy.gov/covid-19-information/',\n",
       " 'https://cz.usembassy.gov/covid-19-information/',\n",
       " 'https://cd.usembassy.gov/covid-19-information/',\n",
       " 'https://dk.usembassy.gov/u-s-citizen-services/security-and-travel-information/covid-19-information/',\n",
       " 'https://dj.usembassy.gov/covid-19-information-25-february-2020/',\n",
       " 'https://bb.usembassy.gov/covid-19-information/',\n",
       " 'https://do.usembassy.gov/u-s-citizen-services/covid-19-information/',\n",
       " 'https://ec.usembassy.gov/covid-19-information-ecu/',\n",
       " 'https://eg.usembassy.gov/u-s-citizen-services/covid-19-information/',\n",
       " 'https://sv.usembassy.gov/covid-19-information/',\n",
       " 'https://gq.usembassy.gov/covid-19-information/',\n",
       " 'https://er.usembassy.gov/covid-19-information/',\n",
       " 'https://ee.usembassy.gov/covid-19-information/',\n",
       " 'https://sz.usembassy.gov/covid-19-information/',\n",
       " 'https://et.usembassy.gov/covid-19-information/',\n",
       " 'https://fj.usembassy.gov/u-s-citizen-services/covid-19-information/',\n",
       " 'https://fi.usembassy.gov/covid-19-information/',\n",
       " 'https://fr.usembassy.gov/covid-19-information/',\n",
       " 'https://sr.usembassy.gov/covid-19-information/',\n",
       " 'https://fj.usembassy.gov/covid-19-information/',\n",
       " 'https://bb.usembassy.gov/covid-19-information/',\n",
       " 'https://ga.usembassy.gov/u-s-citizen-services/coronavirus-update/',\n",
       " 'https://ge.usembassy.gov/covid-19-information-on-georgia/',\n",
       " 'https://de.usembassy.gov/covid-19-information/',\n",
       " 'https://gh.usembassy.gov/ghana-covid-19-information/',\n",
       " 'https://gr.usembassy.gov/covid-19-information/',\n",
       " 'https://bb.usembassy.gov/covid-19-information/',\n",
       " 'https://gt.usembassy.gov/alert-covid-19/',\n",
       " 'https://gn.usembassy.gov/u-s-citizen-services/',\n",
       " 'https://gw.usmission.gov/covid-19-information/',\n",
       " 'https://gy.usembassy.gov/covid-19-information/',\n",
       " 'https://ht.usembassy.gov/covid-19-information/',\n",
       " 'https://gcc01.safelinks.protection.outlook.com/?url=https%3A%2F%2Fhn.usembassy.gov%2Fcovid-19-information%2F&data=02%7C01%7CHardingCM%40state.gov%7C0e399c3eba414582fb0708d81939aec8%7C66cf50745afe48d1a691a12b2121f44b%7C0%7C0%7C637287082815088625&sdata=zor9KKXIUoOUT%2BTMAw%2B8Z16gc4i43XbY%2B3ek5muviJQ%3D&reserved=0',\n",
       " 'https://hk.usconsulate.gov/covid-19-information/',\n",
       " 'https://hu.usembassy.gov/covid-19/',\n",
       " 'https://is.usembassy.gov/covid-19-information/',\n",
       " 'https://in.usembassy.gov/u-s-citizen-services/covid-19-information/',\n",
       " 'https://id.usembassy.gov/u-s-citizen-services/covid-19-information/',\n",
       " 'https://ir.usembassy.gov/covid-19-information/',\n",
       " 'https://iq.usembassy.gov/covid-19-information/',\n",
       " 'https://ie.usembassy.gov/covid-19-information/',\n",
       " 'https://il.usembassy.gov/covid-19-information/',\n",
       " 'https://it.usembassy.gov/covid-19-information/',\n",
       " 'https://jm.usembassy.gov/covid-19-information-jamaica/',\n",
       " 'https://jp.usembassy.gov/covid-19-information/',\n",
       " 'https://jo.usembassy.gov/covid-19-information/',\n",
       " 'https://kz.usembassy.gov/covid-19-information/',\n",
       " 'https://ke.usembassy.gov/covid-19-information/',\n",
       " 'https://fj.usembassy.gov/u-s-citizen-services/covid-19-information/',\n",
       " 'https://xk.usembassy.gov/covid-19-information-u-s-embassy-pristina-kosovo/',\n",
       " 'https://kw.usembassy.gov/covid-19-information/',\n",
       " 'https://la.usembassy.gov/covid-19-information/',\n",
       " 'https://lv.usembassy.gov/covid-19-information/',\n",
       " 'https://lb.usembassy.gov/covid-19-information/',\n",
       " 'https://ls.usembassy.gov/lesotho-country-specific-information-on-coronavirus-worldwide-outbreak/',\n",
       " 'https://lr.usembassy.gov/covid-19-information/',\n",
       " 'https://ly.usembassy.gov/embassy/',\n",
       " 'https://ch.usembassy.gov/covid-19/',\n",
       " 'https://lt.usembassy.gov/covid-19-information/',\n",
       " 'https://lu.usembassy.gov/covid-19-information/',\n",
       " 'https://hk.usconsulate.gov/covid-19-information/',\n",
       " 'https://mg.usembassy.gov/u-s-citizen-services/security-and-travel-information/covid-19-information/',\n",
       " 'https://mw.usembassy.gov/covid-19-information/',\n",
       " 'https://my.usembassy.gov/u-s-citizen-services/covid-19-information/',\n",
       " 'https://mv.usmission.gov/covid-19-information/',\n",
       " 'https://ml.usembassy.gov/u-s-citizen-services/covid-19-information/',\n",
       " 'https://mt.usembassy.gov/u-s-citizen-services/information-on-covid-19/',\n",
       " 'https://mh.usembassy.gov/covid-19-information/',\n",
       " 'https://mr.usembassy.gov/covid-19-information/',\n",
       " 'https://mu.usembassy.gov/covid-19-information/',\n",
       " 'https://mx.usembassy.gov/covid-19-information/',\n",
       " 'https://fm.usembassy.gov/covid-19-information/',\n",
       " 'https://md.usembassy.gov/u-s-citizen-services/covid-19-information/',\n",
       " 'https://mn.usembassy.gov/covid-19-information/',\n",
       " 'https://me.usembassy.gov/covid-19-information/',\n",
       " 'https://bb.usembassy.gov/covid-19-information/',\n",
       " 'https://ma.usembassy.gov/25161/',\n",
       " 'https://mz.usembassy.gov/covid-19-information/',\n",
       " 'https://na.usembassy.gov/covid-19-information/',\n",
       " 'https://fj.usembassy.gov/u-s-citizen-services/covid-19-information/',\n",
       " 'https://np.usembassy.gov/covid-19-information/',\n",
       " 'https://nl.usembassy.gov/covid-19-information-3/',\n",
       " 'https://fj.usembassy.gov/covid-19-information/',\n",
       " 'https://nz.usembassy.gov/covid-19-information/',\n",
       " 'https://ni.usembassy.gov/covid-19-information/',\n",
       " 'https://ne.usembassy.gov/u-s-citizen-services/covid-19-information/',\n",
       " 'https://ng.usembassy.gov/u-s-citizen-services/covid-19-information/',\n",
       " 'https://www.swedenabroad.se/en/embassies/north-korea-pyongyang/#',\n",
       " 'https://mk.usembassy.gov/covid-19-information/',\n",
       " 'https://no.usembassy.gov/covid-19-information/',\n",
       " 'https://om.usembassy.gov/covid-19-information/',\n",
       " 'https://pk.usembassy.gov/covid-19-information/',\n",
       " 'https://pw.usembassy.gov/covid-19-information/',\n",
       " 'https://pa.usembassy.gov/covid-19-information/',\n",
       " 'https://pg.usembassy.gov/covid-19-information/',\n",
       " 'https://py.usembassy.gov/covid-19-information/',\n",
       " 'https://pe.usembassy.gov/covid-19-information/',\n",
       " 'https://ph.usembassy.gov/covid-19-information/',\n",
       " 'https://pl.usembassy.gov/covid-19-information/',\n",
       " 'https://pt.usembassy.gov/covid-19-information/',\n",
       " 'https://qa.usembassy.gov/covid-19-information-4/',\n",
       " 'https://cg.usembassy.gov/covid-19-information/',\n",
       " 'https://ro.usembassy.gov/covid-19-information/',\n",
       " 'https://ru.usembassy.gov/covid-19-information/',\n",
       " 'https://rw.usembassy.gov/health-alert-covid-19-information/',\n",
       " 'https://bb.usembassy.gov/covid-19-information/',\n",
       " 'https://bb.usembassy.gov/covid-19-information/',\n",
       " 'https://bb.usembassy.gov/covid-19-information/',\n",
       " 'https://ws.usembassy.gov/covid-19-information/',\n",
       " 'https://ga.usembassy.gov/u-s-citizen-services/coronavirus-update/',\n",
       " 'https://sa.usembassy.gov/u-s-citizen-services/covid-19-information/',\n",
       " 'https://sn.usembassy.gov/covid-19-information/',\n",
       " 'https://rs.usembassy.gov/covid-19-information/',\n",
       " 'https://mu.usembassy.gov/covid-19-seychelles/',\n",
       " 'https://sl.usembassy.gov/covid-19-information/',\n",
       " 'https://sg.usembassy.gov/u-s-citizen-services/covid-19-information/',\n",
       " 'https://cw.usconsulate.gov/news-events/covid-19-information/',\n",
       " 'https://sk.usembassy.gov/covid-19-information/',\n",
       " 'https://si.usembassy.gov/covid-19-information/',\n",
       " 'https://pg.usembassy.gov/covid-19-information/',\n",
       " 'https://so.usembassy.gov/covid-19-information/',\n",
       " 'https://za.usembassy.gov/covid-19-information/',\n",
       " 'https://kr.usembassy.gov/022420-covid-19-information/',\n",
       " 'https://ss.usembassy.gov/covid-19-information/',\n",
       " 'https://es.usembassy.gov/covid-19-information/',\n",
       " 'https://lk.usembassy.gov/covid-19-information/',\n",
       " 'https://sd.usembassy.gov/covid-19-information/',\n",
       " 'https://sr.usembassy.gov/covid-19-information/',\n",
       " 'https://se.usembassy.gov/covid-19-coronavirus-information/',\n",
       " 'https://ch.usembassy.gov/covid-19/',\n",
       " 'https://sy.usembassy.gov/embassy/damascus/',\n",
       " 'https://www.ait.org.tw/covid-19-information/',\n",
       " 'https://tj.usembassy.gov/covid-19-information/',\n",
       " 'https://tz.usembassy.gov/covid-19-information/',\n",
       " 'https://th.usembassy.gov/covid-19-information/',\n",
       " 'https://bs.usembassy.gov/covid-19-information/',\n",
       " 'https://gm.usembassy.gov/u-s-citizen-services/covid-19-information/',\n",
       " 'https://kg.usembassy.gov/covid-19-information/',\n",
       " 'https://tl.usembassy.gov/coronavirus-covid-19-outbreak-first-identified-in-wuhan-china-travel-restrictions/',\n",
       " 'https://tg.usembassy.gov/u-s-citizen-services/security-and-travel-information/covid-19/',\n",
       " 'https://fj.usembassy.gov/u-s-citizen-services/covid-19-information/',\n",
       " 'https://tt.usembassy.gov/covid-19-information/',\n",
       " 'https://tn.usembassy.gov/covid-19-information/',\n",
       " 'https://tr.usembassy.gov/covid-19-information/',\n",
       " 'https://tm.usembassy.gov/covid-19-information/',\n",
       " 'https://bs.usembassy.gov/covid-19-information/',\n",
       " 'https://fj.usembassy.gov/u-s-citizen-services/covid-19-information/',\n",
       " 'https://ug.usembassy.gov/uganda-has-not-confirmed-cases-of-covid-19-within-its-borders-february-25-2020/',\n",
       " 'https://ua.usembassy.gov/covid-19-information/',\n",
       " 'https://ae.usembassy.gov/u-s-citizen-services/covid-19-information/',\n",
       " 'https://uk.usembassy.gov/covid-19-coronavirus-information/',\n",
       " 'https://uy.usembassy.gov/covid-19-information/',\n",
       " 'https://uz.usembassy.gov/covid-19-information/',\n",
       " 'https://pg.usembassy.gov/covid-19-information/',\n",
       " 'https://ve.usembassy.gov/covid-19-information/',\n",
       " 'https://vn.usembassy.gov/u-s-citizen-services/covid-19-information/',\n",
       " 'https://ye.usembassy.gov/embassy/',\n",
       " 'https://zm.usembassy.gov/covid-19-information/',\n",
       " 'https://zw.usembassy.gov/covid-19-information/']"
      ]
     },
     "execution_count": 415,
     "metadata": {},
     "output_type": "execute_result"
    }
   ],
   "source": [
    "linksAll = res.html.xpath('//td/a/@href')\n",
    "linksAll"
   ]
  },
  {
   "cell_type": "code",
   "execution_count": 65,
   "metadata": {},
   "outputs": [],
   "source": [
    "# REMOVE safelinks link\n",
    "for link in links:\n",
    "    if 'safelinks' in link:\n",
    "        links.remove(link)"
   ]
  },
  {
   "cell_type": "code",
   "execution_count": 78,
   "metadata": {},
   "outputs": [],
   "source": [
    "r = requests.get(links[0])"
   ]
  },
  {
   "cell_type": "code",
   "execution_count": 100,
   "metadata": {},
   "outputs": [],
   "source": [
    "html = r.content"
   ]
  },
  {
   "cell_type": "code",
   "execution_count": 85,
   "metadata": {},
   "outputs": [],
   "source": [
    "soup = BeautifulSoup(html, \"lxml\")"
   ]
  },
  {
   "cell_type": "code",
   "execution_count": 91,
   "metadata": {},
   "outputs": [],
   "source": [
    "country = soup.find('span', attrs={'class': 'head-title-1 head-one-liner'})"
   ]
  },
  {
   "cell_type": "code",
   "execution_count": 98,
   "metadata": {},
   "outputs": [
    {
     "data": {
      "text/plain": [
       "'Afghanistan'"
      ]
     },
     "execution_count": 98,
     "metadata": {},
     "output_type": "execute_result"
    }
   ],
   "source": [
    "country.string[16:]"
   ]
  },
  {
   "cell_type": "code",
   "execution_count": 121,
   "metadata": {},
   "outputs": [],
   "source": [
    "blockquote = soup.find('blockquote')\n",
    "blockquote"
   ]
  },
  {
   "cell_type": "code",
   "execution_count": 213,
   "metadata": {},
   "outputs": [],
   "source": [
    "article = soup.find('article')"
   ]
  },
  {
   "cell_type": "code",
   "execution_count": 293,
   "metadata": {},
   "outputs": [
    {
     "data": {
      "text/plain": [
       "['Afghanistan has a total of 36,937 confirmed cases of COVID-19 (Coronavirus) and 1,298 deaths attributed to the disease (Ministry of Public Health). Kabul (14,745 confirmed cases and 512 deaths), Herat (5,677 confirmed cases and 177 deaths), Balkh (1,876 confirmed cases and 72 deaths), Nangarhar (1,385 confirmed cases and 74 deaths), and Kandahar (1,380 confirmed cases and 35 deaths) have the most cases.The total number of COVID-19 testing labs is 11. There are five in Kabul (National Public Health Lab, National Veterinary Lab, Afghan-Japan Hospital, Military Hospital and FMIC), and one each in Herat, Kandahar, Nangarhar, Balkh, Paktya, and Kunduz.A new 100-bed COVID-19 hospital is now open in Herat.The Darulaman Palace (300 beds) and Kabul and PolyTechnic universities’ dormitories have been converted into isolation facilities in Kabul city.Large numbers of travelers have been reported returning from Iran to Afghanistan through Herat province. Iran is experiencing sustained community spread of COVID-19, and is subject to U.S. travel restrictions.American citizens with questions related to the COVID-19 coronavirus can contact the Overseas Citizens Services call center at +1 202-501-4444 (overseas) or 1-888-407-4747 (U.S. & Canada).',\n",
       " 'Are there any new restrictions in place as a result of the worldwide outbreak?On June 24th, the Afghanistan Civil Aviation Authority announced some airlines (Emirates, Turkish, Ariana and Kam) have resumed services. Please check with the airlines directly regarding commercial options for international travelers leaving Afghanistan.The Government of Afghanistan has re-opened its border with Iran, which had been closed briefly to all air and ground travel.What procedures are in place at airports and other ports of entry?Entry and exit procedures are pending guidance from the Government of Afghanistan as airports and land borders resume normal operations.',\n",
       " 'People arriving from other countries and who do not show symptoms of COVID-19 are advised to self-quarantine at home for 14 days. If you have any symptoms, you are instructed to contact the Ministry of Public Health and seek care.Testing and Treatment Provincial hospitals are establishing protocols for triaging and evaluating patients under investigation.Isolation wards for treatment have been established in Herat (80 beds) and Kabul (100 beds) for patients with COVID-19.',\n",
       " 'Ministry of Public Health (English) – https://moph.gov.af/en/all-newshttps://moph.gov.af/dr/all-news – وزارت صحت عامهhttps://moph.gov.af/ps/all-news – د عامې روغتیا وزارت',\n",
       " 'What the Department of State Can and Can’t Do in a CrisisTravel.State.gov – Travel Advisory on COVID-19CDC Travel Notice on COVID-19CDC Guidance on Self-QuarantineCDC Nonpharmaceutical InterventionsCDC Travelers’ Health PageState.gov Country Information and Travel Advisory pageDHS.gov: COVID-19: Protecting Air Travelers and the American PublicBy U.S. Embassy in Kabul | 6 August, 2020 | Topics: Alert, Consular Affairs, Messages for U.S. Citizens, News, Security & Emergency Messages, U.S. Citizen Services, U.S. Embassy in KabulSuggested for YouStatement by Secretary Pompeo on the Loya Jirga in AfghanistanStatement on July 29, 2020 Visit to Afghanistan by Ambassador Khalilzad']"
      ]
     },
     "execution_count": 293,
     "metadata": {},
     "output_type": "execute_result"
    }
   ],
   "source": [
    "article_text = article.text.replace('\\n', '').replace('\\xa0', '')\n",
    "afghanistan_list = re.split('Country-Specific Information:|Entry and Exit Requirements:|Quarantine Information:|Local Resources:|Other links:'\n",
    "         , article_text)\n",
    "afghanistan_list.pop(0)\n",
    "afghanistan_list"
   ]
  },
  {
   "cell_type": "code",
   "execution_count": 238,
   "metadata": {},
   "outputs": [],
   "source": [
    "other_links = article.findChildren('a')"
   ]
  },
  {
   "cell_type": "code",
   "execution_count": 381,
   "metadata": {},
   "outputs": [
    {
     "data": {
      "text/plain": [
       "['COVID-19: https://travel.state.gov/content/travel/en/traveladvisories/traveladvisories/iran-travel-advisory.html#ExternalPopup',\n",
       " 'symptoms: https://www.cdc.gov/coronavirus/2019-ncov/symptoms-testing/index.html',\n",
       " 'symptoms: https://www.cdc.gov/coronavirus/2019-ncov/symptoms-testing/index.html',\n",
       " 'https://moph.gov.af/en/all-news: https://moph.gov.af/en/all-news',\n",
       " 'https://moph.gov.af/dr/all-news: https://moph.gov.af/dr/all-news',\n",
       " 'https://moph.gov.af/ps/all-news: https://moph.gov.af/ps/all-news',\n",
       " 'What the Department of State Can and Can’t Do in a Crisis: https://travel.state.gov/content/travel/en/international-travel/emergencies/what-state-dept-can-cant-do-crisis.html',\n",
       " 'Travel.State.gov – Travel Advisory on COVID-19: https://travel.state.gov/content/travel/en/traveladvisories/ea/novel-coronavirus-hubei-province--china.html',\n",
       " 'CDC Travel Notice on COVID-19: https://wwwnc.cdc.gov/travel/notices/warning/novel-coronavirus-china',\n",
       " 'CDC Guidance on Self-Quarantine: https://www.cdc.gov/coronavirus/2019-ncov/hcp/guidance-prevent-spread.html',\n",
       " 'CDC Nonpharmaceutical Interventions: https://www.cdc.gov/nonpharmaceutical-interventions/',\n",
       " 'CDC Travelers’ Health Page: https://wwwnc.cdc.gov/travel/',\n",
       " 'Country Information: https://travel.state.gov/content/travel/en/international-travel/International-Travel-Country-Information-Pages/Afghanistan.html',\n",
       " 'Travel Advisory: https://travel.state.gov/content/travel/en/traveladvisories/traveladvisories/afghanistan-advisory.html',\n",
       " 'DHS.gov: COVID-19: Protecting Air Travelers and the American Public: https://www.dhs.gov/protecting-air-travelers-and-american-public',\n",
       " 'U.S. Embassy in Kabul: https://af.usembassy.gov/author/usembassykabul/',\n",
       " 'Alert: https://af.usembassy.gov/category/alert/',\n",
       " 'Consular Affairs: https://af.usembassy.gov/category/consular-affairs/',\n",
       " 'Messages for U.S. Citizens: https://af.usembassy.gov/category/messages-for-us-citizens/',\n",
       " 'News: https://af.usembassy.gov/category/news/',\n",
       " 'Security & Emergency Messages: https://af.usembassy.gov/category/security-and-emergency-messages/',\n",
       " 'U.S. Citizen Services: https://af.usembassy.gov/category/us-citizen-services/',\n",
       " 'U.S. Embassy in Kabul: https://af.usembassy.gov/category/u-s-embassy-in-kabul/',\n",
       " ': https://af.usembassy.gov/statement-by-secretary-pompeo-on-the-loya-jirga-in-afghanistan/',\n",
       " 'Statement by Secretary Pompeo on the Loya Jirga in Afghanistan: https://af.usembassy.gov/statement-by-secretary-pompeo-on-the-loya-jirga-in-afghanistan/',\n",
       " ': https://af.usembassy.gov/statement-on-july-29-2020-visit-to-afghanistan-by-ambassador-khalilzad/',\n",
       " 'Statement on July 29, 2020 Visit to Afghanistan by Ambassador Khalilzad: https://af.usembassy.gov/statement-on-july-29-2020-visit-to-afghanistan-by-ambassador-khalilzad/']"
      ]
     },
     "execution_count": 381,
     "metadata": {},
     "output_type": "execute_result"
    }
   ],
   "source": [
    "resources = []\n",
    "for link in other_links:\n",
    "    resource = link.text + \": \" + link['href']\n",
    "    resources.append(resource)\n",
    "resources = [resource.replace('\\n', '') for resource in resources]\n",
    "resources"
   ]
  },
  {
   "cell_type": "code",
   "execution_count": 114,
   "metadata": {},
   "outputs": [],
   "source": [
    "r2 = requests.get(links[1])"
   ]
  },
  {
   "cell_type": "code",
   "execution_count": 117,
   "metadata": {},
   "outputs": [],
   "source": [
    "html2 = r2.content"
   ]
  },
  {
   "cell_type": "code",
   "execution_count": 109,
   "metadata": {},
   "outputs": [],
   "source": [
    "soup2 = BeautifulSoup(html2, \"lxml\")"
   ]
  },
  {
   "cell_type": "code",
   "execution_count": 118,
   "metadata": {},
   "outputs": [],
   "source": [
    "country2 = soup2.find('span', attrs={'class': 'head-title-1 head-one-liner'})"
   ]
  },
  {
   "cell_type": "code",
   "execution_count": 119,
   "metadata": {},
   "outputs": [
    {
     "data": {
      "text/plain": [
       "'Albania'"
      ]
     },
     "execution_count": 119,
     "metadata": {},
     "output_type": "execute_result"
    }
   ],
   "source": [
    "country2.string[16:]"
   ]
  },
  {
   "cell_type": "code",
   "execution_count": 135,
   "metadata": {},
   "outputs": [
    {
     "data": {
      "text/plain": [
       "<blockquote><p><strong>Operational Status<br/>\n",
       "</strong>U.S. Citizen emergency services only. All routine U.S. Citizen services and visa operations are temporarily suspended.</p>\n",
       "<p><strong>U.S. Citizens and Lawful Permanent Residents:</strong> In support of the Government of Albania’s efforts to prevent further spread of COVID-19 by limiting public gatherings and increasing social spacing, the U.S. Embassy has cancelled all routine American citizen services and is providing emergency services only. <span style=\"color: red;\">While the provision of routine American citizen services remains suspended due to the COVID-19 pandemic, the U.S. Embassy Consular Section will now begin processing passport applications for urgent travel. For information on obtaining a passport for such travel, please visit <a href=\"https://al.usembassy.gov/u-s-citizen-services/\">our web-page</a></span>. If you require an emergency service, please write to ACSTirana@state.gov.</p>\n",
       "<p><strong>Visas:</strong> In response to significant worldwide challenges related to the COVID-19 pandemic, the Department of State has temporarily suspended routine visa services at all U.S. Embassies and Consulates. Embassies and consulates have canceled all routine immigrant and non-immigrant visa appointments as of March 20, 2020. We will resume routine visa services as soon as possible but are unable to provide a specific date at this time. Please visit the <a href=\"https://travel.state.gov/content/travel/en/traveladvisories/ea/covid-19-visa-services-and-restrictions.html\" rel=\"noopener noreferrer\" target=\"_blank\">Department of State’s Bureau of Consular Affairs website</a> for notices which contain detailed information about the current status of visa services worldwide and visa restrictions related to the COVID-19 global pandemic.</p></blockquote>"
      ]
     },
     "execution_count": 135,
     "metadata": {},
     "output_type": "execute_result"
    }
   ],
   "source": [
    "blockquote = soup2.find('blockquote')\n",
    "blockquote"
   ]
  },
  {
   "cell_type": "code",
   "execution_count": 128,
   "metadata": {},
   "outputs": [],
   "source": [
    "text = blockquote.text"
   ]
  },
  {
   "cell_type": "code",
   "execution_count": 331,
   "metadata": {},
   "outputs": [
    {
     "data": {
      "text/plain": [
       "'Operational Status U.S. Citizen emergency services only. All routine U.S. Citizen services and visa operations are temporarily suspended. U.S. Citizens and Lawful Permanent Residents: In support of the Government of Albania’s efforts to prevent further spread of COVID-19 by limiting public gatherings and increasing social spacing, the U.S. Embassy has cancelled all routine American citizen services and is providing emergency services only. While the provision of routine American citizen services remains suspended due to the COVID-19 pandemic, the U.S. Embassy Consular Section will now begin processing passport applications for urgent travel. For information on obtaining a passport for such travel, please visit our web-page. If you require an emergency service, please write to ACSTirana@state.gov. Visas: In response to significant worldwide challenges related to the COVID-19 pandemic, the Department of State has temporarily suspended routine visa services at all U.S. Embassies and Consulates. Embassies and consulates have canceled all routine immigrant and non-immigrant visa appointments as of March 20, 2020. We will resume routine visa services as soon as possible but are unable to provide a specific date at this time. Please visit the Department of State’s Bureau of Consular Affairs website for notices which contain detailed information about the current status of visa services worldwide and visa restrictions related to the COVID-19 global pandemic.'"
      ]
     },
     "execution_count": 331,
     "metadata": {},
     "output_type": "execute_result"
    }
   ],
   "source": [
    "blockquoteText = text.replace('\\n', ' ').replace('\\xa0', ' ')\n",
    "blockquoteText"
   ]
  },
  {
   "cell_type": "code",
   "execution_count": 161,
   "metadata": {},
   "outputs": [],
   "source": [
    "blockquote_links = blockquote.findChildren('a')"
   ]
  },
  {
   "cell_type": "code",
   "execution_count": 162,
   "metadata": {},
   "outputs": [
    {
     "data": {
      "text/plain": [
       "[<a href=\"https://al.usembassy.gov/u-s-citizen-services/\">our web-page</a>,\n",
       " <a href=\"https://travel.state.gov/content/travel/en/traveladvisories/ea/covid-19-visa-services-and-restrictions.html\" rel=\"noopener noreferrer\" target=\"_blank\">Department of State’s Bureau of Consular Affairs website</a>]"
      ]
     },
     "execution_count": 162,
     "metadata": {},
     "output_type": "execute_result"
    }
   ],
   "source": [
    "blockquote_links"
   ]
  },
  {
   "cell_type": "code",
   "execution_count": 168,
   "metadata": {},
   "outputs": [],
   "source": [
    "blockquote_info = []\n",
    "for link in blockquote_links:\n",
    "    info = link.text + \": \" + link['href']\n",
    "    blockquote_info.append(info)"
   ]
  },
  {
   "cell_type": "code",
   "execution_count": 169,
   "metadata": {},
   "outputs": [
    {
     "data": {
      "text/plain": [
       "['our web-page: https://al.usembassy.gov/u-s-citizen-services/',\n",
       " 'Department of State’s Bureau of Consular Affairs website: https://travel.state.gov/content/travel/en/traveladvisories/ea/covid-19-visa-services-and-restrictions.html']"
      ]
     },
     "execution_count": 169,
     "metadata": {},
     "output_type": "execute_result"
    }
   ],
   "source": [
    "blockquote_info"
   ]
  },
  {
   "cell_type": "code",
   "execution_count": 245,
   "metadata": {},
   "outputs": [
    {
     "data": {
      "text/plain": [
       "[<blockquote><p><strong>Operational Status<br/>\n",
       " </strong>U.S. Citizen emergency services only. All routine U.S. Citizen services and visa operations are temporarily suspended.</p>\n",
       " <p><strong>U.S. Citizens and Lawful Permanent Residents:</strong> In support of the Government of Albania’s efforts to prevent further spread of COVID-19 by limiting public gatherings and increasing social spacing, the U.S. Embassy has cancelled all routine American citizen services and is providing emergency services only. <span style=\"color: red;\">While the provision of routine American citizen services remains suspended due to the COVID-19 pandemic, the U.S. Embassy Consular Section will now begin processing passport applications for urgent travel. For information on obtaining a passport for such travel, please visit <a href=\"https://al.usembassy.gov/u-s-citizen-services/\">our web-page</a></span>. If you require an emergency service, please write to ACSTirana@state.gov.</p>\n",
       " <p><strong>Visas:</strong> In response to significant worldwide challenges related to the COVID-19 pandemic, the Department of State has temporarily suspended routine visa services at all U.S. Embassies and Consulates. Embassies and consulates have canceled all routine immigrant and non-immigrant visa appointments as of March 20, 2020. We will resume routine visa services as soon as possible but are unable to provide a specific date at this time. Please visit the <a href=\"https://travel.state.gov/content/travel/en/traveladvisories/ea/covid-19-visa-services-and-restrictions.html\" rel=\"noopener noreferrer\" target=\"_blank\">Department of State’s Bureau of Consular Affairs website</a> for notices which contain detailed information about the current status of visa services worldwide and visa restrictions related to the COVID-19 global pandemic.</p></blockquote>,\n",
       " <blockquote><p>Commercial flights returned to Albania on June 15, 2020. <span style=\"color: red;\">U.S. citizens who are returning to the United States are currently only being allowed to transit one Schengen country on their journey home. We recommend that you contact your airline regarding any boarding restrictions that may be in place, as air carriers have the final decision as to who they will and will not board.</span></p>\n",
       " <p><span style=\"color: red;\">Visa holders wishing to travel to the United States should review travel restrictions <a href=\"https://travel.state.gov/content/travel/en/traveladvisories/ea/covid-19-visa-services-and-restrictions.html\">here</a> for the latest information.</span></p>\n",
       " <p>If you wish to travel to the United States, we encourage you to contact a travel agent or the airlines for information about available travel options. Please be advised that international travel is highly unpredictable at this time and flights and countries’ entry requirements are subject to change without notice. We strongly encourage you to purchase travel insurance in the event your travel plans change.</p></blockquote>]"
      ]
     },
     "execution_count": 245,
     "metadata": {},
     "output_type": "execute_result"
    }
   ],
   "source": [
    "blockquoteAll = soup2.find_all('blockquote')\n",
    "blockquoteAll"
   ]
  },
  {
   "cell_type": "code",
   "execution_count": 247,
   "metadata": {},
   "outputs": [
    {
     "name": "stdout",
     "output_type": "stream",
     "text": [
      "Operational Status\n",
      "U.S. Citizen emergency services only. All routine U.S. Citizen services and visa operations are temporarily suspended.\n",
      "U.S. Citizens and Lawful Permanent Residents: In support of the Government of Albania’s efforts to prevent further spread of COVID-19 by limiting public gatherings and increasing social spacing, the U.S. Embassy has cancelled all routine American citizen services and is providing emergency services only. While the provision of routine American citizen services remains suspended due to the COVID-19 pandemic, the U.S. Embassy Consular Section will now begin processing passport applications for urgent travel. For information on obtaining a passport for such travel, please visit our web-page. If you require an emergency service, please write to ACSTirana@state.gov.\n",
      "Visas: In response to significant worldwide challenges related to the COVID-19 pandemic, the Department of State has temporarily suspended routine visa services at all U.S. Embassies and Consulates. Embassies and consulates have canceled all routine immigrant and non-immigrant visa appointments as of March 20, 2020. We will resume routine visa services as soon as possible but are unable to provide a specific date at this time. Please visit the Department of State’s Bureau of Consular Affairs website for notices which contain detailed information about the current status of visa services worldwide and visa restrictions related to the COVID-19 global pandemic.\n",
      " haha \n",
      "Commercial flights returned to Albania on June 15, 2020. U.S. citizens who are returning to the United States are currently only being allowed to transit one Schengen country on their journey home. We recommend that you contact your airline regarding any boarding restrictions that may be in place, as air carriers have the final decision as to who they will and will not board.\n",
      "Visa holders wishing to travel to the United States should review travel restrictions here for the latest information.\n",
      "If you wish to travel to the United States, we encourage you to contact a travel agent or the airlines for information about available travel options. Please be advised that international travel is highly unpredictable at this time and flights and countries’ entry requirements are subject to change without notice. We strongly encourage you to purchase travel insurance in the event your travel plans change.\n",
      " haha \n"
     ]
    }
   ],
   "source": [
    "for blockquote in blockquoteAll:\n",
    "    print(blockquote.text)"
   ]
  },
  {
   "cell_type": "code",
   "execution_count": 252,
   "metadata": {},
   "outputs": [],
   "source": [
    "blockquote_info = []\n",
    "for blockquote in blockquoteAll:\n",
    "    child = blockquote.findChildren('a')\n",
    "    for link in child:\n",
    "        info = link.text + \": \" + link['href']\n",
    "        blockquote_info.append(info)"
   ]
  },
  {
   "cell_type": "code",
   "execution_count": 343,
   "metadata": {},
   "outputs": [
    {
     "data": {
      "text/plain": [
       "['our web-page: https://al.usembassy.gov/u-s-citizen-services/',\n",
       " 'Department of State’s Bureau of Consular Affairs website: https://travel.state.gov/content/travel/en/traveladvisories/ea/covid-19-visa-services-and-restrictions.html',\n",
       " 'here: https://travel.state.gov/content/travel/en/traveladvisories/ea/covid-19-visa-services-and-restrictions.html']"
      ]
     },
     "execution_count": 343,
     "metadata": {},
     "output_type": "execute_result"
    }
   ],
   "source": [
    "blockquote_info"
   ]
  },
  {
   "cell_type": "code",
   "execution_count": 326,
   "metadata": {},
   "outputs": [
    {
     "data": {
      "text/plain": [
       "\"Ask a COVID-19 Question.entry-content ul.yxt-AutoComplete-results:first-child{padding-left: 10px;}.js-yext-autocomplete-option.yxt-AutoComplete-option.yxt-AutoComplete-option--item{color:#003875;cursor:pointer;}.js-yxt-SearchBar-clear.yxt-SearchBar-clear{display:none}.Icon.Icon--yext_animated_forward.Icon--lg{display:none}.js-yext-submit.yxt-SearchBar-button{width:30px;border:none;background:0 0;float:right;position:relative;top:-36px;margin:0;padding:0;right:6px}.js-yext-query.yxt-SearchBar-input{width:100%;padding:5px}.yxt-SearchBar-autocomplete.yxt-AutoComplete-wrapper.js-yxt-AutoComplete-wrapper{position:relative;background:#efefef}.yxt-SearchBar-autocomplete.yxt-AutoComplete-wrapper.js-yxt-AutoComplete-wrapper .yxt-AutoComplete{padding:20px 10px 10px}div.yxt-AutoComplete ul.yxt-AutoComplete-results:first-child li{list-style:none;font-weight:700}function initAnswers () {ANSWERS.init({apiKey: '505b20bfe024d820138df5b38458b894' ,experienceKey: 'state_department_config' ,experienceVersion: 'PRODUCTION' ,locale: 'EN' ,businessId: '3163171' ,onReady: function () {ANSWERS .addComponent( 'SearchBar' , {container: '.search_form' ,redirectUrl: 'https://covid19.state.gov/search.html' ,promptHeader: 'You can ask us:' ,searchText: 'What can we help you find?',placeholderText: 'Search for...'});}});}Operational StatusU.S. Citizen emergency services only. All routine U.S. Citizen services and visa operations are temporarily suspended.U.S. Citizens and Lawful Permanent Residents: In support of the Government of Albania’s efforts to prevent further spread of COVID-19 by limiting public gatherings and increasing social spacing, the U.S. Embassy has cancelled all routine American citizen services and is providing emergency services only. While the provision of routine American citizen services remains suspended due to the COVID-19 pandemic, the U.S. Embassy Consular Section will now begin processing passport applications for urgent travel. For information on obtaining a passport for such travel, please visit our web-page. If you require an emergency service, please write to ACSTirana@state.gov.Visas: In response to significant worldwide challenges related to the COVID-19 pandemic, the Department of State has temporarily suspended routine visa services at all U.S. Embassies and Consulates. Embassies and consulates have canceled all routine immigrant and non-immigrant visa appointments as of March 20, 2020. We will resume routine visa services as soon as possible but are unable to provide a specific date at this time. Please visit the Department of State’s Bureau of Consular Affairs websitefor notices which contain detailed information about the current status of visa services worldwide and visa restrictions related to the COVID-19 global pandemic.Click here for the latest alerts and messages for U.S. citizens in Albania.NOTE: Red colored text updated on 8/6/2020.\""
      ]
     },
     "execution_count": 326,
     "metadata": {},
     "output_type": "execute_result"
    }
   ],
   "source": [
    "article2 = soup2.find('article')\n",
    "article_text2 = article2.text.replace('\\n', '').replace('\\xa0', '').replace('\\r', '')\n",
    "lst = re.split('Country-Specific Information:|Entry and Exit Requirements:|Entry and Exit Requirements|Regional Travel:|Travel to the United States:|Quarantine Information:|Local Resources:|Other links:|Actions to Take:'\n",
    "         , article_text2)\n",
    "lst.pop(0)"
   ]
  },
  {
   "cell_type": "code",
   "execution_count": 327,
   "metadata": {},
   "outputs": [
    {
     "data": {
      "text/plain": [
       "['Albania has confirmed more than five thousand five hundredcases of COVID-19 within its borders.Commercial flights returned to Albania on June 15, 2020. U.S. citizens who are returning to the United States are currently only being allowed to transit one Schengen country on their journey home. We recommend that you contact your airline regarding any boarding restrictions that may be in place, as air carriers have the final decision as to who they will and will not board.The Albanian government announced:Preschools and kindergartens reopened on June 1, 2020.All cultural events and other large public gatherings in Albania are cancelled indefinitely.Professional sporting events have resumed, with no spectators allowed to attend.Malls and shops are open with strict social distancing guidelines in place.Hairdressers and dentists are open with strict social distancing guidelines in place.Restaurants and cafes are open.All indoor activity centers for children, gyms, sports centers, swimming pools, internet cafes, cultural centers, and entertainment centers reopened on June 1, 2020.Beaches are open.Outdoor exercise is permitted.Libraries and museums are open.Public transportation has resumed.All maritime and air borders have reopened.On July 15 Minister of Health and Social Protection Ogerta Manastirliu announced that wearing a mask is mandatory in Albania for any individual in closed spaces to include: Public administration offices, Non-public administration, Public transport, offices, Staircases of apartment buildings, Elevators, Shopping malls, Shops, Supermarkets, Markets and other services. Non-compliance with this rule will result in a fine of 2,000 ALL.',\n",
       " 'Commercial flights returned to Albania on June 15, 2020. We recommend that you contact your airline regarding any boarding restrictions that may be in place, as air carriers have the final decision as to who they will and will not board.Albania has increased the number of medical personnel at all ports of entries.Enhanced screening and quarantine measures are being implemented. Travelers should be prepared for travel restrictions to be put into effect with little or no advance notice. Visit the website of theAlbanian Ministry of Health and Social Protectionand theInstitute of Public Healthfor additional information on these new measures.For information on entry/exit requirements, please visit our web page “Entering and Residing in Albania”',\n",
       " 'Albania’s land borders are now open for travel, but some neighboring countries have travel restrictions in place impacting U.S. citizens. If you want to travel to a neighboring country, please visit the website of the U.S. embassy located in that country for more information on specific restrictions on U.S. citizens:– COVID-19 update web-page of U.S. Embassy in Kosovo.– COVID-19 update web-page of U.S. Embassy in Montenegro.– COVID-19 update web-page of U.S. Embassy in North Macedonia.– COVID-19 update web-page of U.S. Embassy in Greece.',\n",
       " 'Commercial flights returned to Albania on June 15, 2020. U.S. citizens who are returning to the United States are currently only being allowed to transit one Schengen country on their journey home. We recommend that you contact your airline regarding any boarding restrictions that may be in place, as air carriers have the final decision as to who they will and will not board.Visa holders wishing to travel to the United States should review travel restrictions here for the latest information.If you wish to travel to the United States, we encourage you to contact a travel agent or the airlines for information about available travel options. Please be advised that international travel is highly unpredictable at this time and flights and countries’ entry requirements are subject to change without notice. We strongly encourage you to purchase travel insurance in the event your travel plans change.',\n",
       " 'There is no general requirement for travelers returning to Albania to self-quarantine. Quarantine will only apply in specific cases when ordered by health authorities.An official isolation and treatment site has been designated at the Infectious Disease Hospital at Mother Teresa University Hospital. The National Medical Emergency Center is responsible for the physical transfer of any patients suspected to be infected with the virus. No private hospitals are authorized to manage COVID-19 cases. There is no official information available about the length of time individuals will be held in these temporary quarantine spaces.',\n",
       " 'Stay home and contact the Albanian National Medical Emergency line at 127 if you believe that you have contracted the COVID-19 virus. Wait for guidance before going to a medical facility.Visit theAlbanian government COVID-19 websitefor updated information.Consult theCDC websitefor the most up-to-date information.For the most recent information on what you can do to reduce your risk of contracting COVID-19 please see theCDC’s latest recommendations.Visit theCOVID-19 crisis page on travel.state.govfor the latest information.Check with your airlines or cruise lines regarding any updated information about your travel plans and/or restrictions.Visit this current pagefor information on conditions in Albania.Visit theDepartment of Homeland Security’s website on the latest travel restrictions to the U.S.',\n",
       " '(Note: The below links to local resources are in Albanian language only.)Medical Emergency Line:127(For suspected Coronavirus cases)National Emergency Line:112(Equivalent of U.S. 911)Public Health Institute(Albanian language only) (Official Facebook page)National Medical Emergency(Official Facebook page)Ministry of Health and Social Protection(Official Facebook page)State Police(for updated news on entry/exit requirements)Tirana International Airport(Flight Information)Civil Aviation Authority (Flight Information) (Official Facebook page)Maritime General Directorate (Ferry Information) (Official Facebook page)Albanian government information on COVID-19',\n",
       " 'COVID-19 crisis page on travel.state.govCDC page on COVID-19Albania Country Information and Travel Advisory page on travel.state.govBy U.S. Embassy Tirana | 7 August, 2020 | Topics: Alert, Embassy, NewsSuggested for YouTravel Advisory for U.S. CitizensU.S. Embassy Statement']"
      ]
     },
     "execution_count": 327,
     "metadata": {},
     "output_type": "execute_result"
    }
   ],
   "source": [
    "lst"
   ]
  },
  {
   "cell_type": "code",
   "execution_count": 328,
   "metadata": {},
   "outputs": [],
   "source": [
    "other_links2 = article2.findChildren('a')"
   ]
  },
  {
   "cell_type": "code",
   "execution_count": 385,
   "metadata": {},
   "outputs": [
    {
     "data": {
      "text/plain": [
       "['our web-page: https://al.usembassy.gov/u-s-citizen-services/',\n",
       " 'Department of State’s Bureau of Consular Affairs website: https://travel.state.gov/content/travel/en/traveladvisories/ea/covid-19-visa-services-and-restrictions.html',\n",
       " 'Click here for the latest alerts and messages for U.S. citizens in Albania.: https://al.usembassy.gov/u-s-citizen-services/security-and-travel-information/',\n",
       " 'Albanian Ministry of Health and Social Protection: https://shendetesia.gov.al/',\n",
       " 'Institute of Public Health: http://www.ishp.gov.al/',\n",
       " 'Entering and Residing in Albania: https://al.usembassy.gov/u-s-citizen-services/additional-resources/entering-and-residing/',\n",
       " 'COVID-19 update web-page: https://xk.usembassy.gov/coronavirus/',\n",
       " 'COVID-19 update web-page: https://me.usembassy.gov/covid-19-information/',\n",
       " 'COVID-19 update web-page: https://mk.usembassy.gov/covid-19-information/',\n",
       " 'COVID-19 update web-page: https://gr.usembassy.gov/covid-19-information/',\n",
       " 'here: https://travel.state.gov/content/travel/en/traveladvisories/ea/covid-19-visa-services-and-restrictions.html',\n",
       " 'Albanian government COVID-19 website: http://www.ishp.gov.al/',\n",
       " 'CDC website: https://www.cdc.gov/coronavirus/2019-ncov/index.html',\n",
       " 'CDC’s latest recommendations: https://www.cdc.gov/coronavirus/2019-ncov/prevent-getting-sick/index.html',\n",
       " 'COVID-19 crisis page on travel.state.gov: https://travel.state.gov/content/travel/en/traveladvisories/ea/covid-19-information.html',\n",
       " 'this current page: https://al.usembassy.gov/updates_covid19/',\n",
       " 'Department of Homeland Security’s website: https://www.dhs.gov/news/2020/02/02/dhs-issues-supplemental-instructions-inbound-flights-individuals-who-have-been-china',\n",
       " 'Public Health Institute: http://www.ishp.gov.al/',\n",
       " 'Official Facebook page: https://www.facebook.com/Instituti-i-Sh%C3%ABndetit-Publik-Faqja-zyrtare-1403099393317094/',\n",
       " 'National Medical Emergency: http://www.urgjenca.gov.al/',\n",
       " 'Official Facebook page: https://www.facebook.com/QendraKombetareUrgjencesMjekesore/',\n",
       " 'Ministry of Health and Social Protection: http://shendetesia.gov.al/',\n",
       " 'Official Facebook page: https://www.facebook.com/MinistriaeShendetesisedheMbrojtjesSociale/',\n",
       " 'State Police: https://www.asp.gov.al/',\n",
       " 'Tirana International Airport: http://www.tirana-airport.com/',\n",
       " 'Official Facebook page: https://www.facebook.com/AlbanianCAA/',\n",
       " 'Official Facebook page: https://www.facebook.com/drejtoriadetare/',\n",
       " 'Albanian government information on COVID-19: https://coronavirus.al/',\n",
       " 'COVID-19 crisis page on travel.state.gov: https://travel.state.gov/content/travel/en/traveladvisories/ea/novel-coronavirus-hubei-province--china.html',\n",
       " 'CDC page on COVID-19: https://wwwnc.cdc.gov/travel/notices/warning/novel-coronavirus-china',\n",
       " 'travel.state.gov: https://travel.state.gov/content/travel/en/international-travel/International-Travel-Country-Information-Pages/Albania.html',\n",
       " 'U.S. Embassy Tirana: https://al.usembassy.gov/author/usembassytirana/',\n",
       " 'Alert: https://al.usembassy.gov/category/alert/',\n",
       " 'Embassy: https://al.usembassy.gov/category/embassy/',\n",
       " 'News: https://al.usembassy.gov/category/news/',\n",
       " ': https://al.usembassy.gov/travel-advisory-20200809/',\n",
       " 'Travel Advisory for U.S. Citizens: https://al.usembassy.gov/travel-advisory-20200809/',\n",
       " ': https://al.usembassy.gov/u-s-embassy-statement-56/',\n",
       " 'U.S. Embassy Statement: https://al.usembassy.gov/u-s-embassy-statement-56/']"
      ]
     },
     "execution_count": 385,
     "metadata": {},
     "output_type": "execute_result"
    }
   ],
   "source": [
    "resources = []\n",
    "for link in other_links2:\n",
    "    resource = link.text + \": \" + link['href']\n",
    "    resources.append(resource)\n",
    "resources = [resource.replace('\\n', '') for resource in resources]\n",
    "resources"
   ]
  },
  {
   "cell_type": "code",
   "execution_count": 421,
   "metadata": {},
   "outputs": [
    {
     "data": {
      "text/plain": [
       "['As of August 11 Algeria confirmed 36,204 cases of COVID-19 and 1,322 COVID-19 related deaths in its borders.The Algerian government has started to ease the measures it had undertaken to limit the spread of COVID-19 by allowing more businesses to reopen and allowing public transportation in cities to resume, but the lifting of restrictions will be gradual and dependent on the evolution of COVID-19 cases in Algeria. People are required to wear a protective mask when in public. All land borders remain closed and the suspension of non-cargo domestic and international air and maritime travel remains in place. All vehicle travel between the 29 provinces listed below as being impacted by a curfew has been prohibited for one week as of July 10. The governor of Algiers prohibited all public transportation on Fridays and Saturdays until further notice. Public transportation (and depending on the province, private transportation) may be suspended in the other 28 provinces affected by a curfew on Fridays and Saturdays. A curfew is in effect in 29 of Algeria’s 48 provinces, including in Algiers, where the curfew is from 8pm to 5am. The other provinces covered by the curfew are: Boumerdes, Souk Ahras, Tissemsilt, Djelfa, Mascara, Oum El Bouaghi, Batna, Bouira, Relizane, Biskra, Khenchela, M’sila, Chlef, Sidi Bel Abbes, Médéa, Blida, Bordj Bou Arreridj, Tipaza, Ouargla, Bechar, Constantine, Oran, Sétif, Annaba, Bejaia, Adrar, Laghouat, El Oued. Curfews are constantly being reviewed and revised and the curfew may be more restrictive in certain provinces or in certain areas of the provinces above for short periods of time as the health situation develops.  The Ministry of Health has advised people to dial 3030 if they suspect they are symptomatic. Visit the website of the Algerian Ministry of Health for updates and its dedicated webpage for additional information on these measures. ',\n",
       " 'Algeria closed all land borders and suspended non-cargo international air and maritime travel as of March 17 and suspended domestic flights as of March 22.Global Health Alerts:The Department of State has issued aLevel 3 Travel Advisory (Reconsider Travel) for Algeria.CDC has issued aLevel 3 Travel Noticefor Algeria.On March 22, the Algerian government declared Algeria is a Level 3 country based on the World Health Organization criteria.',\n",
       " 'U.S. Embassy Algiers has suspended all routine consular services and is providing only emergency services. U.S. citizens should  ACSAlgiers@state.gov.Please make sure you are also enrolled in the Smart Traveler Enrollment Program (STEP) at http://step.state.govto ensure the U.S. Embassy can contact you with updates.Please continue to check this website and the Embassy’sTwitterandFacebookaccounts for updates.Several airlines are running exceptional flights for their citizens. Seats may be available at short notice for other nationalities. If you wish to depart Algeria and are interested in receiving information about possible upcoming flights, please  ACSAlgiers@state.gov.',\n",
       " 'The United States Embassy in Algeria remains unable to resume routine immigrant and nonimmigrant visa services at this time.We will resume routine visa services as soon as possible but are unable to provide a specific date.The MRV fee is valid and may be used to schedule an interview appointment in the country where it was purchased within one year of the date of payment. If you have an urgent matter and need to travel immediately, please follow the guidance provided at  https://www.ustraveldocs.com/dz/dz-main-contactus.asp, e-mailsupport-Algeria@ustraveldocs.com, or call 213 982 402 688to request an emergency appointment.Applicants for H1B, H2B, H4, L and certain J categories covered byPresidential Proclamation 10052should request an appointment only if you have reason to believe you may qualify for one of the exceptions listed in the Proclamation here:  https://www.whitehouse.gov/presidential-actions/proclamation-suspending-entry-aliens-present-risk-u-s-labor-market-following-coronavirus-outbreak/.',\n",
       " 'As of March 18, 2020, Algerian authorities announced that they are quarantining known cases of confirmed COVID-19 within its borders.',\n",
       " 'Coronavirus COVID-19 page on Algerian Ministry of Healthandits dedicated page.',\n",
       " 'COVID-19 crisis page on travel.state.gov.CDC page on COVID-19.Country Information and Travel Advisorypage.By U.S. Embassy in Algiers | 11 August, 2020 | Topics: Alert, Messages for U.S. Citizens, News | Tags: COVID-19 CoronavirusSuggested for YouHealth\\u202fAlert – U.S. Embassy AlgiersProcurement Opportunities!']"
      ]
     },
     "execution_count": 421,
     "metadata": {},
     "output_type": "execute_result"
    }
   ],
   "source": [
    "r = requests.get(linksAll[2])\n",
    "html = r.content\n",
    "soup = BeautifulSoup(html, \"lxml\")\n",
    "country = soup.find('span', attrs={'class': 'head-title-1 head-one-liner'})\n",
    "country.string[16:]\n",
    "article = soup.find('article')\n",
    "article_text = article.text.replace('\\n', '').replace('\\xa0', '').replace('https', ' https').replace('http', ' http').replace('email', ' ')\n",
    "algeria_list = re.split('Country-Specific Information:|Entry and Exit Requirements:|Quarantine Information:|Local Resources:|Other links:| Global Health Alerts:|American Citizen Services:|Visa Appointments:'\n",
    "         , article_text)\n",
    "algeria_list.pop(0)\n",
    "algeria_list"
   ]
  },
  {
   "cell_type": "code",
   "execution_count": 413,
   "metadata": {},
   "outputs": [
    {
     "data": {
      "text/plain": [
       "['Level 3 Travel Notice: https://wwwnc.cdc.gov/travel/notices/',\n",
       " 'http://step.state.gov: http://step.state.gov/',\n",
       " 'Facebook: https://gcc01.safelinks.protection.outlook.com/?url=https%3A%2F%2Fwww.facebook.com%2FUSEmbassyAlgiers%2F&data=02%7C01%7CHajiS%40state.gov%7C62a1a31fa543435b58e208d7dada0061%7C66cf50745afe48d1a691a12b2121f44b%7C0%7C0%7C637218502147499416&sdata=6gJdXUPT%2F8z9XEJI%2FSrOU%2FcNPQezrVlBJrNxNXpB7bI%3D&reserved=0',\n",
       " 'https://www.ustraveldocs.com/dz/dz-main-contactus.asp: https://gcc01.safelinks.protection.outlook.com/?url=https%3A%2F%2Fwww.ustraveldocs.com%2Fdz%2Fdz-main-contactus.asp&data=02%7C01%7CWulfsbergPH%40state.gov%7Cde9fef3d5ce84c20cef608d828d967ad%7C66cf50745afe48d1a691a12b2121f44b%7C0%7C0%7C637304261490838030&sdata=osmLc0Rj13pnUm46cR6Gmj4OEBGS36tq%2B6JF4udd6%2FI%3D&reserved=0',\n",
       " 'Presidential Proclamation 10052: https://gcc01.safelinks.protection.outlook.com/?url=https%3A%2F%2Fwww.whitehouse.gov%2Fpresidential-actions%2Fproclamation-suspending-entry-aliens-present-risk-u-s-labor-market-following-coronavirus-outbreak%2F&data=02%7C01%7CWulfsbergPH%40state.gov%7Cde9fef3d5ce84c20cef608d828d967ad%7C66cf50745afe48d1a691a12b2121f44b%7C0%7C0%7C637304261490838030&sdata=4HTmOM8RFSVHeO6oFrC2EHM40onvOiZ9uK5GAmX1Q3Y%3D&reserved=0',\n",
       " 'Coronavirus COVID-19 page on Algerian Ministry of Health: http://www.sante.gov.dz/coronavirus/coronavirus-2019.html',\n",
       " 'COVID-19 crisis page on travel.state.gov: https://travel.state.gov/content/travel/en/traveladvisories/ea/novel-coronavirus-hubei-province--china.html',\n",
       " 'Country Information and Travel Advisory: https://travel.state.gov/content/travel/en/international-travel/International-Travel-Country-Information-Pages/Algeria.html',\n",
       " 'Alert: https://dz.usembassy.gov/category/alert/',\n",
       " 'News: https://dz.usembassy.gov/category/news/',\n",
       " ': https://dz.usembassy.gov/health_alert-u-s-embassy-algiers-algeria/',\n",
       " ': https://dz.usembassy.gov/requests-for-quotations-2020/']"
      ]
     },
     "execution_count": 413,
     "metadata": {},
     "output_type": "execute_result"
    }
   ],
   "source": [
    "other_links = article.findChildren('a')\n",
    "for link in other_links:\n",
    "    if 'href' not in link:\n",
    "        other_links.remove(link)\n",
    "resources = []\n",
    "for link in other_links:\n",
    "    resource = link.text + \": \" + link['href']\n",
    "    resources.append(resource)\n",
    "resources = [resource.replace('\\n', '').replace('\\xa0', '') for resource in resources]\n",
    "resources"
   ]
  },
  {
   "cell_type": "code",
   "execution_count": 646,
   "metadata": {},
   "outputs": [],
   "source": [
    "def getInfoList(r):\n",
    "    \"\"\"\n",
    "    Returns an info list of information on the embassy page.\n",
    "    :param r (response of requests object)\n",
    "    :returns lst of information (lst)\n",
    "    \"\"\"\n",
    "    html = r.content\n",
    "    soup = BeautifulSoup(html, \"lxml\")\n",
    "    country = soup.find('span', attrs={'class': 'head-title-3'})\n",
    "    country = country.string[16:].strip()\n",
    "    article = soup.find('article')\n",
    "    article_text = article.text.replace('\\n', '').replace('\\xa0', '').replace('https', ' https').replace('http', ' http').replace('email', ' ')\n",
    "    article_text = article_text.replace('\\u202f', '')\n",
    "    lst = re.split('COUNTRY-SPECIFIC INFORMATION:|Country-Specific Information:|Entry and Exit Requirements:|Quarantine Information:|Local Resources:|Other links:| Global Health Alerts:|American Citizen Services:|Visa Appointments:|Travelers Attempting to Depart Argentina'\n",
    "             , article_text)\n",
    "    lst.pop(0)\n",
    "    lst.insert(0, country)\n",
    "    \n",
    "    return lst"
   ]
  },
  {
   "cell_type": "code",
   "execution_count": 523,
   "metadata": {},
   "outputs": [],
   "source": [
    "def getResources(r):\n",
    "    \"\"\"\n",
    "    Returns an info list of links on the embassy page.\n",
    "    :param r (response of requests object)\n",
    "    :returns lst of links (lst)\n",
    "    \"\"\"\n",
    "    html = r.content\n",
    "    soup = BeautifulSoup(html, \"lxml\")\n",
    "    article = soup.find('article')\n",
    "    other_links = article.findChildren('a')\n",
    "    for link in other_links:\n",
    "        if 'href' not in link:\n",
    "            other_links.remove(link)\n",
    "    resources = []\n",
    "    for link in other_links:\n",
    "        resource = link.text + \": \" + link['href']\n",
    "        resources.append(resource)\n",
    "    resources = [resource.replace('\\n', '').replace('\\xa0', '').replace('\\u202f', '') for resource in resources]\n",
    "    return resources"
   ]
  },
  {
   "cell_type": "code",
   "execution_count": 476,
   "metadata": {},
   "outputs": [],
   "source": [
    "r = requests.get(linksAll[3])\n",
    "lst = getInfoList(r)\n",
    "resources = getResources(r)"
   ]
  },
  {
   "cell_type": "code",
   "execution_count": 513,
   "metadata": {},
   "outputs": [],
   "source": [
    "r = requests.get(linksAll[4])\n",
    "lst = getInfoList(r)\n",
    "resources = getResources(r)"
   ]
  },
  {
   "cell_type": "code",
   "execution_count": 559,
   "metadata": {},
   "outputs": [],
   "source": [
    "r = requests.get(linksAll[7])\n",
    "lst = getInfoList(r)\n",
    "resources = getResources(r)"
   ]
  },
  {
   "cell_type": "code",
   "execution_count": 551,
   "metadata": {},
   "outputs": [],
   "source": [
    "ar_alert = requests.get('https://ar.usembassy.gov/argentina-level-4-do-not-travel/')"
   ]
  },
  {
   "cell_type": "code",
   "execution_count": 553,
   "metadata": {},
   "outputs": [],
   "source": [
    "html = ar_alert.content\n",
    "soup = BeautifulSoup(html, \"lxml\")"
   ]
  },
  {
   "cell_type": "code",
   "execution_count": 560,
   "metadata": {},
   "outputs": [
    {
     "data": {
      "text/plain": [
       "'CHECKHEREFOR FURTHER INFORMATION ON COVID-19 SITUATION IN ARGENTINADo not travel to Argentina due to COVID-19.Readthe Department of State’sCOVID-19 pagebeforeyou plan any international travel.TheCenters for Disease Controland Prevention(CDC)has issued aLevel 3 Travel Health NoticeforArgentina due to COVID-19.Travelers to Argentina may experience border closures, airport closures, travel prohibitions, stay at home orders, business closures, and other emergency conditions within Argentina due to COVID-19. Visit the Embassy’s COVID-19 page for more information on COVID-19 in Argentina.Read the Safety and Security section on the country information page.If you decide to travel to Argentina:See the U.S. Embassy’s web page regarding COVID-19.Visit the CDC’s webpage on Travel and COVID-19.Enroll in the Smart Traveler Enrollment Program (STEP) to receive Alerts and make it easier to locate you in an emergency.Follow us onFacebook andTwitter.Review the Crime and Safety Report for Argentina.U.S. citizens who travel abroad should always have a contingency plan for emergency situations. Review the Traveler’s Checklist.Last Update: Reissued with updates to COVID-19 information.By U.S. Mission Argentina | 6 August, 2020 | Topics: AlertSuggested for YouArgentina Health AlertArgentina Health Alert'"
      ]
     },
     "execution_count": 560,
     "metadata": {},
     "output_type": "execute_result"
    }
   ],
   "source": [
    "article = soup.find('article')\n",
    "article_text = article.text.replace('\\n', '').replace('\\xa0', '').replace('https', ' https').replace('http', ' http').replace('email', ' ')\n",
    "article_text = article_text.replace('\\u202f', '')\n",
    "article_text"
   ]
  },
  {
   "cell_type": "code",
   "execution_count": 556,
   "metadata": {},
   "outputs": [
    {
     "data": {
      "text/plain": [
       "['COVID-19 page: https://travel.state.gov/content/travel/en/traveladvisories/ea/covid-19-information.html',\n",
       " 'country information page: https://travel.state.gov/content/travel/en/international-travel/International-Travel-Country-Information-Pages/Argentina.html',\n",
       " 'Travel and COVID-19: https://www.cdc.gov/coronavirus/2019-ncov/travelers/index.html',\n",
       " 'Facebook : https://www.facebook.com/travelgov',\n",
       " 'Crime and Safety Report: https://gcc01.safelinks.protection.outlook.com/?url=https%3A%2F%2Fwww.osac.gov%2FCountry%2FArgentina%2FDetail&data=02%7C01%7CNealBS%40state.gov%7C28132f97b44944e717a208d81dcd5877%7C66cf50745afe48d1a691a12b2121f44b%7C0%7C0%7C637292115071493531&sdata=5LkphQcarwlhvf5ESa0LxLBU8%2Bccw%2BNXjaQxkznFLis%3D&reserved=0',\n",
       " 'U.S. Mission Argentina: https://ar.usembassy.gov/author/mission/',\n",
       " ': https://ar.usembassy.gov/argentina-health-alert-25/',\n",
       " ': https://ar.usembassy.gov/argentina-health-alert-july-17-2020/']"
      ]
     },
     "execution_count": 556,
     "metadata": {},
     "output_type": "execute_result"
    }
   ],
   "source": [
    "article = soup.find('article')\n",
    "other_links = article.findChildren('a')\n",
    "for link in other_links:\n",
    "    if 'href' not in link:\n",
    "        other_links.remove(link)\n",
    "resourcesAlert = []\n",
    "for link in other_links:\n",
    "    resource = link.text + \": \" + link['href']\n",
    "    resourcesAlert.append(resource)\n",
    "resourcesAlert = [resource.replace('\\n', '').replace('\\xa0', '').replace('\\u202f', '') for resource in resourcesAlert]\n",
    "resourcesAlert"
   ]
  },
  {
   "cell_type": "code",
   "execution_count": 581,
   "metadata": {},
   "outputs": [],
   "source": [
    "def getInfoListDiv(r):\n",
    "    \"\"\"\n",
    "    Returns an info list of information on the embassy page for __main__ html structures\n",
    "    :param r (response of requests object)\n",
    "    :returns lst of information (lst)\n",
    "    \"\"\"\n",
    "    html = r.content\n",
    "    soup = BeautifulSoup(html, \"lxml\")\n",
    "    country = soup.find('span', attrs={'class': 'head-title-1 head-one-liner'})\n",
    "    country = country.string[16:].strip()\n",
    "    article = soup.find('main')\n",
    "    article_text = article.text.replace('\\n', '').replace('\\xa0', '').replace('https', ' https').replace('http', ' http').replace('email', ' ')\n",
    "    article_text = article_text.replace('\\u202f', '')\n",
    "    lst = re.split('COVID-19 Website Notice – Embassy Yerevan|COUNTRY-SPECIFIC INFORMATION:|Country-Specific Information:|Entry and Exit Requirements:|Quarantine Information:|Local Resources:|Other links:| Global Health Alerts:|American Citizen Services:|Visa Appointments:|Travelers Attempting to Depart Argentina'\n",
    "             , article_text)\n",
    "    lst.pop(0)\n",
    "    lst.insert(0, country)\n",
    "    \n",
    "    return lst"
   ]
  },
  {
   "cell_type": "code",
   "execution_count": 578,
   "metadata": {},
   "outputs": [],
   "source": [
    "def getResourcesDiv(r):\n",
    "    \"\"\"\n",
    "    Returns an info list of links on the embassy page for __main__ html structures.\n",
    "    :param r (response of requests object)\n",
    "    :returns lst of links (lst)\n",
    "    \"\"\"\n",
    "    html = r.content\n",
    "    soup = BeautifulSoup(html, \"lxml\")\n",
    "    article = soup.find('main')\n",
    "    other_links = article.findChildren('a')\n",
    "    for link in other_links:\n",
    "        if 'href' not in link:\n",
    "            other_links.remove(link)\n",
    "    resources = []\n",
    "    for link in other_links:\n",
    "        resource = link.text + \": \" + link['href']\n",
    "        resources.append(resource)\n",
    "    resources = [resource.replace('\\n', '').replace('\\xa0', '').replace('\\u202f', '') for resource in resources]\n",
    "    return resources"
   ]
  },
  {
   "cell_type": "code",
   "execution_count": 587,
   "metadata": {},
   "outputs": [],
   "source": [
    "r = requests.get(linksAll[8])\n",
    "lst = getInfoListDiv(r)\n",
    "resources = getResourcesDiv(r)"
   ]
  },
  {
   "cell_type": "code",
   "execution_count": 668,
   "metadata": {},
   "outputs": [],
   "source": [
    "r = requests.get(linksAll[10])\n",
    "lst = getInfoList(r)"
   ]
  },
  {
   "cell_type": "code",
   "execution_count": 675,
   "metadata": {},
   "outputs": [],
   "source": [
    "resources = getResources(r)"
   ]
  },
  {
   "cell_type": "code",
   "execution_count": 689,
   "metadata": {},
   "outputs": [],
   "source": [
    "r = requests.get(linksAll[11])\n",
    "lst = getInfoList(r)\n",
    "resources = getResources(r)"
   ]
  },
  {
   "cell_type": "code",
   "execution_count": 727,
   "metadata": {},
   "outputs": [],
   "source": [
    "r = requests.get(linksAll[12])\n",
    "lst = getInfoList(r)\n",
    "resources = getResources(r)"
   ]
  },
  {
   "cell_type": "code",
   "execution_count": 745,
   "metadata": {},
   "outputs": [],
   "source": [
    "r = requests.get(linksAll[13])\n",
    "lst = getInfoList(r)\n",
    "resources = getResources(r)"
   ]
  },
  {
   "cell_type": "code",
   "execution_count": 781,
   "metadata": {},
   "outputs": [],
   "source": [
    "def getInfoList(r):\n",
    "    \"\"\"\n",
    "    Returns an info list of information on the embassy page.\n",
    "    :param r (response of requests object)\n",
    "    :returns lst of information (lst)\n",
    "    \"\"\"\n",
    "    html = r.content\n",
    "    soup = BeautifulSoup(html, \"lxml\")\n",
    "    country = soup.find('span', attrs={'class': 'head-title-1'})\n",
    "    country = country.string[16:].strip()\n",
    "    article = soup.find('article')\n",
    "    article_text = article.text.replace('\\n', '').replace('\\xa0', '').replace('https', ' https').replace('http', ' http').replace('email', ' ')\n",
    "    article_text = article_text.replace('\\u202f', '')\n",
    "    lst = re.split('INFORMATION ON FLIGHTS:|Quarantine Information|Country-Specific Information:|COUNTRY-SPECIFIC INFORMATION:|Entry and Exit Requirements:|ENTRY AND EXIT REQUIREMENTS:|Country Specific Information|Entry and Exit Requirements|Quarantine Information:|QUARANTINE INFORMATION:|Local Resources:|LOCAL RESOURCES:|Other links:| Global Health Alerts:|American Citizen Services:|Visa Appointments:|Travelers Attempting to Depart Argentina'\n",
    "             , article_text)\n",
    "    lst.insert(0, country)\n",
    "    \n",
    "    return lst"
   ]
  },
  {
   "cell_type": "code",
   "execution_count": 726,
   "metadata": {},
   "outputs": [],
   "source": [
    "def getResources(r):\n",
    "    \"\"\"\n",
    "    Returns an info list of links on the embassy page.\n",
    "    :param r (response of requests object)\n",
    "    :returns lst of links (lst)\n",
    "    \"\"\"\n",
    "    html = r.content\n",
    "    soup = BeautifulSoup(html, \"lxml\")\n",
    "    article = soup.find('article')\n",
    "    other_links = article.findChildren('a')\n",
    "    resources = []\n",
    "    for link in other_links:\n",
    "        resource = link.text + \": \" + link['href']\n",
    "        resources.append(resource)\n",
    "    resources = [resource.replace('\\u202f', '').replace('\\n', '') for resource in resources]\n",
    "    return resources"
   ]
  },
  {
   "cell_type": "code",
   "execution_count": 782,
   "metadata": {},
   "outputs": [],
   "source": [
    "r = requests.get(linksAll[14])\n",
    "lst = getInfoList(r)\n",
    "resources = getResources(r)"
   ]
  },
  {
   "cell_type": "code",
   "execution_count": 788,
   "metadata": {},
   "outputs": [
    {
     "data": {
      "text/plain": [
       "['https://www.qatarairways.com/en/travel-alerts/COVID-19-update.html: https://www.qatarairways.com/en/travel-alerts/COVID-19-update.html',\n",
       " 'https://www.emirates.com/english/help/travel-updates/?dm_i=329Z,120D7,1Y4ZN2,419T5,1#3515: https://www.emirates.com/english/help/travel-updates/?dm_i=329Z,120D7,1Y4ZN2,419T5,1#3515',\n",
       " 'https://www.istairport.com/en/covid19: https://www.istairport.com/en/covid19',\n",
       " 'passenger locator form: https://www.gov.uk/provide-journey-contact-details-before-travel-uk',\n",
       " 'http://www.gov.uk/uk-border-control: http://www.gov.uk/uk-border-control',\n",
       " 'amazonaws.com/biman/COVID_19_Helth_Declarion_Form.pdf: https://gcc01.safelinks.protection.outlook.com/?url=https%3A%2F%2Fa4aero.s3-ap-southeast-1.amazonaws.com%2Fbiman%2FCOVID_19_Helth_Declarion_Form.pdf&data=02%7C01%7CDohnerVL%40state.gov%7Ceee3976ea2b042115dcd08d8103ff2c3%7C66cf50745afe48d1a691a12b2121f44b%7C0%7C0%7C637277214143006660&sdata=3x1lEI5aZKCGZO3SrvELuwiGpl0Fid5%2FrbiFVxAvrSo%3D&reserved=0#_blank',\n",
       " 'https://www.cdc.gov/coronavirus/2019-ncov/travelers/from-other-countries.html: https://www.cdc.gov/coronavirus/2019-ncov/travelers/from-other-countries.html',\n",
       " 'https://iedcr.gov.bd/: https://iedcr.gov.bd/',\n",
       " 'IEDCR: https://www.iedcr.gov.bd/',\n",
       " 'Institute of Epidemiology, Disease Control and Research (IEDCR): https://www.iedcr.gov.bd/index.php/component/content/article/73-ncov-2019',\n",
       " 'Government of Bangladesh information on COVID-19: https://corona.gov.bd/',\n",
       " 'COVID-19 crisis page on\\xa0travel.state.gov: https://travel.state.gov/content/travel/en/traveladvisories/ea/novel-coronavirus-hubei-province--china.html',\n",
       " 'CDC page on COVID-19: https://wwwnc.cdc.gov/travel/notices/warning/novel-coronavirus-china',\n",
       " 'Travel.state.gov: https://travel.state.gov/content/travel.html',\n",
       " 'Country Information Bangladesh: https://travel.state.gov/content/travel/en/international-travel/International-Travel-Country-Information-Pages/Bangladesh.html',\n",
       " 'Bangladesh Travel Advisory page: https://travel.state.gov/content/travel/en/traveladvisories/traveladvisories/bangladesh-travel-advisory.html',\n",
       " 'Bangladesh page on WHO website: https://www.who.int/bangladesh/',\n",
       " 'U.S. Embassy Dhaka: https://bd.usembassy.gov/author/islama2/',\n",
       " 'Alert: https://bd.usembassy.gov/category/alert/',\n",
       " 'News: https://bd.usembassy.gov/category/news/',\n",
       " 'coronavirus: https://bd.usembassy.gov/tag/coronavirus/',\n",
       " 'COVID-19: https://bd.usembassy.gov/tag/covid-19/',\n",
       " ': https://bd.usembassy.gov/u-s-embassy-provides-additional-covid-19-response-equipment-to-bangladesh-police-headquarters/',\n",
       " 'U.S. Embassy Provides Additional Covid-19 Response Equipment to Bangladesh Prison Headquarters: https://bd.usembassy.gov/u-s-embassy-provides-additional-covid-19-response-equipment-to-bangladesh-police-headquarters/',\n",
       " ': https://bd.usembassy.gov/alert-8420/',\n",
       " 'Message for U.S. Citizens – U.S. Embassy, Dhaka, Bangladesh: https://bd.usembassy.gov/alert-8420/']"
      ]
     },
     "execution_count": 788,
     "metadata": {},
     "output_type": "execute_result"
    }
   ],
   "source": [
    "resources"
   ]
  },
  {
   "cell_type": "markdown",
   "metadata": {},
   "source": [
    "# U.S. Consulate General in Curacao countries"
   ]
  },
  {
   "cell_type": "code",
   "execution_count": 591,
   "metadata": {},
   "outputs": [
    {
     "data": {
      "text/plain": [
       "200"
      ]
     },
     "execution_count": 591,
     "metadata": {},
     "output_type": "execute_result"
    }
   ],
   "source": [
    "res = requests.get('https://cw.usconsulate.gov/news-events/covid-19-information/')\n",
    "res.status_code"
   ]
  },
  {
   "cell_type": "code",
   "execution_count": 592,
   "metadata": {},
   "outputs": [],
   "source": [
    "html = res.content\n",
    "soup = BeautifulSoup(html, \"lxml\")"
   ]
  },
  {
   "cell_type": "code",
   "execution_count": 598,
   "metadata": {},
   "outputs": [
    {
     "data": {
      "text/plain": [
       "['Aruba', 'Bonaire', 'Curacao', 'Saba', 'Sint Eustatius', 'Sint Maarten']"
      ]
     },
     "execution_count": 598,
     "metadata": {},
     "output_type": "execute_result"
    }
   ],
   "source": [
    "names = soup.find_all('h4', attrs={'class': 'panel-title'})\n",
    "names = [name.text for name in names]\n",
    "names"
   ]
  },
  {
   "cell_type": "code",
   "execution_count": 622,
   "metadata": {},
   "outputs": [],
   "source": [
    "articles = soup.find_all('div', attrs={'class': 'accdiv'})\n",
    "articles = [article.text.replace('\\n', '').replace('\\xa0', '').replace('https', ' https').replace('http', ' http').replace('email', ' ').replace('\\u202f', '') for article in articles]"
   ]
  },
  {
   "cell_type": "code",
   "execution_count": 626,
   "metadata": {},
   "outputs": [
    {
     "data": {
      "text/plain": [
       "'Travelers arriving to Aruba from the United States who provide a negative COVID-19 PCR test are not required to quarantine.Travelers arriving to Aruba from the United States who test positive for COVID-19 are required to stay in mandatory isolation (expenses covered by the mandatory COVID-19 health insurance) until the traveler tests negative. This can cause significant disruptions to travel plans and may result in not being able to return to the United States on the traveler’s scheduled return flight.Transportation Options:Flights to and from Bonaire and Curacao resumed on June 15, 2020 through August 5, 2020Flights to and from Canada, Europe, and some Caribbean nations resumed on July 1, 2020Consular Operations:The United States Consulate General in Curacao is open for all routine U.S. citizen services. However, with flights between Aruba and Curacao suspended, it is not possible to travel to Curacao for services requiring an in-person interview.The United States Consulate General in Curacao is open for some limited visa services (including interviews for student and some petition-based visas). However, with flights between Aruba and Curacao suspended, it is not possible to travel to Curacao for services requiring an in-person interview. The Consulate can also process visa renewals by mail for qualified applicants.'"
      ]
     },
     "execution_count": 626,
     "metadata": {},
     "output_type": "execute_result"
    }
   ],
   "source": [
    "aruba = re.split('COUNTRY-SPECIFIC INFORMATION:|Country-Specific Information:|Entry and Exit Requirements:|Quarantine Information:|Local Resources:|Other links:| Global Health Alerts:|American Citizen Services:|Visa Appointments:', articles[0])\n",
    "aruba.pop(0)\n",
    "aruba[2]"
   ]
  },
  {
   "cell_type": "code",
   "execution_count": 632,
   "metadata": {},
   "outputs": [
    {
     "data": {
      "text/plain": [
       "[<a href=\"https://edcardaruba.aw/\">https://edcardaruba.aw/</a>,\n",
       " <a href=\"https://www.arubavisitorsinsurance.com/\">https://www.arubavisitorsinsurance.com/</a>,\n",
       " <a href=\"https://www.aruba.com/us/traveler-health-requirements\">https://www.aruba.com/us/traveler-health-requirements</a>,\n",
       " <a href=\"mailto:support@aruba.com\">support@aruba.com</a>,\n",
       " <a href=\"https://www.facebook.com/watch/?v=623982394991337\">https://www.facebook.com/watch/?v=623982394991337</a>,\n",
       " <a href=\"https://www.cdc.gov/coronavirus/2019-ncov/travelers/from-other-countries.html\">https://www.cdc.gov/coronavirus/2019-ncov/travelers/from-other-countries.html</a>,\n",
       " <a href=\"https://cw.usconsulate.gov/u-s-citizen-services/\">U.S. citizen services</a>,\n",
       " <a href=\"https://cw.usconsulate.gov/visas/\">visa services</a>,\n",
       " <a href=\"https://cw.usconsulate.gov/visas/interview-waiver/\">visa renewals by mail</a>,\n",
       " <a href=\"https://www.airportaruba.com/coronavirus-covid-19\">https://www.airportaruba.com/coronavirus-covid-19</a>,\n",
       " <a href=\"https://www.arubacovid19.org/\">https://www.arubacovid19.org/</a>,\n",
       " <a href=\"https://travel.state.gov/content/travel/en/traveladvisories/ea/covid-19-information.html\">COVID-19 crisis page on travel.state.gov</a>,\n",
       " <a href=\"https://www.cdc.gov/coronavirus/2019-ncov/travelers/index.html\">CDC page on COVID-19</a>,\n",
       " <a href=\"https://travel.state.gov/content/travel/en/international-travel/International-Travel-Country-Information-Pages/Aruba.html\">Aruba Country Specific Information from travel.state.gov</a>]"
      ]
     },
     "execution_count": 632,
     "metadata": {},
     "output_type": "execute_result"
    }
   ],
   "source": [
    "refArticles = soup.find_all('div', attrs={'class': 'accdiv'})\n",
    "refLinks = [article.findChildren('a') for article in refArticles]\n",
    "refLinks[0]"
   ]
  },
  {
   "cell_type": "code",
   "execution_count": 722,
   "metadata": {},
   "outputs": [
    {
     "data": {
      "text/plain": [
       "['https://edcardaruba.aw/: https://edcardaruba.aw/',\n",
       " 'https://www.arubavisitorsinsurance.com/: https://www.arubavisitorsinsurance.com/',\n",
       " 'https://www.aruba.com/us/traveler-health-requirements: https://www.aruba.com/us/traveler-health-requirements',\n",
       " 'support@aruba.com: mailto:support@aruba.com',\n",
       " 'https://www.facebook.com/watch/?v=623982394991337: https://www.facebook.com/watch/?v=623982394991337',\n",
       " 'https://www.cdc.gov/coronavirus/2019-ncov/travelers/from-other-countries.html: https://www.cdc.gov/coronavirus/2019-ncov/travelers/from-other-countries.html',\n",
       " 'U.S. citizen services: https://cw.usconsulate.gov/u-s-citizen-services/',\n",
       " 'visa services: https://cw.usconsulate.gov/visas/',\n",
       " 'visa renewals by mail: https://cw.usconsulate.gov/visas/interview-waiver/',\n",
       " 'https://www.airportaruba.com/coronavirus-covid-19: https://www.airportaruba.com/coronavirus-covid-19',\n",
       " 'https://www.arubacovid19.org/: https://www.arubacovid19.org/',\n",
       " 'COVID-19 crisis page on travel.state.gov: https://travel.state.gov/content/travel/en/traveladvisories/ea/covid-19-information.html',\n",
       " 'CDC page on COVID-19: https://www.cdc.gov/coronavirus/2019-ncov/travelers/index.html',\n",
       " 'Aruba Country Specific Information from travel.state.gov: https://travel.state.gov/content/travel/en/international-travel/International-Travel-Country-Information-Pages/Aruba.html']"
      ]
     },
     "execution_count": 722,
     "metadata": {},
     "output_type": "execute_result"
    }
   ],
   "source": [
    "other_links = refLinks[0]\n",
    "resCW = []\n",
    "for link in other_links:\n",
    "    resource = link.text + \": \" + link['href']\n",
    "    resCW.append(resource)\n",
    "resCW = [resource.replace('\\u202f', ' ') for resource in resCW]\n",
    "resCW"
   ]
  },
  {
   "cell_type": "markdown",
   "metadata": {},
   "source": [
    "# Barbados and the Eastern Carribean"
   ]
  },
  {
   "cell_type": "code",
   "execution_count": 792,
   "metadata": {},
   "outputs": [
    {
     "data": {
      "text/plain": [
       "200"
      ]
     },
     "execution_count": 792,
     "metadata": {},
     "output_type": "execute_result"
    }
   ],
   "source": [
    "res = requests.get('https://bb.usembassy.gov/u-s-citizen-services/covid-19-information/')\n",
    "res.status_code"
   ]
  },
  {
   "cell_type": "code",
   "execution_count": 793,
   "metadata": {},
   "outputs": [],
   "source": [
    "html = res.content\n",
    "soup = BeautifulSoup(html, \"lxml\")"
   ]
  },
  {
   "cell_type": "code",
   "execution_count": 794,
   "metadata": {},
   "outputs": [
    {
     "data": {
      "text/plain": [
       "['Anguilla',\n",
       " 'Antigua & Barbuda',\n",
       " 'Barbados',\n",
       " 'British Virgin Islands',\n",
       " 'Dominica',\n",
       " 'Grenada',\n",
       " 'Guadeloupe',\n",
       " 'Martinique',\n",
       " 'Montserrat',\n",
       " 'Saint Barthelemy',\n",
       " 'Saint Kitts and Nevis',\n",
       " 'Saint Lucia',\n",
       " 'Saint Martin',\n",
       " 'Saint Vincent and the Grenadines']"
      ]
     },
     "execution_count": 794,
     "metadata": {},
     "output_type": "execute_result"
    }
   ],
   "source": [
    "names = soup.find_all('h4', attrs={'class': 'panel-title'})\n",
    "names = [name.text for name in names]\n",
    "names"
   ]
  },
  {
   "cell_type": "code",
   "execution_count": 802,
   "metadata": {},
   "outputs": [],
   "source": [
    "articles = soup.find_all('div', attrs={'class': 'accdiv'})\n",
    "articles = [article.text.replace('\\n', '').replace('\\xa0', '').replace('https', ' https').replace('http', ' http').replace('email', ' ').replace('\\u202f', '') for article in articles]"
   ]
  },
  {
   "cell_type": "code",
   "execution_count": 803,
   "metadata": {},
   "outputs": [],
   "source": [
    "lst = re.split('INFORMATION ON FLIGHTS:|Quarantine Information|Country-Specific Information:|COUNTRY-SPECIFIC INFORMATION:|Entry and Exit Requirements:|ENTRY AND EXIT REQUIREMENTS:|Country Specific Information|Entry and Exit Requirements|Quarantine Information:|QUARANTINE INFORMATION:|Local Resources:|LOCAL RESOURCES:|Other links:| Global Health Alerts:|American Citizen Services:|Visa Appointments:|Travelers Attempting to Depart Argentina'\n",
    "             , articles[2])"
   ]
  },
  {
   "cell_type": "code",
   "execution_count": 810,
   "metadata": {},
   "outputs": [
    {
     "ename": "IndexError",
     "evalue": "list index out of range",
     "output_type": "error",
     "traceback": [
      "\u001b[0;31m---------------------------------------------------------------------------\u001b[0m",
      "\u001b[0;31mIndexError\u001b[0m                                Traceback (most recent call last)",
      "\u001b[0;32m<ipython-input-810-56bb5ad40338>\u001b[0m in \u001b[0;36m<module>\u001b[0;34m\u001b[0m\n\u001b[0;32m----> 1\u001b[0;31m \u001b[0mlst\u001b[0m\u001b[0;34m[\u001b[0m\u001b[0;36m2\u001b[0m\u001b[0;34m]\u001b[0m\u001b[0;34m\u001b[0m\u001b[0;34m\u001b[0m\u001b[0m\n\u001b[0m",
      "\u001b[0;31mIndexError\u001b[0m: list index out of range"
     ]
    }
   ],
   "source": [
    "lst[2]"
   ]
  },
  {
   "cell_type": "code",
   "execution_count": null,
   "metadata": {},
   "outputs": [],
   "source": []
  },
  {
   "cell_type": "markdown",
   "metadata": {},
   "source": [
    "# Creating a dataframe for all information"
   ]
  },
  {
   "cell_type": "code",
   "execution_count": 380,
   "metadata": {},
   "outputs": [],
   "source": [
    "df = pd.DataFrame(columns=['Country', 'Country-Specific Information', 'Entry and Exit Requirements', 'Quarantine Information',\n",
    "             'Local Resources', 'Alerts', 'Alerts Links'])"
   ]
  },
  {
   "cell_type": "code",
   "execution_count": 382,
   "metadata": {},
   "outputs": [],
   "source": [
    "dict1={'Country': country.string[16:], 'Country-Specific Information': afghanistan_list[0],\n",
    "      'Entry and Exit Requirements': afghanistan_list[1], 'Quarantine Information': afghanistan_list[2],\n",
    "      'Local Resources': resources, 'Alerts': '', 'Alerts Links': ''}"
   ]
  },
  {
   "cell_type": "code",
   "execution_count": 383,
   "metadata": {},
   "outputs": [],
   "source": [
    "series = pd.Series(dict1)"
   ]
  },
  {
   "cell_type": "code",
   "execution_count": 384,
   "metadata": {},
   "outputs": [],
   "source": [
    "df = df.append(series, ignore_index=True)"
   ]
  },
  {
   "cell_type": "code",
   "execution_count": 386,
   "metadata": {},
   "outputs": [],
   "source": [
    "dict2={'Country': country2.string[16:], 'Country-Specific Information': lst[0],\n",
    "      'Entry and Exit Requirements': lst[1:4], 'Quarantine Information': lst[4:6],\n",
    "      'Local Resources': resources, 'Alerts': blockquoteText, 'Alerts Links': blockquote_info}"
   ]
  },
  {
   "cell_type": "code",
   "execution_count": 387,
   "metadata": {},
   "outputs": [],
   "source": [
    "series = pd.Series(dict2)\n",
    "df = df.append(series, ignore_index=True)"
   ]
  },
  {
   "cell_type": "code",
   "execution_count": 423,
   "metadata": {},
   "outputs": [],
   "source": [
    "dict3={'Country': country.string[16:], 'Country-Specific Information': algeria_list[0],\n",
    "      'Entry and Exit Requirements': algeria_list[1], 'Quarantine Information': algeria_list[4],\n",
    "      'Local Resources': resources, 'Alerts': algeria_list[2:4], 'Alerts Links': resources[1:4]}"
   ]
  },
  {
   "cell_type": "code",
   "execution_count": 425,
   "metadata": {},
   "outputs": [],
   "source": [
    "series = pd.Series(dict3)\n",
    "df = df.append(series, ignore_index=True)"
   ]
  },
  {
   "cell_type": "code",
   "execution_count": 462,
   "metadata": {},
   "outputs": [],
   "source": [
    "dict3={'Country': lst[0], 'Country-Specific Information': lst[1],\n",
    "      'Entry and Exit Requirements': lst[2], 'Quarantine Information': lst[-1],\n",
    "      'Local Resources': resources, 'Alerts': '', 'Alerts Links': ''}"
   ]
  },
  {
   "cell_type": "code",
   "execution_count": 464,
   "metadata": {},
   "outputs": [],
   "source": [
    "series = pd.Series(dict3)\n",
    "df = df.append(series, ignore_index=True)"
   ]
  },
  {
   "cell_type": "code",
   "execution_count": 466,
   "metadata": {},
   "outputs": [],
   "source": [
    "df_safe = df.copy() # safety copy"
   ]
  },
  {
   "cell_type": "code",
   "execution_count": 516,
   "metadata": {},
   "outputs": [],
   "source": [
    "dict4={'Country': lst[0], 'Country-Specific Information': lst[1],\n",
    "      'Entry and Exit Requirements': lst[2], 'Quarantine Information': lst[3],\n",
    "      'Local Resources': resources, 'Alerts': '', 'Alerts Links': ''}\n",
    "series = pd.Series(dict4)\n",
    "df = df.append(series, ignore_index=True)"
   ]
  },
  {
   "cell_type": "code",
   "execution_count": 519,
   "metadata": {},
   "outputs": [],
   "source": [
    "dict5={'Country': 'Anguilla', 'Country-Specific Information': 'Anguilla has three confirmed cases of COVID-19 within its borders. All persons have recovered from the virus. Resulting in no active cases of COVID-19.',\n",
    "      'Entry and Exit Requirements': \n",
    "       'The government of Anguilla has extended border closures for passenger movements until at least October 31, 2020. There are exceptions for medical emergencies and evacuations approved by the Chief Medical Officer and persons wishing to leave Anguilla on flights/boats to an approved destinations. Persons are free to depart Anguilla without special permission from the government. All persons arriving in Anguilla under the repatriation process is bound by the Quarantine (COVID) rules, signed by the Ministry of Health of June 5, 2020. These regulations require mandatory 14-days quarantine for all.  Anyone failing to comply with these regulations commits and offense pursuant to section 7(2) of the Quarantine Act. All persons arriving in Anguilla who have travelled outside of the Caribbean Region within the last 14 days will be quarantined for 14 days on their arrival. A judgement will be made on arrival by health professionals if this can be self-quarantine or in a government run health facility.', \n",
    "       'Quarantine Information': '',\n",
    "      'Local Resources': ['Travel.state.gov Country Information and Travel Advisory pages: https://travel.state.gov/content/travel/en/international-travel/International-Travel-Country-Information-Pages/Anguilla.html',\n",
    "                         'Travel.State.gov information for cruise ship passengers: https://travel.state.gov/content/travel/en/international-travel/before-you-go/travelers-with-special-considerations/cruise-ship-passengers.html',\n",
    "                         'COVID-19 crisis page on travel.state.gov: https://travel.state.gov/content/travel/en/traveladvisories/ea/covid-19-information.html',\n",
    "                         'CDC page on COVID-19: https://www.cdc.gov/coronavirus/2019-ncov/travelers/index.html',\n",
    "                         'Caribbean Public Health Agency (CARPHA): https://carpha.org/What-We-Do/Public-Health/Novel-Coronavirus'],\n",
    "       'Alerts': '', 'Alerts Links': ''}\n",
    "series = pd.Series(dict5)\n",
    "df = df.append(series, ignore_index=True)"
   ]
  },
  {
   "cell_type": "code",
   "execution_count": 526,
   "metadata": {},
   "outputs": [],
   "source": [
    "dict6={'Country': 'Antigua & Barbuda', 'Country-Specific Information': \n",
    "       'Antigua & Barbuda has recorded 92 confirmed cases of COVID-19 within its borders. State of Emergency has been extended until October 31, 2020',\n",
    "      'Entry and Exit Requirements': \n",
    "       'U.S. citizens are urged to check current entry and exit requirements on the Antigua and Barbuda Tourism Authority website at https://visitantiguabarbuda.com/travel-advisory/ for the latest. Please note there have been recent incidents where passengers that have tested positive for COVID-19 have been allowed to travel. All arriving passengers by air must have a negative COVID-19 RT-PCR (real-time polymerase chain reaction) taken within seven (7) days of their flight. (this includes transiting passengers). Passengers arriving by sea (private yachts/Ferry Services) are subject to quarantine according to guidelines issued by Port Health. All arriving passengers must wear a face mask on disembarkation and in all public areas. Additionally, the wearing of face mask in public spaces is mandatory throughout Antigua and Barbuda and social/physical distancing protocols must be adhered to. The regulations published on June 10, 2020 states that “All visitors to Antigua and Barbuda shall be tested for COVID-19 and shall pay a charge of One Hundred Dollars (US$100.00) United States Currency or its equivalent in Eastern Caribbean Dollars as a charge for the test. Arriving passengers are asked to register with the Ministry of Health Wellness and the Environment by providing information at http://arcg.is/1TvL8a or by calling 1-268-462-2675. All arriving passengers must complete a Health Declaration Form and will be subjected to screening and temperature checks by Port Health authorities upon arrival. All arriving passengers will be monitored for COVID-19 for periods of up to 14 days in accordance with guidelines of the Quarantine Authority and the Quarantine (COVID-19) Guidelines. Visitors may be required to undergo testing for COVID-19 on arrival or at the hotel or place of lodging as determined by the Health Authorities. If tested positive, visitors may be subject to quarantine. Additional lodging may be at the visitors expense. U.S citizens are urged to contact the hotel for details. Arriving passengers with symptoms of COVID-19 may be isolated as determined by the Health Authorities. Transiting passengers/Crew members who require an overnight stay will be required to proceed to a government designated hotel or government-designated facility to await departure.', \n",
    "       'Quarantine Information': '',\n",
    "      'Local Resources': ['Antigua and Barbuda Tourism Authority website: https://visitantiguabarbuda.com/travel-advisory/',\n",
    "                         'Travel Protocols for Antigua and Barbuda: https://visitantiguabarbuda.com/travel-advisory/',\n",
    "                         'Travel.state.gov Country Information and Travel Advisory pages: https://travel.state.gov/content/travel/en/international-travel/International-Travel-Country-Information-Pages/AntiguaandBarbuda.html',\n",
    "                         'Travel.State.gov information for cruise ship passengers: https://travel.state.gov/content/travel/en/international-travel/before-you-go/travelers-with-special-considerations/cruise-ship-passengers.html',\n",
    "                         'COVID-19 crisis page on travel.state.gov: https://travel.state.gov/content/travel/en/traveladvisories/ea/covid-19-information.html',\n",
    "                         'CDC page on COVID-19: https://www.cdc.gov/coronavirus/2019-ncov/travelers/index.html',\n",
    "                         'Caribbean Public Health Agency (CARPHA): https://carpha.org/What-We-Do/Public-Health/Novel-Coronavirus'],\n",
    "       'Alerts': '', 'Alerts Links': ''}\n",
    "series = pd.Series(dict6)\n",
    "df = df.append(series, ignore_index=True)"
   ]
  },
  {
   "cell_type": "code",
   "execution_count": 528,
   "metadata": {},
   "outputs": [],
   "source": [
    "df_copy = df.copy() # checkpoint"
   ]
  },
  {
   "cell_type": "code",
   "execution_count": 562,
   "metadata": {},
   "outputs": [],
   "source": [
    "dict7={'Country': lst[0], 'Country-Specific Information': lst[1],\n",
    "      'Entry and Exit Requirements': lst[3] + lst[2], 'Quarantine Information': lst[4],\n",
    "      'Local Resources': resources, 'Alerts': article_text, 'Alerts Links': resourcesAlert}\n",
    "series = pd.Series(dict7)\n",
    "df = df.append(series, ignore_index=True)"
   ]
  },
  {
   "cell_type": "code",
   "execution_count": 589,
   "metadata": {},
   "outputs": [],
   "source": [
    "dict8={'Country': lst[0], 'Country-Specific Information': lst[2],\n",
    "      'Entry and Exit Requirements': lst[3], 'Quarantine Information': lst[4],\n",
    "      'Local Resources': resources, 'Alerts': lst[1], 'Alerts Links': resources[1:4]}\n",
    "series = pd.Series(dict8)\n",
    "df = df.append(series, ignore_index=True)"
   ]
  },
  {
   "cell_type": "code",
   "execution_count": 635,
   "metadata": {},
   "outputs": [],
   "source": [
    "dict9={'Country': names[0], 'Country-Specific Information': aruba[0],\n",
    "      'Entry and Exit Requirements': lst[1], 'Quarantine Information': lst[2],\n",
    "      'Local Resources': resCW, 'Alerts': '', 'Alerts Links': ''}\n",
    "series = pd.Series(dict9)\n",
    "df = df.append(series, ignore_index=True)"
   ]
  },
  {
   "cell_type": "code",
   "execution_count": 637,
   "metadata": {},
   "outputs": [],
   "source": [
    "df_copy = df.copy() # checkpoint 3"
   ]
  },
  {
   "cell_type": "code",
   "execution_count": 673,
   "metadata": {},
   "outputs": [],
   "source": [
    "dict10={'Country': lst[0], 'Country-Specific Information': lst[4],\n",
    "      'Entry and Exit Requirements': lst[2], 'Quarantine Information': lst[3],\n",
    "      'Local Resources': resources, 'Alerts': lst[1], 'Alerts Links': resources[:2]}\n",
    "series = pd.Series(dict10)\n",
    "df = df.append(series, ignore_index=True)"
   ]
  },
  {
   "cell_type": "code",
   "execution_count": 695,
   "metadata": {},
   "outputs": [],
   "source": [
    "dict11={'Country': lst[0], 'Country-Specific Information': lst[1],\n",
    "      'Entry and Exit Requirements': lst[2], 'Quarantine Information': lst[3],\n",
    "      'Local Resources': resources, 'Alerts': '', 'Alerts Links': ''}\n",
    "series = pd.Series(dict11)\n",
    "df = df.append(series, ignore_index=True)"
   ]
  },
  {
   "cell_type": "code",
   "execution_count": 730,
   "metadata": {},
   "outputs": [],
   "source": [
    "dict12={'Country': lst[0], 'Country-Specific Information': lst[2],\n",
    "      'Entry and Exit Requirements': lst[3], 'Quarantine Information': lst[4],\n",
    "      'Local Resources': resources, 'Alerts': lst[1].strip(), 'Alerts Links': ''}\n",
    "series = pd.Series(dict12)\n",
    "df = df.append(series, ignore_index=True)"
   ]
  },
  {
   "cell_type": "code",
   "execution_count": 732,
   "metadata": {},
   "outputs": [],
   "source": [
    "df_copy = df.copy() # checkpoint 4"
   ]
  },
  {
   "cell_type": "code",
   "execution_count": 755,
   "metadata": {},
   "outputs": [],
   "source": [
    "dict13={'Country': lst[0], 'Country-Specific Information': lst[1],\n",
    "      'Entry and Exit Requirements': lst[2], 'Quarantine Information': lst[3],\n",
    "      'Local Resources': resources, 'Alerts': '', 'Alerts Links': ''}\n",
    "series = pd.Series(dict13)\n",
    "df = df.append(series, ignore_index=True)"
   ]
  },
  {
   "cell_type": "code",
   "execution_count": 790,
   "metadata": {},
   "outputs": [],
   "source": [
    "dict14={'Country': lst[0], 'Country-Specific Information': lst[2],\n",
    "      'Entry and Exit Requirements': lst[3], 'Quarantine Information': lst[4],\n",
    "      'Local Resources': resources, 'Alerts': lst[1].strip(), 'Alerts Links': resources[:7]}\n",
    "series = pd.Series(dict14)\n",
    "df = df.append(series, ignore_index=True)"
   ]
  },
  {
   "cell_type": "code",
   "execution_count": null,
   "metadata": {},
   "outputs": [],
   "source": [
    "dict15={'Country': names[3], 'Country-Specific Information': lst[0],\n",
    "      'Entry and Exit Requirements': lst[3], 'Quarantine Information': lst[4],\n",
    "      'Local Resources': resources, 'Alerts': '', 'Alerts Links': ''}\n",
    "series = pd.Series(dict14)\n",
    "df = df.append(series, ignore_index=True)"
   ]
  },
  {
   "cell_type": "code",
   "execution_count": 791,
   "metadata": {},
   "outputs": [
    {
     "data": {
      "text/html": [
       "<div>\n",
       "<style scoped>\n",
       "    .dataframe tbody tr th:only-of-type {\n",
       "        vertical-align: middle;\n",
       "    }\n",
       "\n",
       "    .dataframe tbody tr th {\n",
       "        vertical-align: top;\n",
       "    }\n",
       "\n",
       "    .dataframe thead th {\n",
       "        text-align: right;\n",
       "    }\n",
       "</style>\n",
       "<table border=\"1\" class=\"dataframe\">\n",
       "  <thead>\n",
       "    <tr style=\"text-align: right;\">\n",
       "      <th></th>\n",
       "      <th>Country</th>\n",
       "      <th>Country-Specific Information</th>\n",
       "      <th>Entry and Exit Requirements</th>\n",
       "      <th>Quarantine Information</th>\n",
       "      <th>Local Resources</th>\n",
       "      <th>Alerts</th>\n",
       "      <th>Alerts Links</th>\n",
       "    </tr>\n",
       "  </thead>\n",
       "  <tbody>\n",
       "    <tr>\n",
       "      <th>10</th>\n",
       "      <td>Australia</td>\n",
       "      <td>Australia has confirmed cases of COVID-19 with...</td>\n",
       "      <td>Australia has enacted a travel ban on all non-...</td>\n",
       "      <td>All travelers entering Australia from overseas...</td>\n",
       "      <td>[Level 3: Reconsider Travel: https://travel.st...</td>\n",
       "      <td>August 7, 2020The Department of State has iss...</td>\n",
       "      <td>[Level 3: Reconsider Travel: https://travel.st...</td>\n",
       "    </tr>\n",
       "    <tr>\n",
       "      <th>11</th>\n",
       "      <td>Austria</td>\n",
       "      <td>Austria is at a State Department Travel Adviso...</td>\n",
       "      <td>For Austria entry requirements via land click ...</td>\n",
       "      <td>Please call 1450 if you believe you may have t...</td>\n",
       "      <td>[here: https://at.usembassy.gov/u-s-citizen-se...</td>\n",
       "      <td></td>\n",
       "      <td></td>\n",
       "    </tr>\n",
       "    <tr>\n",
       "      <th>12</th>\n",
       "      <td>Azerbaijan</td>\n",
       "      <td>As of August 9,Azerbaijan has confirmed 33568 ...</td>\n",
       "      <td>Azerbaijani border officials are screening all...</td>\n",
       "      <td>In the event of suspected coronavirus symptoms...</td>\n",
       "      <td>[https://cabmin.gov.az/az/document/4517/: http...</td>\n",
       "      <td>On March 6, 2020 the State Department issued a...</td>\n",
       "      <td></td>\n",
       "    </tr>\n",
       "    <tr>\n",
       "      <th>13</th>\n",
       "      <td>Bahrain</td>\n",
       "      <td>As of August 12, 2020 Bahrain has 3135 confirm...</td>\n",
       "      <td>Bahrain has implemented several measures at th...</td>\n",
       "      <td>U.S. citizens are currently permitted to trans...</td>\n",
       "      <td>[Ministry of Health: https://www.moh.gov.bh/Ho...</td>\n",
       "      <td></td>\n",
       "      <td></td>\n",
       "    </tr>\n",
       "    <tr>\n",
       "      <th>14</th>\n",
       "      <td>Bangladesh</td>\n",
       "      <td>Please check the Institute of Epidemiology, Di...</td>\n",
       "      <td>Foreign nationals with valid visas will be req...</td>\n",
       "      <td>For persons of Bangladeshi origin who possess ...</td>\n",
       "      <td>[https://www.qatarairways.com/en/travel-alerts...</td>\n",
       "      <td>The Government of Bangladesh has authorized th...</td>\n",
       "      <td>[https://www.qatarairways.com/en/travel-alerts...</td>\n",
       "    </tr>\n",
       "  </tbody>\n",
       "</table>\n",
       "</div>"
      ],
      "text/plain": [
       "       Country                       Country-Specific Information  \\\n",
       "10   Australia  Australia has confirmed cases of COVID-19 with...   \n",
       "11     Austria  Austria is at a State Department Travel Adviso...   \n",
       "12  Azerbaijan  As of August 9,Azerbaijan has confirmed 33568 ...   \n",
       "13     Bahrain  As of August 12, 2020 Bahrain has 3135 confirm...   \n",
       "14  Bangladesh  Please check the Institute of Epidemiology, Di...   \n",
       "\n",
       "                          Entry and Exit Requirements  \\\n",
       "10  Australia has enacted a travel ban on all non-...   \n",
       "11  For Austria entry requirements via land click ...   \n",
       "12  Azerbaijani border officials are screening all...   \n",
       "13  Bahrain has implemented several measures at th...   \n",
       "14  Foreign nationals with valid visas will be req...   \n",
       "\n",
       "                               Quarantine Information  \\\n",
       "10  All travelers entering Australia from overseas...   \n",
       "11  Please call 1450 if you believe you may have t...   \n",
       "12  In the event of suspected coronavirus symptoms...   \n",
       "13  U.S. citizens are currently permitted to trans...   \n",
       "14  For persons of Bangladeshi origin who possess ...   \n",
       "\n",
       "                                      Local Resources  \\\n",
       "10  [Level 3: Reconsider Travel: https://travel.st...   \n",
       "11  [here: https://at.usembassy.gov/u-s-citizen-se...   \n",
       "12  [https://cabmin.gov.az/az/document/4517/: http...   \n",
       "13  [Ministry of Health: https://www.moh.gov.bh/Ho...   \n",
       "14  [https://www.qatarairways.com/en/travel-alerts...   \n",
       "\n",
       "                                               Alerts  \\\n",
       "10   August 7, 2020The Department of State has iss...   \n",
       "11                                                      \n",
       "12  On March 6, 2020 the State Department issued a...   \n",
       "13                                                      \n",
       "14  The Government of Bangladesh has authorized th...   \n",
       "\n",
       "                                         Alerts Links  \n",
       "10  [Level 3: Reconsider Travel: https://travel.st...  \n",
       "11                                                     \n",
       "12                                                     \n",
       "13                                                     \n",
       "14  [https://www.qatarairways.com/en/travel-alerts...  "
      ]
     },
     "execution_count": 791,
     "metadata": {},
     "output_type": "execute_result"
    }
   ],
   "source": [
    "df.tail()"
   ]
  },
  {
   "cell_type": "code",
   "execution_count": null,
   "metadata": {},
   "outputs": [],
   "source": []
  }
 ],
 "metadata": {
  "kernelspec": {
   "display_name": "Python (py3-tf2.0)",
   "language": "python",
   "name": "py3-tf2.0"
  },
  "language_info": {
   "codemirror_mode": {
    "name": "ipython",
    "version": 3
   },
   "file_extension": ".py",
   "mimetype": "text/x-python",
   "name": "python",
   "nbconvert_exporter": "python",
   "pygments_lexer": "ipython3",
   "version": "3.7.6"
  }
 },
 "nbformat": 4,
 "nbformat_minor": 4
}
